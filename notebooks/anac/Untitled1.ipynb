{
 "cells": [
  {
   "cell_type": "code",
   "execution_count": 1,
   "id": "f05bc2eb-4d53-4283-82a1-a6998ac09a17",
   "metadata": {
    "tags": []
   },
   "outputs": [],
   "source": [
    "from monetary_correction_v1 import ipca as ipca_v1\n",
    "from old_correction import ipca as ipca_v2\n",
    "from monetary_correction import ipca as ipca_f"
   ]
  },
  {
   "cell_type": "code",
   "execution_count": 2,
   "id": "aee69e39-4a4c-40bf-82c0-eeb73f19e7fa",
   "metadata": {
    "tags": []
   },
   "outputs": [],
   "source": [
    "data = [\n",
    "    [100, \"02/2019\", \"12/2022\"],\n",
    "    [100, \"02/2011\", \"10/2022\"],\n",
    "    [100, \"02/2007\", \"1/2023\"],\n",
    "    [100, \"1/2021\", \"12/2022\"],\n",
    "]"
   ]
  },
  {
   "cell_type": "code",
   "execution_count": 5,
   "id": "696216fa-b8b9-4958-9085-06c6f6c7b104",
   "metadata": {
    "tags": []
   },
   "outputs": [],
   "source": [
    "data2 = [\n",
    "    [100, [2, 2019], [12, 2022]],\n",
    "    [100, [2, 2011], [10, 2022]],\n",
    "    [100, [2, 2007], [1, 2023]],\n",
    "    [100, [1, 2021], [12, 2022]],\n",
    "]"
   ]
  },
  {
   "cell_type": "code",
   "execution_count": null,
   "id": "c297e7ad-7ff6-4469-bb3e-f7a4c6832fde",
   "metadata": {
    "tags": []
   },
   "outputs": [],
   "source": [
    "# Teste ajustado. "
   ]
  },
  {
   "cell_type": "code",
   "execution_count": 9,
   "id": "3b1254ab-7885-49d9-abab-7b12543f3071",
   "metadata": {
    "tags": []
   },
   "outputs": [
    {
     "name": "stdout",
     "output_type": "stream",
     "text": [
      "2.75 ms ± 639 µs per loop (mean ± std. dev. of 7 runs, 100 loops each)\n"
     ]
    }
   ],
   "source": [
    "%%timeit\n",
    "for value, start, end in data:\n",
    "    ipca_v2(value, start, end)"
   ]
  },
  {
   "cell_type": "code",
   "execution_count": 10,
   "id": "b54b1122-ef3c-423c-a2d0-54e01745728c",
   "metadata": {
    "tags": []
   },
   "outputs": [
    {
     "name": "stdout",
     "output_type": "stream",
     "text": [
      "698 µs ± 106 µs per loop (mean ± std. dev. of 7 runs, 1,000 loops each)\n"
     ]
    }
   ],
   "source": [
    "%%timeit\n",
    "for value, start, end in data2:\n",
    "    ipca_f(value, start, end)"
   ]
  },
  {
   "cell_type": "code",
   "execution_count": 11,
   "id": "c8260b67-79ff-4ad3-b008-5713ba249d56",
   "metadata": {
    "tags": []
   },
   "outputs": [
    {
     "name": "stdout",
     "output_type": "stream",
     "text": [
      "1.09 ms ± 165 µs per loop (mean ± std. dev. of 7 runs, 100 loops each)\n"
     ]
    }
   ],
   "source": [
    "%%timeit\n",
    "for value, start, end in data:\n",
    "    ipca_v1(value, start, end)"
   ]
  },
  {
   "cell_type": "code",
   "execution_count": null,
   "id": "42a12360-4085-45fd-9423-bf678981938e",
   "metadata": {},
   "outputs": [],
   "source": []
  },
  {
   "cell_type": "code",
   "execution_count": null,
   "id": "02cc3313-3096-4099-947e-f5939071e541",
   "metadata": {},
   "outputs": [],
   "source": []
  }
 ],
 "metadata": {
  "kernelspec": {
   "display_name": "Python 3 (ipykernel)",
   "language": "python",
   "name": "python3"
  },
  "language_info": {
   "codemirror_mode": {
    "name": "ipython",
    "version": 3
   },
   "file_extension": ".py",
   "mimetype": "text/x-python",
   "name": "python",
   "nbconvert_exporter": "python",
   "pygments_lexer": "ipython3",
   "version": "3.10.11"
  }
 },
 "nbformat": 4,
 "nbformat_minor": 5
}
