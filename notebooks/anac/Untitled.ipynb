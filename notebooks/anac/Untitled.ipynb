{
 "cells": [
  {
   "cell_type": "code",
   "execution_count": 1,
   "id": "b5ae98c4-f2e6-4f92-990a-9de9bd51ef5d",
   "metadata": {
    "tags": []
   },
   "outputs": [],
   "source": [
    "import glob\n",
    "from udfs import ipca\n",
    "files = glob.glob(\"anac.nosync/*.CSV\")"
   ]
  },
  {
   "cell_type": "code",
   "execution_count": 4,
   "id": "dca76183-20b5-48ca-b2a9-bb82ff91a5c6",
   "metadata": {
    "tags": []
   },
   "outputs": [
    {
     "data": {
      "text/plain": [
       "'200201.CSV'"
      ]
     },
     "execution_count": 4,
     "metadata": {},
     "output_type": "execute_result"
    }
   ],
   "source": [
    "files[0].split(\"/\")[1]"
   ]
  },
  {
   "cell_type": "code",
   "execution_count": null,
   "id": "edd0633f-4b0b-403f-90cc-b83e5205d342",
   "metadata": {},
   "outputs": [],
   "source": []
  },
  {
   "cell_type": "code",
   "execution_count": 3,
   "id": "9ab61c28-647f-446b-88ae-24f355b5a16e",
   "metadata": {
    "tags": []
   },
   "outputs": [],
   "source": [
    "import pandas as pd"
   ]
  },
  {
   "cell_type": "code",
   "execution_count": 60,
   "id": "780bd2cb-c199-4c49-ba5f-f61c4cf4fd92",
   "metadata": {
    "tags": []
   },
   "outputs": [],
   "source": [
    "ipca_data = pd.read_csv(\"https://api.bcb.gov.br/dados/serie/bcdata.sgs.433/dados?formato=csv\", sep=\";\")"
   ]
  },
  {
   "cell_type": "code",
   "execution_count": 61,
   "id": "beef4a9a-a85a-4c3c-8d44-251542f2b43e",
   "metadata": {
    "tags": []
   },
   "outputs": [],
   "source": [
    "ipca_data[\"valor\"] = ipca_data.valor.str.replace(\",\", \".\").astype(float)"
   ]
  },
  {
   "cell_type": "code",
   "execution_count": 62,
   "id": "0a0fa0a2-4bbe-49fc-8885-2cb890dddc18",
   "metadata": {
    "tags": []
   },
   "outputs": [],
   "source": [
    "ipca_data[\"taxa\"] = ipca_data[\"valor\"]/100 + 1     "
   ]
  },
  {
   "cell_type": "code",
   "execution_count": 63,
   "id": "a0da0ac4-07e9-430d-8eed-8605a52d3581",
   "metadata": {
    "tags": []
   },
   "outputs": [],
   "source": [
    "ipca_data['acumulated'] = 0"
   ]
  },
  {
   "cell_type": "code",
   "execution_count": 64,
   "id": "9c97780f-d6a7-42da-9c00-b1187df74b80",
   "metadata": {
    "tags": []
   },
   "outputs": [
    {
     "data": {
      "text/html": [
       "<div>\n",
       "<style scoped>\n",
       "    .dataframe tbody tr th:only-of-type {\n",
       "        vertical-align: middle;\n",
       "    }\n",
       "\n",
       "    .dataframe tbody tr th {\n",
       "        vertical-align: top;\n",
       "    }\n",
       "\n",
       "    .dataframe thead th {\n",
       "        text-align: right;\n",
       "    }\n",
       "</style>\n",
       "<table border=\"1\" class=\"dataframe\">\n",
       "  <thead>\n",
       "    <tr style=\"text-align: right;\">\n",
       "      <th></th>\n",
       "      <th>data</th>\n",
       "      <th>valor</th>\n",
       "      <th>taxa</th>\n",
       "      <th>acumulated</th>\n",
       "    </tr>\n",
       "  </thead>\n",
       "  <tbody>\n",
       "    <tr>\n",
       "      <th>0</th>\n",
       "      <td>01/01/1980</td>\n",
       "      <td>6.62</td>\n",
       "      <td>1.0662</td>\n",
       "      <td>0</td>\n",
       "    </tr>\n",
       "    <tr>\n",
       "      <th>1</th>\n",
       "      <td>01/02/1980</td>\n",
       "      <td>4.62</td>\n",
       "      <td>1.0462</td>\n",
       "      <td>0</td>\n",
       "    </tr>\n",
       "    <tr>\n",
       "      <th>2</th>\n",
       "      <td>01/03/1980</td>\n",
       "      <td>6.04</td>\n",
       "      <td>1.0604</td>\n",
       "      <td>0</td>\n",
       "    </tr>\n",
       "    <tr>\n",
       "      <th>3</th>\n",
       "      <td>01/04/1980</td>\n",
       "      <td>5.29</td>\n",
       "      <td>1.0529</td>\n",
       "      <td>0</td>\n",
       "    </tr>\n",
       "    <tr>\n",
       "      <th>4</th>\n",
       "      <td>01/05/1980</td>\n",
       "      <td>5.70</td>\n",
       "      <td>1.0570</td>\n",
       "      <td>0</td>\n",
       "    </tr>\n",
       "  </tbody>\n",
       "</table>\n",
       "</div>"
      ],
      "text/plain": [
       "         data  valor    taxa  acumulated\n",
       "0  01/01/1980   6.62  1.0662           0\n",
       "1  01/02/1980   4.62  1.0462           0\n",
       "2  01/03/1980   6.04  1.0604           0\n",
       "3  01/04/1980   5.29  1.0529           0\n",
       "4  01/05/1980   5.70  1.0570           0"
      ]
     },
     "execution_count": 64,
     "metadata": {},
     "output_type": "execute_result"
    }
   ],
   "source": [
    "ipca_data.head(5)"
   ]
  },
  {
   "cell_type": "code",
   "execution_count": 65,
   "id": "f6b4b898-feff-4396-8135-1ce4e675334c",
   "metadata": {
    "tags": []
   },
   "outputs": [],
   "source": [
    "def acumulado(values):\n",
    "    data = []\n",
    "    result = 1\n",
    "    for value in values:\n",
    "        result = (result * value)\n",
    "        data.append(result)\n",
    "    return data"
   ]
  },
  {
   "cell_type": "code",
   "execution_count": 67,
   "id": "5f8957a5-fe0c-4d96-87a4-422e3796aa20",
   "metadata": {
    "tags": []
   },
   "outputs": [],
   "source": [
    "values = acumulado(ipca_data[\"taxa\"])"
   ]
  },
  {
   "cell_type": "code",
   "execution_count": 68,
   "id": "a12c6c92-0607-4c97-bf01-e9eeebed83f3",
   "metadata": {
    "tags": []
   },
   "outputs": [],
   "source": [
    "ipca_data['correction_index'] = values"
   ]
  },
  {
   "cell_type": "code",
   "execution_count": 69,
   "id": "5f3c08b8-a3fb-4126-b0ae-d7cedcb7322b",
   "metadata": {
    "tags": []
   },
   "outputs": [
    {
     "data": {
      "text/html": [
       "<div>\n",
       "<style scoped>\n",
       "    .dataframe tbody tr th:only-of-type {\n",
       "        vertical-align: middle;\n",
       "    }\n",
       "\n",
       "    .dataframe tbody tr th {\n",
       "        vertical-align: top;\n",
       "    }\n",
       "\n",
       "    .dataframe thead th {\n",
       "        text-align: right;\n",
       "    }\n",
       "</style>\n",
       "<table border=\"1\" class=\"dataframe\">\n",
       "  <thead>\n",
       "    <tr style=\"text-align: right;\">\n",
       "      <th></th>\n",
       "      <th>data</th>\n",
       "      <th>valor</th>\n",
       "      <th>taxa</th>\n",
       "      <th>acumulated</th>\n",
       "      <th>correction_index</th>\n",
       "    </tr>\n",
       "  </thead>\n",
       "  <tbody>\n",
       "    <tr>\n",
       "      <th>0</th>\n",
       "      <td>01/01/1980</td>\n",
       "      <td>6.62</td>\n",
       "      <td>1.0662</td>\n",
       "      <td>0</td>\n",
       "      <td>1.066200e+00</td>\n",
       "    </tr>\n",
       "    <tr>\n",
       "      <th>1</th>\n",
       "      <td>01/02/1980</td>\n",
       "      <td>4.62</td>\n",
       "      <td>1.0462</td>\n",
       "      <td>0</td>\n",
       "      <td>1.115458e+00</td>\n",
       "    </tr>\n",
       "    <tr>\n",
       "      <th>2</th>\n",
       "      <td>01/03/1980</td>\n",
       "      <td>6.04</td>\n",
       "      <td>1.0604</td>\n",
       "      <td>0</td>\n",
       "      <td>1.182832e+00</td>\n",
       "    </tr>\n",
       "    <tr>\n",
       "      <th>3</th>\n",
       "      <td>01/04/1980</td>\n",
       "      <td>5.29</td>\n",
       "      <td>1.0529</td>\n",
       "      <td>0</td>\n",
       "      <td>1.245404e+00</td>\n",
       "    </tr>\n",
       "    <tr>\n",
       "      <th>4</th>\n",
       "      <td>01/05/1980</td>\n",
       "      <td>5.70</td>\n",
       "      <td>1.0570</td>\n",
       "      <td>0</td>\n",
       "      <td>1.316392e+00</td>\n",
       "    </tr>\n",
       "    <tr>\n",
       "      <th>...</th>\n",
       "      <td>...</td>\n",
       "      <td>...</td>\n",
       "      <td>...</td>\n",
       "      <td>...</td>\n",
       "      <td>...</td>\n",
       "    </tr>\n",
       "    <tr>\n",
       "      <th>514</th>\n",
       "      <td>01/11/2022</td>\n",
       "      <td>0.41</td>\n",
       "      <td>1.0041</td>\n",
       "      <td>0</td>\n",
       "      <td>8.448750e+11</td>\n",
       "    </tr>\n",
       "    <tr>\n",
       "      <th>515</th>\n",
       "      <td>01/12/2022</td>\n",
       "      <td>0.62</td>\n",
       "      <td>1.0062</td>\n",
       "      <td>0</td>\n",
       "      <td>8.501132e+11</td>\n",
       "    </tr>\n",
       "    <tr>\n",
       "      <th>516</th>\n",
       "      <td>01/01/2023</td>\n",
       "      <td>0.53</td>\n",
       "      <td>1.0053</td>\n",
       "      <td>0</td>\n",
       "      <td>8.546188e+11</td>\n",
       "    </tr>\n",
       "    <tr>\n",
       "      <th>517</th>\n",
       "      <td>01/02/2023</td>\n",
       "      <td>0.84</td>\n",
       "      <td>1.0084</td>\n",
       "      <td>0</td>\n",
       "      <td>8.617976e+11</td>\n",
       "    </tr>\n",
       "    <tr>\n",
       "      <th>518</th>\n",
       "      <td>01/03/2023</td>\n",
       "      <td>0.71</td>\n",
       "      <td>1.0071</td>\n",
       "      <td>0</td>\n",
       "      <td>8.679164e+11</td>\n",
       "    </tr>\n",
       "  </tbody>\n",
       "</table>\n",
       "<p>519 rows × 5 columns</p>\n",
       "</div>"
      ],
      "text/plain": [
       "           data  valor    taxa  acumulated  correction_index\n",
       "0    01/01/1980   6.62  1.0662           0      1.066200e+00\n",
       "1    01/02/1980   4.62  1.0462           0      1.115458e+00\n",
       "2    01/03/1980   6.04  1.0604           0      1.182832e+00\n",
       "3    01/04/1980   5.29  1.0529           0      1.245404e+00\n",
       "4    01/05/1980   5.70  1.0570           0      1.316392e+00\n",
       "..          ...    ...     ...         ...               ...\n",
       "514  01/11/2022   0.41  1.0041           0      8.448750e+11\n",
       "515  01/12/2022   0.62  1.0062           0      8.501132e+11\n",
       "516  01/01/2023   0.53  1.0053           0      8.546188e+11\n",
       "517  01/02/2023   0.84  1.0084           0      8.617976e+11\n",
       "518  01/03/2023   0.71  1.0071           0      8.679164e+11\n",
       "\n",
       "[519 rows x 5 columns]"
      ]
     },
     "execution_count": 69,
     "metadata": {},
     "output_type": "execute_result"
    }
   ],
   "source": [
    "ipca_data"
   ]
  },
  {
   "cell_type": "code",
   "execution_count": 72,
   "id": "fac8f3fb-ecc8-4ce3-9805-15553aa2626b",
   "metadata": {
    "tags": []
   },
   "outputs": [],
   "source": [
    "ipca_data[\"data\"] = pd.to_datetime(ipca_data[\"data\"].str[3:], format=\"%m/%Y\")"
   ]
  },
  {
   "cell_type": "code",
   "execution_count": 75,
   "id": "5c0faa05-ad30-4afb-986d-29c03b82f91b",
   "metadata": {
    "tags": []
   },
   "outputs": [
    {
     "data": {
      "text/html": [
       "<div>\n",
       "<style scoped>\n",
       "    .dataframe tbody tr th:only-of-type {\n",
       "        vertical-align: middle;\n",
       "    }\n",
       "\n",
       "    .dataframe tbody tr th {\n",
       "        vertical-align: top;\n",
       "    }\n",
       "\n",
       "    .dataframe thead th {\n",
       "        text-align: right;\n",
       "    }\n",
       "</style>\n",
       "<table border=\"1\" class=\"dataframe\">\n",
       "  <thead>\n",
       "    <tr style=\"text-align: right;\">\n",
       "      <th></th>\n",
       "      <th>data</th>\n",
       "      <th>valor</th>\n",
       "      <th>taxa</th>\n",
       "      <th>acumulated</th>\n",
       "      <th>correction_index</th>\n",
       "    </tr>\n",
       "  </thead>\n",
       "  <tbody>\n",
       "    <tr>\n",
       "      <th>0</th>\n",
       "      <td>1980-01-01</td>\n",
       "      <td>6.62</td>\n",
       "      <td>1.0662</td>\n",
       "      <td>0</td>\n",
       "      <td>1.066200e+00</td>\n",
       "    </tr>\n",
       "    <tr>\n",
       "      <th>1</th>\n",
       "      <td>1980-02-01</td>\n",
       "      <td>4.62</td>\n",
       "      <td>1.0462</td>\n",
       "      <td>0</td>\n",
       "      <td>1.115458e+00</td>\n",
       "    </tr>\n",
       "    <tr>\n",
       "      <th>2</th>\n",
       "      <td>1980-03-01</td>\n",
       "      <td>6.04</td>\n",
       "      <td>1.0604</td>\n",
       "      <td>0</td>\n",
       "      <td>1.182832e+00</td>\n",
       "    </tr>\n",
       "    <tr>\n",
       "      <th>3</th>\n",
       "      <td>1980-04-01</td>\n",
       "      <td>5.29</td>\n",
       "      <td>1.0529</td>\n",
       "      <td>0</td>\n",
       "      <td>1.245404e+00</td>\n",
       "    </tr>\n",
       "    <tr>\n",
       "      <th>4</th>\n",
       "      <td>1980-05-01</td>\n",
       "      <td>5.70</td>\n",
       "      <td>1.0570</td>\n",
       "      <td>0</td>\n",
       "      <td>1.316392e+00</td>\n",
       "    </tr>\n",
       "    <tr>\n",
       "      <th>...</th>\n",
       "      <td>...</td>\n",
       "      <td>...</td>\n",
       "      <td>...</td>\n",
       "      <td>...</td>\n",
       "      <td>...</td>\n",
       "    </tr>\n",
       "    <tr>\n",
       "      <th>514</th>\n",
       "      <td>2022-11-01</td>\n",
       "      <td>0.41</td>\n",
       "      <td>1.0041</td>\n",
       "      <td>0</td>\n",
       "      <td>8.448750e+11</td>\n",
       "    </tr>\n",
       "    <tr>\n",
       "      <th>515</th>\n",
       "      <td>2022-12-01</td>\n",
       "      <td>0.62</td>\n",
       "      <td>1.0062</td>\n",
       "      <td>0</td>\n",
       "      <td>8.501132e+11</td>\n",
       "    </tr>\n",
       "    <tr>\n",
       "      <th>516</th>\n",
       "      <td>2023-01-01</td>\n",
       "      <td>0.53</td>\n",
       "      <td>1.0053</td>\n",
       "      <td>0</td>\n",
       "      <td>8.546188e+11</td>\n",
       "    </tr>\n",
       "    <tr>\n",
       "      <th>517</th>\n",
       "      <td>2023-02-01</td>\n",
       "      <td>0.84</td>\n",
       "      <td>1.0084</td>\n",
       "      <td>0</td>\n",
       "      <td>8.617976e+11</td>\n",
       "    </tr>\n",
       "    <tr>\n",
       "      <th>518</th>\n",
       "      <td>2023-03-01</td>\n",
       "      <td>0.71</td>\n",
       "      <td>1.0071</td>\n",
       "      <td>0</td>\n",
       "      <td>8.679164e+11</td>\n",
       "    </tr>\n",
       "  </tbody>\n",
       "</table>\n",
       "<p>519 rows × 5 columns</p>\n",
       "</div>"
      ],
      "text/plain": [
       "          data  valor    taxa  acumulated  correction_index\n",
       "0   1980-01-01   6.62  1.0662           0      1.066200e+00\n",
       "1   1980-02-01   4.62  1.0462           0      1.115458e+00\n",
       "2   1980-03-01   6.04  1.0604           0      1.182832e+00\n",
       "3   1980-04-01   5.29  1.0529           0      1.245404e+00\n",
       "4   1980-05-01   5.70  1.0570           0      1.316392e+00\n",
       "..         ...    ...     ...         ...               ...\n",
       "514 2022-11-01   0.41  1.0041           0      8.448750e+11\n",
       "515 2022-12-01   0.62  1.0062           0      8.501132e+11\n",
       "516 2023-01-01   0.53  1.0053           0      8.546188e+11\n",
       "517 2023-02-01   0.84  1.0084           0      8.617976e+11\n",
       "518 2023-03-01   0.71  1.0071           0      8.679164e+11\n",
       "\n",
       "[519 rows x 5 columns]"
      ]
     },
     "execution_count": 75,
     "metadata": {},
     "output_type": "execute_result"
    }
   ],
   "source": [
    "ipca_data"
   ]
  },
  {
   "cell_type": "code",
   "execution_count": null,
   "id": "078b28c8-c0e8-4c9f-9c75-82b7f3ef5ed3",
   "metadata": {},
   "outputs": [],
   "source": []
  },
  {
   "cell_type": "code",
   "execution_count": 58,
   "id": "5654aa75-733a-404f-95f4-20becdc97951",
   "metadata": {
    "tags": []
   },
   "outputs": [
    {
     "data": {
      "text/plain": [
       "264    2.392538e+11\n",
       "Name: correction_index, dtype: float64"
      ]
     },
     "execution_count": 58,
     "metadata": {},
     "output_type": "execute_result"
    }
   ],
   "source": [
    "ipca_data[ipca_data[\"data\"] == \"01/2002\"][\"correction_index\"]"
   ]
  },
  {
   "cell_type": "code",
   "execution_count": 105,
   "id": "241443c1-6b9c-48b8-9f17-a73e8ddeffdb",
   "metadata": {
    "tags": []
   },
   "outputs": [],
   "source": [
    "date_start = \"01/2002\""
   ]
  },
  {
   "cell_type": "code",
   "execution_count": 109,
   "id": "68311354-b777-41b3-be13-6478719bdb89",
   "metadata": {
    "tags": []
   },
   "outputs": [],
   "source": [
    "correction_index_start = float(\n",
    "    ipca_data[ipca_data[\"data\"] == pd.to_datetime(date_start, format=\"%m/%Y\")  - pd.DateOffset(months=1) ][\"correction_index\"]\n",
    ")"
   ]
  },
  {
   "cell_type": "code",
   "execution_count": 110,
   "id": "47e1e263-8db2-468e-a7c9-7856176d9fca",
   "metadata": {
    "tags": []
   },
   "outputs": [
    {
     "data": {
      "text/plain": [
       "238016094496.12836"
      ]
     },
     "execution_count": 110,
     "metadata": {},
     "output_type": "execute_result"
    }
   ],
   "source": [
    "correction_index_start"
   ]
  },
  {
   "cell_type": "code",
   "execution_count": 111,
   "id": "bc2d4f8f-cdcf-49b7-88bc-426378608d77",
   "metadata": {
    "tags": []
   },
   "outputs": [],
   "source": [
    "date_end = \"02/2023\""
   ]
  },
  {
   "cell_type": "code",
   "execution_count": 112,
   "id": "10ae5141-d295-4ac6-b260-8688b21ed1cc",
   "metadata": {
    "tags": []
   },
   "outputs": [],
   "source": [
    "correction_index_end = float(\n",
    "    ipca_data[ipca_data[\"data\"] == pd.to_datetime(date_end, format=\"%m/%Y\")][\"correction_index\"] \n",
    ")"
   ]
  },
  {
   "cell_type": "code",
   "execution_count": 113,
   "id": "213e6714-1c13-49e4-996a-e54520662a0c",
   "metadata": {
    "tags": []
   },
   "outputs": [
    {
     "data": {
      "text/plain": [
       "861797592163.4397"
      ]
     },
     "execution_count": 113,
     "metadata": {},
     "output_type": "execute_result"
    }
   ],
   "source": [
    "correction_index_end"
   ]
  },
  {
   "cell_type": "code",
   "execution_count": 114,
   "id": "b27f1d1f-fedc-4d0f-97d1-f79e89198a31",
   "metadata": {
    "tags": []
   },
   "outputs": [],
   "source": [
    "correction_in_time = (correction_index_end / correction_index_start)"
   ]
  },
  {
   "cell_type": "code",
   "execution_count": 115,
   "id": "e8caa594-1bb4-49a4-8420-7898d6d35f78",
   "metadata": {
    "tags": []
   },
   "outputs": [
    {
     "data": {
      "text/plain": [
       "3.6207534368120555"
      ]
     },
     "execution_count": 115,
     "metadata": {},
     "output_type": "execute_result"
    }
   ],
   "source": [
    "correction_in_time"
   ]
  },
  {
   "cell_type": "code",
   "execution_count": 117,
   "id": "768a7efc-131e-4674-b006-5b9608d8be65",
   "metadata": {
    "tags": []
   },
   "outputs": [
    {
     "data": {
      "text/plain": [
       "362.07534368120554"
      ]
     },
     "execution_count": 117,
     "metadata": {},
     "output_type": "execute_result"
    }
   ],
   "source": [
    "100 * correction_in_time"
   ]
  },
  {
   "cell_type": "code",
   "execution_count": null,
   "id": "0e56b995-e578-4d34-838e-c2365e79dbb8",
   "metadata": {},
   "outputs": [],
   "source": [
    "(valor * ())"
   ]
  }
 ],
 "metadata": {
  "kernelspec": {
   "display_name": "Python 3 (ipykernel)",
   "language": "python",
   "name": "python3"
  },
  "language_info": {
   "codemirror_mode": {
    "name": "ipython",
    "version": 3
   },
   "file_extension": ".py",
   "mimetype": "text/x-python",
   "name": "python",
   "nbconvert_exporter": "python",
   "pygments_lexer": "ipython3",
   "version": "3.10.11"
  }
 },
 "nbformat": 4,
 "nbformat_minor": 5
}
