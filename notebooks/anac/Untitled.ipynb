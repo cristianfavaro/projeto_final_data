{
 "cells": [
  {
   "cell_type": "code",
   "execution_count": 1,
   "id": "b5ae98c4-f2e6-4f92-990a-9de9bd51ef5d",
   "metadata": {
    "tags": []
   },
   "outputs": [],
   "source": [
    "import glob\n",
    "from udfs import ipca\n",
    "files = glob.glob(\"anac.nosync/*.CSV\")"
   ]
  },
  {
   "cell_type": "code",
   "execution_count": 4,
   "id": "dca76183-20b5-48ca-b2a9-bb82ff91a5c6",
   "metadata": {
    "tags": []
   },
   "outputs": [
    {
     "data": {
      "text/plain": [
       "'200201.CSV'"
      ]
     },
     "execution_count": 4,
     "metadata": {},
     "output_type": "execute_result"
    }
   ],
   "source": [
    "files[0].split(\"/\")[1]"
   ]
  },
  {
   "cell_type": "code",
   "execution_count": null,
   "id": "edd0633f-4b0b-403f-90cc-b83e5205d342",
   "metadata": {},
   "outputs": [],
   "source": []
  },
  {
   "cell_type": "code",
   "execution_count": 1,
   "id": "9ab61c28-647f-446b-88ae-24f355b5a16e",
   "metadata": {
    "tags": []
   },
   "outputs": [],
   "source": [
    "import pandas as pd"
   ]
  },
  {
   "cell_type": "code",
   "execution_count": 3,
   "id": "780bd2cb-c199-4c49-ba5f-f61c4cf4fd92",
   "metadata": {
    "tags": []
   },
   "outputs": [],
   "source": [
    "ipca_data = pd.read_csv(\"https://api.bcb.gov.br/dados/serie/bcdata.sgs.433/dados?formato=csv\", sep=\";\")"
   ]
  },
  {
   "cell_type": "code",
   "execution_count": 4,
   "id": "beef4a9a-a85a-4c3c-8d44-251542f2b43e",
   "metadata": {
    "tags": []
   },
   "outputs": [],
   "source": [
    "ipca_data[\"valor\"] = ipca_data.valor.str.replace(\",\", \".\").astype(float)"
   ]
  },
  {
   "cell_type": "code",
   "execution_count": 6,
   "id": "0a0fa0a2-4bbe-49fc-8885-2cb890dddc18",
   "metadata": {
    "tags": []
   },
   "outputs": [],
   "source": [
    "ipca_data[\"taxa\"] = ipca_data[\"valor\"]/100 + 1     "
   ]
  },
  {
   "cell_type": "code",
   "execution_count": 32,
   "id": "a0da0ac4-07e9-430d-8eed-8605a52d3581",
   "metadata": {
    "tags": []
   },
   "outputs": [],
   "source": [
    "ipca_data['acumulated'] = 0"
   ]
  },
  {
   "cell_type": "code",
   "execution_count": 33,
   "id": "9c97780f-d6a7-42da-9c00-b1187df74b80",
   "metadata": {
    "tags": []
   },
   "outputs": [
    {
     "data": {
      "text/html": [
       "<div>\n",
       "<style scoped>\n",
       "    .dataframe tbody tr th:only-of-type {\n",
       "        vertical-align: middle;\n",
       "    }\n",
       "\n",
       "    .dataframe tbody tr th {\n",
       "        vertical-align: top;\n",
       "    }\n",
       "\n",
       "    .dataframe thead th {\n",
       "        text-align: right;\n",
       "    }\n",
       "</style>\n",
       "<table border=\"1\" class=\"dataframe\">\n",
       "  <thead>\n",
       "    <tr style=\"text-align: right;\">\n",
       "      <th></th>\n",
       "      <th>data</th>\n",
       "      <th>valor</th>\n",
       "      <th>taxa</th>\n",
       "      <th>acumulated</th>\n",
       "    </tr>\n",
       "  </thead>\n",
       "  <tbody>\n",
       "    <tr>\n",
       "      <th>0</th>\n",
       "      <td>01/01/1980</td>\n",
       "      <td>6.62</td>\n",
       "      <td>1.0662</td>\n",
       "      <td>0</td>\n",
       "    </tr>\n",
       "    <tr>\n",
       "      <th>1</th>\n",
       "      <td>01/02/1980</td>\n",
       "      <td>4.62</td>\n",
       "      <td>1.0462</td>\n",
       "      <td>0</td>\n",
       "    </tr>\n",
       "    <tr>\n",
       "      <th>2</th>\n",
       "      <td>01/03/1980</td>\n",
       "      <td>6.04</td>\n",
       "      <td>1.0604</td>\n",
       "      <td>0</td>\n",
       "    </tr>\n",
       "    <tr>\n",
       "      <th>3</th>\n",
       "      <td>01/04/1980</td>\n",
       "      <td>5.29</td>\n",
       "      <td>1.0529</td>\n",
       "      <td>0</td>\n",
       "    </tr>\n",
       "    <tr>\n",
       "      <th>4</th>\n",
       "      <td>01/05/1980</td>\n",
       "      <td>5.70</td>\n",
       "      <td>1.0570</td>\n",
       "      <td>0</td>\n",
       "    </tr>\n",
       "  </tbody>\n",
       "</table>\n",
       "</div>"
      ],
      "text/plain": [
       "         data  valor    taxa  acumulated\n",
       "0  01/01/1980   6.62  1.0662           0\n",
       "1  01/02/1980   4.62  1.0462           0\n",
       "2  01/03/1980   6.04  1.0604           0\n",
       "3  01/04/1980   5.29  1.0529           0\n",
       "4  01/05/1980   5.70  1.0570           0"
      ]
     },
     "execution_count": 33,
     "metadata": {},
     "output_type": "execute_result"
    }
   ],
   "source": [
    "ipca_data.head(5)"
   ]
  },
  {
   "cell_type": "code",
   "execution_count": 46,
   "id": "f6b4b898-feff-4396-8135-1ce4e675334c",
   "metadata": {
    "tags": []
   },
   "outputs": [],
   "source": [
    "def acumulado(values):\n",
    "    data = []\n",
    "    result = 1\n",
    "    for value in values:\n",
    "        result = (result * value)\n",
    "        data.append(result)\n",
    "    return data"
   ]
  },
  {
   "cell_type": "code",
   "execution_count": 47,
   "id": "5f8957a5-fe0c-4d96-87a4-422e3796aa20",
   "metadata": {
    "tags": []
   },
   "outputs": [],
   "source": [
    "values = acumulado(ipca_data[\"taxa\"])"
   ]
  },
  {
   "cell_type": "code",
   "execution_count": 48,
   "id": "a12c6c92-0607-4c97-bf01-e9eeebed83f3",
   "metadata": {
    "tags": []
   },
   "outputs": [],
   "source": [
    "ipca_data['acumulated'] = values"
   ]
  },
  {
   "cell_type": "code",
   "execution_count": 49,
   "id": "5f3c08b8-a3fb-4126-b0ae-d7cedcb7322b",
   "metadata": {
    "tags": []
   },
   "outputs": [
    {
     "data": {
      "text/html": [
       "<div>\n",
       "<style scoped>\n",
       "    .dataframe tbody tr th:only-of-type {\n",
       "        vertical-align: middle;\n",
       "    }\n",
       "\n",
       "    .dataframe tbody tr th {\n",
       "        vertical-align: top;\n",
       "    }\n",
       "\n",
       "    .dataframe thead th {\n",
       "        text-align: right;\n",
       "    }\n",
       "</style>\n",
       "<table border=\"1\" class=\"dataframe\">\n",
       "  <thead>\n",
       "    <tr style=\"text-align: right;\">\n",
       "      <th></th>\n",
       "      <th>data</th>\n",
       "      <th>valor</th>\n",
       "      <th>taxa</th>\n",
       "      <th>acumulated</th>\n",
       "    </tr>\n",
       "  </thead>\n",
       "  <tbody>\n",
       "    <tr>\n",
       "      <th>0</th>\n",
       "      <td>01/01/1980</td>\n",
       "      <td>6.62</td>\n",
       "      <td>1.0662</td>\n",
       "      <td>1.066200e+00</td>\n",
       "    </tr>\n",
       "    <tr>\n",
       "      <th>1</th>\n",
       "      <td>01/02/1980</td>\n",
       "      <td>4.62</td>\n",
       "      <td>1.0462</td>\n",
       "      <td>1.115458e+00</td>\n",
       "    </tr>\n",
       "    <tr>\n",
       "      <th>2</th>\n",
       "      <td>01/03/1980</td>\n",
       "      <td>6.04</td>\n",
       "      <td>1.0604</td>\n",
       "      <td>1.182832e+00</td>\n",
       "    </tr>\n",
       "    <tr>\n",
       "      <th>3</th>\n",
       "      <td>01/04/1980</td>\n",
       "      <td>5.29</td>\n",
       "      <td>1.0529</td>\n",
       "      <td>1.245404e+00</td>\n",
       "    </tr>\n",
       "    <tr>\n",
       "      <th>4</th>\n",
       "      <td>01/05/1980</td>\n",
       "      <td>5.70</td>\n",
       "      <td>1.0570</td>\n",
       "      <td>1.316392e+00</td>\n",
       "    </tr>\n",
       "    <tr>\n",
       "      <th>...</th>\n",
       "      <td>...</td>\n",
       "      <td>...</td>\n",
       "      <td>...</td>\n",
       "      <td>...</td>\n",
       "    </tr>\n",
       "    <tr>\n",
       "      <th>514</th>\n",
       "      <td>01/11/2022</td>\n",
       "      <td>0.41</td>\n",
       "      <td>1.0041</td>\n",
       "      <td>8.448750e+11</td>\n",
       "    </tr>\n",
       "    <tr>\n",
       "      <th>515</th>\n",
       "      <td>01/12/2022</td>\n",
       "      <td>0.62</td>\n",
       "      <td>1.0062</td>\n",
       "      <td>8.501132e+11</td>\n",
       "    </tr>\n",
       "    <tr>\n",
       "      <th>516</th>\n",
       "      <td>01/01/2023</td>\n",
       "      <td>0.53</td>\n",
       "      <td>1.0053</td>\n",
       "      <td>8.546188e+11</td>\n",
       "    </tr>\n",
       "    <tr>\n",
       "      <th>517</th>\n",
       "      <td>01/02/2023</td>\n",
       "      <td>0.84</td>\n",
       "      <td>1.0084</td>\n",
       "      <td>8.617976e+11</td>\n",
       "    </tr>\n",
       "    <tr>\n",
       "      <th>518</th>\n",
       "      <td>01/03/2023</td>\n",
       "      <td>0.71</td>\n",
       "      <td>1.0071</td>\n",
       "      <td>8.679164e+11</td>\n",
       "    </tr>\n",
       "  </tbody>\n",
       "</table>\n",
       "<p>519 rows × 4 columns</p>\n",
       "</div>"
      ],
      "text/plain": [
       "           data  valor    taxa    acumulated\n",
       "0    01/01/1980   6.62  1.0662  1.066200e+00\n",
       "1    01/02/1980   4.62  1.0462  1.115458e+00\n",
       "2    01/03/1980   6.04  1.0604  1.182832e+00\n",
       "3    01/04/1980   5.29  1.0529  1.245404e+00\n",
       "4    01/05/1980   5.70  1.0570  1.316392e+00\n",
       "..          ...    ...     ...           ...\n",
       "514  01/11/2022   0.41  1.0041  8.448750e+11\n",
       "515  01/12/2022   0.62  1.0062  8.501132e+11\n",
       "516  01/01/2023   0.53  1.0053  8.546188e+11\n",
       "517  01/02/2023   0.84  1.0084  8.617976e+11\n",
       "518  01/03/2023   0.71  1.0071  8.679164e+11\n",
       "\n",
       "[519 rows x 4 columns]"
      ]
     },
     "execution_count": 49,
     "metadata": {},
     "output_type": "execute_result"
    }
   ],
   "source": [
    "ipca_data"
   ]
  },
  {
   "cell_type": "code",
   "execution_count": 55,
   "id": "66ab54e4-7cd1-4a5e-b8a4-c44761fbd420",
   "metadata": {
    "tags": []
   },
   "outputs": [
    {
     "data": {
      "text/plain": [
       "239253778187.50824"
      ]
     },
     "execution_count": 55,
     "metadata": {},
     "output_type": "execute_result"
    }
   ],
   "source": [
    "float(ipca_data[ipca_data[\"data\"] == \"01/01/2002\"][\"acumulated\"])"
   ]
  },
  {
   "cell_type": "code",
   "execution_count": 56,
   "id": "9acc5598-e95c-45d4-a558-81d2d5f32f94",
   "metadata": {
    "tags": []
   },
   "outputs": [
    {
     "data": {
      "text/plain": [
       "861797592163.4397"
      ]
     },
     "execution_count": 56,
     "metadata": {},
     "output_type": "execute_result"
    }
   ],
   "source": [
    "float(ipca_data[ipca_data[\"data\"] == \"01/02/2023\"][\"acumulated\"])"
   ]
  },
  {
   "cell_type": "code",
   "execution_count": 60,
   "id": "90128acf-7168-4062-a329-ae7003bb4754",
   "metadata": {
    "tags": []
   },
   "outputs": [
    {
     "data": {
      "text/plain": [
       "262.07534368120554"
      ]
     },
     "execution_count": 60,
     "metadata": {},
     "output_type": "execute_result"
    }
   ],
   "source": [
    "((float(ipca_data[ipca_data[\"data\"] == \"01/02/2023\"][\"acumulated\"]) / float(ipca_data[ipca_data[\"data\"] == \"01/12/2001\"][\"acumulated\"])) - 1) * 100"
   ]
  },
  {
   "cell_type": "code",
   "execution_count": null,
   "id": "0e56b995-e578-4d34-838e-c2365e79dbb8",
   "metadata": {},
   "outputs": [],
   "source": []
  }
 ],
 "metadata": {
  "kernelspec": {
   "display_name": "Python 3 (ipykernel)",
   "language": "python",
   "name": "python3"
  },
  "language_info": {
   "codemirror_mode": {
    "name": "ipython",
    "version": 3
   },
   "file_extension": ".py",
   "mimetype": "text/x-python",
   "name": "python",
   "nbconvert_exporter": "python",
   "pygments_lexer": "ipython3",
   "version": "3.10.11"
  }
 },
 "nbformat": 4,
 "nbformat_minor": 5
}
