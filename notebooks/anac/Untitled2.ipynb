{
 "cells": [
  {
   "cell_type": "code",
   "execution_count": 1,
   "id": "226482e6-2823-4224-9747-2b2bbe5f64ac",
   "metadata": {
    "tags": []
   },
   "outputs": [],
   "source": [
    "from udfs import ipca as ipca_1"
   ]
  },
  {
   "cell_type": "code",
   "execution_count": 2,
   "id": "47c96335-c1e3-4301-ab60-76ea074d9f44",
   "metadata": {
    "tags": []
   },
   "outputs": [],
   "source": [
    "from monetary_correction import ipca as ipca_2"
   ]
  },
  {
   "cell_type": "code",
   "execution_count": 3,
   "id": "7c67ad61-dc95-44fb-89c6-4bdd1f2f9db3",
   "metadata": {
    "tags": []
   },
   "outputs": [],
   "source": [
    "data = [\n",
    "    [100, \"02/2019\", \"02/2022\"], \n",
    "    [100, \"02/2002\", \"02/2021\"], \n",
    "    [100, \"02/1999\", \"02/2020\"], \n",
    "]"
   ]
  },
  {
   "cell_type": "code",
   "execution_count": null,
   "id": "8ba24c61-2b84-4b0d-a7ad-158ddadbbf1b",
   "metadata": {},
   "outputs": [],
   "source": [
    "%%timeit\n",
    "for value, start, end in data:\n",
    "    ipca_1(value, start, end)"
   ]
  }
 ],
 "metadata": {
  "kernelspec": {
   "display_name": "Python 3 (ipykernel)",
   "language": "python",
   "name": "python3"
  },
  "language_info": {
   "codemirror_mode": {
    "name": "ipython",
    "version": 3
   },
   "file_extension": ".py",
   "mimetype": "text/x-python",
   "name": "python",
   "nbconvert_exporter": "python",
   "pygments_lexer": "ipython3",
   "version": "3.10.11"
  }
 },
 "nbformat": 4,
 "nbformat_minor": 5
}
