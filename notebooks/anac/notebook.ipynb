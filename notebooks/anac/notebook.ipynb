{
 "cells": [
  {
   "cell_type": "markdown",
   "id": "dba3c578-df2a-4448-911b-5c220dd71614",
   "metadata": {
    "tags": []
   },
   "source": [
    "# Projeto Final \n",
    "## Master em Jornalismo de Dados - Insper\n",
    "\n",
    "Trabalho apresentado na conclusão do Master em Jornalismo de Dados do Insper em 2023. O projeto foi ministrado pelo professor Eduardo Vicente Gonçalves.  \n",
    "\n",
    "### O Projeto\n",
    "\n",
    "A ideia do trabalho surgiu da minha cobertura como setorista de companhias aéreas para o Valor Econômico. Uma dos temas mais presentes no noticiário é o preço da passagem aérea. As tarifas dispararam nos últimos anos por causa dos impactos da pandemia e do efeito da invasão da Rússia na Ucrânia sobre o petróleo. \n",
    "\n",
    "A Anac faz um monitoramento intensivo das tarifas, que é disponibilizado em um dashboard interativo bastante eficiente (https://www.gov.br/anac/pt-br/assuntos/dados-e-estatisticas/mercado-do-transporte-aereo), na aba Tarifas Aéreas Domésticas e Tarifas Aéreas Internacionais).\n",
    "\n",
    "O problema é que eu gostaria de fazer os meus próprios cruzamentos com os microdados e também trabalhar com novas visualizações. \n",
    "\n",
    "#### Os Dados\n",
    "\n",
    "A Anac recolhe das companhias aéreas comerciais uma série de dados mensalmente para calcular a oferta e demanda por transporte, assim como a evolução das tarifas. No caso das tarifas, os dados representam uma fatia de cerca de 35% do total de passageiros transportados (a depender do mês). Esse recorde ocorre, conforme explica a Anac, porque os dados abrangem todas as passagens vendidas ao “público adulto em geral”, excluindo aquelas adquiridas com descontos restritos a grupos específicos, programas de milhagem, entre outras condições. \n",
    "\n",
    "As variáveis são diretas:\n",
    "- ANO e MES: mês e ano da venda das passagens, independentemente da data do voo;\n",
    "- EMPRESA: (empresa que vendeu a passagem);\n",
    "- ORIGEM e DESTINO;\n",
    "- TARIFA (em reais);\n",
    "- ASSENTOS: por exemplo, uma linha com venda da Azul no mês de janeiro de 2023 por 500 reais com um número de assentos de 9 signifca que, naquele mês a empresa vendeu 9 assentos por 500 reais naquela rota. \n",
    "\n",
    "Os microdados estão disponíveis no seguinte link: https://sas.anac.gov.br/sas/downloads/view/frmDownload.aspx\n",
    "\n",
    "### Ferramentas - Spark\n",
    "\n",
    "A base completa - janeiro de 2002 a dezembro de 2022 - tem mais de 55 milhões de registros distribuídos em 250 arquivos. Desta forma, abrir o arquivo no Pandas não seria viável na memória do computador. \n",
    "\n",
    "Para cruzar os dados, resolvi usar o Pyspark - interface Python para Spark e é um projeto Apache de plataforma cruzada de código aberto. \n",
    "\n",
    "### Docker\n",
    "O Spark é bastante simples de ser iniciado via Docker, método escolhido para este projeto. \n",
    "Basta clonar o repositório. Na pasta principal, digite `docker-compose up --build -d` - com isso o Docker vai construir os containeres, iniciar o sistema e manter o terminal livre (detached, ou -d). Ele vai iniciar o Spark, assim como um Worker para processar os dados. \n",
    "\n",
    "### Jupyterhttp://localhost:8888/lab\n",
    "O Docker vai criar também um Jupyter, que pode ser acessado pelo seguinte endereço: http://localhost:8888/\n",
    "Aqui vai ser possível navegar pela pasta Anac e encontrar os notebooks, assim como os arquivos. "
   ]
  },
  {
   "cell_type": "markdown",
   "id": "1ae013e3-7a13-44ee-bf15-2baf52da648d",
   "metadata": {},
   "source": [
    "# Limpeza dos Dados\n",
    "\n",
    "O primeiro desafio encontrado foi a limpeza dos dados. \n",
    "Minha máquina acabou não suportando todos os processamentos necessários no dado. Entre eles, preciso transformar variáveis, ajustar alguns CSVs com formatação e header errados. O principal desafio está na correção monetária: por padrão a Anac atualiza todos os bilhetes comercializados desde 2002 pelo IPCA acumulado no mês da última divulgação. "
   ]
  },
  {
   "cell_type": "code",
   "execution_count": 5,
   "id": "db230f58-80ca-481c-91c9-35142d281a37",
   "metadata": {
    "tags": []
   },
   "outputs": [],
   "source": [
    "import numpy as np\n",
    "import pandas as pd\n",
    "#Função criada para ajustar os valores individualmente. Ela foi testada com base na Calculadora do BC. \n",
    "from monetary_correction import ipca"
   ]
  },
  {
   "cell_type": "markdown",
   "id": "b19666cc-e6d4-4f4a-a460-cb730a4ee3e5",
   "metadata": {
    "tags": []
   },
   "source": [
    "# Ajustando dados e trazendo tudo a valor presente\n",
    "Um dos desafios mais legais foi pensar em uma função para ajustar os valores pelo IPCA.\n",
    "Por se tratar de uma função que seria executada literalmente milhares de vezes, ela teria de ser rápida e bastante eficiente. \n",
    "A primeira versão corrigiu todos os dados de uma tabela de cerca de 330 mil entradas em cerca de 20 minutos. A segunda, conseguiu fazer o mesmo trabalho em cerca de 1,3 minuto - um salto bastante significativo para uma base com 250 CSVs, sendo cada um variando entre 200 mil e 500 mil entradas cada. "
   ]
  },
  {
   "cell_type": "code",
   "execution_count": 2,
   "id": "dd7cb100-f4b0-4ffd-8702-6fb5f7250e7d",
   "metadata": {
    "tags": []
   },
   "outputs": [],
   "source": [
    "import glob\n",
    "files = glob.glob(\"anac.nosync/*.CSV\")"
   ]
  },
  {
   "cell_type": "code",
   "execution_count": 3,
   "id": "dc2e30d6-687b-4b04-a67f-455c728ece45",
   "metadata": {
    "tags": []
   },
   "outputs": [],
   "source": [
    "file = files[0]"
   ]
  },
  {
   "cell_type": "code",
   "execution_count": 6,
   "id": "fdc10381-79fe-4894-b0d2-0242dd63a0aa",
   "metadata": {
    "tags": []
   },
   "outputs": [
    {
     "name": "stdout",
     "output_type": "stream",
     "text": [
      ">>Processando tabela anac.nosync/200201.CSV"
     ]
    }
   ],
   "source": [
    "print(f\"\\r>>Processando tabela {file}\", end=\"\")\n",
    "df = pd.read_csv(file, sep=\";\", encoding='latin1')\n",
    "df = df.loc[:, ~df.columns.str.contains('^Unnamed')]\n",
    "df.columns = [\"ANO\",\"MES\",\"EMPRESA\",\"ORIGEM\",\"DESTINO\",\"TARIFA\",\"ASSENTOS\"]\n",
    "df.TARIFA = df.TARIFA.str.replace(\",\", \".\").astype(float).copy()"
   ]
  },
  {
   "cell_type": "code",
   "execution_count": 8,
   "id": "a16a0fa8-10fa-429d-ba4a-6ea5954bc539",
   "metadata": {
    "tags": []
   },
   "outputs": [
    {
     "data": {
      "text/html": [
       "<div>\n",
       "<style scoped>\n",
       "    .dataframe tbody tr th:only-of-type {\n",
       "        vertical-align: middle;\n",
       "    }\n",
       "\n",
       "    .dataframe tbody tr th {\n",
       "        vertical-align: top;\n",
       "    }\n",
       "\n",
       "    .dataframe thead th {\n",
       "        text-align: right;\n",
       "    }\n",
       "</style>\n",
       "<table border=\"1\" class=\"dataframe\">\n",
       "  <thead>\n",
       "    <tr style=\"text-align: right;\">\n",
       "      <th></th>\n",
       "      <th>ANO</th>\n",
       "      <th>MES</th>\n",
       "      <th>EMPRESA</th>\n",
       "      <th>ORIGEM</th>\n",
       "      <th>DESTINO</th>\n",
       "      <th>TARIFA</th>\n",
       "      <th>ASSENTOS</th>\n",
       "    </tr>\n",
       "  </thead>\n",
       "  <tbody>\n",
       "    <tr>\n",
       "      <th>0</th>\n",
       "      <td>2002</td>\n",
       "      <td>1</td>\n",
       "      <td>GLO</td>\n",
       "      <td>SBPA</td>\n",
       "      <td>SBBR</td>\n",
       "      <td>397.0</td>\n",
       "      <td>51</td>\n",
       "    </tr>\n",
       "    <tr>\n",
       "      <th>1</th>\n",
       "      <td>2002</td>\n",
       "      <td>1</td>\n",
       "      <td>GLO</td>\n",
       "      <td>SBSV</td>\n",
       "      <td>SBRF</td>\n",
       "      <td>272.0</td>\n",
       "      <td>5</td>\n",
       "    </tr>\n",
       "  </tbody>\n",
       "</table>\n",
       "</div>"
      ],
      "text/plain": [
       "    ANO  MES EMPRESA ORIGEM DESTINO  TARIFA  ASSENTOS\n",
       "0  2002    1     GLO   SBPA    SBBR   397.0        51\n",
       "1  2002    1     GLO   SBSV    SBRF   272.0         5"
      ]
     },
     "execution_count": 8,
     "metadata": {},
     "output_type": "execute_result"
    }
   ],
   "source": [
    "df.head(2)"
   ]
  },
  {
   "cell_type": "code",
   "execution_count": 9,
   "id": "433c058b-e871-4c94-b8f3-c55ca43b9028",
   "metadata": {
    "tags": []
   },
   "outputs": [],
   "source": [
    "df['REAL'] = df.apply(lambda row: ipca(row[\"TARIFA\"], [row['MES'], row['ANO']], [12,2022])[0], axis=1)"
   ]
  },
  {
   "cell_type": "code",
   "execution_count": 11,
   "id": "1462cb08-b6ce-4588-af39-5d2d6d592e31",
   "metadata": {
    "tags": []
   },
   "outputs": [
    {
     "data": {
      "text/html": [
       "<div>\n",
       "<style scoped>\n",
       "    .dataframe tbody tr th:only-of-type {\n",
       "        vertical-align: middle;\n",
       "    }\n",
       "\n",
       "    .dataframe tbody tr th {\n",
       "        vertical-align: top;\n",
       "    }\n",
       "\n",
       "    .dataframe thead th {\n",
       "        text-align: right;\n",
       "    }\n",
       "</style>\n",
       "<table border=\"1\" class=\"dataframe\">\n",
       "  <thead>\n",
       "    <tr style=\"text-align: right;\">\n",
       "      <th></th>\n",
       "      <th>ANO</th>\n",
       "      <th>MES</th>\n",
       "      <th>EMPRESA</th>\n",
       "      <th>ORIGEM</th>\n",
       "      <th>DESTINO</th>\n",
       "      <th>TARIFA</th>\n",
       "      <th>ASSENTOS</th>\n",
       "      <th>REAL</th>\n",
       "    </tr>\n",
       "  </thead>\n",
       "  <tbody>\n",
       "    <tr>\n",
       "      <th>0</th>\n",
       "      <td>2002</td>\n",
       "      <td>1</td>\n",
       "      <td>GLO</td>\n",
       "      <td>SBPA</td>\n",
       "      <td>SBBR</td>\n",
       "      <td>397.0</td>\n",
       "      <td>51</td>\n",
       "      <td>1417.950071</td>\n",
       "    </tr>\n",
       "    <tr>\n",
       "      <th>1</th>\n",
       "      <td>2002</td>\n",
       "      <td>1</td>\n",
       "      <td>GLO</td>\n",
       "      <td>SBSV</td>\n",
       "      <td>SBRF</td>\n",
       "      <td>272.0</td>\n",
       "      <td>5</td>\n",
       "      <td>971.492240</td>\n",
       "    </tr>\n",
       "  </tbody>\n",
       "</table>\n",
       "</div>"
      ],
      "text/plain": [
       "    ANO  MES EMPRESA ORIGEM DESTINO  TARIFA  ASSENTOS         REAL\n",
       "0  2002    1     GLO   SBPA    SBBR   397.0        51  1417.950071\n",
       "1  2002    1     GLO   SBSV    SBRF   272.0         5   971.492240"
      ]
     },
     "execution_count": 11,
     "metadata": {},
     "output_type": "execute_result"
    }
   ],
   "source": [
    "df.head(2)"
   ]
  },
  {
   "cell_type": "code",
   "execution_count": null,
   "id": "24c14334-5a34-4755-930a-8ef63b82d033",
   "metadata": {
    "tags": []
   },
   "outputs": [
    {
     "name": "stdout",
     "output_type": "stream",
     "text": [
      ">>Processando tabela anac.nosync/201307.CSV"
     ]
    }
   ],
   "source": [
    "%%time\n",
    "import glob\n",
    "\n",
    "def update_db(date_ipca):\n",
    "    \"\"\"\n",
    "    Função que pega os CSVs individualmente, limpa os dados e corrige a tarifa pelo IPCA do parâmetro month_ipca. \n",
    "    A data precisa ser no formato \"MM/YYYY\"\n",
    "    \"\"\"\n",
    "    \n",
    "    files = glob.glob(\"anac.nosync/*.CSV\")\n",
    "    \n",
    "    for file in files:\n",
    "        print(f\"\\r>>Processando tabela {file}\", end=\"\")\n",
    "        df = pd.read_csv(file, sep=\";\", encoding='latin1')\n",
    "        df = df.loc[:, ~df.columns.str.contains('^Unnamed')]\n",
    "        df.columns = [\"ANO\",\"MES\",\"EMPRESA\",\"ORIGEM\",\"DESTINO\",\"TARIFA\",\"ASSENTOS\"]\n",
    "        df.TARIFA = df.TARIFA.str.replace(\",\", \".\").astype(float).copy()\n",
    "\n",
    "        if file == files[-1]:    \n",
    "            df['REAL'] = df['TARIFA'].copy()\n",
    "        else:\n",
    "            df['REAL'] = df.apply(lambda row: ipca(row[\"TARIFA\"], [row['MES'], row['ANO']], date_ipca)[0], axis=1)\n",
    "            # df['REAL'] = df.apply(lambda row: ipca(row[\"TARIFA\"], f\"{row['MES']}/{row['ANO']}\", date_ipca)[0], axis=1)\n",
    "        df.to_csv(f\"anac.nosync/real/{file.split('/')[1].split('.')[0]}.csv\", index=False, sep=\";\")\n",
    "\n",
    "update_db([12,2022])"
   ]
  },
  {
   "cell_type": "markdown",
   "id": "8a804da9-f5b4-4414-8883-fea0e958afdd",
   "metadata": {},
   "source": [
    "# Começando com o Spark\n",
    "Lider com o Spark foi outro desafio.\n",
    "Ele demnanda uma série de configurações completas e ajustar tudo ao meu computador foi trabalhoso. Mas consegui encontrar uma saída (com este Docker container, inspirado em um projeto do github (link nas referências). "
   ]
  },
  {
   "cell_type": "code",
   "execution_count": 4,
   "id": "1ac49467-e902-4487-9046-e47114a22f92",
   "metadata": {
    "tags": []
   },
   "outputs": [
    {
     "name": "stderr",
     "output_type": "stream",
     "text": [
      "Setting default log level to \"WARN\".\n",
      "To adjust logging level use sc.setLogLevel(newLevel). For SparkR, use setLogLevel(newLevel).\n"
     ]
    },
    {
     "name": "stdout",
     "output_type": "stream",
     "text": [
      "23/04/13 17:57:25 WARN NativeCodeLoader: Unable to load native-hadoop library for your platform... using builtin-java classes where applicable\n"
     ]
    }
   ],
   "source": [
    "from pyspark.sql import SparkSession\n",
    "from pyspark.conf import SparkConf\n",
    "import pyspark.sql.functions as f\n",
    "\n",
    "conf = SparkConf()\n",
    "# conf.set(\"spark.eventLog.enabled\", False)\n",
    "# conf.set(\"spark.eventLog.dir\", \"/opt/spark/spark-events\")\n",
    "# conf.set(\"spark.history.fs.logDirectory\", \"/opt/spark/spark-events\")\n",
    "# conf.set(\"spark.executor.memory\", \"1024m\")\n",
    "# conf.set(\"spark.sql.autoBroadcastJoinThreshold\", -1)\n",
    "# conf.set(\"spark.sparkContext.setLogLevel\", \"ERROR\")\n",
    "\n",
    "spark = SparkSession.\\\n",
    "        builder.\\\n",
    "        appName(\"pyspark-anac\").\\\n",
    "        master(\"spark://spark-master:7077\").\\\n",
    "        config(conf=conf).\\\n",
    "        getOrCreate()"
   ]
  },
  {
   "cell_type": "code",
   "execution_count": 5,
   "id": "9bb6d2b5-7a20-442f-b60a-fa493c8d2b40",
   "metadata": {
    "tags": []
   },
   "outputs": [
    {
     "data": {
      "text/html": [
       "\n",
       "            <div>\n",
       "                <p><b>SparkSession - in-memory</b></p>\n",
       "                \n",
       "        <div>\n",
       "            <p><b>SparkContext</b></p>\n",
       "\n",
       "            <p><a href=\"http://c6fdc8f1e9dc:4040\">Spark UI</a></p>\n",
       "\n",
       "            <dl>\n",
       "              <dt>Version</dt>\n",
       "                <dd><code>v3.3.2</code></dd>\n",
       "              <dt>Master</dt>\n",
       "                <dd><code>spark://spark-master:7077</code></dd>\n",
       "              <dt>AppName</dt>\n",
       "                <dd><code>pyspark-anac</code></dd>\n",
       "            </dl>\n",
       "        </div>\n",
       "        \n",
       "            </div>\n",
       "        "
      ],
      "text/plain": [
       "<pyspark.sql.session.SparkSession at 0x7fbeb9cc7160>"
      ]
     },
     "execution_count": 5,
     "metadata": {},
     "output_type": "execute_result"
    }
   ],
   "source": [
    "spark\n",
    "# sc = spark.sparkContext\n",
    "# sc.addPyFile(\"/opt/notebooks/udfs.py\")"
   ]
  },
  {
   "cell_type": "markdown",
   "id": "ac062851-2051-4fb9-bbaa-661619bb8579",
   "metadata": {},
   "source": [
    "## Construindo o Schema\n",
    "Parte importante para definir os tipos de arquivos. Uma boa definição ajuda o programa a rodar significativamente mais rápido. "
   ]
  },
  {
   "cell_type": "code",
   "execution_count": 6,
   "id": "d1b260d6-3ef9-4bf9-aa73-78ea0addab4c",
   "metadata": {
    "tags": []
   },
   "outputs": [],
   "source": [
    "from pyspark.sql.types import StructType, IntegerType, StringType, FloatType, StructField, DoubleType\n",
    "\n",
    "schema = StructType(\n",
    "    [\n",
    "        StructField('ANO', IntegerType(), True), \n",
    "        StructField('MES', IntegerType(), True), \n",
    "        StructField('EMPRESA', StringType(), True), \n",
    "        StructField('ORIGEM', StringType(), True), \n",
    "        StructField('DESTINO', StringType(), True), \n",
    "        StructField('TARIFA', FloatType(), True), \n",
    "        StructField('ASSENTOS', IntegerType(), True),\n",
    "        StructField('REAL', FloatType(), True),\n",
    "    ]\n",
    ")"
   ]
  },
  {
   "cell_type": "markdown",
   "id": "f64f26a0-8e65-4507-96ac-53ab01921a23",
   "metadata": {},
   "source": [
    "Agora vamos ler todos os arquivos editados de uma só vez. Isso é possível com o \"*\" antes do \".csv\", que significa que o Spark irá ler todos os arquivos CSVs no diretório. Importante: todos precisam ter a mesma quantidade de colunas."
   ]
  },
  {
   "cell_type": "code",
   "execution_count": 7,
   "id": "29eb77d4-d6f5-451d-927a-35e33b25664d",
   "metadata": {
    "tags": []
   },
   "outputs": [
    {
     "name": "stderr",
     "output_type": "stream",
     "text": [
      "                                                                                \r"
     ]
    }
   ],
   "source": [
    "sdf = spark.read.csv('anac.nosync/real/*.csv', header=True, sep=\";\", schema=schema)"
   ]
  },
  {
   "cell_type": "code",
   "execution_count": 8,
   "id": "231dcd40-c790-4a4f-95d3-1647a1ce985c",
   "metadata": {
    "tags": []
   },
   "outputs": [],
   "source": [
    "#Vamos contar a quantidade de linhas\n",
    "#sdf.count()"
   ]
  },
  {
   "cell_type": "code",
   "execution_count": 9,
   "id": "fd8210c5-b5f1-432f-909e-378803f604a2",
   "metadata": {
    "tags": []
   },
   "outputs": [],
   "source": [
    "#Uma breve análise exploratória dos dados\n",
    "#sdf.summary().show()"
   ]
  },
  {
   "cell_type": "code",
   "execution_count": 10,
   "id": "48661561-293f-4d4d-bb79-869dd64aa16f",
   "metadata": {
    "tags": []
   },
   "outputs": [
    {
     "name": "stderr",
     "output_type": "stream",
     "text": [
      "                                                                                \r"
     ]
    },
    {
     "name": "stdout",
     "output_type": "stream",
     "text": [
      "+----+---+-------+------+-------+------+--------+------+\n",
      "| ANO|MES|EMPRESA|ORIGEM|DESTINO|TARIFA|ASSENTOS|  REAL|\n",
      "+----+---+-------+------+-------+------+--------+------+\n",
      "|2021| 10|    AZU|  SBAC|   SBAR| 565.9|       1|616.34|\n",
      "|2021| 10|    AZU|  SBAC|   SBBR| 409.9|       1|446.44|\n",
      "|2021| 10|    AZU|  SBAC|   SBBV| 748.9|       4|815.66|\n",
      "+----+---+-------+------+-------+------+--------+------+\n",
      "\n"
     ]
    }
   ],
   "source": [
    "#Vendo apenas as primeiras três linhas da tabela. \n",
    "sdf.limit(3).show()"
   ]
  },
  {
   "cell_type": "markdown",
   "id": "ba75d015-6af6-4a40-8b4f-f1837bd60cc8",
   "metadata": {
    "tags": []
   },
   "source": [
    "# Ajustar todos os valores pela inflação de Dezembro de 2022\n",
    "\n",
    "Nao funciona aqui por questão de processamento. Por isso, exacutamos via pandas e editando e corrigindo os arquivos individualmente. \n",
    "\n",
    "```\n",
    "def valor_real(value, date_start):\n",
    "    return ipca(value, date_start, \"12/2022\")[0]\n",
    "\n",
    "vreal = f.udf(valor_real, DoubleType())    # registering as udf here\n",
    "\n",
    "\n",
    "sdf = sdf.withColumn(\n",
    "    'REAL',\n",
    "    vreal(\n",
    "        f.col(\"TARIFA\"), \n",
    "        f.concat(f.col(\"MES\"), f.lit(\"/\"), f.col(\"ANO\")),\n",
    "    )\n",
    ")\n",
    "\n",
    "sdf = sdf.select(\"ANO\", \"MES\", \"ASSENTOS\", \"REAL\")\n",
    "````\n"
   ]
  },
  {
   "cell_type": "markdown",
   "id": "1cd7c6a9-b608-4c8e-abe1-f1ac0bfe51cb",
   "metadata": {
    "tags": []
   },
   "source": [
    "# Dado final\n",
    "\n",
    "## Agrupamento por ano e mês\n",
    "Primeiro vamos agrupar os dados pelas informações que a gente quer. No caso vamos pegar as tarifas médias por mês. "
   ]
  },
  {
   "cell_type": "code",
   "execution_count": 11,
   "id": "bd804445-6423-4905-94a4-b9c2e3c58398",
   "metadata": {
    "tags": []
   },
   "outputs": [],
   "source": [
    "data_by_date = sdf.groupby(\"ANO\", \"MES\").agg(\n",
    "    f.sum(\"ASSENTOS\").alias(\"TOTAL\"),\n",
    "    f.collect_list(f.col('REAL')),\n",
    "    f.collect_list(f.col('ASSENTOS')),\n",
    ")"
   ]
  },
  {
   "cell_type": "code",
   "execution_count": 12,
   "id": "f2fb3e6c-edc3-4dc5-9d84-c560732e86fc",
   "metadata": {
    "tags": []
   },
   "outputs": [],
   "source": [
    "#precisamos de uma média ponderada para calcular a real representatividade das tarifas considerando o número de assentos. \n",
    "def get_average(values, weights):\n",
    "    return float(np.average(values, weights=weights)) \n",
    "waverage = f.udf(get_average, DoubleType())    # registering as udf here\n",
    "\n",
    "data_by_date = data_by_date.withColumn(\n",
    "    'Weighted_average',\n",
    "    waverage(f.col(\"collect_list(REAL)\"), f.col(\"collect_list(ASSENTOS)\"))\n",
    ")"
   ]
  },
  {
   "cell_type": "code",
   "execution_count": 13,
   "id": "552be565-50cb-402d-a4b5-1531256858ae",
   "metadata": {
    "tags": []
   },
   "outputs": [],
   "source": [
    "data_by_date = data_by_date.select(\"ANO\", \"MES\", \"TOTAL\", \"Weighted_average\")"
   ]
  },
  {
   "cell_type": "code",
   "execution_count": 14,
   "id": "9348ea3c-bf62-4673-a498-96c90a6e5f55",
   "metadata": {
    "tags": []
   },
   "outputs": [
    {
     "data": {
      "text/plain": [
       "DataFrame[ANO: int, MES: int, TOTAL: bigint, Weighted_average: double]"
      ]
     },
     "execution_count": 14,
     "metadata": {},
     "output_type": "execute_result"
    }
   ],
   "source": [
    "data_by_date.cache() #salvando a base no cache para usar depois. "
   ]
  },
  {
   "cell_type": "code",
   "execution_count": 15,
   "id": "ed437120-4510-4728-ae95-f508076ee123",
   "metadata": {
    "tags": []
   },
   "outputs": [
    {
     "name": "stderr",
     "output_type": "stream",
     "text": [
      "                                                                                \r"
     ]
    },
    {
     "name": "stdout",
     "output_type": "stream",
     "text": [
      "+----+---+-------+-----------------+\n",
      "| ANO|MES|  TOTAL| Weighted_average|\n",
      "+----+---+-------+-----------------+\n",
      "|2022| 10|2450901|648.7533683010134|\n",
      "|2012| 10|4443441|567.5236231638822|\n",
      "|2007|  6|1366528|681.8399205044295|\n",
      "+----+---+-------+-----------------+\n",
      "\n"
     ]
    }
   ],
   "source": [
    "data_by_date.limit(3).show()"
   ]
  },
  {
   "cell_type": "code",
   "execution_count": 16,
   "id": "6d27556f-8ffc-4f1f-acc1-a9bd95e864d6",
   "metadata": {
    "tags": []
   },
   "outputs": [],
   "source": [
    "# #Jogando para CSV para futura consulta sem precisar rodar de novo\n",
    "# data_by_date.select(\"ANO\", \"MES\", \"TOTAL\", \"Weighted_average\")\\\n",
    "#     .repartition(1)\\\n",
    "#     .write.format(\"com.databricks.spark.csv\")\\\n",
    "#     .option(\"header\", \"true\")\\\n",
    "#     .save(\"tarifa_real.csv\")"
   ]
  },
  {
   "cell_type": "markdown",
   "id": "c1ea42c6-4697-4a73-a1ec-985457a5b090",
   "metadata": {
    "tags": []
   },
   "source": [
    "### Análise - Tarifas mensais. \n",
    "- Criar gráficos mostrando a evolução das tarifas"
   ]
  },
  {
   "cell_type": "code",
   "execution_count": 17,
   "id": "7400354a-48f6-4091-bb45-cff1cef1e177",
   "metadata": {
    "tags": []
   },
   "outputs": [],
   "source": [
    "import altair as alt"
   ]
  },
  {
   "cell_type": "code",
   "execution_count": 18,
   "id": "b4a90b06-897d-4d18-a55d-6fc30d976a59",
   "metadata": {
    "tags": []
   },
   "outputs": [
    {
     "name": "stderr",
     "output_type": "stream",
     "text": [
      "                                                                                \r"
     ]
    }
   ],
   "source": [
    "df_final = data_by_date.select(\"ANO\", \"MES\", \"TOTAL\", \"Weighted_average\").toPandas()\n",
    "df_final[\"DATA\"] = df_final[\"MES\"].astype(str) + \"/\" + df_final[\"ANO\"].astype(str)\n",
    "df_final.DATA = df_final.DATA.apply(pd.to_datetime,format=\"%m/%Y\")"
   ]
  },
  {
   "cell_type": "code",
   "execution_count": 19,
   "id": "2ed84a5c-207b-42f9-bf87-9ad69df56a08",
   "metadata": {
    "tags": []
   },
   "outputs": [
    {
     "data": {
      "text/html": [
       "<div>\n",
       "<style scoped>\n",
       "    .dataframe tbody tr th:only-of-type {\n",
       "        vertical-align: middle;\n",
       "    }\n",
       "\n",
       "    .dataframe tbody tr th {\n",
       "        vertical-align: top;\n",
       "    }\n",
       "\n",
       "    .dataframe thead th {\n",
       "        text-align: right;\n",
       "    }\n",
       "</style>\n",
       "<table border=\"1\" class=\"dataframe\">\n",
       "  <thead>\n",
       "    <tr style=\"text-align: right;\">\n",
       "      <th></th>\n",
       "      <th>ANO</th>\n",
       "      <th>MES</th>\n",
       "      <th>TOTAL</th>\n",
       "      <th>Weighted_average</th>\n",
       "      <th>DATA</th>\n",
       "    </tr>\n",
       "  </thead>\n",
       "  <tbody>\n",
       "    <tr>\n",
       "      <th>0</th>\n",
       "      <td>2022</td>\n",
       "      <td>10</td>\n",
       "      <td>2450901</td>\n",
       "      <td>648.753368</td>\n",
       "      <td>2022-10-01</td>\n",
       "    </tr>\n",
       "    <tr>\n",
       "      <th>1</th>\n",
       "      <td>2012</td>\n",
       "      <td>10</td>\n",
       "      <td>4443441</td>\n",
       "      <td>567.523623</td>\n",
       "      <td>2012-10-01</td>\n",
       "    </tr>\n",
       "  </tbody>\n",
       "</table>\n",
       "</div>"
      ],
      "text/plain": [
       "    ANO  MES    TOTAL  Weighted_average       DATA\n",
       "0  2022   10  2450901        648.753368 2022-10-01\n",
       "1  2012   10  4443441        567.523623 2012-10-01"
      ]
     },
     "execution_count": 19,
     "metadata": {},
     "output_type": "execute_result"
    }
   ],
   "source": [
    "df_final.head(2)"
   ]
  },
  {
   "cell_type": "code",
   "execution_count": 21,
   "id": "c57c0f6b-56e7-4d66-97c5-7e6331499b92",
   "metadata": {
    "tags": []
   },
   "outputs": [
    {
     "data": {
      "text/html": [
       "<div>\n",
       "<style scoped>\n",
       "    .dataframe tbody tr th:only-of-type {\n",
       "        vertical-align: middle;\n",
       "    }\n",
       "\n",
       "    .dataframe tbody tr th {\n",
       "        vertical-align: top;\n",
       "    }\n",
       "\n",
       "    .dataframe thead th {\n",
       "        text-align: right;\n",
       "    }\n",
       "</style>\n",
       "<table border=\"1\" class=\"dataframe\">\n",
       "  <thead>\n",
       "    <tr style=\"text-align: right;\">\n",
       "      <th></th>\n",
       "      <th>ANO</th>\n",
       "      <th>MES</th>\n",
       "      <th>PASSAGEIROS_PG</th>\n",
       "      <th>DATA</th>\n",
       "    </tr>\n",
       "  </thead>\n",
       "  <tbody>\n",
       "    <tr>\n",
       "      <th>0</th>\n",
       "      <td>2000</td>\n",
       "      <td>1</td>\n",
       "      <td>2572833.0</td>\n",
       "      <td>2000-01-01</td>\n",
       "    </tr>\n",
       "    <tr>\n",
       "      <th>1</th>\n",
       "      <td>2000</td>\n",
       "      <td>2</td>\n",
       "      <td>2212693.0</td>\n",
       "      <td>2000-02-01</td>\n",
       "    </tr>\n",
       "  </tbody>\n",
       "</table>\n",
       "</div>"
      ],
      "text/plain": [
       "    ANO  MES  PASSAGEIROS_PG       DATA\n",
       "0  2000    1       2572833.0 2000-01-01\n",
       "1  2000    2       2212693.0 2000-02-01"
      ]
     },
     "execution_count": 21,
     "metadata": {},
     "output_type": "execute_result"
    }
   ],
   "source": [
    "#Pegando os dados de oferta e demanda para dar ideia da queda do setor contra a tarifa. \n",
    "oferta_e_demanda = pd.read_csv(\"https://www.gov.br/anac/pt-br/assuntos/regulados/empresas-aereas/links-de-informacoes/DemandaeOferta.csv\", sep=\";\")\n",
    "oferta_e_demanda_domestica = oferta_e_demanda[oferta_e_demanda[\"natureza\"] == \"DOMÉSTICA\"]\n",
    "oferta_group = oferta_e_demanda_domestica.groupby([\"ano\", \"mes\"]).agg(passageiros_pg=(\"passageiros_pg\", \"sum\")).reset_index()\n",
    "oferta_group.columns = [\"ANO\", \"MES\", \"PASSAGEIROS_PG\"]\n",
    "oferta_group[\"DATA\"] = pd.to_datetime(dict(year=oferta_group.ANO, month=oferta_group.MES, day=1)) #criando uma nova coluna\n",
    "oferta_group.head(2)"
   ]
  },
  {
   "cell_type": "code",
   "execution_count": 22,
   "id": "8a10c529-061b-4e08-929a-e8b3dbc15c19",
   "metadata": {
    "tags": []
   },
   "outputs": [],
   "source": [
    "df_final = pd.merge(df_final, oferta_group[[\"ANO\", \"MES\", \"PASSAGEIROS_PG\"]], on=[\"ANO\", \"MES\"])"
   ]
  },
  {
   "cell_type": "code",
   "execution_count": 64,
   "id": "8e06144b-9807-4781-ac6d-2e60d23fc2e7",
   "metadata": {
    "tags": []
   },
   "outputs": [
    {
     "data": {
      "text/html": [
       "<div>\n",
       "<style scoped>\n",
       "    .dataframe tbody tr th:only-of-type {\n",
       "        vertical-align: middle;\n",
       "    }\n",
       "\n",
       "    .dataframe tbody tr th {\n",
       "        vertical-align: top;\n",
       "    }\n",
       "\n",
       "    .dataframe thead th {\n",
       "        text-align: right;\n",
       "    }\n",
       "</style>\n",
       "<table border=\"1\" class=\"dataframe\">\n",
       "  <thead>\n",
       "    <tr style=\"text-align: right;\">\n",
       "      <th></th>\n",
       "      <th>ANO</th>\n",
       "      <th>MES</th>\n",
       "      <th>TOTAL</th>\n",
       "      <th>Weighted_average</th>\n",
       "      <th>DATA</th>\n",
       "      <th>PASSAGEIROS_PG</th>\n",
       "    </tr>\n",
       "  </thead>\n",
       "  <tbody>\n",
       "    <tr>\n",
       "      <th>0</th>\n",
       "      <td>2022</td>\n",
       "      <td>10</td>\n",
       "      <td>2450901</td>\n",
       "      <td>648.753368</td>\n",
       "      <td>2022-10-01</td>\n",
       "      <td>7193213.0</td>\n",
       "    </tr>\n",
       "    <tr>\n",
       "      <th>1</th>\n",
       "      <td>2012</td>\n",
       "      <td>10</td>\n",
       "      <td>4443441</td>\n",
       "      <td>567.523623</td>\n",
       "      <td>2012-10-01</td>\n",
       "      <td>7543259.0</td>\n",
       "    </tr>\n",
       "    <tr>\n",
       "      <th>2</th>\n",
       "      <td>2007</td>\n",
       "      <td>6</td>\n",
       "      <td>1366528</td>\n",
       "      <td>681.839921</td>\n",
       "      <td>2007-06-01</td>\n",
       "      <td>3932158.0</td>\n",
       "    </tr>\n",
       "    <tr>\n",
       "      <th>3</th>\n",
       "      <td>2005</td>\n",
       "      <td>5</td>\n",
       "      <td>1172091</td>\n",
       "      <td>941.175824</td>\n",
       "      <td>2005-05-01</td>\n",
       "      <td>3127072.0</td>\n",
       "    </tr>\n",
       "    <tr>\n",
       "      <th>4</th>\n",
       "      <td>2010</td>\n",
       "      <td>12</td>\n",
       "      <td>3244644</td>\n",
       "      <td>606.291723</td>\n",
       "      <td>2010-12-01</td>\n",
       "      <td>6536295.0</td>\n",
       "    </tr>\n",
       "    <tr>\n",
       "      <th>...</th>\n",
       "      <td>...</td>\n",
       "      <td>...</td>\n",
       "      <td>...</td>\n",
       "      <td>...</td>\n",
       "      <td>...</td>\n",
       "      <td>...</td>\n",
       "    </tr>\n",
       "    <tr>\n",
       "      <th>247</th>\n",
       "      <td>2018</td>\n",
       "      <td>4</td>\n",
       "      <td>3434089</td>\n",
       "      <td>424.457457</td>\n",
       "      <td>2018-04-01</td>\n",
       "      <td>7290017.0</td>\n",
       "    </tr>\n",
       "    <tr>\n",
       "      <th>248</th>\n",
       "      <td>2022</td>\n",
       "      <td>8</td>\n",
       "      <td>2080709</td>\n",
       "      <td>694.486447</td>\n",
       "      <td>2022-08-01</td>\n",
       "      <td>7292418.0</td>\n",
       "    </tr>\n",
       "    <tr>\n",
       "      <th>249</th>\n",
       "      <td>2016</td>\n",
       "      <td>3</td>\n",
       "      <td>3828383</td>\n",
       "      <td>450.575489</td>\n",
       "      <td>2016-03-01</td>\n",
       "      <td>7177404.0</td>\n",
       "    </tr>\n",
       "    <tr>\n",
       "      <th>250</th>\n",
       "      <td>2005</td>\n",
       "      <td>9</td>\n",
       "      <td>1163289</td>\n",
       "      <td>907.197356</td>\n",
       "      <td>2005-09-01</td>\n",
       "      <td>3375859.0</td>\n",
       "    </tr>\n",
       "    <tr>\n",
       "      <th>251</th>\n",
       "      <td>2009</td>\n",
       "      <td>8</td>\n",
       "      <td>1684868</td>\n",
       "      <td>685.070402</td>\n",
       "      <td>2009-08-01</td>\n",
       "      <td>4643509.0</td>\n",
       "    </tr>\n",
       "  </tbody>\n",
       "</table>\n",
       "<p>252 rows × 6 columns</p>\n",
       "</div>"
      ],
      "text/plain": [
       "      ANO  MES    TOTAL  Weighted_average       DATA  PASSAGEIROS_PG\n",
       "0    2022   10  2450901        648.753368 2022-10-01       7193213.0\n",
       "1    2012   10  4443441        567.523623 2012-10-01       7543259.0\n",
       "2    2007    6  1366528        681.839921 2007-06-01       3932158.0\n",
       "3    2005    5  1172091        941.175824 2005-05-01       3127072.0\n",
       "4    2010   12  3244644        606.291723 2010-12-01       6536295.0\n",
       "..    ...  ...      ...               ...        ...             ...\n",
       "247  2018    4  3434089        424.457457 2018-04-01       7290017.0\n",
       "248  2022    8  2080709        694.486447 2022-08-01       7292418.0\n",
       "249  2016    3  3828383        450.575489 2016-03-01       7177404.0\n",
       "250  2005    9  1163289        907.197356 2005-09-01       3375859.0\n",
       "251  2009    8  1684868        685.070402 2009-08-01       4643509.0\n",
       "\n",
       "[252 rows x 6 columns]"
      ]
     },
     "execution_count": 64,
     "metadata": {},
     "output_type": "execute_result"
    }
   ],
   "source": [
    "df_final.to_csv()"
   ]
  },
  {
   "cell_type": "code",
   "execution_count": 23,
   "id": "eb4de116-e851-4428-ab45-791987ad7405",
   "metadata": {
    "tags": []
   },
   "outputs": [
    {
     "data": {
      "text/html": [
       "\n",
       "<div id=\"altair-viz-b2774dcb25ee4fd8be72eb3c6d5189e2\"></div>\n",
       "<script type=\"text/javascript\">\n",
       "  var VEGA_DEBUG = (typeof VEGA_DEBUG == \"undefined\") ? {} : VEGA_DEBUG;\n",
       "  (function(spec, embedOpt){\n",
       "    let outputDiv = document.currentScript.previousElementSibling;\n",
       "    if (outputDiv.id !== \"altair-viz-b2774dcb25ee4fd8be72eb3c6d5189e2\") {\n",
       "      outputDiv = document.getElementById(\"altair-viz-b2774dcb25ee4fd8be72eb3c6d5189e2\");\n",
       "    }\n",
       "    const paths = {\n",
       "      \"vega\": \"https://cdn.jsdelivr.net/npm//vega@5?noext\",\n",
       "      \"vega-lib\": \"https://cdn.jsdelivr.net/npm//vega-lib?noext\",\n",
       "      \"vega-lite\": \"https://cdn.jsdelivr.net/npm//vega-lite@4.17.0?noext\",\n",
       "      \"vega-embed\": \"https://cdn.jsdelivr.net/npm//vega-embed@6?noext\",\n",
       "    };\n",
       "\n",
       "    function maybeLoadScript(lib, version) {\n",
       "      var key = `${lib.replace(\"-\", \"\")}_version`;\n",
       "      return (VEGA_DEBUG[key] == version) ?\n",
       "        Promise.resolve(paths[lib]) :\n",
       "        new Promise(function(resolve, reject) {\n",
       "          var s = document.createElement('script');\n",
       "          document.getElementsByTagName(\"head\")[0].appendChild(s);\n",
       "          s.async = true;\n",
       "          s.onload = () => {\n",
       "            VEGA_DEBUG[key] = version;\n",
       "            return resolve(paths[lib]);\n",
       "          };\n",
       "          s.onerror = () => reject(`Error loading script: ${paths[lib]}`);\n",
       "          s.src = paths[lib];\n",
       "        });\n",
       "    }\n",
       "\n",
       "    function showError(err) {\n",
       "      outputDiv.innerHTML = `<div class=\"error\" style=\"color:red;\">${err}</div>`;\n",
       "      throw err;\n",
       "    }\n",
       "\n",
       "    function displayChart(vegaEmbed) {\n",
       "      vegaEmbed(outputDiv, spec, embedOpt)\n",
       "        .catch(err => showError(`Javascript Error: ${err.message}<br>This usually means there's a typo in your chart specification. See the javascript console for the full traceback.`));\n",
       "    }\n",
       "\n",
       "    if(typeof define === \"function\" && define.amd) {\n",
       "      requirejs.config({paths});\n",
       "      require([\"vega-embed\"], displayChart, err => showError(`Error loading script: ${err.message}`));\n",
       "    } else {\n",
       "      maybeLoadScript(\"vega\", \"5\")\n",
       "        .then(() => maybeLoadScript(\"vega-lite\", \"4.17.0\"))\n",
       "        .then(() => maybeLoadScript(\"vega-embed\", \"6\"))\n",
       "        .catch(showError)\n",
       "        .then(() => displayChart(vegaEmbed));\n",
       "    }\n",
       "  })({\"config\": {\"view\": {\"continuousWidth\": 400, \"continuousHeight\": 300}}, \"layer\": [{\"mark\": \"bar\", \"encoding\": {\"tooltip\": [{\"field\": \"DATA\", \"type\": \"temporal\"}, {\"field\": \"Weighted_average\", \"type\": \"quantitative\"}], \"x\": {\"field\": \"DATA\", \"timeUnit\": \"yearmonth\", \"title\": \"Data\", \"type\": \"temporal\"}, \"y\": {\"field\": \"Weighted_average\", \"title\": \"Tarifa m\\u00e9dia\", \"type\": \"quantitative\"}}}, {\"mark\": {\"type\": \"line\", \"color\": \"red\", \"opacity\": 0.3}, \"encoding\": {\"x\": {\"axis\": {\"labelAngle\": 325}, \"field\": \"DATA\", \"timeUnit\": \"yearmonth\", \"type\": \"temporal\"}, \"y\": {\"axis\": {\"grid\": true}, \"field\": \"PASSAGEIROS_PG\", \"type\": \"quantitative\"}}}], \"data\": {\"name\": \"data-5954dfb1e0a54c2119037466c0df9f41\"}, \"resolve\": {\"scale\": {\"y\": \"independent\"}}, \"width\": 600, \"$schema\": \"https://vega.github.io/schema/vega-lite/v4.17.0.json\", \"datasets\": {\"data-5954dfb1e0a54c2119037466c0df9f41\": [{\"ANO\": 2022, \"MES\": 10, \"TOTAL\": 2450901, \"Weighted_average\": 648.7533683010134, \"DATA\": \"2022-10-01T00:00:00\", \"PASSAGEIROS_PG\": 7193213.0}, {\"ANO\": 2012, \"MES\": 10, \"TOTAL\": 4443441, \"Weighted_average\": 567.5236231638822, \"DATA\": \"2012-10-01T00:00:00\", \"PASSAGEIROS_PG\": 7543259.0}, {\"ANO\": 2010, \"MES\": 12, \"TOTAL\": 3244644, \"Weighted_average\": 606.2917225013026, \"DATA\": \"2010-12-01T00:00:00\", \"PASSAGEIROS_PG\": 6536295.0}, {\"ANO\": 2010, \"MES\": 7, \"TOTAL\": 3769932, \"Weighted_average\": 560.4013025134553, \"DATA\": \"2010-07-01T00:00:00\", \"PASSAGEIROS_PG\": 6192611.0}, {\"ANO\": 2015, \"MES\": 2, \"TOTAL\": 4035571, \"Weighted_average\": 453.1414966546845, \"DATA\": \"2015-02-01T00:00:00\", \"PASSAGEIROS_PG\": 7331020.0}, {\"ANO\": 2019, \"MES\": 10, \"TOTAL\": 3387866, \"Weighted_average\": 566.6081736524822, \"DATA\": \"2019-10-01T00:00:00\", \"PASSAGEIROS_PG\": 8378879.0}, {\"ANO\": 2017, \"MES\": 3, \"TOTAL\": 3558829, \"Weighted_average\": 419.40652209786623, \"DATA\": \"2017-03-01T00:00:00\", \"PASSAGEIROS_PG\": 7437222.0}, {\"ANO\": 2017, \"MES\": 8, \"TOTAL\": 3440806, \"Weighted_average\": 483.6537228690032, \"DATA\": \"2017-08-01T00:00:00\", \"PASSAGEIROS_PG\": 7548690.0}, {\"ANO\": 2014, \"MES\": 4, \"TOTAL\": 4826291, \"Weighted_average\": 522.3922381884497, \"DATA\": \"2014-04-01T00:00:00\", \"PASSAGEIROS_PG\": 7678266.0}, {\"ANO\": 2020, \"MES\": 6, \"TOTAL\": 787037, \"Weighted_average\": 347.2303396900996, \"DATA\": \"2020-06-01T00:00:00\", \"PASSAGEIROS_PG\": 888727.0}, {\"ANO\": 2019, \"MES\": 5, \"TOTAL\": 3090420, \"Weighted_average\": 565.9292972862969, \"DATA\": \"2019-05-01T00:00:00\", \"PASSAGEIROS_PG\": 7095224.0}, {\"ANO\": 2017, \"MES\": 10, \"TOTAL\": 3556089, \"Weighted_average\": 522.3189454987189, \"DATA\": \"2017-10-01T00:00:00\", \"PASSAGEIROS_PG\": 7823157.0}, {\"ANO\": 2018, \"MES\": 10, \"TOTAL\": 3242480, \"Weighted_average\": 532.2681120793792, \"DATA\": \"2018-10-01T00:00:00\", \"PASSAGEIROS_PG\": 7993249.0}, {\"ANO\": 2021, \"MES\": 8, \"TOTAL\": 2457962, \"Weighted_average\": 609.7873685762827, \"DATA\": \"2021-08-01T00:00:00\", \"PASSAGEIROS_PG\": 5554490.0}, {\"ANO\": 2015, \"MES\": 12, \"TOTAL\": 3286404, \"Weighted_average\": 520.9024636241458, \"DATA\": \"2015-12-01T00:00:00\", \"PASSAGEIROS_PG\": 8468606.0}, {\"ANO\": 2016, \"MES\": 7, \"TOTAL\": 3245316, \"Weighted_average\": 469.32289518478916, \"DATA\": \"2016-07-01T00:00:00\", \"PASSAGEIROS_PG\": 8080928.0}, {\"ANO\": 2016, \"MES\": 11, \"TOTAL\": 3398252, \"Weighted_average\": 536.1056074827017, \"DATA\": \"2016-11-01T00:00:00\", \"PASSAGEIROS_PG\": 7208482.0}, {\"ANO\": 2021, \"MES\": 6, \"TOTAL\": 1886100, \"Weighted_average\": 460.79027873004355, \"DATA\": \"2021-06-01T00:00:00\", \"PASSAGEIROS_PG\": 4223526.0}, {\"ANO\": 2019, \"MES\": 3, \"TOTAL\": 3228948, \"Weighted_average\": 440.87090023331876, \"DATA\": \"2019-03-01T00:00:00\", \"PASSAGEIROS_PG\": 7741167.0}, {\"ANO\": 2021, \"MES\": 5, \"TOTAL\": 1682224, \"Weighted_average\": 468.0302538295827, \"DATA\": \"2021-05-01T00:00:00\", \"PASSAGEIROS_PG\": 3634018.0}, {\"ANO\": 2012, \"MES\": 8, \"TOTAL\": 4658578, \"Weighted_average\": 474.3134297245826, \"DATA\": \"2012-08-01T00:00:00\", \"PASSAGEIROS_PG\": 7586155.0}, {\"ANO\": 2013, \"MES\": 2, \"TOTAL\": 3341095, \"Weighted_average\": 558.2110287643438, \"DATA\": \"2013-02-01T00:00:00\", \"PASSAGEIROS_PG\": 6367976.0}, {\"ANO\": 2012, \"MES\": 4, \"TOTAL\": 4119297, \"Weighted_average\": 486.66429496184145, \"DATA\": \"2012-04-01T00:00:00\", \"PASSAGEIROS_PG\": 7278064.0}, {\"ANO\": 2012, \"MES\": 12, \"TOTAL\": 2897055, \"Weighted_average\": 698.7903910411354, \"DATA\": \"2012-12-01T00:00:00\", \"PASSAGEIROS_PG\": 7580832.0}, {\"ANO\": 2021, \"MES\": 10, \"TOTAL\": 3402952, \"Weighted_average\": 611.2294694837999, \"DATA\": \"2021-10-01T00:00:00\", \"PASSAGEIROS_PG\": 6470747.0}, {\"ANO\": 2020, \"MES\": 11, \"TOTAL\": 2714050, \"Weighted_average\": 461.68947218797484, \"DATA\": \"2020-11-01T00:00:00\", \"PASSAGEIROS_PG\": 4792028.0}, {\"ANO\": 2020, \"MES\": 3, \"TOTAL\": 2075689, \"Weighted_average\": 416.9917204253208, \"DATA\": \"2020-03-01T00:00:00\", \"PASSAGEIROS_PG\": 5033879.0}, {\"ANO\": 2018, \"MES\": 1, \"TOTAL\": 3366209, \"Weighted_average\": 486.7843635948531, \"DATA\": \"2018-01-01T00:00:00\", \"PASSAGEIROS_PG\": 8708156.0}, {\"ANO\": 2018, \"MES\": 3, \"TOTAL\": 3142734, \"Weighted_average\": 461.99962723600254, \"DATA\": \"2018-03-01T00:00:00\", \"PASSAGEIROS_PG\": 7483014.0}, {\"ANO\": 2014, \"MES\": 10, \"TOTAL\": 4571031, \"Weighted_average\": 530.3763700026116, \"DATA\": \"2014-10-01T00:00:00\", \"PASSAGEIROS_PG\": 8456229.0}, {\"ANO\": 2020, \"MES\": 9, \"TOTAL\": 1889955, \"Weighted_average\": 459.55079649741333, \"DATA\": \"2020-09-01T00:00:00\", \"PASSAGEIROS_PG\": 3031614.0}, {\"ANO\": 2016, \"MES\": 5, \"TOTAL\": 3495768, \"Weighted_average\": 422.25749851688516, \"DATA\": \"2016-05-01T00:00:00\", \"PASSAGEIROS_PG\": 6940986.0}, {\"ANO\": 2014, \"MES\": 12, \"TOTAL\": 3915556, \"Weighted_average\": 535.5540577660621, \"DATA\": \"2014-12-01T00:00:00\", \"PASSAGEIROS_PG\": 8862834.0}, {\"ANO\": 2018, \"MES\": 8, \"TOTAL\": 3066826, \"Weighted_average\": 498.2489725888574, \"DATA\": \"2018-08-01T00:00:00\", \"PASSAGEIROS_PG\": 7868040.0}, {\"ANO\": 2013, \"MES\": 9, \"TOTAL\": 4166660, \"Weighted_average\": 560.3161055177504, \"DATA\": \"2013-09-01T00:00:00\", \"PASSAGEIROS_PG\": 7459649.0}, {\"ANO\": 2022, \"MES\": 2, \"TOTAL\": 1837818, \"Weighted_average\": 518.3545384261243, \"DATA\": \"2022-02-01T00:00:00\", \"PASSAGEIROS_PG\": 5573305.0}, {\"ANO\": 2013, \"MES\": 10, \"TOTAL\": 4527674, \"Weighted_average\": 608.5158792483242, \"DATA\": \"2013-10-01T00:00:00\", \"PASSAGEIROS_PG\": 7915988.0}, {\"ANO\": 2014, \"MES\": 5, \"TOTAL\": 4839751, \"Weighted_average\": 497.2806941522635, \"DATA\": \"2014-05-01T00:00:00\", \"PASSAGEIROS_PG\": 7701521.0}, {\"ANO\": 2019, \"MES\": 8, \"TOTAL\": 3438698, \"Weighted_average\": 518.045155459181, \"DATA\": \"2019-08-01T00:00:00\", \"PASSAGEIROS_PG\": 7885930.0}, {\"ANO\": 2022, \"MES\": 7, \"TOTAL\": 1932906, \"Weighted_average\": 599.5996891300564, \"DATA\": \"2022-07-01T00:00:00\", \"PASSAGEIROS_PG\": 7652528.0}, {\"ANO\": 2021, \"MES\": 11, \"TOTAL\": 3792823, \"Weighted_average\": 570.6022953868905, \"DATA\": \"2021-11-01T00:00:00\", \"PASSAGEIROS_PG\": 6853464.0}, {\"ANO\": 2016, \"MES\": 2, \"TOTAL\": 3384919, \"Weighted_average\": 467.9416012597852, \"DATA\": \"2016-02-01T00:00:00\", \"PASSAGEIROS_PG\": 7093879.0}, {\"ANO\": 2019, \"MES\": 6, \"TOTAL\": 3248294, \"Weighted_average\": 519.2728410148449, \"DATA\": \"2019-06-01T00:00:00\", \"PASSAGEIROS_PG\": 6953744.0}, {\"ANO\": 2017, \"MES\": 7, \"TOTAL\": 3427314, \"Weighted_average\": 468.70346036031685, \"DATA\": \"2017-07-01T00:00:00\", \"PASSAGEIROS_PG\": 8309884.0}, {\"ANO\": 2014, \"MES\": 1, \"TOTAL\": 4623128, \"Weighted_average\": 554.5766428341955, \"DATA\": \"2014-01-01T00:00:00\", \"PASSAGEIROS_PG\": 8687955.0}, {\"ANO\": 2021, \"MES\": 9, \"TOTAL\": 3041819, \"Weighted_average\": 603.3248805730485, \"DATA\": \"2021-09-01T00:00:00\", \"PASSAGEIROS_PG\": 5940891.0}, {\"ANO\": 2013, \"MES\": 12, \"TOTAL\": 3790080, \"Weighted_average\": 601.6870962138461, \"DATA\": \"2013-12-01T00:00:00\", \"PASSAGEIROS_PG\": 8345201.0}, {\"ANO\": 2010, \"MES\": 11, \"TOTAL\": 3988839, \"Weighted_average\": 604.1208754513896, \"DATA\": \"2010-11-01T00:00:00\", \"PASSAGEIROS_PG\": 6024547.0}, {\"ANO\": 2011, \"MES\": 3, \"TOTAL\": 4099818, \"Weighted_average\": 472.7383445748529, \"DATA\": \"2011-03-01T00:00:00\", \"PASSAGEIROS_PG\": 6701626.0}, {\"ANO\": 2014, \"MES\": 8, \"TOTAL\": 4451889, \"Weighted_average\": 540.4772123651417, \"DATA\": \"2014-08-01T00:00:00\", \"PASSAGEIROS_PG\": 8026466.0}, {\"ANO\": 2019, \"MES\": 1, \"TOTAL\": 3496805, \"Weighted_average\": 477.71198086990523, \"DATA\": \"2019-01-01T00:00:00\", \"PASSAGEIROS_PG\": 8928030.0}, {\"ANO\": 2013, \"MES\": 3, \"TOTAL\": 3979300, \"Weighted_average\": 556.1908778017457, \"DATA\": \"2013-03-01T00:00:00\", \"PASSAGEIROS_PG\": 7082307.0}, {\"ANO\": 2013, \"MES\": 6, \"TOTAL\": 4300844, \"Weighted_average\": 553.1474399077197, \"DATA\": \"2013-06-01T00:00:00\", \"PASSAGEIROS_PG\": 7158535.0}, {\"ANO\": 2010, \"MES\": 6, \"TOTAL\": 1287370, \"Weighted_average\": 519.0609510663977, \"DATA\": \"2010-06-01T00:00:00\", \"PASSAGEIROS_PG\": 5409134.0}, {\"ANO\": 2022, \"MES\": 11, \"TOTAL\": 2456623, \"Weighted_average\": 641.6134401928867, \"DATA\": \"2022-11-01T00:00:00\", \"PASSAGEIROS_PG\": 7373862.0}, {\"ANO\": 2012, \"MES\": 9, \"TOTAL\": 4256977, \"Weighted_average\": 505.8052162245391, \"DATA\": \"2012-09-01T00:00:00\", \"PASSAGEIROS_PG\": 7467544.0}, {\"ANO\": 2012, \"MES\": 7, \"TOTAL\": 4820552, \"Weighted_average\": 497.65165568254184, \"DATA\": \"2012-07-01T00:00:00\", \"PASSAGEIROS_PG\": 8366604.0}, {\"ANO\": 2015, \"MES\": 4, \"TOTAL\": 4258956, \"Weighted_average\": 397.6733163274766, \"DATA\": \"2015-04-01T00:00:00\", \"PASSAGEIROS_PG\": 7903957.0}, {\"ANO\": 2015, \"MES\": 8, \"TOTAL\": 3851621, \"Weighted_average\": 523.7436266651162, \"DATA\": \"2015-08-01T00:00:00\", \"PASSAGEIROS_PG\": 7843384.0}, {\"ANO\": 2010, \"MES\": 5, \"TOTAL\": 1513525, \"Weighted_average\": 564.9033916012897, \"DATA\": \"2010-05-01T00:00:00\", \"PASSAGEIROS_PG\": 5297359.0}, {\"ANO\": 2019, \"MES\": 2, \"TOTAL\": 2701915, \"Weighted_average\": 484.87429759416904, \"DATA\": \"2019-02-01T00:00:00\", \"PASSAGEIROS_PG\": 7408048.0}, {\"ANO\": 2016, \"MES\": 9, \"TOTAL\": 2916480, \"Weighted_average\": 528.0414166124068, \"DATA\": \"2016-09-01T00:00:00\", \"PASSAGEIROS_PG\": 7051881.0}, {\"ANO\": 2022, \"MES\": 3, \"TOTAL\": 2078861, \"Weighted_average\": 675.2865362073026, \"DATA\": \"2022-03-01T00:00:00\", \"PASSAGEIROS_PG\": 6438609.0}, {\"ANO\": 2011, \"MES\": 2, \"TOTAL\": 3403989, \"Weighted_average\": 557.1561014981991, \"DATA\": \"2011-02-01T00:00:00\", \"PASSAGEIROS_PG\": 5749020.0}, {\"ANO\": 2010, \"MES\": 9, \"TOTAL\": 3693463, \"Weighted_average\": 560.0151856886496, \"DATA\": \"2010-09-01T00:00:00\", \"PASSAGEIROS_PG\": 6117785.0}, {\"ANO\": 2020, \"MES\": 12, \"TOTAL\": 1868805, \"Weighted_average\": 491.6545493887692, \"DATA\": \"2020-12-01T00:00:00\", \"PASSAGEIROS_PG\": 5643374.0}, {\"ANO\": 2011, \"MES\": 4, \"TOTAL\": 3652619, \"Weighted_average\": 494.33779510246643, \"DATA\": \"2011-04-01T00:00:00\", \"PASSAGEIROS_PG\": 6804681.0}, {\"ANO\": 2018, \"MES\": 5, \"TOTAL\": 3423203, \"Weighted_average\": 432.3827326842482, \"DATA\": \"2018-05-01T00:00:00\", \"PASSAGEIROS_PG\": 7297939.0}, {\"ANO\": 2021, \"MES\": 12, \"TOTAL\": 2421438, \"Weighted_average\": 522.9791799074773, \"DATA\": \"2021-12-01T00:00:00\", \"PASSAGEIROS_PG\": 7755712.0}, {\"ANO\": 2015, \"MES\": 11, \"TOTAL\": 4235254, \"Weighted_average\": 512.1816335415599, \"DATA\": \"2015-11-01T00:00:00\", \"PASSAGEIROS_PG\": 7609230.0}, {\"ANO\": 2011, \"MES\": 12, \"TOTAL\": 3658163, \"Weighted_average\": 604.5918796604941, \"DATA\": \"2011-12-01T00:00:00\", \"PASSAGEIROS_PG\": 7361542.0}, {\"ANO\": 2016, \"MES\": 10, \"TOTAL\": 3143825, \"Weighted_average\": 544.9798432922194, \"DATA\": \"2016-10-01T00:00:00\", \"PASSAGEIROS_PG\": 7255165.0}, {\"ANO\": 2021, \"MES\": 7, \"TOTAL\": 2141195, \"Weighted_average\": 523.4064485022835, \"DATA\": \"2021-07-01T00:00:00\", \"PASSAGEIROS_PG\": 5870873.0}, {\"ANO\": 2011, \"MES\": 8, \"TOTAL\": 4789194, \"Weighted_average\": 476.56143959907854, \"DATA\": \"2011-08-01T00:00:00\", \"PASSAGEIROS_PG\": 7012925.0}, {\"ANO\": 2015, \"MES\": 9, \"TOTAL\": 3674112, \"Weighted_average\": 546.6643378400486, \"DATA\": \"2015-09-01T00:00:00\", \"PASSAGEIROS_PG\": 7690983.0}, {\"ANO\": 2013, \"MES\": 7, \"TOTAL\": 4386910, \"Weighted_average\": 603.9015731812278, \"DATA\": \"2013-07-01T00:00:00\", \"PASSAGEIROS_PG\": 8139110.0}, {\"ANO\": 2017, \"MES\": 12, \"TOTAL\": 2745175, \"Weighted_average\": 568.7734511734867, \"DATA\": \"2017-12-01T00:00:00\", \"PASSAGEIROS_PG\": 8325098.0}, {\"ANO\": 2014, \"MES\": 9, \"TOTAL\": 4660215, \"Weighted_average\": 505.9186649909615, \"DATA\": \"2014-09-01T00:00:00\", \"PASSAGEIROS_PG\": 7797153.0}, {\"ANO\": 2020, \"MES\": 4, \"TOTAL\": 509942, \"Weighted_average\": 348.8099936576371, \"DATA\": \"2020-04-01T00:00:00\", \"PASSAGEIROS_PG\": 399557.0}, {\"ANO\": 2013, \"MES\": 4, \"TOTAL\": 5379835, \"Weighted_average\": 460.01043400639423, \"DATA\": \"2013-04-01T00:00:00\", \"PASSAGEIROS_PG\": 7079810.0}, {\"ANO\": 2017, \"MES\": 9, \"TOTAL\": 3419982, \"Weighted_average\": 497.8491583299996, \"DATA\": \"2017-09-01T00:00:00\", \"PASSAGEIROS_PG\": 7521381.0}, {\"ANO\": 2014, \"MES\": 3, \"TOTAL\": 4291257, \"Weighted_average\": 554.9314197763321, \"DATA\": \"2014-03-01T00:00:00\", \"PASSAGEIROS_PG\": 7602157.0}, {\"ANO\": 2015, \"MES\": 10, \"TOTAL\": 3737626, \"Weighted_average\": 553.9154277950907, \"DATA\": \"2015-10-01T00:00:00\", \"PASSAGEIROS_PG\": 7959664.0}, {\"ANO\": 2021, \"MES\": 3, \"TOTAL\": 1222017, \"Weighted_average\": 397.78808683993026, \"DATA\": \"2021-03-01T00:00:00\", \"PASSAGEIROS_PG\": 3220998.0}, {\"ANO\": 2016, \"MES\": 6, \"TOTAL\": 3487816, \"Weighted_average\": 445.72302473880376, \"DATA\": \"2016-06-01T00:00:00\", \"PASSAGEIROS_PG\": 6789477.0}, {\"ANO\": 2013, \"MES\": 11, \"TOTAL\": 5457715, \"Weighted_average\": 546.7261512510714, \"DATA\": \"2013-11-01T00:00:00\", \"PASSAGEIROS_PG\": 7782969.0}, {\"ANO\": 2011, \"MES\": 5, \"TOTAL\": 4167279, \"Weighted_average\": 517.7160324000245, \"DATA\": \"2011-05-01T00:00:00\", \"PASSAGEIROS_PG\": 6579144.0}, {\"ANO\": 2013, \"MES\": 5, \"TOTAL\": 4502043, \"Weighted_average\": 503.79078794127025, \"DATA\": \"2013-05-01T00:00:00\", \"PASSAGEIROS_PG\": 7290920.0}, {\"ANO\": 2021, \"MES\": 2, \"TOTAL\": 1443330, \"Weighted_average\": 476.56704525656943, \"DATA\": \"2021-02-01T00:00:00\", \"PASSAGEIROS_PG\": 4325239.0}, {\"ANO\": 2011, \"MES\": 7, \"TOTAL\": 4986736, \"Weighted_average\": 435.71981828092373, \"DATA\": \"2011-07-01T00:00:00\", \"PASSAGEIROS_PG\": 7642429.0}, {\"ANO\": 2010, \"MES\": 8, \"TOTAL\": 3541842, \"Weighted_average\": 514.7706370739218, \"DATA\": \"2010-08-01T00:00:00\", \"PASSAGEIROS_PG\": 6068433.0}, {\"ANO\": 2016, \"MES\": 12, \"TOTAL\": 2839457, \"Weighted_average\": 494.65008249432117, \"DATA\": \"2016-12-01T00:00:00\", \"PASSAGEIROS_PG\": 7935092.0}, {\"ANO\": 2014, \"MES\": 2, \"TOTAL\": 3772074, \"Weighted_average\": 589.707423401352, \"DATA\": \"2014-02-01T00:00:00\", \"PASSAGEIROS_PG\": 7239845.0}, {\"ANO\": 2016, \"MES\": 1, \"TOTAL\": 4106748, \"Weighted_average\": 469.4230421458965, \"DATA\": \"2016-01-01T00:00:00\", \"PASSAGEIROS_PG\": 8888461.0}, {\"ANO\": 2012, \"MES\": 11, \"TOTAL\": 3867037, \"Weighted_average\": 667.9584560152775, \"DATA\": \"2012-11-01T00:00:00\", \"PASSAGEIROS_PG\": 7290710.0}, {\"ANO\": 2016, \"MES\": 4, \"TOTAL\": 3483048, \"Weighted_average\": 430.10584075696755, \"DATA\": \"2016-04-01T00:00:00\", \"PASSAGEIROS_PG\": 6827430.0}, {\"ANO\": 2020, \"MES\": 1, \"TOTAL\": 3400662, \"Weighted_average\": 449.61138469447525, \"DATA\": \"2020-01-01T00:00:00\", \"PASSAGEIROS_PG\": 9303406.0}, {\"ANO\": 2014, \"MES\": 6, \"TOTAL\": 3651053, \"Weighted_average\": 497.67602910568604, \"DATA\": \"2014-06-01T00:00:00\", \"PASSAGEIROS_PG\": 7240996.0}, {\"ANO\": 2011, \"MES\": 6, \"TOTAL\": 4175795, \"Weighted_average\": 530.0672775350382, \"DATA\": \"2011-06-01T00:00:00\", \"PASSAGEIROS_PG\": 6320309.0}, {\"ANO\": 2019, \"MES\": 4, \"TOTAL\": 2639828, \"Weighted_average\": 557.6415721975362, \"DATA\": \"2019-04-01T00:00:00\", \"PASSAGEIROS_PG\": 7335763.0}, {\"ANO\": 2017, \"MES\": 4, \"TOTAL\": 2974308, \"Weighted_average\": 434.3886829126403, \"DATA\": \"2017-04-01T00:00:00\", \"PASSAGEIROS_PG\": 6900233.0}, {\"ANO\": 2010, \"MES\": 10, \"TOTAL\": 4085497, \"Weighted_average\": 560.0760555409479, \"DATA\": \"2010-10-01T00:00:00\", \"PASSAGEIROS_PG\": 6285943.0}, {\"ANO\": 2015, \"MES\": 3, \"TOTAL\": 5382796, \"Weighted_average\": 419.7861683866818, \"DATA\": \"2015-03-01T00:00:00\", \"PASSAGEIROS_PG\": 7839580.0}, {\"ANO\": 2011, \"MES\": 11, \"TOTAL\": 4218568, \"Weighted_average\": 619.3124477213161, \"DATA\": \"2011-11-01T00:00:00\", \"PASSAGEIROS_PG\": 6825352.0}, {\"ANO\": 2010, \"MES\": 2, \"TOTAL\": 1305297, \"Weighted_average\": 540.2743391696175, \"DATA\": \"2010-02-01T00:00:00\", \"PASSAGEIROS_PG\": 5100368.0}, {\"ANO\": 2010, \"MES\": 3, \"TOTAL\": 1548027, \"Weighted_average\": 582.0014724035743, \"DATA\": \"2010-03-01T00:00:00\", \"PASSAGEIROS_PG\": 5576176.0}, {\"ANO\": 2019, \"MES\": 9, \"TOTAL\": 3427642, \"Weighted_average\": 505.94288814861335, \"DATA\": \"2019-09-01T00:00:00\", \"PASSAGEIROS_PG\": 7809152.0}, {\"ANO\": 2020, \"MES\": 8, \"TOTAL\": 1519742, \"Weighted_average\": 393.40592592736283, \"DATA\": \"2020-08-01T00:00:00\", \"PASSAGEIROS_PG\": 2198248.0}, {\"ANO\": 2012, \"MES\": 1, \"TOTAL\": 4156341, \"Weighted_average\": 566.9729475735112, \"DATA\": \"2012-01-01T00:00:00\", \"PASSAGEIROS_PG\": 7788360.0}, {\"ANO\": 2022, \"MES\": 1, \"TOTAL\": 2113321, \"Weighted_average\": 506.0135571235609, \"DATA\": \"2022-01-01T00:00:00\", \"PASSAGEIROS_PG\": 7494959.0}, {\"ANO\": 2018, \"MES\": 9, \"TOTAL\": 3235904, \"Weighted_average\": 492.6700387380644, \"DATA\": \"2018-09-01T00:00:00\", \"PASSAGEIROS_PG\": 7613316.0}, {\"ANO\": 2022, \"MES\": 5, \"TOTAL\": 2274789, \"Weighted_average\": 692.3496904928099, \"DATA\": \"2022-05-01T00:00:00\", \"PASSAGEIROS_PG\": 6386767.0}, {\"ANO\": 2021, \"MES\": 1, \"TOTAL\": 1858809, \"Weighted_average\": 419.997695687014, \"DATA\": \"2021-01-01T00:00:00\", \"PASSAGEIROS_PG\": 6092177.0}, {\"ANO\": 2015, \"MES\": 7, \"TOTAL\": 3908848, \"Weighted_average\": 525.430917474932, \"DATA\": \"2015-07-01T00:00:00\", \"PASSAGEIROS_PG\": 8979138.0}, {\"ANO\": 2019, \"MES\": 12, \"TOTAL\": 2585896, \"Weighted_average\": 537.3153593880785, \"DATA\": \"2019-12-01T00:00:00\", \"PASSAGEIROS_PG\": 8874096.0}, {\"ANO\": 2012, \"MES\": 2, \"TOTAL\": 3367085, \"Weighted_average\": 568.7709749263887, \"DATA\": \"2012-02-01T00:00:00\", \"PASSAGEIROS_PG\": 6543865.0}, {\"ANO\": 2018, \"MES\": 7, \"TOTAL\": 3218317, \"Weighted_average\": 465.0096331886524, \"DATA\": \"2018-07-01T00:00:00\", \"PASSAGEIROS_PG\": 8857166.0}, {\"ANO\": 2020, \"MES\": 7, \"TOTAL\": 1341775, \"Weighted_average\": 319.8089003049232, \"DATA\": \"2020-07-01T00:00:00\", \"PASSAGEIROS_PG\": 1617861.0}, {\"ANO\": 2015, \"MES\": 6, \"TOTAL\": 3892446, \"Weighted_average\": 480.3856766701833, \"DATA\": \"2015-06-01T00:00:00\", \"PASSAGEIROS_PG\": 7438774.0}, {\"ANO\": 2014, \"MES\": 11, \"TOTAL\": 5029709, \"Weighted_average\": 549.4792518908296, \"DATA\": \"2014-11-01T00:00:00\", \"PASSAGEIROS_PG\": 8218004.0}, {\"ANO\": 2020, \"MES\": 2, \"TOTAL\": 3006099, \"Weighted_average\": 458.56388851616896, \"DATA\": \"2020-02-01T00:00:00\", \"PASSAGEIROS_PG\": 7671502.0}, {\"ANO\": 2020, \"MES\": 10, \"TOTAL\": 2106124, \"Weighted_average\": 510.97556348823434, \"DATA\": \"2020-10-01T00:00:00\", \"PASSAGEIROS_PG\": 4101615.0}, {\"ANO\": 2022, \"MES\": 6, \"TOTAL\": 2319374, \"Weighted_average\": 630.2273937932163, \"DATA\": \"2022-06-01T00:00:00\", \"PASSAGEIROS_PG\": 6035778.0}, {\"ANO\": 2018, \"MES\": 12, \"TOTAL\": 2498232, \"Weighted_average\": 564.4445861323532, \"DATA\": \"2018-12-01T00:00:00\", \"PASSAGEIROS_PG\": 8596550.0}, {\"ANO\": 2018, \"MES\": 11, \"TOTAL\": 3589678, \"Weighted_average\": 521.6263463219661, \"DATA\": \"2018-11-01T00:00:00\", \"PASSAGEIROS_PG\": 7869150.0}, {\"ANO\": 2010, \"MES\": 4, \"TOTAL\": 1525852, \"Weighted_average\": 538.4037015915682, \"DATA\": \"2010-04-01T00:00:00\", \"PASSAGEIROS_PG\": 5370847.0}, {\"ANO\": 2012, \"MES\": 3, \"TOTAL\": 4913493, \"Weighted_average\": 490.6457223034886, \"DATA\": \"2012-03-01T00:00:00\", \"PASSAGEIROS_PG\": 6969986.0}, {\"ANO\": 2011, \"MES\": 10, \"TOTAL\": 4074656, \"Weighted_average\": 583.4315419479045, \"DATA\": \"2011-10-01T00:00:00\", \"PASSAGEIROS_PG\": 6974437.0}, {\"ANO\": 2012, \"MES\": 5, \"TOTAL\": 4780002, \"Weighted_average\": 472.3170654015189, \"DATA\": \"2012-05-01T00:00:00\", \"PASSAGEIROS_PG\": 7043117.0}, {\"ANO\": 2013, \"MES\": 1, \"TOTAL\": 3832488, \"Weighted_average\": 585.0686261685191, \"DATA\": \"2013-01-01T00:00:00\", \"PASSAGEIROS_PG\": 7915161.0}, {\"ANO\": 2018, \"MES\": 6, \"TOTAL\": 3549779, \"Weighted_average\": 390.5666756015676, \"DATA\": \"2018-06-01T00:00:00\", \"PASSAGEIROS_PG\": 7161574.0}, {\"ANO\": 2013, \"MES\": 8, \"TOTAL\": 4362957, \"Weighted_average\": 580.6733890126382, \"DATA\": \"2013-08-01T00:00:00\", \"PASSAGEIROS_PG\": 7423727.0}, {\"ANO\": 2016, \"MES\": 8, \"TOTAL\": 3311879, \"Weighted_average\": 470.0634502989427, \"DATA\": \"2016-08-01T00:00:00\", \"PASSAGEIROS_PG\": 7346204.0}, {\"ANO\": 2017, \"MES\": 2, \"TOTAL\": 2957363, \"Weighted_average\": 434.4068542800877, \"DATA\": \"2017-02-01T00:00:00\", \"PASSAGEIROS_PG\": 6610719.0}, {\"ANO\": 2017, \"MES\": 11, \"TOTAL\": 3574510, \"Weighted_average\": 514.500186984092, \"DATA\": \"2017-11-01T00:00:00\", \"PASSAGEIROS_PG\": 7561196.0}, {\"ANO\": 2015, \"MES\": 1, \"TOTAL\": 4706746, \"Weighted_average\": 499.8882840928504, \"DATA\": \"2015-01-01T00:00:00\", \"PASSAGEIROS_PG\": 9322736.0}, {\"ANO\": 2017, \"MES\": 5, \"TOTAL\": 3384135, \"Weighted_average\": 420.8972610640587, \"DATA\": \"2017-05-01T00:00:00\", \"PASSAGEIROS_PG\": 7095444.0}, {\"ANO\": 2022, \"MES\": 9, \"TOTAL\": 2124662, \"Weighted_average\": 707.4914147093634, \"DATA\": \"2022-09-01T00:00:00\", \"PASSAGEIROS_PG\": 6954582.0}, {\"ANO\": 2011, \"MES\": 1, \"TOTAL\": 3914722, \"Weighted_average\": 526.5778381781453, \"DATA\": \"2011-01-01T00:00:00\", \"PASSAGEIROS_PG\": 7049860.0}, {\"ANO\": 2015, \"MES\": 5, \"TOTAL\": 4244397, \"Weighted_average\": 444.81688384290004, \"DATA\": \"2015-05-01T00:00:00\", \"PASSAGEIROS_PG\": 7705983.0}, {\"ANO\": 2019, \"MES\": 7, \"TOTAL\": 3247320, \"Weighted_average\": 522.3505128770854, \"DATA\": \"2019-07-01T00:00:00\", \"PASSAGEIROS_PG\": 8550743.0}, {\"ANO\": 2018, \"MES\": 2, \"TOTAL\": 2709722, \"Weighted_average\": 464.8390639884485, \"DATA\": \"2018-02-01T00:00:00\", \"PASSAGEIROS_PG\": 6870803.0}, {\"ANO\": 2019, \"MES\": 11, \"TOTAL\": 3986521, \"Weighted_average\": 486.4382583599887, \"DATA\": \"2019-11-01T00:00:00\", \"PASSAGEIROS_PG\": 8088018.0}, {\"ANO\": 2020, \"MES\": 5, \"TOTAL\": 461570, \"Weighted_average\": 387.3900707163632, \"DATA\": \"2020-05-01T00:00:00\", \"PASSAGEIROS_PG\": 539972.0}, {\"ANO\": 2012, \"MES\": 6, \"TOTAL\": 4591935, \"Weighted_average\": 488.9729010928056, \"DATA\": \"2012-06-01T00:00:00\", \"PASSAGEIROS_PG\": 7014185.0}, {\"ANO\": 2010, \"MES\": 1, \"TOTAL\": 1077470, \"Weighted_average\": 649.2178627806932, \"DATA\": \"2010-01-01T00:00:00\", \"PASSAGEIROS_PG\": 5988664.0}, {\"ANO\": 2017, \"MES\": 6, \"TOTAL\": 3379755, \"Weighted_average\": 435.302841761317, \"DATA\": \"2017-06-01T00:00:00\", \"PASSAGEIROS_PG\": 6916058.0}, {\"ANO\": 2022, \"MES\": 4, \"TOTAL\": 2022845, \"Weighted_average\": 675.7092120328956, \"DATA\": \"2022-04-01T00:00:00\", \"PASSAGEIROS_PG\": 6144624.0}, {\"ANO\": 2021, \"MES\": 4, \"TOTAL\": 1360092, \"Weighted_average\": 372.7992384578674, \"DATA\": \"2021-04-01T00:00:00\", \"PASSAGEIROS_PG\": 2641558.0}, {\"ANO\": 2017, \"MES\": 1, \"TOTAL\": 3301463, \"Weighted_average\": 463.627946853138, \"DATA\": \"2017-01-01T00:00:00\", \"PASSAGEIROS_PG\": 8527709.0}, {\"ANO\": 2011, \"MES\": 9, \"TOTAL\": 4221642, \"Weighted_average\": 554.7629009210475, \"DATA\": \"2011-09-01T00:00:00\", \"PASSAGEIROS_PG\": 6882386.0}, {\"ANO\": 2022, \"MES\": 12, \"TOTAL\": 1826543, \"Weighted_average\": 650.8179248121654, \"DATA\": \"2022-12-01T00:00:00\", \"PASSAGEIROS_PG\": 7688300.0}, {\"ANO\": 2014, \"MES\": 7, \"TOTAL\": 4933521, \"Weighted_average\": 516.6036173906024, \"DATA\": \"2014-07-01T00:00:00\", \"PASSAGEIROS_PG\": 8315205.0}, {\"ANO\": 2018, \"MES\": 4, \"TOTAL\": 3434089, \"Weighted_average\": 424.45745672608564, \"DATA\": \"2018-04-01T00:00:00\", \"PASSAGEIROS_PG\": 7290017.0}, {\"ANO\": 2022, \"MES\": 8, \"TOTAL\": 2080709, \"Weighted_average\": 694.48644680362, \"DATA\": \"2022-08-01T00:00:00\", \"PASSAGEIROS_PG\": 7292418.0}, {\"ANO\": 2016, \"MES\": 3, \"TOTAL\": 3828383, \"Weighted_average\": 450.5754887192791, \"DATA\": \"2016-03-01T00:00:00\", \"PASSAGEIROS_PG\": 7177404.0}]}}, {\"mode\": \"vega-lite\"});\n",
       "</script>"
      ],
      "text/plain": [
       "alt.LayerChart(...)"
      ]
     },
     "execution_count": 23,
     "metadata": {},
     "output_type": "execute_result"
    }
   ],
   "source": [
    "df_finallt.Chart(df_final[df_final[\"DATA\"].dt.year >= 2010]).encode(x=alt.X(\"yearmonth(DATA):T\", axis=alt.Axis(labelAngle=325)))\n",
    "\n",
    "bar = base.mark_bar().encode(\n",
    "    alt.X('yearmonth(DATA):T', title=\"Data\"),\n",
    "    alt.Y(\"Weighted_average\", title=\"Tarifa média\"),\n",
    "    tooltip = [\"DATA\", \"Weighted_average\"],\n",
    ")\n",
    "line =  base.mark_line(\n",
    "    color=\"red\",\n",
    "    opacity=0.3,\n",
    ").encode(y=alt.Y('PASSAGEIROS_PG:Q', axis=alt.Axis(grid=True)))\n",
    "\n",
    "(bar + line).resolve_scale(y='independent').properties(width=600)"
   ]
  },
  {
   "cell_type": "markdown",
   "id": "22204d2f-3898-48e4-8985-53cd6f898cce",
   "metadata": {},
   "source": []
  },
  {
   "cell_type": "markdown",
   "id": "f9dae830-f6cb-498b-8c34-d7bef677ab2f",
   "metadata": {
    "tags": []
   },
   "source": [
    "## Tarifa por companhia aérea\n",
    "- Criar gráfico por companhia aérea\n",
    "\n",
    "Um gráfico interativo com a variação da tarifas por companhia aérea. Ver o que tá pegando com elas. \n"
   ]
  },
  {
   "cell_type": "code",
   "execution_count": 105,
   "id": "a5b56693-4982-4cfc-af86-74869e7b84b6",
   "metadata": {
    "tags": []
   },
   "outputs": [],
   "source": [
    "data = sdf.groupby(\"ANO\", \"MES\", \"EMPRESA\").agg(\n",
    "    f.sum(\"ASSENTOS\").alias(\"TOTAL\"),\n",
    "    f.collect_list(f.col('REAL')),\n",
    "    f.collect_list(f.col('ASSENTOS')),\n",
    ")\n",
    "\n",
    "#precisamos de uma média ponderada para calcular a real representatividade das tarifas considerando o número de assentos. \n",
    "def get_average(values, weights):\n",
    "    return float(np.average(values, weights=weights)) \n",
    "\n",
    "waverage = f.udf(get_average, DoubleType())    # registering as udf here\n",
    "\n",
    "data = data.withColumn(\n",
    "    'Weighted_average',\n",
    "    waverage(\n",
    "        f.col(\"collect_list(REAL)\"), f.col(\"collect_list(ASSENTOS)\")\n",
    "    )\n",
    ")"
   ]
  },
  {
   "cell_type": "code",
   "execution_count": 106,
   "id": "393d5074-d947-41a4-b37a-8b6de66b5724",
   "metadata": {
    "tags": []
   },
   "outputs": [
    {
     "data": {
      "text/plain": [
       "DataFrame[ANO: int, MES: int, EMPRESA: string, TOTAL: bigint, collect_list(REAL): array<float>, collect_list(ASSENTOS): array<int>, Weighted_average: double]"
      ]
     },
     "execution_count": 106,
     "metadata": {},
     "output_type": "execute_result"
    }
   ],
   "source": [
    "data.cache() "
   ]
  },
  {
   "cell_type": "code",
   "execution_count": 107,
   "id": "d99c7929-82e2-41a4-9516-d96029c7e3ce",
   "metadata": {
    "tags": []
   },
   "outputs": [
    {
     "name": "stderr",
     "output_type": "stream",
     "text": [
      "                                                                                \r"
     ]
    },
    {
     "name": "stdout",
     "output_type": "stream",
     "text": [
      "+----+---+-------+-------+--------------------+----------------------+------------------+\n",
      "| ANO|MES|EMPRESA|  TOTAL|  collect_list(REAL)|collect_list(ASSENTOS)|  Weighted_average|\n",
      "+----+---+-------+-------+--------------------+----------------------+------------------+\n",
      "|2020| 11|    GLO|1057681|[173.06, 345.13, ...|  [5, 4, 7, 6, 1, 2...|417.92075735587053|\n",
      "|2019|  5|    PTB|  22403|[230.52, 247.42, ...|  [2, 4, 1, 1, 2, 1...| 590.2505963560524|\n",
      "|2017|  4|    TAM| 923121|[1007.02, 164.47,...|  [1, 2, 1, 1, 1, 2...| 373.7151826089778|\n",
      "+----+---+-------+-------+--------------------+----------------------+------------------+\n",
      "\n"
     ]
    }
   ],
   "source": [
    "data.limit(3).show()"
   ]
  },
  {
   "cell_type": "code",
   "execution_count": null,
   "id": "ef8f151a-5c2a-4234-aba9-7bd3537a3f6c",
   "metadata": {},
   "outputs": [],
   "source": []
  },
  {
   "cell_type": "markdown",
   "id": "31dc9dc0-1525-4c8c-8408-305103eb5b3f",
   "metadata": {},
   "source": [
    "## Tarifa por faixa de preço\n",
    "Vou criar um gráfico parecido com o que a Anac fez. \n"
   ]
  },
  {
   "cell_type": "code",
   "execution_count": 157,
   "id": "c4804bfd-0fb9-4de0-8492-140bd25fe064",
   "metadata": {
    "tags": []
   },
   "outputs": [],
   "source": [
    "#aqui eu vou criar um gráfico parecido com o da anac, mas com possibilidade de trocar os dados. "
   ]
  },
  {
   "cell_type": "markdown",
   "id": "0d687301-87ca-46bb-b5de-67b2520f6fb7",
   "metadata": {},
   "source": [
    "## Tarifa por Rota - Foco Ponte Aérea Rio SP "
   ]
  },
  {
   "cell_type": "code",
   "execution_count": null,
   "id": "769c122f-44f5-4e36-a005-09b2d07f71bb",
   "metadata": {},
   "outputs": [],
   "source": []
  },
  {
   "cell_type": "markdown",
   "id": "81d052bb-bd4a-41ad-87d5-6f0adcc23cac",
   "metadata": {
    "tags": []
   },
   "source": [
    "### Gráfico apenas com valores das tarifas no passar do tempo"
   ]
  },
  {
   "cell_type": "code",
   "execution_count": null,
   "id": "162c8dad-756a-4b07-b2d3-30200ade2837",
   "metadata": {},
   "outputs": [],
   "source": []
  },
  {
   "cell_type": "markdown",
   "id": "0b7f58d9-2660-4805-80ed-b5aaa023950f",
   "metadata": {},
   "source": [
    "### Gráfico com divisão das tarifas no trecho por valores."
   ]
  },
  {
   "cell_type": "code",
   "execution_count": null,
   "id": "99824fe7-b91f-4017-ac1e-222668db7214",
   "metadata": {},
   "outputs": [],
   "source": []
  },
  {
   "cell_type": "code",
   "execution_count": null,
   "id": "ebcc0a24-c9b0-4780-890d-ddfac6a6ed80",
   "metadata": {},
   "outputs": [],
   "source": []
  },
  {
   "cell_type": "markdown",
   "id": "52e39431-bb76-4382-99ae-61e425fd6a6c",
   "metadata": {},
   "source": [
    "# Referências\n",
    "- Docker Pyspark: https://github.com/mrn-aglic/spark-standalone-cluster\n",
    "- Calculo da Variação pelo IPCA: https://estudaradm.com.br/macroeconomia/calcular-inflacao-acumulada-em-12-meses-exemplos-e-exercicios/?unapproved=1687&moderation-hash=42b2b86a1784537b7b5a3c2fa55d719e#comment-1687 (OBS: obrigado especial ao criador desta publicação. Todos os blogs que eu li falando que iriam ensinar a deflacionar um número apenas usavam a calculadora do BC)"
   ]
  },
  {
   "cell_type": "markdown",
   "id": "2d906554-20e3-47a0-91b8-201206741c2e",
   "metadata": {},
   "source": [
    "# Daqui para baixo eu preciso arrumar"
   ]
  },
  {
   "cell_type": "code",
   "execution_count": null,
   "id": "f0444093-bec9-499a-b23d-2e1794e7cbd0",
   "metadata": {
    "tags": []
   },
   "outputs": [],
   "source": [
    "df_final[df_final[\"MES\"] == 10].sort_values(\"ANO\", ascending=False)"
   ]
  },
  {
   "cell_type": "code",
   "execution_count": null,
   "id": "40e8ed66-d9f4-44ce-813d-b551603932dc",
   "metadata": {},
   "outputs": [],
   "source": []
  },
  {
   "cell_type": "code",
   "execution_count": null,
   "id": "0e50dee6-95dc-483a-95bf-ee51d0b8a66c",
   "metadata": {},
   "outputs": [],
   "source": []
  },
  {
   "cell_type": "markdown",
   "id": "9c9413a6-5355-42af-a328-700ace95e276",
   "metadata": {
    "tags": []
   },
   "source": [
    "# Fechando aqui"
   ]
  },
  {
   "cell_type": "code",
   "execution_count": 1,
   "id": "1ccfd1fc-72f4-4b61-ba98-b7a4eab0b230",
   "metadata": {
    "tags": []
   },
   "outputs": [],
   "source": [
    "import pandas as pd\n",
    "import numpy as np"
   ]
  },
  {
   "cell_type": "code",
   "execution_count": 119,
   "id": "f03acaa4-3685-40d4-8f31-ad6cc02cb391",
   "metadata": {
    "tags": []
   },
   "outputs": [],
   "source": [
    "from monetary_correction import MonetaryCorrection"
   ]
  },
  {
   "cell_type": "code",
   "execution_count": 4,
   "id": "4a838c81-76fd-49ec-bc3f-17b1f3bcf518",
   "metadata": {
    "tags": []
   },
   "outputs": [],
   "source": [
    "corretor = ipca"
   ]
  },
  {
   "cell_type": "code",
   "execution_count": null,
   "id": "e8c08bc1-f434-42ba-95a4-7ecb3eee2752",
   "metadata": {},
   "outputs": [],
   "source": []
  },
  {
   "cell_type": "markdown",
   "id": "b385bd8e-73a0-4c3f-bf42-3ef05a37c2b1",
   "metadata": {
    "tags": []
   },
   "source": [
    "# Outubro"
   ]
  },
  {
   "cell_type": "code",
   "execution_count": null,
   "id": "7d26abf2-1f5f-4590-9564-86b3a08d134b",
   "metadata": {},
   "outputs": [],
   "source": []
  },
  {
   "cell_type": "code",
   "execution_count": 161,
   "id": "9b0235e1-aaa1-43f0-b999-f4cfa9d911c7",
   "metadata": {
    "tags": []
   },
   "outputs": [],
   "source": []
  },
  {
   "cell_type": "code",
   "execution_count": 162,
   "id": "d2cab35b-c72d-4f93-9eec-9db20fb5d05b",
   "metadata": {
    "collapsed": true,
    "jupyter": {
     "outputs_hidden": true
    },
    "tags": []
   },
   "outputs": [
    {
     "ename": "KeyboardInterrupt",
     "evalue": "",
     "output_type": "error",
     "traceback": [
      "\u001b[0;31m---------------------------------------------------------------------------\u001b[0m",
      "\u001b[0;31mKeyboardInterrupt\u001b[0m                         Traceback (most recent call last)",
      "Cell \u001b[0;32mIn[162], line 1\u001b[0m\n\u001b[0;32m----> 1\u001b[0m outubro[\u001b[38;5;124m'\u001b[39m\u001b[38;5;124mREAL\u001b[39m\u001b[38;5;124m'\u001b[39m] \u001b[38;5;241m=\u001b[39m \u001b[43moutubro\u001b[49m\u001b[38;5;241;43m.\u001b[39;49m\u001b[43mapply\u001b[49m\u001b[43m(\u001b[49m\u001b[38;5;28;43;01mlambda\u001b[39;49;00m\u001b[43m \u001b[49m\u001b[43mrow\u001b[49m\u001b[43m:\u001b[49m\u001b[43m \u001b[49m\u001b[43mcorretor\u001b[49m\u001b[43m(\u001b[49m\u001b[43mrow\u001b[49m\u001b[43m[\u001b[49m\u001b[38;5;124;43m\"\u001b[39;49m\u001b[38;5;124;43mTARIFA\u001b[39;49m\u001b[38;5;124;43m\"\u001b[39;49m\u001b[43m]\u001b[49m\u001b[43m,\u001b[49m\u001b[43m \u001b[49m\u001b[38;5;124;43mf\u001b[39;49m\u001b[38;5;124;43m\"\u001b[39;49m\u001b[38;5;132;43;01m{\u001b[39;49;00m\u001b[38;5;28;43mint\u001b[39;49m\u001b[43m(\u001b[49m\u001b[43mrow\u001b[49m\u001b[38;5;241;43m.\u001b[39;49m\u001b[43mMES\u001b[49m\u001b[43m)\u001b[49m\u001b[38;5;132;43;01m}\u001b[39;49;00m\u001b[38;5;124;43m/\u001b[39;49m\u001b[38;5;132;43;01m{\u001b[39;49;00m\u001b[38;5;28;43mint\u001b[39;49m\u001b[43m(\u001b[49m\u001b[43mrow\u001b[49m\u001b[38;5;241;43m.\u001b[39;49m\u001b[43mANO\u001b[49m\u001b[43m)\u001b[49m\u001b[38;5;132;43;01m}\u001b[39;49;00m\u001b[38;5;124;43m\"\u001b[39;49m\u001b[43m,\u001b[49m\u001b[43m \u001b[49m\u001b[38;5;124;43m\"\u001b[39;49m\u001b[38;5;124;43m12/2022\u001b[39;49m\u001b[38;5;124;43m\"\u001b[39;49m\u001b[43m)\u001b[49m\u001b[43m[\u001b[49m\u001b[38;5;241;43m0\u001b[39;49m\u001b[43m]\u001b[49m\u001b[43m,\u001b[49m\u001b[43m \u001b[49m\u001b[43maxis\u001b[49m\u001b[38;5;241;43m=\u001b[39;49m\u001b[38;5;241;43m1\u001b[39;49m\u001b[43m)\u001b[49m \n",
      "File \u001b[0;32m/usr/local/lib/python3.10/site-packages/pandas/core/frame.py:9568\u001b[0m, in \u001b[0;36mDataFrame.apply\u001b[0;34m(self, func, axis, raw, result_type, args, **kwargs)\u001b[0m\n\u001b[1;32m   9557\u001b[0m \u001b[38;5;28;01mfrom\u001b[39;00m \u001b[38;5;21;01mpandas\u001b[39;00m\u001b[38;5;21;01m.\u001b[39;00m\u001b[38;5;21;01mcore\u001b[39;00m\u001b[38;5;21;01m.\u001b[39;00m\u001b[38;5;21;01mapply\u001b[39;00m \u001b[38;5;28;01mimport\u001b[39;00m frame_apply\n\u001b[1;32m   9559\u001b[0m op \u001b[38;5;241m=\u001b[39m frame_apply(\n\u001b[1;32m   9560\u001b[0m     \u001b[38;5;28mself\u001b[39m,\n\u001b[1;32m   9561\u001b[0m     func\u001b[38;5;241m=\u001b[39mfunc,\n\u001b[0;32m   (...)\u001b[0m\n\u001b[1;32m   9566\u001b[0m     kwargs\u001b[38;5;241m=\u001b[39mkwargs,\n\u001b[1;32m   9567\u001b[0m )\n\u001b[0;32m-> 9568\u001b[0m \u001b[38;5;28;01mreturn\u001b[39;00m \u001b[43mop\u001b[49m\u001b[38;5;241;43m.\u001b[39;49m\u001b[43mapply\u001b[49m\u001b[43m(\u001b[49m\u001b[43m)\u001b[49m\u001b[38;5;241m.\u001b[39m__finalize__(\u001b[38;5;28mself\u001b[39m, method\u001b[38;5;241m=\u001b[39m\u001b[38;5;124m\"\u001b[39m\u001b[38;5;124mapply\u001b[39m\u001b[38;5;124m\"\u001b[39m)\n",
      "File \u001b[0;32m/usr/local/lib/python3.10/site-packages/pandas/core/apply.py:764\u001b[0m, in \u001b[0;36mFrameApply.apply\u001b[0;34m(self)\u001b[0m\n\u001b[1;32m    761\u001b[0m \u001b[38;5;28;01melif\u001b[39;00m \u001b[38;5;28mself\u001b[39m\u001b[38;5;241m.\u001b[39mraw:\n\u001b[1;32m    762\u001b[0m     \u001b[38;5;28;01mreturn\u001b[39;00m \u001b[38;5;28mself\u001b[39m\u001b[38;5;241m.\u001b[39mapply_raw()\n\u001b[0;32m--> 764\u001b[0m \u001b[38;5;28;01mreturn\u001b[39;00m \u001b[38;5;28;43mself\u001b[39;49m\u001b[38;5;241;43m.\u001b[39;49m\u001b[43mapply_standard\u001b[49m\u001b[43m(\u001b[49m\u001b[43m)\u001b[49m\n",
      "File \u001b[0;32m/usr/local/lib/python3.10/site-packages/pandas/core/apply.py:891\u001b[0m, in \u001b[0;36mFrameApply.apply_standard\u001b[0;34m(self)\u001b[0m\n\u001b[1;32m    890\u001b[0m \u001b[38;5;28;01mdef\u001b[39;00m \u001b[38;5;21mapply_standard\u001b[39m(\u001b[38;5;28mself\u001b[39m):\n\u001b[0;32m--> 891\u001b[0m     results, res_index \u001b[38;5;241m=\u001b[39m \u001b[38;5;28;43mself\u001b[39;49m\u001b[38;5;241;43m.\u001b[39;49m\u001b[43mapply_series_generator\u001b[49m\u001b[43m(\u001b[49m\u001b[43m)\u001b[49m\n\u001b[1;32m    893\u001b[0m     \u001b[38;5;66;03m# wrap results\u001b[39;00m\n\u001b[1;32m    894\u001b[0m     \u001b[38;5;28;01mreturn\u001b[39;00m \u001b[38;5;28mself\u001b[39m\u001b[38;5;241m.\u001b[39mwrap_results(results, res_index)\n",
      "File \u001b[0;32m/usr/local/lib/python3.10/site-packages/pandas/core/apply.py:907\u001b[0m, in \u001b[0;36mFrameApply.apply_series_generator\u001b[0;34m(self)\u001b[0m\n\u001b[1;32m    904\u001b[0m \u001b[38;5;28;01mwith\u001b[39;00m option_context(\u001b[38;5;124m\"\u001b[39m\u001b[38;5;124mmode.chained_assignment\u001b[39m\u001b[38;5;124m\"\u001b[39m, \u001b[38;5;28;01mNone\u001b[39;00m):\n\u001b[1;32m    905\u001b[0m     \u001b[38;5;28;01mfor\u001b[39;00m i, v \u001b[38;5;129;01min\u001b[39;00m \u001b[38;5;28menumerate\u001b[39m(series_gen):\n\u001b[1;32m    906\u001b[0m         \u001b[38;5;66;03m# ignore SettingWithCopy here in case the user mutates\u001b[39;00m\n\u001b[0;32m--> 907\u001b[0m         results[i] \u001b[38;5;241m=\u001b[39m \u001b[38;5;28;43mself\u001b[39;49m\u001b[38;5;241;43m.\u001b[39;49m\u001b[43mf\u001b[49m\u001b[43m(\u001b[49m\u001b[43mv\u001b[49m\u001b[43m)\u001b[49m\n\u001b[1;32m    908\u001b[0m         \u001b[38;5;28;01mif\u001b[39;00m \u001b[38;5;28misinstance\u001b[39m(results[i], ABCSeries):\n\u001b[1;32m    909\u001b[0m             \u001b[38;5;66;03m# If we have a view on v, we need to make a copy because\u001b[39;00m\n\u001b[1;32m    910\u001b[0m             \u001b[38;5;66;03m#  series_generator will swap out the underlying data\u001b[39;00m\n\u001b[1;32m    911\u001b[0m             results[i] \u001b[38;5;241m=\u001b[39m results[i]\u001b[38;5;241m.\u001b[39mcopy(deep\u001b[38;5;241m=\u001b[39m\u001b[38;5;28;01mFalse\u001b[39;00m)\n",
      "Cell \u001b[0;32mIn[162], line 1\u001b[0m, in \u001b[0;36m<lambda>\u001b[0;34m(row)\u001b[0m\n\u001b[0;32m----> 1\u001b[0m outubro[\u001b[38;5;124m'\u001b[39m\u001b[38;5;124mREAL\u001b[39m\u001b[38;5;124m'\u001b[39m] \u001b[38;5;241m=\u001b[39m outubro\u001b[38;5;241m.\u001b[39mapply(\u001b[38;5;28;01mlambda\u001b[39;00m row: \u001b[43mcorretor\u001b[49m\u001b[43m(\u001b[49m\u001b[43mrow\u001b[49m\u001b[43m[\u001b[49m\u001b[38;5;124;43m\"\u001b[39;49m\u001b[38;5;124;43mTARIFA\u001b[39;49m\u001b[38;5;124;43m\"\u001b[39;49m\u001b[43m]\u001b[49m\u001b[43m,\u001b[49m\u001b[43m \u001b[49m\u001b[38;5;124;43mf\u001b[39;49m\u001b[38;5;124;43m\"\u001b[39;49m\u001b[38;5;132;43;01m{\u001b[39;49;00m\u001b[38;5;28;43mint\u001b[39;49m\u001b[43m(\u001b[49m\u001b[43mrow\u001b[49m\u001b[38;5;241;43m.\u001b[39;49m\u001b[43mMES\u001b[49m\u001b[43m)\u001b[49m\u001b[38;5;132;43;01m}\u001b[39;49;00m\u001b[38;5;124;43m/\u001b[39;49m\u001b[38;5;132;43;01m{\u001b[39;49;00m\u001b[38;5;28;43mint\u001b[39;49m\u001b[43m(\u001b[49m\u001b[43mrow\u001b[49m\u001b[38;5;241;43m.\u001b[39;49m\u001b[43mANO\u001b[49m\u001b[43m)\u001b[49m\u001b[38;5;132;43;01m}\u001b[39;49;00m\u001b[38;5;124;43m\"\u001b[39;49m\u001b[43m,\u001b[49m\u001b[43m \u001b[49m\u001b[38;5;124;43m\"\u001b[39;49m\u001b[38;5;124;43m12/2022\u001b[39;49m\u001b[38;5;124;43m\"\u001b[39;49m\u001b[43m)\u001b[49m[\u001b[38;5;241m0\u001b[39m], axis\u001b[38;5;241m=\u001b[39m\u001b[38;5;241m1\u001b[39m) \n",
      "Cell \u001b[0;32mIn[160], line 27\u001b[0m, in \u001b[0;36mMonetaryCorrection.ipca\u001b[0;34m(self, value, date_start, date_end)\u001b[0m\n\u001b[1;32m     14\u001b[0m \u001b[38;5;28;01mdef\u001b[39;00m \u001b[38;5;21mipca\u001b[39m(\u001b[38;5;28mself\u001b[39m, value, date_start, date_end):\n\u001b[1;32m     15\u001b[0m \u001b[38;5;250m    \u001b[39m\u001b[38;5;124;03m\"\"\"\u001b[39;00m\n\u001b[1;32m     16\u001b[0m \u001b[38;5;124;03m    >>> corretor.ipca(100, \"07/2019\", \"02/2023\")\u001b[39;00m\n\u001b[1;32m     17\u001b[0m \u001b[38;5;124;03m    (125.87, 25.86683)\u001b[39;00m\n\u001b[0;32m   (...)\u001b[0m\n\u001b[1;32m     24\u001b[0m \u001b[38;5;124;03m           \u001b[39;00m\n\u001b[1;32m     25\u001b[0m \u001b[38;5;124;03m    \"\"\"\u001b[39;00m\n\u001b[0;32m---> 27\u001b[0m     date_start_valid \u001b[38;5;241m=\u001b[39m (\u001b[43mpd\u001b[49m\u001b[38;5;241;43m.\u001b[39;49m\u001b[43mto_datetime\u001b[49m\u001b[43m(\u001b[49m\u001b[43mdate_start\u001b[49m\u001b[43m,\u001b[49m\u001b[43m \u001b[49m\u001b[38;5;28;43mformat\u001b[39;49m\u001b[38;5;241;43m=\u001b[39;49m\u001b[38;5;124;43m\"\u001b[39;49m\u001b[38;5;124;43m%\u001b[39;49m\u001b[38;5;124;43mm/\u001b[39;49m\u001b[38;5;124;43m%\u001b[39;49m\u001b[38;5;124;43mY\u001b[39;49m\u001b[38;5;124;43m\"\u001b[39;49m\u001b[43m)\u001b[49m \u001b[38;5;241m-\u001b[39m pd\u001b[38;5;241m.\u001b[39mDateOffset(months\u001b[38;5;241m=\u001b[39m\u001b[38;5;241m1\u001b[39m))\u001b[38;5;241m.\u001b[39mstrftime(\u001b[38;5;124m'\u001b[39m\u001b[38;5;124m%\u001b[39m\u001b[38;5;124mm/\u001b[39m\u001b[38;5;124m%\u001b[39m\u001b[38;5;124mY\u001b[39m\u001b[38;5;124m'\u001b[39m)\n\u001b[1;32m     28\u001b[0m     correction_index_start \u001b[38;5;241m=\u001b[39m \u001b[38;5;28mself\u001b[39m\u001b[38;5;241m.\u001b[39mipca_data_dict[date_start_valid]\n\u001b[1;32m     29\u001b[0m     correction_index_end \u001b[38;5;241m=\u001b[39m \u001b[38;5;28mself\u001b[39m\u001b[38;5;241m.\u001b[39mipca_data_dict[(\u001b[38;5;124m\"\u001b[39m\u001b[38;5;124m0\u001b[39m\u001b[38;5;124m\"\u001b[39m \u001b[38;5;241m+\u001b[39m date_end)[\u001b[38;5;241m-\u001b[39m\u001b[38;5;241m7\u001b[39m:]]\n",
      "File \u001b[0;32m/usr/local/lib/python3.10/site-packages/pandas/core/tools/datetimes.py:1102\u001b[0m, in \u001b[0;36mto_datetime\u001b[0;34m(arg, errors, dayfirst, yearfirst, utc, format, exact, unit, infer_datetime_format, origin, cache)\u001b[0m\n\u001b[1;32m   1100\u001b[0m         result \u001b[38;5;241m=\u001b[39m convert_listlike(argc, \u001b[38;5;28mformat\u001b[39m)\n\u001b[1;32m   1101\u001b[0m \u001b[38;5;28;01melse\u001b[39;00m:\n\u001b[0;32m-> 1102\u001b[0m     result \u001b[38;5;241m=\u001b[39m \u001b[43mconvert_listlike\u001b[49m\u001b[43m(\u001b[49m\u001b[43mnp\u001b[49m\u001b[38;5;241;43m.\u001b[39;49m\u001b[43marray\u001b[49m\u001b[43m(\u001b[49m\u001b[43m[\u001b[49m\u001b[43marg\u001b[49m\u001b[43m]\u001b[49m\u001b[43m)\u001b[49m\u001b[43m,\u001b[49m\u001b[43m \u001b[49m\u001b[38;5;28;43mformat\u001b[39;49m\u001b[43m)\u001b[49m[\u001b[38;5;241m0\u001b[39m]\n\u001b[1;32m   1103\u001b[0m     \u001b[38;5;28;01mif\u001b[39;00m \u001b[38;5;28misinstance\u001b[39m(arg, \u001b[38;5;28mbool\u001b[39m) \u001b[38;5;129;01mand\u001b[39;00m \u001b[38;5;28misinstance\u001b[39m(result, np\u001b[38;5;241m.\u001b[39mbool_):\n\u001b[1;32m   1104\u001b[0m         result \u001b[38;5;241m=\u001b[39m \u001b[38;5;28mbool\u001b[39m(result)  \u001b[38;5;66;03m# TODO: avoid this kludge.\u001b[39;00m\n",
      "File \u001b[0;32m/usr/local/lib/python3.10/site-packages/pandas/core/tools/datetimes.py:430\u001b[0m, in \u001b[0;36m_convert_listlike_datetimes\u001b[0;34m(arg, format, name, tz, unit, errors, infer_datetime_format, dayfirst, yearfirst, exact)\u001b[0m\n\u001b[1;32m    427\u001b[0m         \u001b[38;5;28mformat\u001b[39m \u001b[38;5;241m=\u001b[39m \u001b[38;5;28;01mNone\u001b[39;00m\n\u001b[1;32m    429\u001b[0m \u001b[38;5;28;01mif\u001b[39;00m \u001b[38;5;28mformat\u001b[39m \u001b[38;5;129;01mis\u001b[39;00m \u001b[38;5;129;01mnot\u001b[39;00m \u001b[38;5;28;01mNone\u001b[39;00m:\n\u001b[0;32m--> 430\u001b[0m     res \u001b[38;5;241m=\u001b[39m \u001b[43m_to_datetime_with_format\u001b[49m\u001b[43m(\u001b[49m\n\u001b[1;32m    431\u001b[0m \u001b[43m        \u001b[49m\u001b[43marg\u001b[49m\u001b[43m,\u001b[49m\u001b[43m \u001b[49m\u001b[43morig_arg\u001b[49m\u001b[43m,\u001b[49m\u001b[43m \u001b[49m\u001b[43mname\u001b[49m\u001b[43m,\u001b[49m\u001b[43m \u001b[49m\u001b[43mtz\u001b[49m\u001b[43m,\u001b[49m\u001b[43m \u001b[49m\u001b[38;5;28;43mformat\u001b[39;49m\u001b[43m,\u001b[49m\u001b[43m \u001b[49m\u001b[43mexact\u001b[49m\u001b[43m,\u001b[49m\u001b[43m \u001b[49m\u001b[43merrors\u001b[49m\u001b[43m,\u001b[49m\u001b[43m \u001b[49m\u001b[43minfer_datetime_format\u001b[49m\n\u001b[1;32m    432\u001b[0m \u001b[43m    \u001b[49m\u001b[43m)\u001b[49m\n\u001b[1;32m    433\u001b[0m     \u001b[38;5;28;01mif\u001b[39;00m res \u001b[38;5;129;01mis\u001b[39;00m \u001b[38;5;129;01mnot\u001b[39;00m \u001b[38;5;28;01mNone\u001b[39;00m:\n\u001b[1;32m    434\u001b[0m         \u001b[38;5;28;01mreturn\u001b[39;00m res\n",
      "File \u001b[0;32m/usr/local/lib/python3.10/site-packages/pandas/core/tools/datetimes.py:538\u001b[0m, in \u001b[0;36m_to_datetime_with_format\u001b[0;34m(arg, orig_arg, name, tz, fmt, exact, errors, infer_datetime_format)\u001b[0m\n\u001b[1;32m    535\u001b[0m         \u001b[38;5;28;01mreturn\u001b[39;00m _box_as_indexlike(result, utc\u001b[38;5;241m=\u001b[39mutc, name\u001b[38;5;241m=\u001b[39mname)\n\u001b[1;32m    537\u001b[0m \u001b[38;5;66;03m# fallback\u001b[39;00m\n\u001b[0;32m--> 538\u001b[0m res \u001b[38;5;241m=\u001b[39m \u001b[43m_array_strptime_with_fallback\u001b[49m\u001b[43m(\u001b[49m\n\u001b[1;32m    539\u001b[0m \u001b[43m    \u001b[49m\u001b[43marg\u001b[49m\u001b[43m,\u001b[49m\u001b[43m \u001b[49m\u001b[43mname\u001b[49m\u001b[43m,\u001b[49m\u001b[43m \u001b[49m\u001b[43mtz\u001b[49m\u001b[43m,\u001b[49m\u001b[43m \u001b[49m\u001b[43mfmt\u001b[49m\u001b[43m,\u001b[49m\u001b[43m \u001b[49m\u001b[43mexact\u001b[49m\u001b[43m,\u001b[49m\u001b[43m \u001b[49m\u001b[43merrors\u001b[49m\u001b[43m,\u001b[49m\u001b[43m \u001b[49m\u001b[43minfer_datetime_format\u001b[49m\n\u001b[1;32m    540\u001b[0m \u001b[43m\u001b[49m\u001b[43m)\u001b[49m\n\u001b[1;32m    541\u001b[0m \u001b[38;5;28;01mreturn\u001b[39;00m res\n",
      "File \u001b[0;32m/usr/local/lib/python3.10/site-packages/pandas/core/tools/datetimes.py:503\u001b[0m, in \u001b[0;36m_array_strptime_with_fallback\u001b[0;34m(arg, name, tz, fmt, exact, errors, infer_datetime_format)\u001b[0m\n\u001b[1;32m    500\u001b[0m     \u001b[38;5;28;01mif\u001b[39;00m \u001b[38;5;124m\"\u001b[39m\u001b[38;5;124m%\u001b[39m\u001b[38;5;124mZ\u001b[39m\u001b[38;5;124m\"\u001b[39m \u001b[38;5;129;01min\u001b[39;00m fmt \u001b[38;5;129;01mor\u001b[39;00m \u001b[38;5;124m\"\u001b[39m\u001b[38;5;124m%\u001b[39m\u001b[38;5;124mz\u001b[39m\u001b[38;5;124m\"\u001b[39m \u001b[38;5;129;01min\u001b[39;00m fmt:\n\u001b[1;32m    501\u001b[0m         \u001b[38;5;28;01mreturn\u001b[39;00m _return_parsed_timezone_results(result, timezones, tz, name)\n\u001b[0;32m--> 503\u001b[0m \u001b[38;5;28;01mreturn\u001b[39;00m \u001b[43m_box_as_indexlike\u001b[49m\u001b[43m(\u001b[49m\u001b[43mresult\u001b[49m\u001b[43m,\u001b[49m\u001b[43m \u001b[49m\u001b[43mutc\u001b[49m\u001b[38;5;241;43m=\u001b[39;49m\u001b[43mutc\u001b[49m\u001b[43m,\u001b[49m\u001b[43m \u001b[49m\u001b[43mname\u001b[49m\u001b[38;5;241;43m=\u001b[39;49m\u001b[43mname\u001b[49m\u001b[43m)\u001b[49m\n",
      "File \u001b[0;32m/usr/local/lib/python3.10/site-packages/pandas/core/tools/datetimes.py:266\u001b[0m, in \u001b[0;36m_box_as_indexlike\u001b[0;34m(dt_array, utc, name)\u001b[0m\n\u001b[1;32m    264\u001b[0m \u001b[38;5;28;01mif\u001b[39;00m is_datetime64_dtype(dt_array):\n\u001b[1;32m    265\u001b[0m     tz \u001b[38;5;241m=\u001b[39m \u001b[38;5;124m\"\u001b[39m\u001b[38;5;124mutc\u001b[39m\u001b[38;5;124m\"\u001b[39m \u001b[38;5;28;01mif\u001b[39;00m utc \u001b[38;5;28;01melse\u001b[39;00m \u001b[38;5;28;01mNone\u001b[39;00m\n\u001b[0;32m--> 266\u001b[0m     \u001b[38;5;28;01mreturn\u001b[39;00m \u001b[43mDatetimeIndex\u001b[49m\u001b[43m(\u001b[49m\u001b[43mdt_array\u001b[49m\u001b[43m,\u001b[49m\u001b[43m \u001b[49m\u001b[43mtz\u001b[49m\u001b[38;5;241;43m=\u001b[39;49m\u001b[43mtz\u001b[49m\u001b[43m,\u001b[49m\u001b[43m \u001b[49m\u001b[43mname\u001b[49m\u001b[38;5;241;43m=\u001b[39;49m\u001b[43mname\u001b[49m\u001b[43m)\u001b[49m\n\u001b[1;32m    267\u001b[0m \u001b[38;5;28;01mreturn\u001b[39;00m Index(dt_array, name\u001b[38;5;241m=\u001b[39mname, dtype\u001b[38;5;241m=\u001b[39mdt_array\u001b[38;5;241m.\u001b[39mdtype)\n",
      "File \u001b[0;32m/usr/local/lib/python3.10/site-packages/pandas/core/indexes/datetimes.py:359\u001b[0m, in \u001b[0;36mDatetimeIndex.__new__\u001b[0;34m(cls, data, freq, tz, normalize, closed, ambiguous, dayfirst, yearfirst, dtype, copy, name)\u001b[0m\n\u001b[1;32m    356\u001b[0m         data \u001b[38;5;241m=\u001b[39m data\u001b[38;5;241m.\u001b[39mcopy()\n\u001b[1;32m    357\u001b[0m     \u001b[38;5;28;01mreturn\u001b[39;00m \u001b[38;5;28mcls\u001b[39m\u001b[38;5;241m.\u001b[39m_simple_new(data, name\u001b[38;5;241m=\u001b[39mname)\n\u001b[0;32m--> 359\u001b[0m dtarr \u001b[38;5;241m=\u001b[39m \u001b[43mDatetimeArray\u001b[49m\u001b[38;5;241;43m.\u001b[39;49m\u001b[43m_from_sequence_not_strict\u001b[49m\u001b[43m(\u001b[49m\n\u001b[1;32m    360\u001b[0m \u001b[43m    \u001b[49m\u001b[43mdata\u001b[49m\u001b[43m,\u001b[49m\n\u001b[1;32m    361\u001b[0m \u001b[43m    \u001b[49m\u001b[43mdtype\u001b[49m\u001b[38;5;241;43m=\u001b[39;49m\u001b[43mdtype\u001b[49m\u001b[43m,\u001b[49m\n\u001b[1;32m    362\u001b[0m \u001b[43m    \u001b[49m\u001b[43mcopy\u001b[49m\u001b[38;5;241;43m=\u001b[39;49m\u001b[43mcopy\u001b[49m\u001b[43m,\u001b[49m\n\u001b[1;32m    363\u001b[0m \u001b[43m    \u001b[49m\u001b[43mtz\u001b[49m\u001b[38;5;241;43m=\u001b[39;49m\u001b[43mtz\u001b[49m\u001b[43m,\u001b[49m\n\u001b[1;32m    364\u001b[0m \u001b[43m    \u001b[49m\u001b[43mfreq\u001b[49m\u001b[38;5;241;43m=\u001b[39;49m\u001b[43mfreq\u001b[49m\u001b[43m,\u001b[49m\n\u001b[1;32m    365\u001b[0m \u001b[43m    \u001b[49m\u001b[43mdayfirst\u001b[49m\u001b[38;5;241;43m=\u001b[39;49m\u001b[43mdayfirst\u001b[49m\u001b[43m,\u001b[49m\n\u001b[1;32m    366\u001b[0m \u001b[43m    \u001b[49m\u001b[43myearfirst\u001b[49m\u001b[38;5;241;43m=\u001b[39;49m\u001b[43myearfirst\u001b[49m\u001b[43m,\u001b[49m\n\u001b[1;32m    367\u001b[0m \u001b[43m    \u001b[49m\u001b[43mambiguous\u001b[49m\u001b[38;5;241;43m=\u001b[39;49m\u001b[43mambiguous\u001b[49m\u001b[43m,\u001b[49m\n\u001b[1;32m    368\u001b[0m \u001b[43m\u001b[49m\u001b[43m)\u001b[49m\n\u001b[1;32m    370\u001b[0m subarr \u001b[38;5;241m=\u001b[39m \u001b[38;5;28mcls\u001b[39m\u001b[38;5;241m.\u001b[39m_simple_new(dtarr, name\u001b[38;5;241m=\u001b[39mname)\n\u001b[1;32m    371\u001b[0m \u001b[38;5;28;01mreturn\u001b[39;00m subarr\n",
      "File \u001b[0;32m/usr/local/lib/python3.10/site-packages/pandas/core/arrays/datetimes.py:307\u001b[0m, in \u001b[0;36mDatetimeArray._from_sequence_not_strict\u001b[0;34m(cls, data, dtype, copy, tz, freq, dayfirst, yearfirst, ambiguous)\u001b[0m\n\u001b[1;32m    303\u001b[0m freq \u001b[38;5;241m=\u001b[39m freq \u001b[38;5;28;01mif\u001b[39;00m freq \u001b[38;5;129;01mis\u001b[39;00m \u001b[38;5;129;01mnot\u001b[39;00m lib\u001b[38;5;241m.\u001b[39mno_default \u001b[38;5;28;01melse\u001b[39;00m \u001b[38;5;28;01mNone\u001b[39;00m\n\u001b[1;32m    305\u001b[0m freq, freq_infer \u001b[38;5;241m=\u001b[39m dtl\u001b[38;5;241m.\u001b[39mmaybe_infer_freq(freq)\n\u001b[0;32m--> 307\u001b[0m subarr, tz, inferred_freq \u001b[38;5;241m=\u001b[39m \u001b[43m_sequence_to_dt64ns\u001b[49m\u001b[43m(\u001b[49m\n\u001b[1;32m    308\u001b[0m \u001b[43m    \u001b[49m\u001b[43mdata\u001b[49m\u001b[43m,\u001b[49m\n\u001b[1;32m    309\u001b[0m \u001b[43m    \u001b[49m\u001b[43mdtype\u001b[49m\u001b[38;5;241;43m=\u001b[39;49m\u001b[43mdtype\u001b[49m\u001b[43m,\u001b[49m\n\u001b[1;32m    310\u001b[0m \u001b[43m    \u001b[49m\u001b[43mcopy\u001b[49m\u001b[38;5;241;43m=\u001b[39;49m\u001b[43mcopy\u001b[49m\u001b[43m,\u001b[49m\n\u001b[1;32m    311\u001b[0m \u001b[43m    \u001b[49m\u001b[43mtz\u001b[49m\u001b[38;5;241;43m=\u001b[39;49m\u001b[43mtz\u001b[49m\u001b[43m,\u001b[49m\n\u001b[1;32m    312\u001b[0m \u001b[43m    \u001b[49m\u001b[43mdayfirst\u001b[49m\u001b[38;5;241;43m=\u001b[39;49m\u001b[43mdayfirst\u001b[49m\u001b[43m,\u001b[49m\n\u001b[1;32m    313\u001b[0m \u001b[43m    \u001b[49m\u001b[43myearfirst\u001b[49m\u001b[38;5;241;43m=\u001b[39;49m\u001b[43myearfirst\u001b[49m\u001b[43m,\u001b[49m\n\u001b[1;32m    314\u001b[0m \u001b[43m    \u001b[49m\u001b[43mambiguous\u001b[49m\u001b[38;5;241;43m=\u001b[39;49m\u001b[43mambiguous\u001b[49m\u001b[43m,\u001b[49m\n\u001b[1;32m    315\u001b[0m \u001b[43m\u001b[49m\u001b[43m)\u001b[49m\n\u001b[1;32m    317\u001b[0m freq, freq_infer \u001b[38;5;241m=\u001b[39m dtl\u001b[38;5;241m.\u001b[39mvalidate_inferred_freq(freq, inferred_freq, freq_infer)\n\u001b[1;32m    318\u001b[0m \u001b[38;5;28;01mif\u001b[39;00m explicit_none:\n",
      "File \u001b[0;32m/usr/local/lib/python3.10/site-packages/pandas/core/arrays/datetimes.py:2089\u001b[0m, in \u001b[0;36m_sequence_to_dt64ns\u001b[0;34m(data, dtype, copy, tz, dayfirst, yearfirst, ambiguous, allow_mixed, require_iso8601)\u001b[0m\n\u001b[1;32m   2085\u001b[0m     result \u001b[38;5;241m=\u001b[39m data\u001b[38;5;241m.\u001b[39m_ndarray\n\u001b[1;32m   2087\u001b[0m \u001b[38;5;28;01melif\u001b[39;00m is_datetime64_dtype(data_dtype):\n\u001b[1;32m   2088\u001b[0m     \u001b[38;5;66;03m# tz-naive DatetimeArray or ndarray[datetime64]\u001b[39;00m\n\u001b[0;32m-> 2089\u001b[0m     data \u001b[38;5;241m=\u001b[39m \u001b[38;5;28;43mgetattr\u001b[39;49m\u001b[43m(\u001b[49m\u001b[43mdata\u001b[49m\u001b[43m,\u001b[49m\u001b[43m \u001b[49m\u001b[38;5;124;43m\"\u001b[39;49m\u001b[38;5;124;43m_ndarray\u001b[39;49m\u001b[38;5;124;43m\"\u001b[39;49m\u001b[43m,\u001b[49m\u001b[43m \u001b[49m\u001b[43mdata\u001b[49m\u001b[43m)\u001b[49m\n\u001b[1;32m   2090\u001b[0m     \u001b[38;5;28;01mif\u001b[39;00m data\u001b[38;5;241m.\u001b[39mdtype \u001b[38;5;241m!=\u001b[39m DT64NS_DTYPE:\n\u001b[1;32m   2091\u001b[0m         data \u001b[38;5;241m=\u001b[39m astype_overflowsafe(data, dtype\u001b[38;5;241m=\u001b[39mDT64NS_DTYPE)\n",
      "\u001b[0;31mKeyboardInterrupt\u001b[0m: "
     ]
    }
   ],
   "source": []
  },
  {
   "cell_type": "code",
   "execution_count": null,
   "id": "38652561-b81c-4d73-b091-68e6f84cf198",
   "metadata": {
    "tags": []
   },
   "outputs": [],
   "source": []
  },
  {
   "cell_type": "code",
   "execution_count": 137,
   "id": "09e67d06-2d75-474d-a67f-69497ed7e4ab",
   "metadata": {
    "tags": []
   },
   "outputs": [],
   "source": []
  },
  {
   "cell_type": "code",
   "execution_count": 138,
   "id": "dab732ec-9bf7-4dbb-b4e0-abb13a1a23a3",
   "metadata": {
    "tags": []
   },
   "outputs": [],
   "source": []
  },
  {
   "cell_type": "code",
   "execution_count": null,
   "id": "89241abd-5546-428d-9e43-8ccdf5291830",
   "metadata": {},
   "outputs": [],
   "source": []
  },
  {
   "cell_type": "code",
   "execution_count": null,
   "id": "f9b3fcc3-8340-4dc1-a396-19f2ec6007bc",
   "metadata": {},
   "outputs": [],
   "source": []
  },
  {
   "cell_type": "code",
   "execution_count": 99,
   "id": "297371dc-5739-4de6-9c61-282a013c65ac",
   "metadata": {
    "tags": []
   },
   "outputs": [
    {
     "data": {
      "text/html": [
       "<div>\n",
       "<style scoped>\n",
       "    .dataframe tbody tr th:only-of-type {\n",
       "        vertical-align: middle;\n",
       "    }\n",
       "\n",
       "    .dataframe tbody tr th {\n",
       "        vertical-align: top;\n",
       "    }\n",
       "\n",
       "    .dataframe thead th {\n",
       "        text-align: right;\n",
       "    }\n",
       "</style>\n",
       "<table border=\"1\" class=\"dataframe\">\n",
       "  <thead>\n",
       "    <tr style=\"text-align: right;\">\n",
       "      <th></th>\n",
       "      <th></th>\n",
       "      <th>price_weighted_mean</th>\n",
       "    </tr>\n",
       "    <tr>\n",
       "      <th>ANO</th>\n",
       "      <th>MES</th>\n",
       "      <th></th>\n",
       "    </tr>\n",
       "  </thead>\n",
       "  <tbody>\n",
       "    <tr>\n",
       "      <th>2022</th>\n",
       "      <th>10</th>\n",
       "      <td>638.356865</td>\n",
       "    </tr>\n",
       "  </tbody>\n",
       "</table>\n",
       "</div>"
      ],
      "text/plain": [
       "          price_weighted_mean\n",
       "ANO  MES                     \n",
       "2022 10            638.356865"
      ]
     },
     "execution_count": 99,
     "metadata": {},
     "output_type": "execute_result"
    }
   ],
   "source": [
    "# Aqui com os dados base julho de 2022\n",
    "wm = lambda x: np.average(x, weights=outubro.loc[x.index, \"ASSENTOS\"])\n",
    "\n",
    "media_outubro = outubro.groupby(['ANO', 'MES']).agg(price_weighted_mean=(\"TARIFA\", wm))\n",
    "media_outubro"
   ]
  },
  {
   "cell_type": "code",
   "execution_count": null,
   "id": "46f6b0f8-9b77-4741-9589-be1beee0d625",
   "metadata": {},
   "outputs": [],
   "source": []
  },
  {
   "cell_type": "code",
   "execution_count": 175,
   "id": "2f08e465-fc49-4bf4-9433-768f95a3f11e",
   "metadata": {
    "tags": []
   },
   "outputs": [],
   "source": [
    "# Trabalhando novembro"
   ]
  },
  {
   "cell_type": "code",
   "execution_count": 179,
   "id": "94ad7d06-c5c9-4747-89f4-c3fa40080df7",
   "metadata": {
    "tags": []
   },
   "outputs": [],
   "source": [
    "novembro_2022 = pd.read_csv(\"anac.nosync/real/201910.CSV\", sep=\";\", encoding=\"latin1\")\n",
    "# novembro_2022.TARIFA = novembro_2022.TARIFA.str.replace(\",\", \".\").astype(float)\n",
    "# novembro_2022['REAL'] = novembro_2022.apply(lambda row: corretor(row[\"TARIFA\"], f\"{int(row.MES)}/{int(row.ANO)}\", \"12/2022\")[0], axis=1) "
   ]
  },
  {
   "cell_type": "code",
   "execution_count": 180,
   "id": "91650d2a-0fe2-46c8-bea2-408c8baa9847",
   "metadata": {
    "tags": []
   },
   "outputs": [
    {
     "data": {
      "text/html": [
       "<div>\n",
       "<style scoped>\n",
       "    .dataframe tbody tr th:only-of-type {\n",
       "        vertical-align: middle;\n",
       "    }\n",
       "\n",
       "    .dataframe tbody tr th {\n",
       "        vertical-align: top;\n",
       "    }\n",
       "\n",
       "    .dataframe thead th {\n",
       "        text-align: right;\n",
       "    }\n",
       "</style>\n",
       "<table border=\"1\" class=\"dataframe\">\n",
       "  <thead>\n",
       "    <tr style=\"text-align: right;\">\n",
       "      <th></th>\n",
       "      <th>ANO</th>\n",
       "      <th>MES</th>\n",
       "      <th>EMPRESA</th>\n",
       "      <th>ORIGEM</th>\n",
       "      <th>DESTINO</th>\n",
       "      <th>TARIFA</th>\n",
       "      <th>ASSENTOS</th>\n",
       "      <th>REAL</th>\n",
       "    </tr>\n",
       "  </thead>\n",
       "  <tbody>\n",
       "    <tr>\n",
       "      <th>0</th>\n",
       "      <td>2019</td>\n",
       "      <td>10</td>\n",
       "      <td>AZU</td>\n",
       "      <td>SBAC</td>\n",
       "      <td>SBAR</td>\n",
       "      <td>181.9</td>\n",
       "      <td>1</td>\n",
       "      <td>225.26</td>\n",
       "    </tr>\n",
       "    <tr>\n",
       "      <th>1</th>\n",
       "      <td>2019</td>\n",
       "      <td>10</td>\n",
       "      <td>AZU</td>\n",
       "      <td>SBAC</td>\n",
       "      <td>SBAR</td>\n",
       "      <td>531.9</td>\n",
       "      <td>6</td>\n",
       "      <td>658.70</td>\n",
       "    </tr>\n",
       "    <tr>\n",
       "      <th>2</th>\n",
       "      <td>2019</td>\n",
       "      <td>10</td>\n",
       "      <td>AZU</td>\n",
       "      <td>SBAC</td>\n",
       "      <td>SBBV</td>\n",
       "      <td>607.9</td>\n",
       "      <td>2</td>\n",
       "      <td>752.81</td>\n",
       "    </tr>\n",
       "    <tr>\n",
       "      <th>3</th>\n",
       "      <td>2019</td>\n",
       "      <td>10</td>\n",
       "      <td>AZU</td>\n",
       "      <td>SBAC</td>\n",
       "      <td>SBCF</td>\n",
       "      <td>247.9</td>\n",
       "      <td>5</td>\n",
       "      <td>306.99</td>\n",
       "    </tr>\n",
       "    <tr>\n",
       "      <th>4</th>\n",
       "      <td>2019</td>\n",
       "      <td>10</td>\n",
       "      <td>AZU</td>\n",
       "      <td>SBAC</td>\n",
       "      <td>SBCF</td>\n",
       "      <td>272.9</td>\n",
       "      <td>2</td>\n",
       "      <td>337.95</td>\n",
       "    </tr>\n",
       "    <tr>\n",
       "      <th>...</th>\n",
       "      <td>...</td>\n",
       "      <td>...</td>\n",
       "      <td>...</td>\n",
       "      <td>...</td>\n",
       "      <td>...</td>\n",
       "      <td>...</td>\n",
       "      <td>...</td>\n",
       "      <td>...</td>\n",
       "    </tr>\n",
       "    <tr>\n",
       "      <th>374032</th>\n",
       "      <td>2019</td>\n",
       "      <td>10</td>\n",
       "      <td>TAM</td>\n",
       "      <td>SWGN</td>\n",
       "      <td>SBPJ</td>\n",
       "      <td>509.0</td>\n",
       "      <td>1</td>\n",
       "      <td>630.34</td>\n",
       "    </tr>\n",
       "    <tr>\n",
       "      <th>374033</th>\n",
       "      <td>2019</td>\n",
       "      <td>10</td>\n",
       "      <td>TAM</td>\n",
       "      <td>SWGN</td>\n",
       "      <td>SBPJ</td>\n",
       "      <td>554.0</td>\n",
       "      <td>2</td>\n",
       "      <td>686.06</td>\n",
       "    </tr>\n",
       "    <tr>\n",
       "      <th>374034</th>\n",
       "      <td>2019</td>\n",
       "      <td>10</td>\n",
       "      <td>TAM</td>\n",
       "      <td>SWGN</td>\n",
       "      <td>SBPJ</td>\n",
       "      <td>574.0</td>\n",
       "      <td>2</td>\n",
       "      <td>710.83</td>\n",
       "    </tr>\n",
       "    <tr>\n",
       "      <th>374035</th>\n",
       "      <td>2019</td>\n",
       "      <td>10</td>\n",
       "      <td>TAM</td>\n",
       "      <td>SWGN</td>\n",
       "      <td>SBPJ</td>\n",
       "      <td>1499.5</td>\n",
       "      <td>1</td>\n",
       "      <td>1856.95</td>\n",
       "    </tr>\n",
       "    <tr>\n",
       "      <th>374036</th>\n",
       "      <td>2019</td>\n",
       "      <td>10</td>\n",
       "      <td>TAM</td>\n",
       "      <td>SWGN</td>\n",
       "      <td>SBSP</td>\n",
       "      <td>1499.5</td>\n",
       "      <td>1</td>\n",
       "      <td>1856.95</td>\n",
       "    </tr>\n",
       "  </tbody>\n",
       "</table>\n",
       "<p>374037 rows × 8 columns</p>\n",
       "</div>"
      ],
      "text/plain": [
       "         ANO  MES EMPRESA ORIGEM DESTINO  TARIFA  ASSENTOS     REAL\n",
       "0       2019   10     AZU   SBAC    SBAR   181.9         1   225.26\n",
       "1       2019   10     AZU   SBAC    SBAR   531.9         6   658.70\n",
       "2       2019   10     AZU   SBAC    SBBV   607.9         2   752.81\n",
       "3       2019   10     AZU   SBAC    SBCF   247.9         5   306.99\n",
       "4       2019   10     AZU   SBAC    SBCF   272.9         2   337.95\n",
       "...      ...  ...     ...    ...     ...     ...       ...      ...\n",
       "374032  2019   10     TAM   SWGN    SBPJ   509.0         1   630.34\n",
       "374033  2019   10     TAM   SWGN    SBPJ   554.0         2   686.06\n",
       "374034  2019   10     TAM   SWGN    SBPJ   574.0         2   710.83\n",
       "374035  2019   10     TAM   SWGN    SBPJ  1499.5         1  1856.95\n",
       "374036  2019   10     TAM   SWGN    SBSP  1499.5         1  1856.95\n",
       "\n",
       "[374037 rows x 8 columns]"
      ]
     },
     "execution_count": 180,
     "metadata": {},
     "output_type": "execute_result"
    }
   ],
   "source": [
    "novembro_2022"
   ]
  },
  {
   "cell_type": "code",
   "execution_count": null,
   "id": "b00c93df-a690-4f7c-802c-8ba49e61cc12",
   "metadata": {},
   "outputs": [],
   "source": []
  },
  {
   "cell_type": "code",
   "execution_count": null,
   "id": "93eb3e06-afd0-4829-bf4c-524ac08bbd23",
   "metadata": {},
   "outputs": [],
   "source": []
  },
  {
   "cell_type": "code",
   "execution_count": 101,
   "id": "bfacbb20-2b3c-4ca1-aa41-1c7cf5ee18d5",
   "metadata": {
    "tags": []
   },
   "outputs": [
    {
     "data": {
      "text/html": [
       "<div>\n",
       "<style scoped>\n",
       "    .dataframe tbody tr th:only-of-type {\n",
       "        vertical-align: middle;\n",
       "    }\n",
       "\n",
       "    .dataframe tbody tr th {\n",
       "        vertical-align: top;\n",
       "    }\n",
       "\n",
       "    .dataframe thead th {\n",
       "        text-align: right;\n",
       "    }\n",
       "</style>\n",
       "<table border=\"1\" class=\"dataframe\">\n",
       "  <thead>\n",
       "    <tr style=\"text-align: right;\">\n",
       "      <th></th>\n",
       "      <th>ANO</th>\n",
       "      <th>MES</th>\n",
       "      <th>EMPRESA</th>\n",
       "      <th>ORIGEM</th>\n",
       "      <th>DESTINO</th>\n",
       "      <th>TARIFA</th>\n",
       "      <th>ASSENTOS</th>\n",
       "      <th>REAL</th>\n",
       "    </tr>\n",
       "  </thead>\n",
       "  <tbody>\n",
       "    <tr>\n",
       "      <th>0</th>\n",
       "      <td>2022</td>\n",
       "      <td>10</td>\n",
       "      <td>ABJ</td>\n",
       "      <td>SBSV</td>\n",
       "      <td>SIRI</td>\n",
       "      <td>1050.0</td>\n",
       "      <td>1</td>\n",
       "      <td>1067.100657</td>\n",
       "    </tr>\n",
       "    <tr>\n",
       "      <th>1</th>\n",
       "      <td>2022</td>\n",
       "      <td>10</td>\n",
       "      <td>ABJ</td>\n",
       "      <td>SBSV</td>\n",
       "      <td>SIRI</td>\n",
       "      <td>650.0</td>\n",
       "      <td>2</td>\n",
       "      <td>660.586121</td>\n",
       "    </tr>\n",
       "    <tr>\n",
       "      <th>2</th>\n",
       "      <td>2022</td>\n",
       "      <td>10</td>\n",
       "      <td>ABJ</td>\n",
       "      <td>SBSV</td>\n",
       "      <td>SIRI</td>\n",
       "      <td>690.0</td>\n",
       "      <td>3</td>\n",
       "      <td>701.237575</td>\n",
       "    </tr>\n",
       "    <tr>\n",
       "      <th>3</th>\n",
       "      <td>2022</td>\n",
       "      <td>10</td>\n",
       "      <td>ABJ</td>\n",
       "      <td>SBSV</td>\n",
       "      <td>SNCL</td>\n",
       "      <td>1150.0</td>\n",
       "      <td>26</td>\n",
       "      <td>1168.729291</td>\n",
       "    </tr>\n",
       "    <tr>\n",
       "      <th>4</th>\n",
       "      <td>2022</td>\n",
       "      <td>10</td>\n",
       "      <td>ABJ</td>\n",
       "      <td>SBSV</td>\n",
       "      <td>SNCL</td>\n",
       "      <td>1190.0</td>\n",
       "      <td>8</td>\n",
       "      <td>1209.380745</td>\n",
       "    </tr>\n",
       "    <tr>\n",
       "      <th>5</th>\n",
       "      <td>2022</td>\n",
       "      <td>10</td>\n",
       "      <td>ABJ</td>\n",
       "      <td>SBSV</td>\n",
       "      <td>SNCL</td>\n",
       "      <td>1400.0</td>\n",
       "      <td>8</td>\n",
       "      <td>1422.800876</td>\n",
       "    </tr>\n",
       "    <tr>\n",
       "      <th>6</th>\n",
       "      <td>2022</td>\n",
       "      <td>10</td>\n",
       "      <td>ABJ</td>\n",
       "      <td>SBSV</td>\n",
       "      <td>SNCL</td>\n",
       "      <td>490.0</td>\n",
       "      <td>10</td>\n",
       "      <td>497.980307</td>\n",
       "    </tr>\n",
       "    <tr>\n",
       "      <th>7</th>\n",
       "      <td>2022</td>\n",
       "      <td>10</td>\n",
       "      <td>ABJ</td>\n",
       "      <td>SBSV</td>\n",
       "      <td>SNCL</td>\n",
       "      <td>550.0</td>\n",
       "      <td>33</td>\n",
       "      <td>558.957487</td>\n",
       "    </tr>\n",
       "    <tr>\n",
       "      <th>8</th>\n",
       "      <td>2022</td>\n",
       "      <td>10</td>\n",
       "      <td>ABJ</td>\n",
       "      <td>SBSV</td>\n",
       "      <td>SNCL</td>\n",
       "      <td>750.0</td>\n",
       "      <td>40</td>\n",
       "      <td>762.214755</td>\n",
       "    </tr>\n",
       "    <tr>\n",
       "      <th>9</th>\n",
       "      <td>2022</td>\n",
       "      <td>10</td>\n",
       "      <td>ABJ</td>\n",
       "      <td>SBSV</td>\n",
       "      <td>SNCL</td>\n",
       "      <td>790.0</td>\n",
       "      <td>15</td>\n",
       "      <td>802.866209</td>\n",
       "    </tr>\n",
       "  </tbody>\n",
       "</table>\n",
       "</div>"
      ],
      "text/plain": [
       "    ANO  MES EMPRESA ORIGEM DESTINO  TARIFA  ASSENTOS         REAL\n",
       "0  2022   10     ABJ   SBSV    SIRI  1050.0         1  1067.100657\n",
       "1  2022   10     ABJ   SBSV    SIRI   650.0         2   660.586121\n",
       "2  2022   10     ABJ   SBSV    SIRI   690.0         3   701.237575\n",
       "3  2022   10     ABJ   SBSV    SNCL  1150.0        26  1168.729291\n",
       "4  2022   10     ABJ   SBSV    SNCL  1190.0         8  1209.380745\n",
       "5  2022   10     ABJ   SBSV    SNCL  1400.0         8  1422.800876\n",
       "6  2022   10     ABJ   SBSV    SNCL   490.0        10   497.980307\n",
       "7  2022   10     ABJ   SBSV    SNCL   550.0        33   558.957487\n",
       "8  2022   10     ABJ   SBSV    SNCL   750.0        40   762.214755\n",
       "9  2022   10     ABJ   SBSV    SNCL   790.0        15   802.866209"
      ]
     },
     "execution_count": 101,
     "metadata": {},
     "output_type": "execute_result"
    }
   ],
   "source": [
    "outubro.head(10)"
   ]
  },
  {
   "cell_type": "code",
   "execution_count": 171,
   "id": "16462b89-f4da-4608-90a8-ab3ea1aa83aa",
   "metadata": {
    "tags": []
   },
   "outputs": [],
   "source": [
    "class MonetaryCorrection:\n",
    "    def __init__(self):\n",
    "\n",
    "        ipca_data = pd.read_csv(\"https://api.bcb.gov.br/dados/serie/bcdata.sgs.433/dados?formato=csv\", sep=\";\")\n",
    "        ipca_data[\"valor\"] = ipca_data.valor.str.replace(\",\", \".\").astype(float)\n",
    "        ipca_data[\"taxa\"] = ipca_data[\"valor\"]/100 + 1     \n",
    "        ipca_data[\"data\"] = ipca_data[\"data\"].str[3:]\n",
    "        ipca_data['correction_index'] = ipca_data.taxa.cumprod()\n",
    "        self.ipca_data = ipca_data\n",
    "\n",
    "        self.ipca_data_dict = { data: value for data,value in ipca_data[[\"data\", \"correction_index\"]].values }\n",
    "\n",
    "\n",
    "    def ipca(self, value, date_start, date_end):\n",
    "        \"\"\"\n",
    "        >>> corretor.ipca(100, \"07/2019\", \"02/2023\")\n",
    "        (125.87, 25.86683)\n",
    "        \n",
    "        >>> corretor.ipca(231.24, \"01/2002\", \"02/2023\")\n",
    "        (837.26, 262.07534)\n",
    "        \n",
    "        >>> corretor.ipca(231.24, \"1/2002\", \"2/2023\")\n",
    "        (837.26, 262.07534)\n",
    "               \n",
    "        \"\"\"\n",
    "\n",
    "        date_start_valid = (pd.to_datetime(date_start, format=\"%m/%Y\") - pd.DateOffset(months=1)).strftime('%m/%Y')\n",
    "        correction_index_start = self.ipca_data_dict[date_start_valid]\n",
    "        correction_index_end = self.ipca_data_dict[(\"0\" + date_end)[-7:]]\n",
    "\n",
    "        correction_index_in_time = (correction_index_end / correction_index_start)\n",
    "\n",
    "        return round(value * correction_index_in_time, 2), round((correction_index_in_time - 1) * 100, 5)\n",
    "    \n",
    " \n",
    "corretor = MonetaryCorrection().ipca"
   ]
  },
  {
   "cell_type": "code",
   "execution_count": null,
   "id": "c2cde6f3-a231-4d59-a4cb-37f6b43d0caa",
   "metadata": {},
   "outputs": [],
   "source": []
  },
  {
   "cell_type": "code",
   "execution_count": 172,
   "id": "94fcba4e-99e3-47d8-9c57-16152584669d",
   "metadata": {
    "tags": []
   },
   "outputs": [],
   "source": [
    "outubro_2019 = pd.read_csv(\"anac.nosync/201910.CSV\", sep=\";\", encoding=\"latin1\")\n",
    "outubro_2019.TARIFA = outubro_2019.TARIFA.str.replace(\",\", \".\").astype(float)\n",
    "outubro_2019['REAL'] = outubro_2019.apply(lambda row: corretor(row[\"TARIFA\"], f\"{int(row.MES)}/{int(row.ANO)}\", \"12/2022\")[0], axis=1) "
   ]
  },
  {
   "cell_type": "code",
   "execution_count": 173,
   "id": "45a821cc-c40f-49fb-ae98-c4746510159d",
   "metadata": {
    "tags": []
   },
   "outputs": [
    {
     "data": {
      "text/html": [
       "<div>\n",
       "<style scoped>\n",
       "    .dataframe tbody tr th:only-of-type {\n",
       "        vertical-align: middle;\n",
       "    }\n",
       "\n",
       "    .dataframe tbody tr th {\n",
       "        vertical-align: top;\n",
       "    }\n",
       "\n",
       "    .dataframe thead th {\n",
       "        text-align: right;\n",
       "    }\n",
       "</style>\n",
       "<table border=\"1\" class=\"dataframe\">\n",
       "  <thead>\n",
       "    <tr style=\"text-align: right;\">\n",
       "      <th></th>\n",
       "      <th></th>\n",
       "      <th>price_weighted_mean</th>\n",
       "    </tr>\n",
       "    <tr>\n",
       "      <th>ANO</th>\n",
       "      <th>MES</th>\n",
       "      <th></th>\n",
       "    </tr>\n",
       "  </thead>\n",
       "  <tbody>\n",
       "    <tr>\n",
       "      <th>2019</th>\n",
       "      <th>10</th>\n",
       "      <td>566.608174</td>\n",
       "    </tr>\n",
       "  </tbody>\n",
       "</table>\n",
       "</div>"
      ],
      "text/plain": [
       "          price_weighted_mean\n",
       "ANO  MES                     \n",
       "2019 10            566.608174"
      ]
     },
     "execution_count": 173,
     "metadata": {},
     "output_type": "execute_result"
    }
   ],
   "source": [
    "# Aqui com os dados base julho de 2022\n",
    "wm = lambda x: np.average(x, weights=outubro_2019.loc[x.index, \"ASSENTOS\"])\n",
    "\n",
    "media_outubro_2019 = outubro_2019.groupby(['ANO', 'MES']).agg(price_weighted_mean=(\"REAL\", wm))\n",
    "media_outubro_2019"
   ]
  },
  {
   "cell_type": "code",
   "execution_count": null,
   "id": "36bd8dd4-8189-44d8-b64a-6ed62001a01d",
   "metadata": {},
   "outputs": [],
   "source": []
  },
  {
   "cell_type": "code",
   "execution_count": 44,
   "id": "ceaaf35c-26a9-493d-abab-cf4a0cc88697",
   "metadata": {
    "tags": []
   },
   "outputs": [
    {
     "data": {
      "text/html": [
       "<div>\n",
       "<style scoped>\n",
       "    .dataframe tbody tr th:only-of-type {\n",
       "        vertical-align: middle;\n",
       "    }\n",
       "\n",
       "    .dataframe tbody tr th {\n",
       "        vertical-align: top;\n",
       "    }\n",
       "\n",
       "    .dataframe thead th {\n",
       "        text-align: right;\n",
       "    }\n",
       "</style>\n",
       "<table border=\"1\" class=\"dataframe\">\n",
       "  <thead>\n",
       "    <tr style=\"text-align: right;\">\n",
       "      <th></th>\n",
       "      <th></th>\n",
       "      <th>price_weighted_mean</th>\n",
       "    </tr>\n",
       "    <tr>\n",
       "      <th>ANO</th>\n",
       "      <th>MES</th>\n",
       "      <th></th>\n",
       "    </tr>\n",
       "  </thead>\n",
       "  <tbody>\n",
       "    <tr>\n",
       "      <th>2019</th>\n",
       "      <th>10</th>\n",
       "      <td>560.817476</td>\n",
       "    </tr>\n",
       "  </tbody>\n",
       "</table>\n",
       "</div>"
      ],
      "text/plain": [
       "          price_weighted_mean\n",
       "ANO  MES                     \n",
       "2019 10            560.817476"
      ]
     },
     "execution_count": 44,
     "metadata": {},
     "output_type": "execute_result"
    }
   ],
   "source": [
    "# Aqui com os dados base julho de 2022\n",
    "wm = lambda x: np.average(x, weights=outubro_2019.loc[x.index, \"ASSENTOS\"])\n",
    "\n",
    "media_outubro_2019 = outubro_2019.groupby(['ANO', 'MES']).agg(price_weighted_mean=(\"REAL\", wm))\n",
    "media_outubro_2019"
   ]
  },
  {
   "cell_type": "code",
   "execution_count": 51,
   "id": "28ce459d-064b-4fc8-936c-089d897bc912",
   "metadata": {
    "tags": []
   },
   "outputs": [
    {
     "data": {
      "text/plain": [
       "13.82613636966195"
      ]
     },
     "execution_count": 51,
     "metadata": {},
     "output_type": "execute_result"
    }
   ],
   "source": [
    "(float(media_outubro['price_weighted_mean']) - float(media_outubro_2019['price_weighted_mean'])) / float(media_outubro_2019['price_weighted_mean']) *100"
   ]
  },
  {
   "cell_type": "markdown",
   "id": "36d34651-6ae0-4a02-82d3-7899ade68ea9",
   "metadata": {
    "tags": []
   },
   "source": [
    "# Dezembro 22 - Dezembro 2019"
   ]
  },
  {
   "cell_type": "code",
   "execution_count": 58,
   "id": "0f99187c-6784-4d35-bd7d-adb6be79ce23",
   "metadata": {
    "tags": []
   },
   "outputs": [],
   "source": [
    "dezembro = pd.read_csv(\"anac.nosync/202212.CSV\", sep=\";\", encoding=\"latin1\")\n",
    "# dezembro.columns = ['ANO', 'MES', 'EMPRESA', 'ORIGEM', 'DESTINO', 'TARIFA', 'ASSENTOS']\n",
    "dezembro.TARIFA = dezembro.TARIFA.str.replace(\",\", \".\").astype(float)\n"
   ]
  },
  {
   "cell_type": "code",
   "execution_count": 67,
   "id": "369f5463-72cb-42db-9a6b-b090ce1a5372",
   "metadata": {
    "tags": []
   },
   "outputs": [
    {
     "data": {
      "text/html": [
       "<div>\n",
       "<style scoped>\n",
       "    .dataframe tbody tr th:only-of-type {\n",
       "        vertical-align: middle;\n",
       "    }\n",
       "\n",
       "    .dataframe tbody tr th {\n",
       "        vertical-align: top;\n",
       "    }\n",
       "\n",
       "    .dataframe thead th {\n",
       "        text-align: right;\n",
       "    }\n",
       "</style>\n",
       "<table border=\"1\" class=\"dataframe\">\n",
       "  <thead>\n",
       "    <tr style=\"text-align: right;\">\n",
       "      <th></th>\n",
       "      <th></th>\n",
       "      <th>price_weighted_mean</th>\n",
       "    </tr>\n",
       "    <tr>\n",
       "      <th>ANO</th>\n",
       "      <th>MES</th>\n",
       "      <th></th>\n",
       "    </tr>\n",
       "  </thead>\n",
       "  <tbody>\n",
       "    <tr>\n",
       "      <th>2022</th>\n",
       "      <th>12</th>\n",
       "      <td>650.817921</td>\n",
       "    </tr>\n",
       "  </tbody>\n",
       "</table>\n",
       "</div>"
      ],
      "text/plain": [
       "          price_weighted_mean\n",
       "ANO  MES                     \n",
       "2022 12            650.817921"
      ]
     },
     "execution_count": 67,
     "metadata": {},
     "output_type": "execute_result"
    }
   ],
   "source": [
    "# Aqui com os dados base julho de 2022\n",
    "wm = lambda x: np.average(x, weights=dezembro.loc[x.index, \"ASSENTOS\"])\n",
    "\n",
    "media_dezembro = dezembro.groupby(['ANO', 'MES']).agg(price_weighted_mean=(\"TARIFA\", wm))\n",
    "media_dezembro"
   ]
  },
  {
   "cell_type": "code",
   "execution_count": 63,
   "id": "423285dd-df9a-4072-b6e7-fc1223f40411",
   "metadata": {
    "tags": []
   },
   "outputs": [],
   "source": [
    "dezembro_2019 = pd.read_csv(\"anac.nosync/201912.CSV\", sep=\";\", encoding=\"latin1\")\n",
    "dezembro_2019.columns = ['ANO', 'MES', 'EMPRESA', 'ORIGEM', 'DESTINO', 'TARIFA', 'ASSENTOS']\n",
    "dezembro_2019.TARIFA = dezembro_2019.TARIFA.str.replace(\",\", \".\").astype(float)"
   ]
  },
  {
   "cell_type": "code",
   "execution_count": 65,
   "id": "cf5ed1ee-0805-49a5-874b-233809999b15",
   "metadata": {
    "tags": []
   },
   "outputs": [],
   "source": [
    "dezembro_2019['REAL'] = dezembro_2019.apply(lambda row: corretor(row[\"TARIFA\"], f\"{int(row.MES)}/{int(row.ANO)}\", \"10/2022\")[0], axis=1) "
   ]
  },
  {
   "cell_type": "code",
   "execution_count": 66,
   "id": "6da3616c-e30b-43d9-a3e0-b6c220d3716d",
   "metadata": {
    "tags": []
   },
   "outputs": [
    {
     "data": {
      "text/html": [
       "<div>\n",
       "<style scoped>\n",
       "    .dataframe tbody tr th:only-of-type {\n",
       "        vertical-align: middle;\n",
       "    }\n",
       "\n",
       "    .dataframe tbody tr th {\n",
       "        vertical-align: top;\n",
       "    }\n",
       "\n",
       "    .dataframe thead th {\n",
       "        text-align: right;\n",
       "    }\n",
       "</style>\n",
       "<table border=\"1\" class=\"dataframe\">\n",
       "  <thead>\n",
       "    <tr style=\"text-align: right;\">\n",
       "      <th></th>\n",
       "      <th></th>\n",
       "      <th>price_weighted_mean</th>\n",
       "    </tr>\n",
       "    <tr>\n",
       "      <th>ANO</th>\n",
       "      <th>MES</th>\n",
       "      <th></th>\n",
       "    </tr>\n",
       "  </thead>\n",
       "  <tbody>\n",
       "    <tr>\n",
       "      <th>2019</th>\n",
       "      <th>12</th>\n",
       "      <td>531.823898</td>\n",
       "    </tr>\n",
       "  </tbody>\n",
       "</table>\n",
       "</div>"
      ],
      "text/plain": [
       "          price_weighted_mean\n",
       "ANO  MES                     \n",
       "2019 12            531.823898"
      ]
     },
     "execution_count": 66,
     "metadata": {},
     "output_type": "execute_result"
    }
   ],
   "source": [
    "# Aqui com os dados base julho de 2022\n",
    "wm = lambda x: np.average(x, weights=dezembro_2019.loc[x.index, \"ASSENTOS\"])\n",
    "\n",
    "media_dezembro_2019 = dezembro_2019.groupby(['ANO', 'MES']).agg(price_weighted_mean=(\"REAL\", wm))\n",
    "media_dezembro_2019"
   ]
  },
  {
   "cell_type": "code",
   "execution_count": 68,
   "id": "8394aae8-aaad-4fca-8785-af82cee0ab6d",
   "metadata": {
    "tags": []
   },
   "outputs": [
    {
     "data": {
      "text/plain": [
       "22.374703943441464"
      ]
     },
     "execution_count": 68,
     "metadata": {},
     "output_type": "execute_result"
    }
   ],
   "source": [
    "(float(media_dezembro['price_weighted_mean']) - float(media_dezembro_2019['price_weighted_mean'])) / float(media_dezembro_2019['price_weighted_mean']) *100"
   ]
  },
  {
   "cell_type": "code",
   "execution_count": null,
   "id": "89b240fa-8dcd-4a6b-8c7a-1f351a3df0c9",
   "metadata": {},
   "outputs": [],
   "source": []
  },
  {
   "cell_type": "code",
   "execution_count": null,
   "id": "a953805a-efc7-40c2-a299-3e305b649510",
   "metadata": {},
   "outputs": [],
   "source": []
  },
  {
   "cell_type": "code",
   "execution_count": 11,
   "id": "556f46ff-1a99-4cea-a9e9-0694559f7437",
   "metadata": {
    "tags": []
   },
   "outputs": [],
   "source": [
    "dezembro.columns = ['ANO', 'MES', 'EMPRESA', 'ORIGEM', 'DESTINO', 'TARIFA', 'ASSENTOS']"
   ]
  },
  {
   "cell_type": "code",
   "execution_count": 12,
   "id": "c7a8a932-bd2c-4764-805c-65eb3a1dc932",
   "metadata": {
    "tags": []
   },
   "outputs": [],
   "source": [
    "dezembro.TARIFA = dezembro.TARIFA.str.replace(\",\", \".\").astype(float)"
   ]
  },
  {
   "cell_type": "code",
   "execution_count": 28,
   "id": "807f94d5-497f-4066-8e6f-c9b637213869",
   "metadata": {
    "tags": []
   },
   "outputs": [
    {
     "data": {
      "text/plain": [
       "360948"
      ]
     },
     "execution_count": 28,
     "metadata": {},
     "output_type": "execute_result"
    }
   ],
   "source": [
    "len(dezembro)"
   ]
  },
  {
   "cell_type": "code",
   "execution_count": 29,
   "id": "6df1c896-1708-423a-ab86-5c5f4074ecd1",
   "metadata": {
    "tags": []
   },
   "outputs": [
    {
     "name": "stdout",
     "output_type": "stream",
     "text": [
      "CPU times: user 8min 58s, sys: 5.61 s, total: 9min 4s\n",
      "Wall time: 9min 16s\n"
     ]
    }
   ],
   "source": [
    "%%time\n",
    "dezembro['REAL'] = dezembro.apply(lambda row: corretor(row[\"TARIFA\"], f\"{int(row.MES)}/{int(row.ANO)}\", \"07/2022\")[0], axis=1) "
   ]
  },
  {
   "cell_type": "code",
   "execution_count": null,
   "id": "08483e09-f669-4902-8347-0a1ea2ceb9a3",
   "metadata": {},
   "outputs": [],
   "source": []
  },
  {
   "cell_type": "code",
   "execution_count": null,
   "id": "d86e3be5-8f6e-4687-ba96-cb29b478b65b",
   "metadata": {},
   "outputs": [],
   "source": []
  },
  {
   "cell_type": "code",
   "execution_count": 30,
   "id": "d683c7a4-5543-4aca-8b24-58e5fd7d456e",
   "metadata": {
    "tags": []
   },
   "outputs": [
    {
     "data": {
      "text/html": [
       "<div>\n",
       "<style scoped>\n",
       "    .dataframe tbody tr th:only-of-type {\n",
       "        vertical-align: middle;\n",
       "    }\n",
       "\n",
       "    .dataframe tbody tr th {\n",
       "        vertical-align: top;\n",
       "    }\n",
       "\n",
       "    .dataframe thead th {\n",
       "        text-align: right;\n",
       "    }\n",
       "</style>\n",
       "<table border=\"1\" class=\"dataframe\">\n",
       "  <thead>\n",
       "    <tr style=\"text-align: right;\">\n",
       "      <th></th>\n",
       "      <th></th>\n",
       "      <th>price_weighted_mean</th>\n",
       "    </tr>\n",
       "    <tr>\n",
       "      <th>ANO</th>\n",
       "      <th>MES</th>\n",
       "      <th></th>\n",
       "    </tr>\n",
       "  </thead>\n",
       "  <tbody>\n",
       "    <tr>\n",
       "      <th>2020</th>\n",
       "      <th>12</th>\n",
       "      <td>486.936127</td>\n",
       "    </tr>\n",
       "  </tbody>\n",
       "</table>\n",
       "</div>"
      ],
      "text/plain": [
       "          price_weighted_mean\n",
       "ANO  MES                     \n",
       "2020 12            486.936127"
      ]
     },
     "execution_count": 30,
     "metadata": {},
     "output_type": "execute_result"
    }
   ],
   "source": [
    "# Aqui com os dados base julho de 2022\n",
    "wm = lambda x: np.average(x, weights=dezembro.loc[x.index, \"ASSENTOS\"])\n",
    "\n",
    "dezembro.groupby(['ANO', 'MES']).agg(price_weighted_mean=(\"REAL\", wm))"
   ]
  },
  {
   "cell_type": "code",
   "execution_count": 27,
   "id": "cf2a4b2d-5881-4e7a-b7c6-330d3ae237aa",
   "metadata": {
    "tags": []
   },
   "outputs": [
    {
     "data": {
      "text/html": [
       "<div>\n",
       "<style scoped>\n",
       "    .dataframe tbody tr th:only-of-type {\n",
       "        vertical-align: middle;\n",
       "    }\n",
       "\n",
       "    .dataframe tbody tr th {\n",
       "        vertical-align: top;\n",
       "    }\n",
       "\n",
       "    .dataframe thead th {\n",
       "        text-align: right;\n",
       "    }\n",
       "</style>\n",
       "<table border=\"1\" class=\"dataframe\">\n",
       "  <thead>\n",
       "    <tr style=\"text-align: right;\">\n",
       "      <th></th>\n",
       "      <th></th>\n",
       "      <th>price_weighted_mean</th>\n",
       "    </tr>\n",
       "    <tr>\n",
       "      <th>ANO</th>\n",
       "      <th>MES</th>\n",
       "      <th></th>\n",
       "    </tr>\n",
       "  </thead>\n",
       "  <tbody>\n",
       "    <tr>\n",
       "      <th>2020</th>\n",
       "      <th>12</th>\n",
       "      <td>491.655068</td>\n",
       "    </tr>\n",
       "  </tbody>\n",
       "</table>\n",
       "</div>"
      ],
      "text/plain": [
       "          price_weighted_mean\n",
       "ANO  MES                     \n",
       "2020 12            491.655068"
      ]
     },
     "execution_count": 27,
     "metadata": {},
     "output_type": "execute_result"
    }
   ],
   "source": [
    "# Ver se vai dar o mesmo resultado em dezembro.\n",
    "wm = lambda x: np.average(x, weights=dezembro.loc[x.index, \"ASSENTOS\"])\n",
    "\n",
    "dezembro.groupby(['ANO', 'MES']).agg(price_weighted_mean=(\"REAL\", wm))"
   ]
  },
  {
   "cell_type": "code",
   "execution_count": 23,
   "id": "d13578d7-8859-4da9-a6d3-dcd19c1ee10c",
   "metadata": {
    "tags": []
   },
   "outputs": [
    {
     "data": {
      "text/html": [
       "<div>\n",
       "<style scoped>\n",
       "    .dataframe tbody tr th:only-of-type {\n",
       "        vertical-align: middle;\n",
       "    }\n",
       "\n",
       "    .dataframe tbody tr th {\n",
       "        vertical-align: top;\n",
       "    }\n",
       "\n",
       "    .dataframe thead th {\n",
       "        text-align: right;\n",
       "    }\n",
       "</style>\n",
       "<table border=\"1\" class=\"dataframe\">\n",
       "  <thead>\n",
       "    <tr style=\"text-align: right;\">\n",
       "      <th></th>\n",
       "      <th></th>\n",
       "      <th>price_weighted_mean</th>\n",
       "    </tr>\n",
       "    <tr>\n",
       "      <th>ANO</th>\n",
       "      <th>MES</th>\n",
       "      <th></th>\n",
       "    </tr>\n",
       "  </thead>\n",
       "  <tbody>\n",
       "    <tr>\n",
       "      <th>2020</th>\n",
       "      <th>12</th>\n",
       "      <td>491.654549</td>\n",
       "    </tr>\n",
       "  </tbody>\n",
       "</table>\n",
       "</div>"
      ],
      "text/plain": [
       "          price_weighted_mean\n",
       "ANO  MES                     \n",
       "2020 12            491.654549"
      ]
     },
     "execution_count": 23,
     "metadata": {},
     "output_type": "execute_result"
    }
   ],
   "source": [
    "# Ver se vai dar o mesmo resultado em dezembro.\n",
    "wm = lambda x: np.average(x, weights=dezembro.loc[x.index, \"ASSENTOS\"])\n",
    "\n",
    "dezembro.groupby(['ANO', 'MES']).agg(price_weighted_mean=(\"REAL\", wm))"
   ]
  },
  {
   "cell_type": "code",
   "execution_count": null,
   "id": "5c0b4695-8bce-4306-bcb7-9500188a947c",
   "metadata": {},
   "outputs": [],
   "source": []
  },
  {
   "cell_type": "code",
   "execution_count": null,
   "id": "2d6c9ab3-72c2-454c-8e67-4dd9a95bf372",
   "metadata": {},
   "outputs": [],
   "source": []
  },
  {
   "cell_type": "code",
   "execution_count": null,
   "id": "8938b7d6-9982-49a9-9f3f-328a57c41d31",
   "metadata": {},
   "outputs": [],
   "source": []
  },
  {
   "cell_type": "code",
   "execution_count": null,
   "id": "67ff7706-07a9-4437-9619-498999361382",
   "metadata": {},
   "outputs": [],
   "source": []
  },
  {
   "cell_type": "code",
   "execution_count": 51,
   "id": "9127ef31-b4f4-4770-b282-7643075058e5",
   "metadata": {
    "tags": []
   },
   "outputs": [
    {
     "name": "stdout",
     "output_type": "stream",
     "text": [
      "CPU times: user 19min 31s, sys: 12.1 s, total: 19min 43s\n",
      "Wall time: 20min 34s\n"
     ]
    }
   ],
   "source": [
    "%%time\n",
    "dezembro['REAL'] = dezembro.apply(lambda row: corretor.ipca(row[\"TARIFA\"], f\"{int(row.MES)}/{int(row.ANO)}\", \"12/2022\")[0], axis=1) "
   ]
  },
  {
   "cell_type": "code",
   "execution_count": 53,
   "id": "a6451615-9d24-452c-ae24-d3a3fa5e93e8",
   "metadata": {
    "tags": []
   },
   "outputs": [
    {
     "data": {
      "text/html": [
       "<div>\n",
       "<style scoped>\n",
       "    .dataframe tbody tr th:only-of-type {\n",
       "        vertical-align: middle;\n",
       "    }\n",
       "\n",
       "    .dataframe tbody tr th {\n",
       "        vertical-align: top;\n",
       "    }\n",
       "\n",
       "    .dataframe thead th {\n",
       "        text-align: right;\n",
       "    }\n",
       "</style>\n",
       "<table border=\"1\" class=\"dataframe\">\n",
       "  <thead>\n",
       "    <tr style=\"text-align: right;\">\n",
       "      <th></th>\n",
       "      <th>ANO</th>\n",
       "      <th>MES</th>\n",
       "      <th>EMPRESA</th>\n",
       "      <th>ORIGEM</th>\n",
       "      <th>DESTINO</th>\n",
       "      <th>TARIFA</th>\n",
       "      <th>ASSENTOS</th>\n",
       "      <th>REAL</th>\n",
       "    </tr>\n",
       "  </thead>\n",
       "  <tbody>\n",
       "    <tr>\n",
       "      <th>0</th>\n",
       "      <td>2022</td>\n",
       "      <td>12</td>\n",
       "      <td>ABJ</td>\n",
       "      <td>SBSV</td>\n",
       "      <td>SIRI</td>\n",
       "      <td>550.0</td>\n",
       "      <td>8</td>\n",
       "      <td>553.41</td>\n",
       "    </tr>\n",
       "    <tr>\n",
       "      <th>1</th>\n",
       "      <td>2022</td>\n",
       "      <td>12</td>\n",
       "      <td>ABJ</td>\n",
       "      <td>SBSV</td>\n",
       "      <td>SIRI</td>\n",
       "      <td>650.0</td>\n",
       "      <td>7</td>\n",
       "      <td>654.03</td>\n",
       "    </tr>\n",
       "    <tr>\n",
       "      <th>2</th>\n",
       "      <td>2022</td>\n",
       "      <td>12</td>\n",
       "      <td>ABJ</td>\n",
       "      <td>SBSV</td>\n",
       "      <td>SIRI</td>\n",
       "      <td>850.0</td>\n",
       "      <td>11</td>\n",
       "      <td>855.27</td>\n",
       "    </tr>\n",
       "    <tr>\n",
       "      <th>3</th>\n",
       "      <td>2022</td>\n",
       "      <td>12</td>\n",
       "      <td>ABJ</td>\n",
       "      <td>SBSV</td>\n",
       "      <td>SIRI</td>\n",
       "      <td>1050.0</td>\n",
       "      <td>7</td>\n",
       "      <td>1056.51</td>\n",
       "    </tr>\n",
       "    <tr>\n",
       "      <th>4</th>\n",
       "      <td>2022</td>\n",
       "      <td>12</td>\n",
       "      <td>ABJ</td>\n",
       "      <td>SBSV</td>\n",
       "      <td>SIRI</td>\n",
       "      <td>1250.0</td>\n",
       "      <td>3</td>\n",
       "      <td>1257.75</td>\n",
       "    </tr>\n",
       "    <tr>\n",
       "      <th>...</th>\n",
       "      <td>...</td>\n",
       "      <td>...</td>\n",
       "      <td>...</td>\n",
       "      <td>...</td>\n",
       "      <td>...</td>\n",
       "      <td>...</td>\n",
       "      <td>...</td>\n",
       "      <td>...</td>\n",
       "    </tr>\n",
       "    <tr>\n",
       "      <th>331370</th>\n",
       "      <td>2022</td>\n",
       "      <td>12</td>\n",
       "      <td>TAM</td>\n",
       "      <td>SWSI</td>\n",
       "      <td>SBVT</td>\n",
       "      <td>837.0</td>\n",
       "      <td>1</td>\n",
       "      <td>842.19</td>\n",
       "    </tr>\n",
       "    <tr>\n",
       "      <th>331371</th>\n",
       "      <td>2022</td>\n",
       "      <td>12</td>\n",
       "      <td>TAM</td>\n",
       "      <td>SWSI</td>\n",
       "      <td>SBVT</td>\n",
       "      <td>1395.0</td>\n",
       "      <td>1</td>\n",
       "      <td>1403.65</td>\n",
       "    </tr>\n",
       "    <tr>\n",
       "      <th>331372</th>\n",
       "      <td>2022</td>\n",
       "      <td>12</td>\n",
       "      <td>TAM</td>\n",
       "      <td>SWSI</td>\n",
       "      <td>SBVT</td>\n",
       "      <td>1813.9</td>\n",
       "      <td>1</td>\n",
       "      <td>1825.15</td>\n",
       "    </tr>\n",
       "    <tr>\n",
       "      <th>331373</th>\n",
       "      <td>2022</td>\n",
       "      <td>12</td>\n",
       "      <td>TAM</td>\n",
       "      <td>SWSI</td>\n",
       "      <td>SBVT</td>\n",
       "      <td>1866.0</td>\n",
       "      <td>1</td>\n",
       "      <td>1877.57</td>\n",
       "    </tr>\n",
       "    <tr>\n",
       "      <th>331374</th>\n",
       "      <td>2022</td>\n",
       "      <td>12</td>\n",
       "      <td>TAM</td>\n",
       "      <td>SWSI</td>\n",
       "      <td>SBVT</td>\n",
       "      <td>1935.9</td>\n",
       "      <td>1</td>\n",
       "      <td>1947.90</td>\n",
       "    </tr>\n",
       "  </tbody>\n",
       "</table>\n",
       "<p>331375 rows × 8 columns</p>\n",
       "</div>"
      ],
      "text/plain": [
       "         ANO  MES EMPRESA ORIGEM DESTINO  TARIFA  ASSENTOS     REAL\n",
       "0       2022   12     ABJ   SBSV    SIRI   550.0         8   553.41\n",
       "1       2022   12     ABJ   SBSV    SIRI   650.0         7   654.03\n",
       "2       2022   12     ABJ   SBSV    SIRI   850.0        11   855.27\n",
       "3       2022   12     ABJ   SBSV    SIRI  1050.0         7  1056.51\n",
       "4       2022   12     ABJ   SBSV    SIRI  1250.0         3  1257.75\n",
       "...      ...  ...     ...    ...     ...     ...       ...      ...\n",
       "331370  2022   12     TAM   SWSI    SBVT   837.0         1   842.19\n",
       "331371  2022   12     TAM   SWSI    SBVT  1395.0         1  1403.65\n",
       "331372  2022   12     TAM   SWSI    SBVT  1813.9         1  1825.15\n",
       "331373  2022   12     TAM   SWSI    SBVT  1866.0         1  1877.57\n",
       "331374  2022   12     TAM   SWSI    SBVT  1935.9         1  1947.90\n",
       "\n",
       "[331375 rows x 8 columns]"
      ]
     },
     "execution_count": 53,
     "metadata": {},
     "output_type": "execute_result"
    }
   ],
   "source": [
    "dezembro"
   ]
  },
  {
   "cell_type": "code",
   "execution_count": null,
   "id": "b2d7b699-5410-4145-a00c-3df429cfcce6",
   "metadata": {},
   "outputs": [],
   "source": []
  },
  {
   "cell_type": "code",
   "execution_count": 11,
   "id": "a11f5812-ec3a-432b-bbb5-1c0d50f5039f",
   "metadata": {
    "tags": []
   },
   "outputs": [
    {
     "name": "stdout",
     "output_type": "stream",
     "text": [
      "CPU times: user 22min 41s, sys: 15.4 s, total: 22min 56s\n",
      "Wall time: 23min 44s\n"
     ]
    }
   ],
   "source": [
    "# %%time\n",
    "# dezembro['REAL'] = dezembro.apply(lambda row: corretorOld.ipca(row[\"TARIFA\"], f\"{int(row.MES)}/{int(row.ANO)}\", \"12/2022\")[0], axis=1) "
   ]
  },
  {
   "cell_type": "code",
   "execution_count": null,
   "id": "7060b9d7-2046-44fe-b0a5-176cd3d65884",
   "metadata": {},
   "outputs": [],
   "source": []
  },
  {
   "cell_type": "code",
   "execution_count": 36,
   "id": "3b3f6ffc-3f9d-4b60-b801-edf230bdbc97",
   "metadata": {
    "tags": []
   },
   "outputs": [
    {
     "data": {
      "text/html": [
       "<div>\n",
       "<style scoped>\n",
       "    .dataframe tbody tr th:only-of-type {\n",
       "        vertical-align: middle;\n",
       "    }\n",
       "\n",
       "    .dataframe tbody tr th {\n",
       "        vertical-align: top;\n",
       "    }\n",
       "\n",
       "    .dataframe thead th {\n",
       "        text-align: right;\n",
       "    }\n",
       "</style>\n",
       "<table border=\"1\" class=\"dataframe\">\n",
       "  <thead>\n",
       "    <tr style=\"text-align: right;\">\n",
       "      <th></th>\n",
       "      <th></th>\n",
       "      <th>price_weighted_mean</th>\n",
       "    </tr>\n",
       "    <tr>\n",
       "      <th>ANO</th>\n",
       "      <th>MES</th>\n",
       "      <th></th>\n",
       "    </tr>\n",
       "  </thead>\n",
       "  <tbody>\n",
       "    <tr>\n",
       "      <th>2022</th>\n",
       "      <th>12</th>\n",
       "      <td>654.853019</td>\n",
       "    </tr>\n",
       "  </tbody>\n",
       "</table>\n",
       "</div>"
      ],
      "text/plain": [
       "          price_weighted_mean\n",
       "ANO  MES                     \n",
       "2022 12            654.853019"
      ]
     },
     "execution_count": 36,
     "metadata": {},
     "output_type": "execute_result"
    }
   ],
   "source": [
    "\n",
    "wm = lambda x: np.average(x, weights=dezembro.loc[x.index, \"ASSENTOS\"])\n",
    "\n",
    "dezembro.groupby(['ANO', 'MES']).agg(price_weighted_mean=(\"REAL\", wm))"
   ]
  },
  {
   "cell_type": "code",
   "execution_count": null,
   "id": "75ccb64b-4f2a-4ed6-94cb-cabe1d72f16e",
   "metadata": {},
   "outputs": [],
   "source": [
    "wm = lambda x: np.average(x, weights=dezembro.loc[x.index, \"ASSENTOS\"])\n",
    "\n",
    "dezembro.groupby(['ANO', 'MES']).agg(price_weighted_mean=(\"REAL\", wm))"
   ]
  },
  {
   "cell_type": "code",
   "execution_count": null,
   "id": "49579cf3-bf95-46e6-a4da-d2ea5836ac9a",
   "metadata": {},
   "outputs": [],
   "source": []
  },
  {
   "cell_type": "code",
   "execution_count": 22,
   "id": "3efc7b02-b5ed-41df-80ad-ca62788052fd",
   "metadata": {
    "tags": []
   },
   "outputs": [
    {
     "data": {
      "text/html": [
       "<div>\n",
       "<style scoped>\n",
       "    .dataframe tbody tr th:only-of-type {\n",
       "        vertical-align: middle;\n",
       "    }\n",
       "\n",
       "    .dataframe tbody tr th {\n",
       "        vertical-align: top;\n",
       "    }\n",
       "\n",
       "    .dataframe thead th {\n",
       "        text-align: right;\n",
       "    }\n",
       "</style>\n",
       "<table border=\"1\" class=\"dataframe\">\n",
       "  <thead>\n",
       "    <tr style=\"text-align: right;\">\n",
       "      <th></th>\n",
       "      <th></th>\n",
       "      <th>price_weighted_mean</th>\n",
       "    </tr>\n",
       "    <tr>\n",
       "      <th>ANO</th>\n",
       "      <th>MES</th>\n",
       "      <th></th>\n",
       "    </tr>\n",
       "  </thead>\n",
       "  <tbody>\n",
       "    <tr>\n",
       "      <th>2020</th>\n",
       "      <th>12</th>\n",
       "      <td>491.654549</td>\n",
       "    </tr>\n",
       "  </tbody>\n",
       "</table>\n",
       "</div>"
      ],
      "text/plain": [
       "          price_weighted_mean\n",
       "ANO  MES                     \n",
       "2020 12            491.654549"
      ]
     },
     "execution_count": 22,
     "metadata": {},
     "output_type": "execute_result"
    }
   ],
   "source": []
  },
  {
   "cell_type": "code",
   "execution_count": null,
   "id": "63ee370c-6ea5-482e-9ea5-54e8d9ee68ea",
   "metadata": {},
   "outputs": [],
   "source": []
  },
  {
   "cell_type": "code",
   "execution_count": null,
   "id": "df25657b-261e-4312-a913-0b73904dd96d",
   "metadata": {},
   "outputs": [],
   "source": [
    "def get_average(values, weights):\n",
    "    return float(np.average(values, weights=weights))    # function created to calculate wt. median\n"
   ]
  },
  {
   "cell_type": "code",
   "execution_count": 116,
   "id": "57d5d1eb-2397-4a87-b303-9d63cd3d60c3",
   "metadata": {
    "tags": []
   },
   "outputs": [],
   "source": [
    "df[\"real\"] = df[1:].apply(lambda row: corretor.ipca(row[\"Weighted_average\"], f\"{int(row.MES)}/{int(row.ANO)}\", \"12/2022\")[0], axis=1) "
   ]
  },
  {
   "cell_type": "code",
   "execution_count": 117,
   "id": "be9dc34f-52c4-48a9-9dc5-c723639defbd",
   "metadata": {
    "tags": []
   },
   "outputs": [
    {
     "data": {
      "text/html": [
       "<div>\n",
       "<style scoped>\n",
       "    .dataframe tbody tr th:only-of-type {\n",
       "        vertical-align: middle;\n",
       "    }\n",
       "\n",
       "    .dataframe tbody tr th {\n",
       "        vertical-align: top;\n",
       "    }\n",
       "\n",
       "    .dataframe thead th {\n",
       "        text-align: right;\n",
       "    }\n",
       "</style>\n",
       "<table border=\"1\" class=\"dataframe\">\n",
       "  <thead>\n",
       "    <tr style=\"text-align: right;\">\n",
       "      <th></th>\n",
       "      <th>ANO</th>\n",
       "      <th>MES</th>\n",
       "      <th>Total</th>\n",
       "      <th>Weighted_average</th>\n",
       "      <th>real</th>\n",
       "    </tr>\n",
       "  </thead>\n",
       "  <tbody>\n",
       "    <tr>\n",
       "      <th>244</th>\n",
       "      <td>2022</td>\n",
       "      <td>12</td>\n",
       "      <td>1826543</td>\n",
       "      <td>650.817925</td>\n",
       "      <td>NaN</td>\n",
       "    </tr>\n",
       "    <tr>\n",
       "      <th>115</th>\n",
       "      <td>2021</td>\n",
       "      <td>12</td>\n",
       "      <td>2421438</td>\n",
       "      <td>490.797236</td>\n",
       "      <td>522.98</td>\n",
       "    </tr>\n",
       "    <tr>\n",
       "      <th>110</th>\n",
       "      <td>2020</td>\n",
       "      <td>12</td>\n",
       "      <td>1868805</td>\n",
       "      <td>416.657935</td>\n",
       "      <td>491.66</td>\n",
       "    </tr>\n",
       "    <tr>\n",
       "      <th>185</th>\n",
       "      <td>2019</td>\n",
       "      <td>12</td>\n",
       "      <td>2585896</td>\n",
       "      <td>436.533702</td>\n",
       "      <td>537.32</td>\n",
       "    </tr>\n",
       "    <tr>\n",
       "      <th>197</th>\n",
       "      <td>2018</td>\n",
       "      <td>12</td>\n",
       "      <td>2498232</td>\n",
       "      <td>444.033223</td>\n",
       "      <td>564.44</td>\n",
       "    </tr>\n",
       "    <tr>\n",
       "      <th>125</th>\n",
       "      <td>2017</td>\n",
       "      <td>12</td>\n",
       "      <td>2745175</td>\n",
       "      <td>430.039663</td>\n",
       "      <td>568.77</td>\n",
       "    </tr>\n",
       "    <tr>\n",
       "      <th>147</th>\n",
       "      <td>2016</td>\n",
       "      <td>12</td>\n",
       "      <td>2839457</td>\n",
       "      <td>363.795988</td>\n",
       "      <td>494.65</td>\n",
       "    </tr>\n",
       "    <tr>\n",
       "      <th>21</th>\n",
       "      <td>2015</td>\n",
       "      <td>12</td>\n",
       "      <td>3286404</td>\n",
       "      <td>358.082682</td>\n",
       "      <td>520.90</td>\n",
       "    </tr>\n",
       "    <tr>\n",
       "      <th>52</th>\n",
       "      <td>2014</td>\n",
       "      <td>12</td>\n",
       "      <td>3915556</td>\n",
       "      <td>333.243424</td>\n",
       "      <td>535.55</td>\n",
       "    </tr>\n",
       "    <tr>\n",
       "      <th>78</th>\n",
       "      <td>2013</td>\n",
       "      <td>12</td>\n",
       "      <td>3790080</td>\n",
       "      <td>351.360833</td>\n",
       "      <td>601.69</td>\n",
       "    </tr>\n",
       "    <tr>\n",
       "      <th>32</th>\n",
       "      <td>2012</td>\n",
       "      <td>12</td>\n",
       "      <td>2897055</td>\n",
       "      <td>385.788252</td>\n",
       "      <td>698.79</td>\n",
       "    </tr>\n",
       "    <tr>\n",
       "      <th>116</th>\n",
       "      <td>2011</td>\n",
       "      <td>12</td>\n",
       "      <td>3658163</td>\n",
       "      <td>316.280132</td>\n",
       "      <td>604.59</td>\n",
       "    </tr>\n",
       "    <tr>\n",
       "      <th>5</th>\n",
       "      <td>2010</td>\n",
       "      <td>12</td>\n",
       "      <td>3244644</td>\n",
       "      <td>297.418206</td>\n",
       "      <td>606.29</td>\n",
       "    </tr>\n",
       "    <tr>\n",
       "      <th>109</th>\n",
       "      <td>2009</td>\n",
       "      <td>12</td>\n",
       "      <td>1335129</td>\n",
       "      <td>300.593676</td>\n",
       "      <td>647.30</td>\n",
       "    </tr>\n",
       "    <tr>\n",
       "      <th>72</th>\n",
       "      <td>2008</td>\n",
       "      <td>12</td>\n",
       "      <td>1277635</td>\n",
       "      <td>384.519758</td>\n",
       "      <td>862.95</td>\n",
       "    </tr>\n",
       "    <tr>\n",
       "      <th>216</th>\n",
       "      <td>2007</td>\n",
       "      <td>12</td>\n",
       "      <td>1310026</td>\n",
       "      <td>339.866535</td>\n",
       "      <td>811.47</td>\n",
       "    </tr>\n",
       "    <tr>\n",
       "      <th>34</th>\n",
       "      <td>2006</td>\n",
       "      <td>12</td>\n",
       "      <td>1223111</td>\n",
       "      <td>323.336285</td>\n",
       "      <td>804.33</td>\n",
       "    </tr>\n",
       "    <tr>\n",
       "      <th>189</th>\n",
       "      <td>2005</td>\n",
       "      <td>12</td>\n",
       "      <td>1026765</td>\n",
       "      <td>445.378145</td>\n",
       "      <td>1141.36</td>\n",
       "    </tr>\n",
       "    <tr>\n",
       "      <th>162</th>\n",
       "      <td>2004</td>\n",
       "      <td>12</td>\n",
       "      <td>1182228</td>\n",
       "      <td>445.868422</td>\n",
       "      <td>1213.64</td>\n",
       "    </tr>\n",
       "    <tr>\n",
       "      <th>62</th>\n",
       "      <td>2003</td>\n",
       "      <td>12</td>\n",
       "      <td>1169646</td>\n",
       "      <td>359.337631</td>\n",
       "      <td>1048.90</td>\n",
       "    </tr>\n",
       "    <tr>\n",
       "      <th>33</th>\n",
       "      <td>2002</td>\n",
       "      <td>12</td>\n",
       "      <td>968758</td>\n",
       "      <td>390.291394</td>\n",
       "      <td>1264.78</td>\n",
       "    </tr>\n",
       "  </tbody>\n",
       "</table>\n",
       "</div>"
      ],
      "text/plain": [
       "      ANO  MES    Total  Weighted_average     real\n",
       "244  2022   12  1826543        650.817925      NaN\n",
       "115  2021   12  2421438        490.797236   522.98\n",
       "110  2020   12  1868805        416.657935   491.66\n",
       "185  2019   12  2585896        436.533702   537.32\n",
       "197  2018   12  2498232        444.033223   564.44\n",
       "125  2017   12  2745175        430.039663   568.77\n",
       "147  2016   12  2839457        363.795988   494.65\n",
       "21   2015   12  3286404        358.082682   520.90\n",
       "52   2014   12  3915556        333.243424   535.55\n",
       "78   2013   12  3790080        351.360833   601.69\n",
       "32   2012   12  2897055        385.788252   698.79\n",
       "116  2011   12  3658163        316.280132   604.59\n",
       "5    2010   12  3244644        297.418206   606.29\n",
       "109  2009   12  1335129        300.593676   647.30\n",
       "72   2008   12  1277635        384.519758   862.95\n",
       "216  2007   12  1310026        339.866535   811.47\n",
       "34   2006   12  1223111        323.336285   804.33\n",
       "189  2005   12  1026765        445.378145  1141.36\n",
       "162  2004   12  1182228        445.868422  1213.64\n",
       "62   2003   12  1169646        359.337631  1048.90\n",
       "33   2002   12   968758        390.291394  1264.78"
      ]
     },
     "execution_count": 117,
     "metadata": {},
     "output_type": "execute_result"
    }
   ],
   "source": [
    "df[df[\"MES\"]==12]"
   ]
  },
  {
   "cell_type": "code",
   "execution_count": null,
   "id": "22b8e2af-e886-49d5-a83b-ce8b1043f7ac",
   "metadata": {},
   "outputs": [],
   "source": []
  },
  {
   "cell_type": "markdown",
   "id": "cbdb33d2-c750-4e2f-9f10-d837c7da44a3",
   "metadata": {
    "tags": []
   },
   "source": []
  },
  {
   "cell_type": "code",
   "execution_count": null,
   "id": "a76d7327-ad81-4f02-b697-e7e3b21b792d",
   "metadata": {},
   "outputs": [],
   "source": []
  },
  {
   "cell_type": "code",
   "execution_count": null,
   "id": "9ff07f2b-bac4-436d-b323-0ad3b554380f",
   "metadata": {},
   "outputs": [],
   "source": []
  },
  {
   "cell_type": "code",
   "execution_count": null,
   "id": "8e56e7d7-a42d-4891-8dee-cdbf41114b2a",
   "metadata": {},
   "outputs": [],
   "source": []
  }
 ],
 "metadata": {
  "kernelspec": {
   "display_name": "Python 3 (ipykernel)",
   "language": "python",
   "name": "python3"
  },
  "language_info": {
   "codemirror_mode": {
    "name": "ipython",
    "version": 3
   },
   "file_extension": ".py",
   "mimetype": "text/x-python",
   "name": "python",
   "nbconvert_exporter": "python",
   "pygments_lexer": "ipython3",
   "version": "3.10.11"
  }
 },
 "nbformat": 4,
 "nbformat_minor": 5
}
