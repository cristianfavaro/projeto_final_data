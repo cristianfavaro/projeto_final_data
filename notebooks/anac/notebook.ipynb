{
 "cells": [
  {
   "cell_type": "markdown",
   "id": "dba3c578-df2a-4448-911b-5c220dd71614",
   "metadata": {
    "tags": []
   },
   "source": [
    "# Projeto Final \n",
    "## Master em Jornalismo de Dados - Insper\n",
    "\n",
    "Trabalho apresentado na conclusão do Master em Jornalismo de Dados do Insper em 2023. O projeto foi ministrado pelo professor Eduardo Vicente Gonçalves.  \n",
    "\n",
    "### O Projeto\n",
    "\n",
    "A ideia do trabalho surgiu da minha cobertura como setorista de companhias aéreas para o Valor Econômico. Uma dos temas mais presentes no noticiário é o preço da passagem aérea. As tarifas dispararam nos últimos anos por causa dos impactos da pandemia e do efeito da invasão da Rússia na Ucrânia sobre o petróleo. \n",
    "\n",
    "A Anac faz um monitoramento intensivo das tarifas, que é disponibilizado em um dashboard interativo bastante eficiente (https://www.gov.br/anac/pt-br/assuntos/dados-e-estatisticas/mercado-do-transporte-aereo), na aba Tarifas Aéreas Domésticas e Tarifas Aéreas Internacionais).\n",
    "\n",
    "O problema é que eu gostaria de fazer os meus próprios cruzamentos com os microdados e também trabalhar com novas visualizações. \n",
    "\n",
    "#### Os Dados\n",
    "\n",
    "A Anac recolhe das companhias aéreas comerciais uma série de dados mensalmente para calcular a oferta e demanda por transporte, assim como a evolução das tarifas. No caso das tarifas, os dados representam uma fatia de cerca de 35% do total de passageiros transportados (a depender do mês). Esse recorde ocorre, conforme explica a Anac, porque os dados abrangem todas as passagens vendidas ao “público adulto em geral”, excluindo aquelas adquiridas com descontos restritos a grupos específicos, programas de milhagem, entre outras condições. \n",
    "\n",
    "As variáveis são diretas:\n",
    "- ANO e MES: mês e ano da venda das passagens, independentemente da data do voo;\n",
    "- EMPRESA: (empresa que vendeu a passagem);\n",
    "- ORIGEM e DESTINO;\n",
    "- TARIFA (em reais);\n",
    "- ASSENTOS: por exemplo, uma linha com venda da Azul no mês de janeiro de 2023 por 500 reais com um número de assentos de 9 signifca que, naquele mês a empresa vendeu 9 assentos por 500 reais naquela rota. \n",
    "\n",
    "Os microdados estão disponíveis no seguinte link: https://sas.anac.gov.br/sas/downloads/view/frmDownload.aspx\n",
    "\n",
    "### Ferramentas - Spark\n",
    "\n",
    "A base completa - janeiro de 2002 a dezembro de 2022 - tem mais de 55 milhões de registros distribuídos em 250 arquivos. Desta forma, abrir o arquivo no Pandas não seria viável na memória do computador. \n",
    "\n",
    "Para cruzar os dados, resolvi usar o Pyspark - interface Python para Spark e é um projeto Apache de plataforma cruzada de código aberto. \n",
    "\n",
    "### Docker\n",
    "O Spark é bastante simples de ser iniciado via Docker, método escolhido para este projeto. \n",
    "Basta clonar o repositório. Na pasta principal, digite `docker-compose up --build -d` - com isso o Docker vai construir os containeres, iniciar o sistema e manter o terminal livre (detached, ou -d). Ele vai iniciar o Spark, assim como um Worker para processar os dados. \n",
    "\n",
    "### Jupyterhttp://localhost:8888/lab\n",
    "O Docker vai criar também um Jupyter, que pode ser acessado pelo seguinte endereço: http://localhost:8888/\n",
    "Aqui vai ser possível navegar pela pasta Anac e encontrar os notebooks, assim como os arquivos. "
   ]
  },
  {
   "cell_type": "markdown",
   "id": "1ae013e3-7a13-44ee-bf15-2baf52da648d",
   "metadata": {},
   "source": [
    "# Limpeza dos Dados\n",
    "\n",
    "O primeiro desafio encontrado foi a limpeza dos dados. \n",
    "Minha máquina acabou não suportando todos os processamentos necessários no dado. Entre eles, preciso transformar variáveis, ajustar alguns CSVs com formatação e header errados. O principal desafio está na correção monetária: por padrão a Anac atualiza todos os bilhetes comercializados desde 2002 pelo IPCA acumulado no mês da última divulgação. "
   ]
  },
  {
   "cell_type": "code",
   "execution_count": 1,
   "id": "db230f58-80ca-481c-91c9-35142d281a37",
   "metadata": {
    "tags": []
   },
   "outputs": [],
   "source": [
    "import numpy as np\n",
    "import pandas as pd\n",
    "import glob\n"
   ]
  },
  {
   "cell_type": "markdown",
   "id": "b19666cc-e6d4-4f4a-a460-cb730a4ee3e5",
   "metadata": {
    "tags": []
   },
   "source": [
    "# Ajustando dados e trazendo tudo a valor presente\n",
    "Um dos desafios mais legais foi pensar em uma função para ajustar os valores pelo IPCA.\n",
    "Por se tratar de uma função que seria executada literalmente milhares de vezes, ela teria de ser rápida e bastante eficiente. \n",
    "A primeira versão corrigiu todos os dados de uma tabela de cerca de 330 mil entradas em cerca de 20 minutos. A segunda, conseguiu fazer o mesmo trabalho em cerca de 1,3 minuto - um salto bastante significativo para uma base com 250 CSVs, sendo cada um variando entre 200 mil e 500 mil entradas cada. "
   ]
  },
  {
   "cell_type": "code",
   "execution_count": null,
   "id": "13211b2c-3a72-4a27-a4e2-a9affd232061",
   "metadata": {
    "tags": []
   },
   "outputs": [],
   "source": [
    "#Função criada para ajustar os valores individualmente. Ela foi testada com base na Calculadora do BC. \n",
    "from udfs import ipca"
   ]
  },
  {
   "cell_type": "code",
   "execution_count": null,
   "id": "24c14334-5a34-4755-930a-8ef63b82d033",
   "metadata": {
    "tags": []
   },
   "outputs": [
    {
     "name": "stdout",
     "output_type": "stream",
     "text": [
      "Processando tabela anac.nosync/201305.CSV"
     ]
    }
   ],
   "source": [
    "%%time\n",
    "def update_db(month_ipca):\n",
    "    \"\"\"\n",
    "    Função que pega os CSVs individualmente, limpa os dados e corrige a tarifa pelo IPCA do parâmetro month_ipca. \n",
    "    A data precisa ser no formato \"MM/YYYY\"\n",
    "    \"\"\"\n",
    "    \n",
    "    files = glob.glob(\"anac.nosync/*.CSV\")\n",
    "    \n",
    "    for file in files:\n",
    "        print(f\"\\r>>Processando tabela {file}\", end=\"\")\n",
    "        df = pd.read_csv(file, sep=\";\", encoding='latin1')\n",
    "        df = df.loc[:, ~df.columns.str.contains('^Unnamed')]\n",
    "        df.columns = [\"ANO\",\"MES\",\"EMPRESA\",\"ORIGEM\",\"DESTINO\",\"TARIFA\",\"ASSENTOS\"]\n",
    "        df.TARIFA = df.TARIFA.str.replace(\",\", \".\").astype(float).copy()\n",
    "\n",
    "        if file == files[-1]:    \n",
    "            df['REAL'] = df['TARIFA'].copy()\n",
    "        else:\n",
    "            df['REAL'] = df.apply(lambda row: ipca(row[\"TARIFA\"], f\"{row['MES']}/{row['ANO']}\", month_ipca)[0], axis=1)\n",
    "\n",
    "        df.to_csv(f\"anac.nosync/real/{file.split('/')[1]}.csv\", index=False, sep=\";\")\n",
    "\n",
    "#update_db(\"12/2022\")"
   ]
  },
  {
   "cell_type": "markdown",
   "id": "8a804da9-f5b4-4414-8883-fea0e958afdd",
   "metadata": {},
   "source": [
    "# Começando com o Spark\n",
    "Lider com o Spark foi outro desafio.\n",
    "Ele demnanda uma série de configurações completas e ajustar tudo ao meu computador foi trabalhoso. Mas consegui encontrar uma saída (com este Docker container, inspirado em um projeto do github (link nas referências). "
   ]
  },
  {
   "cell_type": "code",
   "execution_count": 73,
   "id": "1ac49467-e902-4487-9046-e47114a22f92",
   "metadata": {
    "tags": []
   },
   "outputs": [
    {
     "name": "stderr",
     "output_type": "stream",
     "text": [
      "Setting default log level to \"WARN\".\n",
      "To adjust logging level use sc.setLogLevel(newLevel). For SparkR, use setLogLevel(newLevel).\n"
     ]
    },
    {
     "name": "stdout",
     "output_type": "stream",
     "text": [
      "23/04/11 20:49:32 WARN NativeCodeLoader: Unable to load native-hadoop library for your platform... using builtin-java classes where applicable\n"
     ]
    }
   ],
   "source": [
    "from pyspark.sql import SparkSession\n",
    "from pyspark.conf import SparkConf\n",
    "import pyspark.sql.functions as f\n",
    "\n",
    "conf = SparkConf()\n",
    "# conf.set(\"spark.eventLog.enabled\", False)\n",
    "# conf.set(\"spark.eventLog.dir\", \"/opt/spark/spark-events\")\n",
    "# conf.set(\"spark.history.fs.logDirectory\", \"/opt/spark/spark-events\")\n",
    "# conf.set(\"spark.executor.memory\", \"1024m\")\n",
    "# conf.set(\"spark.sql.autoBroadcastJoinThreshold\", -1)\n",
    "# conf.set(\"spark.sparkContext.setLogLevel\", \"ERROR\")\n",
    "\n",
    "spark = SparkSession.\\\n",
    "        builder.\\\n",
    "        appName(\"pyspark-anac\").\\\n",
    "        master(\"spark://spark-master:7077\").\\\n",
    "        config(conf=conf).\\\n",
    "        getOrCreate()"
   ]
  },
  {
   "cell_type": "code",
   "execution_count": 74,
   "id": "9bb6d2b5-7a20-442f-b60a-fa493c8d2b40",
   "metadata": {
    "tags": []
   },
   "outputs": [
    {
     "data": {
      "text/html": [
       "\n",
       "            <div>\n",
       "                <p><b>SparkSession - in-memory</b></p>\n",
       "                \n",
       "        <div>\n",
       "            <p><b>SparkContext</b></p>\n",
       "\n",
       "            <p><a href=\"http://fc689d46dee8:4040\">Spark UI</a></p>\n",
       "\n",
       "            <dl>\n",
       "              <dt>Version</dt>\n",
       "                <dd><code>v3.3.2</code></dd>\n",
       "              <dt>Master</dt>\n",
       "                <dd><code>spark://spark-master:7077</code></dd>\n",
       "              <dt>AppName</dt>\n",
       "                <dd><code>pyspark-anac</code></dd>\n",
       "            </dl>\n",
       "        </div>\n",
       "        \n",
       "            </div>\n",
       "        "
      ],
      "text/plain": [
       "<pyspark.sql.session.SparkSession at 0x7f4bebeebf70>"
      ]
     },
     "execution_count": 74,
     "metadata": {},
     "output_type": "execute_result"
    }
   ],
   "source": [
    "spark\n",
    "# sc = spark.sparkContext\n",
    "# sc.addPyFile(\"/opt/notebooks/udfs.py\")"
   ]
  },
  {
   "cell_type": "markdown",
   "id": "ac062851-2051-4fb9-bbaa-661619bb8579",
   "metadata": {},
   "source": [
    "## Construindo o Schema\n",
    "Parte importante para definir os tipos de arquivos. Uma boa definição ajuda o programa a rodar significativamente mais rápido. "
   ]
  },
  {
   "cell_type": "code",
   "execution_count": 75,
   "id": "d1b260d6-3ef9-4bf9-aa73-78ea0addab4c",
   "metadata": {
    "tags": []
   },
   "outputs": [],
   "source": [
    "from pyspark.sql.types import IntegerType, StringType, FloatType\n",
    "\n",
    "schema = StructType(\n",
    "    [\n",
    "        StructField('ANO', IntegerType(), True), \n",
    "        StructField('MES', IntegerType(), True), \n",
    "        StructField('EMPRESA', StringType(), True), \n",
    "        StructField('ORIGEM', StringType(), True), \n",
    "        StructField('DESTINO', StringType(), True), \n",
    "        StructField('TARIFA', FloatType(), True), \n",
    "        StructField('ASSENTOS', IntegerType(), True),\n",
    "        StructField('REAL', FloatType(), True),\n",
    "    ]\n",
    ")"
   ]
  },
  {
   "cell_type": "markdown",
   "id": "f64f26a0-8e65-4507-96ac-53ab01921a23",
   "metadata": {},
   "source": [
    "Agora vamos ler todos os arquivos editados de uma só vez. Isso é possível com o \"*\" antes do \".csv\", que significa que o Spark irá ler todos os arquivos CSVs no diretório. Importante: todos precisam ter a mesma quantidade de colunas."
   ]
  },
  {
   "cell_type": "code",
   "execution_count": 76,
   "id": "29eb77d4-d6f5-451d-927a-35e33b25664d",
   "metadata": {
    "tags": []
   },
   "outputs": [
    {
     "name": "stderr",
     "output_type": "stream",
     "text": [
      "                                                                                \r"
     ]
    }
   ],
   "source": [
    "sdf = spark.read.csv('anac.nosync/real/*.csv', header=True, sep=\";\", schema=schema)"
   ]
  },
  {
   "cell_type": "code",
   "execution_count": 78,
   "id": "231dcd40-c790-4a4f-95d3-1647a1ce985c",
   "metadata": {
    "tags": []
   },
   "outputs": [
    {
     "name": "stderr",
     "output_type": "stream",
     "text": [
      "                                                                                \r"
     ]
    },
    {
     "data": {
      "text/plain": [
       "55291652"
      ]
     },
     "execution_count": 78,
     "metadata": {},
     "output_type": "execute_result"
    }
   ],
   "source": [
    "#Vamos contar a quantidade de linhas\n",
    "sdf.count()"
   ]
  },
  {
   "cell_type": "code",
   "execution_count": null,
   "id": "fd8210c5-b5f1-432f-909e-378803f604a2",
   "metadata": {},
   "outputs": [],
   "source": [
    "#Uma breve análise exploratória dos dados\n",
    "sdf.summary()"
   ]
  },
  {
   "cell_type": "code",
   "execution_count": 79,
   "id": "48661561-293f-4d4d-bb79-869dd64aa16f",
   "metadata": {
    "tags": []
   },
   "outputs": [
    {
     "name": "stderr",
     "output_type": "stream",
     "text": [
      "[Stage 4:===============================================>         (20 + 2) / 24]\r"
     ]
    },
    {
     "name": "stdout",
     "output_type": "stream",
     "text": [
      "+----+---+-------+------+-------+------+--------+------+\n",
      "| ANO|MES|EMPRESA|ORIGEM|DESTINO|TARIFA|ASSENTOS|  REAL|\n",
      "+----+---+-------+------+-------+------+--------+------+\n",
      "|2021| 10|    AZU|  SBAC|   SBAR| 565.9|       1|616.34|\n",
      "|2021| 10|    AZU|  SBAC|   SBBR| 409.9|       1|446.44|\n",
      "|2021| 10|    AZU|  SBAC|   SBBV| 748.9|       4|815.66|\n",
      "+----+---+-------+------+-------+------+--------+------+\n",
      "\n"
     ]
    },
    {
     "name": "stderr",
     "output_type": "stream",
     "text": [
      "                                                                                \r"
     ]
    }
   ],
   "source": [
    "#Vendo apenas as primeiras três linhas da tabela. \n",
    "sdf.limit(3).show()"
   ]
  },
  {
   "cell_type": "markdown",
   "id": "ba75d015-6af6-4a40-8b4f-f1837bd60cc8",
   "metadata": {
    "tags": []
   },
   "source": [
    "# Ajustar todos os valanac.nosync/ pela inflação de Dezembro de 2022\n",
    "\n",
    "Nao funciona aqui por questão de processamento. Por isso, exacutamos via pandas e editando e corrigindo os arquivos individualmente. \n",
    "\n",
    "```\n",
    "def valor_real(value, date_start):\n",
    "    return ipca(value, date_start, \"12/2022\")[0]\n",
    "\n",
    "vreal = f.udf(valor_real, DoubleType())    # registering as udf here\n",
    "\n",
    "\n",
    "sdf = sdf.withColumn(\n",
    "    'REAL',\n",
    "    vreal(\n",
    "        f.col(\"TARIFA\"), \n",
    "        f.concat(f.col(\"MES\"), f.lit(\"/\"), f.col(\"ANO\")),\n",
    "    )\n",
    ")\n",
    "\n",
    "sdf = sdf.select(\"ANO\", \"MES\", \"ASSENTOS\", \"REAL\")\n",
    "````\n"
   ]
  },
  {
   "cell_type": "markdown",
   "id": "1cd7c6a9-b608-4c8e-abe1-f1ac0bfe51cb",
   "metadata": {
    "tags": []
   },
   "source": [
    "# Dado final\n",
    "\n",
    "## Agrupamento por ano e mês\n",
    "Primeiro vamos agrupar os dados pelas informações que a gente quer. No caso vamos pegar as tarifas médias por mês. "
   ]
  },
  {
   "cell_type": "code",
   "execution_count": 80,
   "id": "bd804445-6423-4905-94a4-b9c2e3c58398",
   "metadata": {
    "tags": []
   },
   "outputs": [],
   "source": [
    "data = sdf.groupby(\"ANO\", \"MES\").agg(\n",
    "    f.sum(\"ASSENTOS\").alias(\"TOTAL\"),\n",
    "    f.collect_list(f.col('REAL')),\n",
    "    f.collect_list(f.col('ASSENTOS')),\n",
    ")"
   ]
  },
  {
   "cell_type": "code",
   "execution_count": 81,
   "id": "f2fb3e6c-edc3-4dc5-9d84-c560732e86fc",
   "metadata": {
    "tags": []
   },
   "outputs": [],
   "source": [
    "#precisamos de uma média ponderada para calcular a real representatividade das tarifas considerando o número de assentos. \n",
    "def get_average(values, weights):\n",
    "    return float(np.average(values, weights=weights)) \n",
    "\n",
    "waverage = f.udf(get_average, DoubleType())    # registering as udf here\n",
    "\n",
    "data = data.withColumn(\n",
    "    'Weighted_average',\n",
    "    waverage(\n",
    "        f.col(\"collect_list(REAL)\"), f.col(\"collect_list(ASSENTOS)\")\n",
    "    )\n",
    ")"
   ]
  },
  {
   "cell_type": "code",
   "execution_count": 82,
   "id": "9348ea3c-bf62-4673-a498-96c90a6e5f55",
   "metadata": {
    "tags": []
   },
   "outputs": [
    {
     "data": {
      "text/plain": [
       "DataFrame[ANO: int, MES: int, TOTAL: bigint, collect_list(REAL): array<float>, collect_list(ASSENTOS): array<int>, Weighted_average: double]"
      ]
     },
     "execution_count": 82,
     "metadata": {},
     "output_type": "execute_result"
    }
   ],
   "source": [
    "data.cache() #salvando a base no cache para usar depois. "
   ]
  },
  {
   "cell_type": "code",
   "execution_count": 83,
   "id": "ed437120-4510-4728-ae95-f508076ee123",
   "metadata": {
    "tags": []
   },
   "outputs": [
    {
     "name": "stderr",
     "output_type": "stream",
     "text": [
      "                                                                                \r"
     ]
    },
    {
     "name": "stdout",
     "output_type": "stream",
     "text": [
      "+----+---+-------+--------------------+----------------------+-----------------+\n",
      "| ANO|MES|  TOTAL|  collect_list(REAL)|collect_list(ASSENTOS)| Weighted_average|\n",
      "+----+---+-------+--------------------+----------------------+-----------------+\n",
      "|2022| 10|2450901|[1067.1, 660.59, ...|  [1, 2, 3, 26, 8, ...|648.7533683010134|\n",
      "|2012| 10|4443441|[553.07, 1109.43,...|  [2, 1, 1, 2, 1, 7...|567.5236231638822|\n",
      "|2007|  6|1366528|[459.67, 1140.66,...|  [103, 10, 56, 7, ...|681.8399205044295|\n",
      "+----+---+-------+--------------------+----------------------+-----------------+\n",
      "\n"
     ]
    }
   ],
   "source": [
    "data.limit(3).show()"
   ]
  },
  {
   "cell_type": "code",
   "execution_count": null,
   "id": "6d27556f-8ffc-4f1f-acc1-a9bd95e864d6",
   "metadata": {},
   "outputs": [],
   "source": [
    "#Jogando para CSV para futura consulta sem precisar rodar de novo\n",
    "data.select(\"ANO\", \"MES\", \"TOTAL\", \"Weighted_average\")\\\n",
    "    .repartition(1)\\\n",
    "    .write.format(\"com.databricks.spark.csv\")\\\n",
    "    .option(\"header\", \"true\")\\\n",
    "    .save(\"tarifa_real.csv\")"
   ]
  },
  {
   "cell_type": "markdown",
   "id": "c1ea42c6-4697-4a73-a1ec-985457a5b090",
   "metadata": {
    "tags": []
   },
   "source": [
    "### Análise - Tarifas mensais. \n",
    "- Criar gráficos mostrando a evolução das tarifas"
   ]
  },
  {
   "cell_type": "code",
   "execution_count": 88,
   "id": "d7170be5-e21d-4fe8-a243-4015e69264a5",
   "metadata": {
    "tags": []
   },
   "outputs": [
    {
     "data": {
      "text/html": [
       "<div>\n",
       "<style scoped>\n",
       "    .dataframe tbody tr th:only-of-type {\n",
       "        vertical-align: middle;\n",
       "    }\n",
       "\n",
       "    .dataframe tbody tr th {\n",
       "        vertical-align: top;\n",
       "    }\n",
       "\n",
       "    .dataframe thead th {\n",
       "        text-align: right;\n",
       "    }\n",
       "</style>\n",
       "<table border=\"1\" class=\"dataframe\">\n",
       "  <thead>\n",
       "    <tr style=\"text-align: right;\">\n",
       "      <th></th>\n",
       "      <th>ANO</th>\n",
       "      <th>MES</th>\n",
       "      <th>TOTAL</th>\n",
       "      <th>Weighted_average</th>\n",
       "    </tr>\n",
       "  </thead>\n",
       "  <tbody>\n",
       "    <tr>\n",
       "      <th>243</th>\n",
       "      <td>2022</td>\n",
       "      <td>12</td>\n",
       "      <td>1826543</td>\n",
       "      <td>654.853020</td>\n",
       "    </tr>\n",
       "    <tr>\n",
       "      <th>92</th>\n",
       "      <td>2022</td>\n",
       "      <td>11</td>\n",
       "      <td>2456623</td>\n",
       "      <td>641.613440</td>\n",
       "    </tr>\n",
       "    <tr>\n",
       "      <th>0</th>\n",
       "      <td>2022</td>\n",
       "      <td>10</td>\n",
       "      <td>2450901</td>\n",
       "      <td>648.753368</td>\n",
       "    </tr>\n",
       "    <tr>\n",
       "      <th>220</th>\n",
       "      <td>2022</td>\n",
       "      <td>9</td>\n",
       "      <td>2124662</td>\n",
       "      <td>707.491415</td>\n",
       "    </tr>\n",
       "    <tr>\n",
       "      <th>248</th>\n",
       "      <td>2022</td>\n",
       "      <td>8</td>\n",
       "      <td>2080709</td>\n",
       "      <td>694.486447</td>\n",
       "    </tr>\n",
       "    <tr>\n",
       "      <th>...</th>\n",
       "      <td>...</td>\n",
       "      <td>...</td>\n",
       "      <td>...</td>\n",
       "      <td>...</td>\n",
       "    </tr>\n",
       "    <tr>\n",
       "      <th>56</th>\n",
       "      <td>2002</td>\n",
       "      <td>5</td>\n",
       "      <td>1139840</td>\n",
       "      <td>726.007524</td>\n",
       "    </tr>\n",
       "    <tr>\n",
       "      <th>185</th>\n",
       "      <td>2002</td>\n",
       "      <td>4</td>\n",
       "      <td>1158974</td>\n",
       "      <td>743.106776</td>\n",
       "    </tr>\n",
       "    <tr>\n",
       "      <th>11</th>\n",
       "      <td>2002</td>\n",
       "      <td>3</td>\n",
       "      <td>1226532</td>\n",
       "      <td>787.954982</td>\n",
       "    </tr>\n",
       "    <tr>\n",
       "      <th>158</th>\n",
       "      <td>2002</td>\n",
       "      <td>2</td>\n",
       "      <td>1150345</td>\n",
       "      <td>843.791893</td>\n",
       "    </tr>\n",
       "    <tr>\n",
       "      <th>196</th>\n",
       "      <td>2002</td>\n",
       "      <td>1</td>\n",
       "      <td>1312446</td>\n",
       "      <td>877.889162</td>\n",
       "    </tr>\n",
       "  </tbody>\n",
       "</table>\n",
       "<p>252 rows × 4 columns</p>\n",
       "</div>"
      ],
      "text/plain": [
       "      ANO  MES    TOTAL  Weighted_average\n",
       "243  2022   12  1826543        654.853020\n",
       "92   2022   11  2456623        641.613440\n",
       "0    2022   10  2450901        648.753368\n",
       "220  2022    9  2124662        707.491415\n",
       "248  2022    8  2080709        694.486447\n",
       "..    ...  ...      ...               ...\n",
       "56   2002    5  1139840        726.007524\n",
       "185  2002    4  1158974        743.106776\n",
       "11   2002    3  1226532        787.954982\n",
       "158  2002    2  1150345        843.791893\n",
       "196  2002    1  1312446        877.889162\n",
       "\n",
       "[252 rows x 4 columns]"
      ]
     },
     "execution_count": 88,
     "metadata": {},
     "output_type": "execute_result"
    }
   ],
   "source": [
    "df_final = data.select(\"ANO\", \"MES\", \"TOTAL\", \"Weighted_average\").toPandas()\n",
    "df_final.sort_values([\"ANO\", \"MES\"], ascending=False)"
   ]
  },
  {
   "cell_type": "markdown",
   "id": "f9dae830-f6cb-498b-8c34-d7bef677ab2f",
   "metadata": {
    "tags": []
   },
   "source": [
    "## Tarifa por companhia aérea\n",
    "- Criar gráfico por companhia aérea"
   ]
  },
  {
   "cell_type": "code",
   "execution_count": null,
   "id": "a5b56693-4982-4cfc-af86-74869e7b84b6",
   "metadata": {},
   "outputs": [],
   "source": []
  },
  {
   "cell_type": "code",
   "execution_count": null,
   "id": "a5286155-69d9-429d-a631-3b84bd736c10",
   "metadata": {},
   "outputs": [],
   "source": []
  },
  {
   "cell_type": "code",
   "execution_count": 131,
   "id": "f0444093-bec9-499a-b23d-2e1794e7cbd0",
   "metadata": {
    "tags": []
   },
   "outputs": [
    {
     "data": {
      "text/html": [
       "<div>\n",
       "<style scoped>\n",
       "    .dataframe tbody tr th:only-of-type {\n",
       "        vertical-align: middle;\n",
       "    }\n",
       "\n",
       "    .dataframe tbody tr th {\n",
       "        vertical-align: top;\n",
       "    }\n",
       "\n",
       "    .dataframe thead th {\n",
       "        text-align: right;\n",
       "    }\n",
       "</style>\n",
       "<table border=\"1\" class=\"dataframe\">\n",
       "  <thead>\n",
       "    <tr style=\"text-align: right;\">\n",
       "      <th></th>\n",
       "      <th>ANO</th>\n",
       "      <th>MES</th>\n",
       "      <th>TOTAL</th>\n",
       "      <th>Weighted_average</th>\n",
       "    </tr>\n",
       "  </thead>\n",
       "  <tbody>\n",
       "    <tr>\n",
       "      <th>0</th>\n",
       "      <td>2022</td>\n",
       "      <td>10</td>\n",
       "      <td>2450901</td>\n",
       "      <td>648.753368</td>\n",
       "    </tr>\n",
       "    <tr>\n",
       "      <th>35</th>\n",
       "      <td>2021</td>\n",
       "      <td>10</td>\n",
       "      <td>3402952</td>\n",
       "      <td>611.229469</td>\n",
       "    </tr>\n",
       "    <tr>\n",
       "      <th>195</th>\n",
       "      <td>2020</td>\n",
       "      <td>10</td>\n",
       "      <td>2106124</td>\n",
       "      <td>510.975563</td>\n",
       "    </tr>\n",
       "    <tr>\n",
       "      <th>7</th>\n",
       "      <td>2019</td>\n",
       "      <td>10</td>\n",
       "      <td>3387866</td>\n",
       "      <td>566.608174</td>\n",
       "    </tr>\n",
       "    <tr>\n",
       "      <th>19</th>\n",
       "      <td>2018</td>\n",
       "      <td>10</td>\n",
       "      <td>3242480</td>\n",
       "      <td>532.268112</td>\n",
       "    </tr>\n",
       "    <tr>\n",
       "      <th>18</th>\n",
       "      <td>2017</td>\n",
       "      <td>10</td>\n",
       "      <td>3556089</td>\n",
       "      <td>522.318945</td>\n",
       "    </tr>\n",
       "    <tr>\n",
       "      <th>118</th>\n",
       "      <td>2016</td>\n",
       "      <td>10</td>\n",
       "      <td>3143825</td>\n",
       "      <td>544.979843</td>\n",
       "    </tr>\n",
       "    <tr>\n",
       "      <th>134</th>\n",
       "      <td>2015</td>\n",
       "      <td>10</td>\n",
       "      <td>3737626</td>\n",
       "      <td>553.915428</td>\n",
       "    </tr>\n",
       "    <tr>\n",
       "      <th>48</th>\n",
       "      <td>2014</td>\n",
       "      <td>10</td>\n",
       "      <td>4571031</td>\n",
       "      <td>530.376370</td>\n",
       "    </tr>\n",
       "    <tr>\n",
       "      <th>60</th>\n",
       "      <td>2013</td>\n",
       "      <td>10</td>\n",
       "      <td>4527674</td>\n",
       "      <td>608.515879</td>\n",
       "    </tr>\n",
       "    <tr>\n",
       "      <th>1</th>\n",
       "      <td>2012</td>\n",
       "      <td>10</td>\n",
       "      <td>4443441</td>\n",
       "      <td>567.523623</td>\n",
       "    </tr>\n",
       "    <tr>\n",
       "      <th>205</th>\n",
       "      <td>2011</td>\n",
       "      <td>10</td>\n",
       "      <td>4074656</td>\n",
       "      <td>583.431542</td>\n",
       "    </tr>\n",
       "    <tr>\n",
       "      <th>163</th>\n",
       "      <td>2010</td>\n",
       "      <td>10</td>\n",
       "      <td>4085497</td>\n",
       "      <td>560.076056</td>\n",
       "    </tr>\n",
       "    <tr>\n",
       "      <th>122</th>\n",
       "      <td>2009</td>\n",
       "      <td>10</td>\n",
       "      <td>1057652</td>\n",
       "      <td>676.937588</td>\n",
       "    </tr>\n",
       "    <tr>\n",
       "      <th>74</th>\n",
       "      <td>2008</td>\n",
       "      <td>10</td>\n",
       "      <td>1389831</td>\n",
       "      <td>927.750215</td>\n",
       "    </tr>\n",
       "    <tr>\n",
       "      <th>39</th>\n",
       "      <td>2007</td>\n",
       "      <td>10</td>\n",
       "      <td>1647593</td>\n",
       "      <td>796.448640</td>\n",
       "    </tr>\n",
       "    <tr>\n",
       "      <th>87</th>\n",
       "      <td>2006</td>\n",
       "      <td>10</td>\n",
       "      <td>1297628</td>\n",
       "      <td>1032.926297</td>\n",
       "    </tr>\n",
       "    <tr>\n",
       "      <th>16</th>\n",
       "      <td>2005</td>\n",
       "      <td>10</td>\n",
       "      <td>1291427</td>\n",
       "      <td>1019.206452</td>\n",
       "    </tr>\n",
       "    <tr>\n",
       "      <th>41</th>\n",
       "      <td>2004</td>\n",
       "      <td>10</td>\n",
       "      <td>1280900</td>\n",
       "      <td>1250.120967</td>\n",
       "    </tr>\n",
       "    <tr>\n",
       "      <th>42</th>\n",
       "      <td>2003</td>\n",
       "      <td>10</td>\n",
       "      <td>1233426</td>\n",
       "      <td>1073.477536</td>\n",
       "    </tr>\n",
       "    <tr>\n",
       "      <th>212</th>\n",
       "      <td>2002</td>\n",
       "      <td>10</td>\n",
       "      <td>1099671</td>\n",
       "      <td>1078.384575</td>\n",
       "    </tr>\n",
       "  </tbody>\n",
       "</table>\n",
       "</div>"
      ],
      "text/plain": [
       "      ANO  MES    TOTAL  Weighted_average\n",
       "0    2022   10  2450901        648.753368\n",
       "35   2021   10  3402952        611.229469\n",
       "195  2020   10  2106124        510.975563\n",
       "7    2019   10  3387866        566.608174\n",
       "19   2018   10  3242480        532.268112\n",
       "18   2017   10  3556089        522.318945\n",
       "118  2016   10  3143825        544.979843\n",
       "134  2015   10  3737626        553.915428\n",
       "48   2014   10  4571031        530.376370\n",
       "60   2013   10  4527674        608.515879\n",
       "1    2012   10  4443441        567.523623\n",
       "205  2011   10  4074656        583.431542\n",
       "163  2010   10  4085497        560.076056\n",
       "122  2009   10  1057652        676.937588\n",
       "74   2008   10  1389831        927.750215\n",
       "39   2007   10  1647593        796.448640\n",
       "87   2006   10  1297628       1032.926297\n",
       "16   2005   10  1291427       1019.206452\n",
       "41   2004   10  1280900       1250.120967\n",
       "42   2003   10  1233426       1073.477536\n",
       "212  2002   10  1099671       1078.384575"
      ]
     },
     "execution_count": 131,
     "metadata": {},
     "output_type": "execute_result"
    }
   ],
   "source": [
    "df_final[df_final[\"MES\"] == 10].sort_values(\"ANO\", ascending=False)"
   ]
  },
  {
   "cell_type": "code",
   "execution_count": null,
   "id": "40e8ed66-d9f4-44ce-813d-b551603932dc",
   "metadata": {},
   "outputs": [],
   "source": []
  },
  {
   "cell_type": "code",
   "execution_count": null,
   "id": "0e50dee6-95dc-483a-95bf-ee51d0b8a66c",
   "metadata": {},
   "outputs": [],
   "source": []
  },
  {
   "cell_type": "markdown",
   "id": "9c9413a6-5355-42af-a328-700ace95e276",
   "metadata": {
    "tags": []
   },
   "source": [
    "# Fechando aqui"
   ]
  },
  {
   "cell_type": "code",
   "execution_count": 1,
   "id": "1ccfd1fc-72f4-4b61-ba98-b7a4eab0b230",
   "metadata": {
    "tags": []
   },
   "outputs": [],
   "source": [
    "import pandas as pd\n",
    "import numpy as np"
   ]
  },
  {
   "cell_type": "code",
   "execution_count": 119,
   "id": "f03acaa4-3685-40d4-8f31-ad6cc02cb391",
   "metadata": {
    "tags": []
   },
   "outputs": [],
   "source": [
    "from monetary_correction import MonetaryCorrection"
   ]
  },
  {
   "cell_type": "code",
   "execution_count": 4,
   "id": "4a838c81-76fd-49ec-bc3f-17b1f3bcf518",
   "metadata": {
    "tags": []
   },
   "outputs": [],
   "source": [
    "corretor = ipca"
   ]
  },
  {
   "cell_type": "code",
   "execution_count": null,
   "id": "e8c08bc1-f434-42ba-95a4-7ecb3eee2752",
   "metadata": {},
   "outputs": [],
   "source": []
  },
  {
   "cell_type": "markdown",
   "id": "b385bd8e-73a0-4c3f-bf42-3ef05a37c2b1",
   "metadata": {
    "tags": []
   },
   "source": [
    "# Outubro"
   ]
  },
  {
   "cell_type": "code",
   "execution_count": null,
   "id": "7d26abf2-1f5f-4590-9564-86b3a08d134b",
   "metadata": {},
   "outputs": [],
   "source": []
  },
  {
   "cell_type": "code",
   "execution_count": 161,
   "id": "9b0235e1-aaa1-43f0-b999-f4cfa9d911c7",
   "metadata": {
    "tags": []
   },
   "outputs": [],
   "source": [
    "outubro = pd.read_csv(\"anac.nosync/202210.CSV\", sep=\";\", encoding=\"latin1\")\n",
    "outubro.columns = ['ANO', 'MES', 'EMPRESA', 'ORIGEM', 'DESTINO', 'TARIFA', 'ASSENTOS']\n",
    "outubro.TARIFA = outubro.TARIFA.str.replace(\",\", \".\").astype(float)"
   ]
  },
  {
   "cell_type": "code",
   "execution_count": 162,
   "id": "d2cab35b-c72d-4f93-9eec-9db20fb5d05b",
   "metadata": {
    "tags": []
   },
   "outputs": [
    {
     "ename": "KeyboardInterrupt",
     "evalue": "",
     "output_type": "error",
     "traceback": [
      "\u001b[0;31m---------------------------------------------------------------------------\u001b[0m",
      "\u001b[0;31mKeyboardInterrupt\u001b[0m                         Traceback (most recent call last)",
      "Cell \u001b[0;32mIn[162], line 1\u001b[0m\n\u001b[0;32m----> 1\u001b[0m outubro[\u001b[38;5;124m'\u001b[39m\u001b[38;5;124mREAL\u001b[39m\u001b[38;5;124m'\u001b[39m] \u001b[38;5;241m=\u001b[39m \u001b[43moutubro\u001b[49m\u001b[38;5;241;43m.\u001b[39;49m\u001b[43mapply\u001b[49m\u001b[43m(\u001b[49m\u001b[38;5;28;43;01mlambda\u001b[39;49;00m\u001b[43m \u001b[49m\u001b[43mrow\u001b[49m\u001b[43m:\u001b[49m\u001b[43m \u001b[49m\u001b[43mcorretor\u001b[49m\u001b[43m(\u001b[49m\u001b[43mrow\u001b[49m\u001b[43m[\u001b[49m\u001b[38;5;124;43m\"\u001b[39;49m\u001b[38;5;124;43mTARIFA\u001b[39;49m\u001b[38;5;124;43m\"\u001b[39;49m\u001b[43m]\u001b[49m\u001b[43m,\u001b[49m\u001b[43m \u001b[49m\u001b[38;5;124;43mf\u001b[39;49m\u001b[38;5;124;43m\"\u001b[39;49m\u001b[38;5;132;43;01m{\u001b[39;49;00m\u001b[38;5;28;43mint\u001b[39;49m\u001b[43m(\u001b[49m\u001b[43mrow\u001b[49m\u001b[38;5;241;43m.\u001b[39;49m\u001b[43mMES\u001b[49m\u001b[43m)\u001b[49m\u001b[38;5;132;43;01m}\u001b[39;49;00m\u001b[38;5;124;43m/\u001b[39;49m\u001b[38;5;132;43;01m{\u001b[39;49;00m\u001b[38;5;28;43mint\u001b[39;49m\u001b[43m(\u001b[49m\u001b[43mrow\u001b[49m\u001b[38;5;241;43m.\u001b[39;49m\u001b[43mANO\u001b[49m\u001b[43m)\u001b[49m\u001b[38;5;132;43;01m}\u001b[39;49;00m\u001b[38;5;124;43m\"\u001b[39;49m\u001b[43m,\u001b[49m\u001b[43m \u001b[49m\u001b[38;5;124;43m\"\u001b[39;49m\u001b[38;5;124;43m12/2022\u001b[39;49m\u001b[38;5;124;43m\"\u001b[39;49m\u001b[43m)\u001b[49m\u001b[43m[\u001b[49m\u001b[38;5;241;43m0\u001b[39;49m\u001b[43m]\u001b[49m\u001b[43m,\u001b[49m\u001b[43m \u001b[49m\u001b[43maxis\u001b[49m\u001b[38;5;241;43m=\u001b[39;49m\u001b[38;5;241;43m1\u001b[39;49m\u001b[43m)\u001b[49m \n",
      "File \u001b[0;32m/usr/local/lib/python3.10/site-packages/pandas/core/frame.py:9568\u001b[0m, in \u001b[0;36mDataFrame.apply\u001b[0;34m(self, func, axis, raw, result_type, args, **kwargs)\u001b[0m\n\u001b[1;32m   9557\u001b[0m \u001b[38;5;28;01mfrom\u001b[39;00m \u001b[38;5;21;01mpandas\u001b[39;00m\u001b[38;5;21;01m.\u001b[39;00m\u001b[38;5;21;01mcore\u001b[39;00m\u001b[38;5;21;01m.\u001b[39;00m\u001b[38;5;21;01mapply\u001b[39;00m \u001b[38;5;28;01mimport\u001b[39;00m frame_apply\n\u001b[1;32m   9559\u001b[0m op \u001b[38;5;241m=\u001b[39m frame_apply(\n\u001b[1;32m   9560\u001b[0m     \u001b[38;5;28mself\u001b[39m,\n\u001b[1;32m   9561\u001b[0m     func\u001b[38;5;241m=\u001b[39mfunc,\n\u001b[0;32m   (...)\u001b[0m\n\u001b[1;32m   9566\u001b[0m     kwargs\u001b[38;5;241m=\u001b[39mkwargs,\n\u001b[1;32m   9567\u001b[0m )\n\u001b[0;32m-> 9568\u001b[0m \u001b[38;5;28;01mreturn\u001b[39;00m \u001b[43mop\u001b[49m\u001b[38;5;241;43m.\u001b[39;49m\u001b[43mapply\u001b[49m\u001b[43m(\u001b[49m\u001b[43m)\u001b[49m\u001b[38;5;241m.\u001b[39m__finalize__(\u001b[38;5;28mself\u001b[39m, method\u001b[38;5;241m=\u001b[39m\u001b[38;5;124m\"\u001b[39m\u001b[38;5;124mapply\u001b[39m\u001b[38;5;124m\"\u001b[39m)\n",
      "File \u001b[0;32m/usr/local/lib/python3.10/site-packages/pandas/core/apply.py:764\u001b[0m, in \u001b[0;36mFrameApply.apply\u001b[0;34m(self)\u001b[0m\n\u001b[1;32m    761\u001b[0m \u001b[38;5;28;01melif\u001b[39;00m \u001b[38;5;28mself\u001b[39m\u001b[38;5;241m.\u001b[39mraw:\n\u001b[1;32m    762\u001b[0m     \u001b[38;5;28;01mreturn\u001b[39;00m \u001b[38;5;28mself\u001b[39m\u001b[38;5;241m.\u001b[39mapply_raw()\n\u001b[0;32m--> 764\u001b[0m \u001b[38;5;28;01mreturn\u001b[39;00m \u001b[38;5;28;43mself\u001b[39;49m\u001b[38;5;241;43m.\u001b[39;49m\u001b[43mapply_standard\u001b[49m\u001b[43m(\u001b[49m\u001b[43m)\u001b[49m\n",
      "File \u001b[0;32m/usr/local/lib/python3.10/site-packages/pandas/core/apply.py:891\u001b[0m, in \u001b[0;36mFrameApply.apply_standard\u001b[0;34m(self)\u001b[0m\n\u001b[1;32m    890\u001b[0m \u001b[38;5;28;01mdef\u001b[39;00m \u001b[38;5;21mapply_standard\u001b[39m(\u001b[38;5;28mself\u001b[39m):\n\u001b[0;32m--> 891\u001b[0m     results, res_index \u001b[38;5;241m=\u001b[39m \u001b[38;5;28;43mself\u001b[39;49m\u001b[38;5;241;43m.\u001b[39;49m\u001b[43mapply_series_generator\u001b[49m\u001b[43m(\u001b[49m\u001b[43m)\u001b[49m\n\u001b[1;32m    893\u001b[0m     \u001b[38;5;66;03m# wrap results\u001b[39;00m\n\u001b[1;32m    894\u001b[0m     \u001b[38;5;28;01mreturn\u001b[39;00m \u001b[38;5;28mself\u001b[39m\u001b[38;5;241m.\u001b[39mwrap_results(results, res_index)\n",
      "File \u001b[0;32m/usr/local/lib/python3.10/site-packages/pandas/core/apply.py:907\u001b[0m, in \u001b[0;36mFrameApply.apply_series_generator\u001b[0;34m(self)\u001b[0m\n\u001b[1;32m    904\u001b[0m \u001b[38;5;28;01mwith\u001b[39;00m option_context(\u001b[38;5;124m\"\u001b[39m\u001b[38;5;124mmode.chained_assignment\u001b[39m\u001b[38;5;124m\"\u001b[39m, \u001b[38;5;28;01mNone\u001b[39;00m):\n\u001b[1;32m    905\u001b[0m     \u001b[38;5;28;01mfor\u001b[39;00m i, v \u001b[38;5;129;01min\u001b[39;00m \u001b[38;5;28menumerate\u001b[39m(series_gen):\n\u001b[1;32m    906\u001b[0m         \u001b[38;5;66;03m# ignore SettingWithCopy here in case the user mutates\u001b[39;00m\n\u001b[0;32m--> 907\u001b[0m         results[i] \u001b[38;5;241m=\u001b[39m \u001b[38;5;28;43mself\u001b[39;49m\u001b[38;5;241;43m.\u001b[39;49m\u001b[43mf\u001b[49m\u001b[43m(\u001b[49m\u001b[43mv\u001b[49m\u001b[43m)\u001b[49m\n\u001b[1;32m    908\u001b[0m         \u001b[38;5;28;01mif\u001b[39;00m \u001b[38;5;28misinstance\u001b[39m(results[i], ABCSeries):\n\u001b[1;32m    909\u001b[0m             \u001b[38;5;66;03m# If we have a view on v, we need to make a copy because\u001b[39;00m\n\u001b[1;32m    910\u001b[0m             \u001b[38;5;66;03m#  series_generator will swap out the underlying data\u001b[39;00m\n\u001b[1;32m    911\u001b[0m             results[i] \u001b[38;5;241m=\u001b[39m results[i]\u001b[38;5;241m.\u001b[39mcopy(deep\u001b[38;5;241m=\u001b[39m\u001b[38;5;28;01mFalse\u001b[39;00m)\n",
      "Cell \u001b[0;32mIn[162], line 1\u001b[0m, in \u001b[0;36m<lambda>\u001b[0;34m(row)\u001b[0m\n\u001b[0;32m----> 1\u001b[0m outubro[\u001b[38;5;124m'\u001b[39m\u001b[38;5;124mREAL\u001b[39m\u001b[38;5;124m'\u001b[39m] \u001b[38;5;241m=\u001b[39m outubro\u001b[38;5;241m.\u001b[39mapply(\u001b[38;5;28;01mlambda\u001b[39;00m row: \u001b[43mcorretor\u001b[49m\u001b[43m(\u001b[49m\u001b[43mrow\u001b[49m\u001b[43m[\u001b[49m\u001b[38;5;124;43m\"\u001b[39;49m\u001b[38;5;124;43mTARIFA\u001b[39;49m\u001b[38;5;124;43m\"\u001b[39;49m\u001b[43m]\u001b[49m\u001b[43m,\u001b[49m\u001b[43m \u001b[49m\u001b[38;5;124;43mf\u001b[39;49m\u001b[38;5;124;43m\"\u001b[39;49m\u001b[38;5;132;43;01m{\u001b[39;49;00m\u001b[38;5;28;43mint\u001b[39;49m\u001b[43m(\u001b[49m\u001b[43mrow\u001b[49m\u001b[38;5;241;43m.\u001b[39;49m\u001b[43mMES\u001b[49m\u001b[43m)\u001b[49m\u001b[38;5;132;43;01m}\u001b[39;49;00m\u001b[38;5;124;43m/\u001b[39;49m\u001b[38;5;132;43;01m{\u001b[39;49;00m\u001b[38;5;28;43mint\u001b[39;49m\u001b[43m(\u001b[49m\u001b[43mrow\u001b[49m\u001b[38;5;241;43m.\u001b[39;49m\u001b[43mANO\u001b[49m\u001b[43m)\u001b[49m\u001b[38;5;132;43;01m}\u001b[39;49;00m\u001b[38;5;124;43m\"\u001b[39;49m\u001b[43m,\u001b[49m\u001b[43m \u001b[49m\u001b[38;5;124;43m\"\u001b[39;49m\u001b[38;5;124;43m12/2022\u001b[39;49m\u001b[38;5;124;43m\"\u001b[39;49m\u001b[43m)\u001b[49m[\u001b[38;5;241m0\u001b[39m], axis\u001b[38;5;241m=\u001b[39m\u001b[38;5;241m1\u001b[39m) \n",
      "Cell \u001b[0;32mIn[160], line 27\u001b[0m, in \u001b[0;36mMonetaryCorrection.ipca\u001b[0;34m(self, value, date_start, date_end)\u001b[0m\n\u001b[1;32m     14\u001b[0m \u001b[38;5;28;01mdef\u001b[39;00m \u001b[38;5;21mipca\u001b[39m(\u001b[38;5;28mself\u001b[39m, value, date_start, date_end):\n\u001b[1;32m     15\u001b[0m \u001b[38;5;250m    \u001b[39m\u001b[38;5;124;03m\"\"\"\u001b[39;00m\n\u001b[1;32m     16\u001b[0m \u001b[38;5;124;03m    >>> corretor.ipca(100, \"07/2019\", \"02/2023\")\u001b[39;00m\n\u001b[1;32m     17\u001b[0m \u001b[38;5;124;03m    (125.87, 25.86683)\u001b[39;00m\n\u001b[0;32m   (...)\u001b[0m\n\u001b[1;32m     24\u001b[0m \u001b[38;5;124;03m           \u001b[39;00m\n\u001b[1;32m     25\u001b[0m \u001b[38;5;124;03m    \"\"\"\u001b[39;00m\n\u001b[0;32m---> 27\u001b[0m     date_start_valid \u001b[38;5;241m=\u001b[39m (\u001b[43mpd\u001b[49m\u001b[38;5;241;43m.\u001b[39;49m\u001b[43mto_datetime\u001b[49m\u001b[43m(\u001b[49m\u001b[43mdate_start\u001b[49m\u001b[43m,\u001b[49m\u001b[43m \u001b[49m\u001b[38;5;28;43mformat\u001b[39;49m\u001b[38;5;241;43m=\u001b[39;49m\u001b[38;5;124;43m\"\u001b[39;49m\u001b[38;5;124;43m%\u001b[39;49m\u001b[38;5;124;43mm/\u001b[39;49m\u001b[38;5;124;43m%\u001b[39;49m\u001b[38;5;124;43mY\u001b[39;49m\u001b[38;5;124;43m\"\u001b[39;49m\u001b[43m)\u001b[49m \u001b[38;5;241m-\u001b[39m pd\u001b[38;5;241m.\u001b[39mDateOffset(months\u001b[38;5;241m=\u001b[39m\u001b[38;5;241m1\u001b[39m))\u001b[38;5;241m.\u001b[39mstrftime(\u001b[38;5;124m'\u001b[39m\u001b[38;5;124m%\u001b[39m\u001b[38;5;124mm/\u001b[39m\u001b[38;5;124m%\u001b[39m\u001b[38;5;124mY\u001b[39m\u001b[38;5;124m'\u001b[39m)\n\u001b[1;32m     28\u001b[0m     correction_index_start \u001b[38;5;241m=\u001b[39m \u001b[38;5;28mself\u001b[39m\u001b[38;5;241m.\u001b[39mipca_data_dict[date_start_valid]\n\u001b[1;32m     29\u001b[0m     correction_index_end \u001b[38;5;241m=\u001b[39m \u001b[38;5;28mself\u001b[39m\u001b[38;5;241m.\u001b[39mipca_data_dict[(\u001b[38;5;124m\"\u001b[39m\u001b[38;5;124m0\u001b[39m\u001b[38;5;124m\"\u001b[39m \u001b[38;5;241m+\u001b[39m date_end)[\u001b[38;5;241m-\u001b[39m\u001b[38;5;241m7\u001b[39m:]]\n",
      "File \u001b[0;32m/usr/local/lib/python3.10/site-packages/pandas/core/tools/datetimes.py:1102\u001b[0m, in \u001b[0;36mto_datetime\u001b[0;34m(arg, errors, dayfirst, yearfirst, utc, format, exact, unit, infer_datetime_format, origin, cache)\u001b[0m\n\u001b[1;32m   1100\u001b[0m         result \u001b[38;5;241m=\u001b[39m convert_listlike(argc, \u001b[38;5;28mformat\u001b[39m)\n\u001b[1;32m   1101\u001b[0m \u001b[38;5;28;01melse\u001b[39;00m:\n\u001b[0;32m-> 1102\u001b[0m     result \u001b[38;5;241m=\u001b[39m \u001b[43mconvert_listlike\u001b[49m\u001b[43m(\u001b[49m\u001b[43mnp\u001b[49m\u001b[38;5;241;43m.\u001b[39;49m\u001b[43marray\u001b[49m\u001b[43m(\u001b[49m\u001b[43m[\u001b[49m\u001b[43marg\u001b[49m\u001b[43m]\u001b[49m\u001b[43m)\u001b[49m\u001b[43m,\u001b[49m\u001b[43m \u001b[49m\u001b[38;5;28;43mformat\u001b[39;49m\u001b[43m)\u001b[49m[\u001b[38;5;241m0\u001b[39m]\n\u001b[1;32m   1103\u001b[0m     \u001b[38;5;28;01mif\u001b[39;00m \u001b[38;5;28misinstance\u001b[39m(arg, \u001b[38;5;28mbool\u001b[39m) \u001b[38;5;129;01mand\u001b[39;00m \u001b[38;5;28misinstance\u001b[39m(result, np\u001b[38;5;241m.\u001b[39mbool_):\n\u001b[1;32m   1104\u001b[0m         result \u001b[38;5;241m=\u001b[39m \u001b[38;5;28mbool\u001b[39m(result)  \u001b[38;5;66;03m# TODO: avoid this kludge.\u001b[39;00m\n",
      "File \u001b[0;32m/usr/local/lib/python3.10/site-packages/pandas/core/tools/datetimes.py:430\u001b[0m, in \u001b[0;36m_convert_listlike_datetimes\u001b[0;34m(arg, format, name, tz, unit, errors, infer_datetime_format, dayfirst, yearfirst, exact)\u001b[0m\n\u001b[1;32m    427\u001b[0m         \u001b[38;5;28mformat\u001b[39m \u001b[38;5;241m=\u001b[39m \u001b[38;5;28;01mNone\u001b[39;00m\n\u001b[1;32m    429\u001b[0m \u001b[38;5;28;01mif\u001b[39;00m \u001b[38;5;28mformat\u001b[39m \u001b[38;5;129;01mis\u001b[39;00m \u001b[38;5;129;01mnot\u001b[39;00m \u001b[38;5;28;01mNone\u001b[39;00m:\n\u001b[0;32m--> 430\u001b[0m     res \u001b[38;5;241m=\u001b[39m \u001b[43m_to_datetime_with_format\u001b[49m\u001b[43m(\u001b[49m\n\u001b[1;32m    431\u001b[0m \u001b[43m        \u001b[49m\u001b[43marg\u001b[49m\u001b[43m,\u001b[49m\u001b[43m \u001b[49m\u001b[43morig_arg\u001b[49m\u001b[43m,\u001b[49m\u001b[43m \u001b[49m\u001b[43mname\u001b[49m\u001b[43m,\u001b[49m\u001b[43m \u001b[49m\u001b[43mtz\u001b[49m\u001b[43m,\u001b[49m\u001b[43m \u001b[49m\u001b[38;5;28;43mformat\u001b[39;49m\u001b[43m,\u001b[49m\u001b[43m \u001b[49m\u001b[43mexact\u001b[49m\u001b[43m,\u001b[49m\u001b[43m \u001b[49m\u001b[43merrors\u001b[49m\u001b[43m,\u001b[49m\u001b[43m \u001b[49m\u001b[43minfer_datetime_format\u001b[49m\n\u001b[1;32m    432\u001b[0m \u001b[43m    \u001b[49m\u001b[43m)\u001b[49m\n\u001b[1;32m    433\u001b[0m     \u001b[38;5;28;01mif\u001b[39;00m res \u001b[38;5;129;01mis\u001b[39;00m \u001b[38;5;129;01mnot\u001b[39;00m \u001b[38;5;28;01mNone\u001b[39;00m:\n\u001b[1;32m    434\u001b[0m         \u001b[38;5;28;01mreturn\u001b[39;00m res\n",
      "File \u001b[0;32m/usr/local/lib/python3.10/site-packages/pandas/core/tools/datetimes.py:538\u001b[0m, in \u001b[0;36m_to_datetime_with_format\u001b[0;34m(arg, orig_arg, name, tz, fmt, exact, errors, infer_datetime_format)\u001b[0m\n\u001b[1;32m    535\u001b[0m         \u001b[38;5;28;01mreturn\u001b[39;00m _box_as_indexlike(result, utc\u001b[38;5;241m=\u001b[39mutc, name\u001b[38;5;241m=\u001b[39mname)\n\u001b[1;32m    537\u001b[0m \u001b[38;5;66;03m# fallback\u001b[39;00m\n\u001b[0;32m--> 538\u001b[0m res \u001b[38;5;241m=\u001b[39m \u001b[43m_array_strptime_with_fallback\u001b[49m\u001b[43m(\u001b[49m\n\u001b[1;32m    539\u001b[0m \u001b[43m    \u001b[49m\u001b[43marg\u001b[49m\u001b[43m,\u001b[49m\u001b[43m \u001b[49m\u001b[43mname\u001b[49m\u001b[43m,\u001b[49m\u001b[43m \u001b[49m\u001b[43mtz\u001b[49m\u001b[43m,\u001b[49m\u001b[43m \u001b[49m\u001b[43mfmt\u001b[49m\u001b[43m,\u001b[49m\u001b[43m \u001b[49m\u001b[43mexact\u001b[49m\u001b[43m,\u001b[49m\u001b[43m \u001b[49m\u001b[43merrors\u001b[49m\u001b[43m,\u001b[49m\u001b[43m \u001b[49m\u001b[43minfer_datetime_format\u001b[49m\n\u001b[1;32m    540\u001b[0m \u001b[43m\u001b[49m\u001b[43m)\u001b[49m\n\u001b[1;32m    541\u001b[0m \u001b[38;5;28;01mreturn\u001b[39;00m res\n",
      "File \u001b[0;32m/usr/local/lib/python3.10/site-packages/pandas/core/tools/datetimes.py:503\u001b[0m, in \u001b[0;36m_array_strptime_with_fallback\u001b[0;34m(arg, name, tz, fmt, exact, errors, infer_datetime_format)\u001b[0m\n\u001b[1;32m    500\u001b[0m     \u001b[38;5;28;01mif\u001b[39;00m \u001b[38;5;124m\"\u001b[39m\u001b[38;5;124m%\u001b[39m\u001b[38;5;124mZ\u001b[39m\u001b[38;5;124m\"\u001b[39m \u001b[38;5;129;01min\u001b[39;00m fmt \u001b[38;5;129;01mor\u001b[39;00m \u001b[38;5;124m\"\u001b[39m\u001b[38;5;124m%\u001b[39m\u001b[38;5;124mz\u001b[39m\u001b[38;5;124m\"\u001b[39m \u001b[38;5;129;01min\u001b[39;00m fmt:\n\u001b[1;32m    501\u001b[0m         \u001b[38;5;28;01mreturn\u001b[39;00m _return_parsed_timezone_results(result, timezones, tz, name)\n\u001b[0;32m--> 503\u001b[0m \u001b[38;5;28;01mreturn\u001b[39;00m \u001b[43m_box_as_indexlike\u001b[49m\u001b[43m(\u001b[49m\u001b[43mresult\u001b[49m\u001b[43m,\u001b[49m\u001b[43m \u001b[49m\u001b[43mutc\u001b[49m\u001b[38;5;241;43m=\u001b[39;49m\u001b[43mutc\u001b[49m\u001b[43m,\u001b[49m\u001b[43m \u001b[49m\u001b[43mname\u001b[49m\u001b[38;5;241;43m=\u001b[39;49m\u001b[43mname\u001b[49m\u001b[43m)\u001b[49m\n",
      "File \u001b[0;32m/usr/local/lib/python3.10/site-packages/pandas/core/tools/datetimes.py:266\u001b[0m, in \u001b[0;36m_box_as_indexlike\u001b[0;34m(dt_array, utc, name)\u001b[0m\n\u001b[1;32m    264\u001b[0m \u001b[38;5;28;01mif\u001b[39;00m is_datetime64_dtype(dt_array):\n\u001b[1;32m    265\u001b[0m     tz \u001b[38;5;241m=\u001b[39m \u001b[38;5;124m\"\u001b[39m\u001b[38;5;124mutc\u001b[39m\u001b[38;5;124m\"\u001b[39m \u001b[38;5;28;01mif\u001b[39;00m utc \u001b[38;5;28;01melse\u001b[39;00m \u001b[38;5;28;01mNone\u001b[39;00m\n\u001b[0;32m--> 266\u001b[0m     \u001b[38;5;28;01mreturn\u001b[39;00m \u001b[43mDatetimeIndex\u001b[49m\u001b[43m(\u001b[49m\u001b[43mdt_array\u001b[49m\u001b[43m,\u001b[49m\u001b[43m \u001b[49m\u001b[43mtz\u001b[49m\u001b[38;5;241;43m=\u001b[39;49m\u001b[43mtz\u001b[49m\u001b[43m,\u001b[49m\u001b[43m \u001b[49m\u001b[43mname\u001b[49m\u001b[38;5;241;43m=\u001b[39;49m\u001b[43mname\u001b[49m\u001b[43m)\u001b[49m\n\u001b[1;32m    267\u001b[0m \u001b[38;5;28;01mreturn\u001b[39;00m Index(dt_array, name\u001b[38;5;241m=\u001b[39mname, dtype\u001b[38;5;241m=\u001b[39mdt_array\u001b[38;5;241m.\u001b[39mdtype)\n",
      "File \u001b[0;32m/usr/local/lib/python3.10/site-packages/pandas/core/indexes/datetimes.py:359\u001b[0m, in \u001b[0;36mDatetimeIndex.__new__\u001b[0;34m(cls, data, freq, tz, normalize, closed, ambiguous, dayfirst, yearfirst, dtype, copy, name)\u001b[0m\n\u001b[1;32m    356\u001b[0m         data \u001b[38;5;241m=\u001b[39m data\u001b[38;5;241m.\u001b[39mcopy()\n\u001b[1;32m    357\u001b[0m     \u001b[38;5;28;01mreturn\u001b[39;00m \u001b[38;5;28mcls\u001b[39m\u001b[38;5;241m.\u001b[39m_simple_new(data, name\u001b[38;5;241m=\u001b[39mname)\n\u001b[0;32m--> 359\u001b[0m dtarr \u001b[38;5;241m=\u001b[39m \u001b[43mDatetimeArray\u001b[49m\u001b[38;5;241;43m.\u001b[39;49m\u001b[43m_from_sequence_not_strict\u001b[49m\u001b[43m(\u001b[49m\n\u001b[1;32m    360\u001b[0m \u001b[43m    \u001b[49m\u001b[43mdata\u001b[49m\u001b[43m,\u001b[49m\n\u001b[1;32m    361\u001b[0m \u001b[43m    \u001b[49m\u001b[43mdtype\u001b[49m\u001b[38;5;241;43m=\u001b[39;49m\u001b[43mdtype\u001b[49m\u001b[43m,\u001b[49m\n\u001b[1;32m    362\u001b[0m \u001b[43m    \u001b[49m\u001b[43mcopy\u001b[49m\u001b[38;5;241;43m=\u001b[39;49m\u001b[43mcopy\u001b[49m\u001b[43m,\u001b[49m\n\u001b[1;32m    363\u001b[0m \u001b[43m    \u001b[49m\u001b[43mtz\u001b[49m\u001b[38;5;241;43m=\u001b[39;49m\u001b[43mtz\u001b[49m\u001b[43m,\u001b[49m\n\u001b[1;32m    364\u001b[0m \u001b[43m    \u001b[49m\u001b[43mfreq\u001b[49m\u001b[38;5;241;43m=\u001b[39;49m\u001b[43mfreq\u001b[49m\u001b[43m,\u001b[49m\n\u001b[1;32m    365\u001b[0m \u001b[43m    \u001b[49m\u001b[43mdayfirst\u001b[49m\u001b[38;5;241;43m=\u001b[39;49m\u001b[43mdayfirst\u001b[49m\u001b[43m,\u001b[49m\n\u001b[1;32m    366\u001b[0m \u001b[43m    \u001b[49m\u001b[43myearfirst\u001b[49m\u001b[38;5;241;43m=\u001b[39;49m\u001b[43myearfirst\u001b[49m\u001b[43m,\u001b[49m\n\u001b[1;32m    367\u001b[0m \u001b[43m    \u001b[49m\u001b[43mambiguous\u001b[49m\u001b[38;5;241;43m=\u001b[39;49m\u001b[43mambiguous\u001b[49m\u001b[43m,\u001b[49m\n\u001b[1;32m    368\u001b[0m \u001b[43m\u001b[49m\u001b[43m)\u001b[49m\n\u001b[1;32m    370\u001b[0m subarr \u001b[38;5;241m=\u001b[39m \u001b[38;5;28mcls\u001b[39m\u001b[38;5;241m.\u001b[39m_simple_new(dtarr, name\u001b[38;5;241m=\u001b[39mname)\n\u001b[1;32m    371\u001b[0m \u001b[38;5;28;01mreturn\u001b[39;00m subarr\n",
      "File \u001b[0;32m/usr/local/lib/python3.10/site-packages/pandas/core/arrays/datetimes.py:307\u001b[0m, in \u001b[0;36mDatetimeArray._from_sequence_not_strict\u001b[0;34m(cls, data, dtype, copy, tz, freq, dayfirst, yearfirst, ambiguous)\u001b[0m\n\u001b[1;32m    303\u001b[0m freq \u001b[38;5;241m=\u001b[39m freq \u001b[38;5;28;01mif\u001b[39;00m freq \u001b[38;5;129;01mis\u001b[39;00m \u001b[38;5;129;01mnot\u001b[39;00m lib\u001b[38;5;241m.\u001b[39mno_default \u001b[38;5;28;01melse\u001b[39;00m \u001b[38;5;28;01mNone\u001b[39;00m\n\u001b[1;32m    305\u001b[0m freq, freq_infer \u001b[38;5;241m=\u001b[39m dtl\u001b[38;5;241m.\u001b[39mmaybe_infer_freq(freq)\n\u001b[0;32m--> 307\u001b[0m subarr, tz, inferred_freq \u001b[38;5;241m=\u001b[39m \u001b[43m_sequence_to_dt64ns\u001b[49m\u001b[43m(\u001b[49m\n\u001b[1;32m    308\u001b[0m \u001b[43m    \u001b[49m\u001b[43mdata\u001b[49m\u001b[43m,\u001b[49m\n\u001b[1;32m    309\u001b[0m \u001b[43m    \u001b[49m\u001b[43mdtype\u001b[49m\u001b[38;5;241;43m=\u001b[39;49m\u001b[43mdtype\u001b[49m\u001b[43m,\u001b[49m\n\u001b[1;32m    310\u001b[0m \u001b[43m    \u001b[49m\u001b[43mcopy\u001b[49m\u001b[38;5;241;43m=\u001b[39;49m\u001b[43mcopy\u001b[49m\u001b[43m,\u001b[49m\n\u001b[1;32m    311\u001b[0m \u001b[43m    \u001b[49m\u001b[43mtz\u001b[49m\u001b[38;5;241;43m=\u001b[39;49m\u001b[43mtz\u001b[49m\u001b[43m,\u001b[49m\n\u001b[1;32m    312\u001b[0m \u001b[43m    \u001b[49m\u001b[43mdayfirst\u001b[49m\u001b[38;5;241;43m=\u001b[39;49m\u001b[43mdayfirst\u001b[49m\u001b[43m,\u001b[49m\n\u001b[1;32m    313\u001b[0m \u001b[43m    \u001b[49m\u001b[43myearfirst\u001b[49m\u001b[38;5;241;43m=\u001b[39;49m\u001b[43myearfirst\u001b[49m\u001b[43m,\u001b[49m\n\u001b[1;32m    314\u001b[0m \u001b[43m    \u001b[49m\u001b[43mambiguous\u001b[49m\u001b[38;5;241;43m=\u001b[39;49m\u001b[43mambiguous\u001b[49m\u001b[43m,\u001b[49m\n\u001b[1;32m    315\u001b[0m \u001b[43m\u001b[49m\u001b[43m)\u001b[49m\n\u001b[1;32m    317\u001b[0m freq, freq_infer \u001b[38;5;241m=\u001b[39m dtl\u001b[38;5;241m.\u001b[39mvalidate_inferred_freq(freq, inferred_freq, freq_infer)\n\u001b[1;32m    318\u001b[0m \u001b[38;5;28;01mif\u001b[39;00m explicit_none:\n",
      "File \u001b[0;32m/usr/local/lib/python3.10/site-packages/pandas/core/arrays/datetimes.py:2089\u001b[0m, in \u001b[0;36m_sequence_to_dt64ns\u001b[0;34m(data, dtype, copy, tz, dayfirst, yearfirst, ambiguous, allow_mixed, require_iso8601)\u001b[0m\n\u001b[1;32m   2085\u001b[0m     result \u001b[38;5;241m=\u001b[39m data\u001b[38;5;241m.\u001b[39m_ndarray\n\u001b[1;32m   2087\u001b[0m \u001b[38;5;28;01melif\u001b[39;00m is_datetime64_dtype(data_dtype):\n\u001b[1;32m   2088\u001b[0m     \u001b[38;5;66;03m# tz-naive DatetimeArray or ndarray[datetime64]\u001b[39;00m\n\u001b[0;32m-> 2089\u001b[0m     data \u001b[38;5;241m=\u001b[39m \u001b[38;5;28;43mgetattr\u001b[39;49m\u001b[43m(\u001b[49m\u001b[43mdata\u001b[49m\u001b[43m,\u001b[49m\u001b[43m \u001b[49m\u001b[38;5;124;43m\"\u001b[39;49m\u001b[38;5;124;43m_ndarray\u001b[39;49m\u001b[38;5;124;43m\"\u001b[39;49m\u001b[43m,\u001b[49m\u001b[43m \u001b[49m\u001b[43mdata\u001b[49m\u001b[43m)\u001b[49m\n\u001b[1;32m   2090\u001b[0m     \u001b[38;5;28;01mif\u001b[39;00m data\u001b[38;5;241m.\u001b[39mdtype \u001b[38;5;241m!=\u001b[39m DT64NS_DTYPE:\n\u001b[1;32m   2091\u001b[0m         data \u001b[38;5;241m=\u001b[39m astype_overflowsafe(data, dtype\u001b[38;5;241m=\u001b[39mDT64NS_DTYPE)\n",
      "\u001b[0;31mKeyboardInterrupt\u001b[0m: "
     ]
    }
   ],
   "source": [
    "outubro['REAL'] = outubro.apply(lambda row: corretor(row[\"TARIFA\"], f\"{int(row.MES)}/{int(row.ANO)}\", \"12/2022\")[0], axis=1) "
   ]
  },
  {
   "cell_type": "code",
   "execution_count": null,
   "id": "38652561-b81c-4d73-b091-68e6f84cf198",
   "metadata": {
    "tags": []
   },
   "outputs": [],
   "source": [
    "# Aqui com os dados base julho de 2022\n",
    "wm = lambda x: np.average(x, weights=outubro.loc[x.index, \"ASSENTOS\"])\n",
    "\n",
    "media_outubro = outubro.groupby(['ANO', 'MES']).agg(price_weighted_mean=(\"TARIFA\", wm))\n",
    "media_outubro"
   ]
  },
  {
   "cell_type": "code",
   "execution_count": 137,
   "id": "09e67d06-2d75-474d-a67f-69497ed7e4ab",
   "metadata": {
    "tags": []
   },
   "outputs": [],
   "source": []
  },
  {
   "cell_type": "code",
   "execution_count": 138,
   "id": "dab732ec-9bf7-4dbb-b4e0-abb13a1a23a3",
   "metadata": {
    "tags": []
   },
   "outputs": [],
   "source": []
  },
  {
   "cell_type": "code",
   "execution_count": null,
   "id": "89241abd-5546-428d-9e43-8ccdf5291830",
   "metadata": {},
   "outputs": [],
   "source": []
  },
  {
   "cell_type": "code",
   "execution_count": null,
   "id": "f9b3fcc3-8340-4dc1-a396-19f2ec6007bc",
   "metadata": {},
   "outputs": [],
   "source": []
  },
  {
   "cell_type": "code",
   "execution_count": 99,
   "id": "297371dc-5739-4de6-9c61-282a013c65ac",
   "metadata": {
    "tags": []
   },
   "outputs": [
    {
     "data": {
      "text/html": [
       "<div>\n",
       "<style scoped>\n",
       "    .dataframe tbody tr th:only-of-type {\n",
       "        vertical-align: middle;\n",
       "    }\n",
       "\n",
       "    .dataframe tbody tr th {\n",
       "        vertical-align: top;\n",
       "    }\n",
       "\n",
       "    .dataframe thead th {\n",
       "        text-align: right;\n",
       "    }\n",
       "</style>\n",
       "<table border=\"1\" class=\"dataframe\">\n",
       "  <thead>\n",
       "    <tr style=\"text-align: right;\">\n",
       "      <th></th>\n",
       "      <th></th>\n",
       "      <th>price_weighted_mean</th>\n",
       "    </tr>\n",
       "    <tr>\n",
       "      <th>ANO</th>\n",
       "      <th>MES</th>\n",
       "      <th></th>\n",
       "    </tr>\n",
       "  </thead>\n",
       "  <tbody>\n",
       "    <tr>\n",
       "      <th>2022</th>\n",
       "      <th>10</th>\n",
       "      <td>638.356865</td>\n",
       "    </tr>\n",
       "  </tbody>\n",
       "</table>\n",
       "</div>"
      ],
      "text/plain": [
       "          price_weighted_mean\n",
       "ANO  MES                     \n",
       "2022 10            638.356865"
      ]
     },
     "execution_count": 99,
     "metadata": {},
     "output_type": "execute_result"
    }
   ],
   "source": [
    "# Aqui com os dados base julho de 2022\n",
    "wm = lambda x: np.average(x, weights=outubro.loc[x.index, \"ASSENTOS\"])\n",
    "\n",
    "media_outubro = outubro.groupby(['ANO', 'MES']).agg(price_weighted_mean=(\"TARIFA\", wm))\n",
    "media_outubro"
   ]
  },
  {
   "cell_type": "code",
   "execution_count": null,
   "id": "46f6b0f8-9b77-4741-9589-be1beee0d625",
   "metadata": {},
   "outputs": [],
   "source": []
  },
  {
   "cell_type": "code",
   "execution_count": 175,
   "id": "2f08e465-fc49-4bf4-9433-768f95a3f11e",
   "metadata": {
    "tags": []
   },
   "outputs": [],
   "source": [
    "# Trabalhando novembro"
   ]
  },
  {
   "cell_type": "code",
   "execution_count": 179,
   "id": "94ad7d06-c5c9-4747-89f4-c3fa40080df7",
   "metadata": {
    "tags": []
   },
   "outputs": [],
   "source": [
    "novembro_2022 = pd.read_csv(\"anac.nosync/real/201910.CSV\", sep=\";\", encoding=\"latin1\")\n",
    "# novembro_2022.TARIFA = novembro_2022.TARIFA.str.replace(\",\", \".\").astype(float)\n",
    "# novembro_2022['REAL'] = novembro_2022.apply(lambda row: corretor(row[\"TARIFA\"], f\"{int(row.MES)}/{int(row.ANO)}\", \"12/2022\")[0], axis=1) "
   ]
  },
  {
   "cell_type": "code",
   "execution_count": 180,
   "id": "91650d2a-0fe2-46c8-bea2-408c8baa9847",
   "metadata": {
    "tags": []
   },
   "outputs": [
    {
     "data": {
      "text/html": [
       "<div>\n",
       "<style scoped>\n",
       "    .dataframe tbody tr th:only-of-type {\n",
       "        vertical-align: middle;\n",
       "    }\n",
       "\n",
       "    .dataframe tbody tr th {\n",
       "        vertical-align: top;\n",
       "    }\n",
       "\n",
       "    .dataframe thead th {\n",
       "        text-align: right;\n",
       "    }\n",
       "</style>\n",
       "<table border=\"1\" class=\"dataframe\">\n",
       "  <thead>\n",
       "    <tr style=\"text-align: right;\">\n",
       "      <th></th>\n",
       "      <th>ANO</th>\n",
       "      <th>MES</th>\n",
       "      <th>EMPRESA</th>\n",
       "      <th>ORIGEM</th>\n",
       "      <th>DESTINO</th>\n",
       "      <th>TARIFA</th>\n",
       "      <th>ASSENTOS</th>\n",
       "      <th>REAL</th>\n",
       "    </tr>\n",
       "  </thead>\n",
       "  <tbody>\n",
       "    <tr>\n",
       "      <th>0</th>\n",
       "      <td>2019</td>\n",
       "      <td>10</td>\n",
       "      <td>AZU</td>\n",
       "      <td>SBAC</td>\n",
       "      <td>SBAR</td>\n",
       "      <td>181.9</td>\n",
       "      <td>1</td>\n",
       "      <td>225.26</td>\n",
       "    </tr>\n",
       "    <tr>\n",
       "      <th>1</th>\n",
       "      <td>2019</td>\n",
       "      <td>10</td>\n",
       "      <td>AZU</td>\n",
       "      <td>SBAC</td>\n",
       "      <td>SBAR</td>\n",
       "      <td>531.9</td>\n",
       "      <td>6</td>\n",
       "      <td>658.70</td>\n",
       "    </tr>\n",
       "    <tr>\n",
       "      <th>2</th>\n",
       "      <td>2019</td>\n",
       "      <td>10</td>\n",
       "      <td>AZU</td>\n",
       "      <td>SBAC</td>\n",
       "      <td>SBBV</td>\n",
       "      <td>607.9</td>\n",
       "      <td>2</td>\n",
       "      <td>752.81</td>\n",
       "    </tr>\n",
       "    <tr>\n",
       "      <th>3</th>\n",
       "      <td>2019</td>\n",
       "      <td>10</td>\n",
       "      <td>AZU</td>\n",
       "      <td>SBAC</td>\n",
       "      <td>SBCF</td>\n",
       "      <td>247.9</td>\n",
       "      <td>5</td>\n",
       "      <td>306.99</td>\n",
       "    </tr>\n",
       "    <tr>\n",
       "      <th>4</th>\n",
       "      <td>2019</td>\n",
       "      <td>10</td>\n",
       "      <td>AZU</td>\n",
       "      <td>SBAC</td>\n",
       "      <td>SBCF</td>\n",
       "      <td>272.9</td>\n",
       "      <td>2</td>\n",
       "      <td>337.95</td>\n",
       "    </tr>\n",
       "    <tr>\n",
       "      <th>...</th>\n",
       "      <td>...</td>\n",
       "      <td>...</td>\n",
       "      <td>...</td>\n",
       "      <td>...</td>\n",
       "      <td>...</td>\n",
       "      <td>...</td>\n",
       "      <td>...</td>\n",
       "      <td>...</td>\n",
       "    </tr>\n",
       "    <tr>\n",
       "      <th>374032</th>\n",
       "      <td>2019</td>\n",
       "      <td>10</td>\n",
       "      <td>TAM</td>\n",
       "      <td>SWGN</td>\n",
       "      <td>SBPJ</td>\n",
       "      <td>509.0</td>\n",
       "      <td>1</td>\n",
       "      <td>630.34</td>\n",
       "    </tr>\n",
       "    <tr>\n",
       "      <th>374033</th>\n",
       "      <td>2019</td>\n",
       "      <td>10</td>\n",
       "      <td>TAM</td>\n",
       "      <td>SWGN</td>\n",
       "      <td>SBPJ</td>\n",
       "      <td>554.0</td>\n",
       "      <td>2</td>\n",
       "      <td>686.06</td>\n",
       "    </tr>\n",
       "    <tr>\n",
       "      <th>374034</th>\n",
       "      <td>2019</td>\n",
       "      <td>10</td>\n",
       "      <td>TAM</td>\n",
       "      <td>SWGN</td>\n",
       "      <td>SBPJ</td>\n",
       "      <td>574.0</td>\n",
       "      <td>2</td>\n",
       "      <td>710.83</td>\n",
       "    </tr>\n",
       "    <tr>\n",
       "      <th>374035</th>\n",
       "      <td>2019</td>\n",
       "      <td>10</td>\n",
       "      <td>TAM</td>\n",
       "      <td>SWGN</td>\n",
       "      <td>SBPJ</td>\n",
       "      <td>1499.5</td>\n",
       "      <td>1</td>\n",
       "      <td>1856.95</td>\n",
       "    </tr>\n",
       "    <tr>\n",
       "      <th>374036</th>\n",
       "      <td>2019</td>\n",
       "      <td>10</td>\n",
       "      <td>TAM</td>\n",
       "      <td>SWGN</td>\n",
       "      <td>SBSP</td>\n",
       "      <td>1499.5</td>\n",
       "      <td>1</td>\n",
       "      <td>1856.95</td>\n",
       "    </tr>\n",
       "  </tbody>\n",
       "</table>\n",
       "<p>374037 rows × 8 columns</p>\n",
       "</div>"
      ],
      "text/plain": [
       "         ANO  MES EMPRESA ORIGEM DESTINO  TARIFA  ASSENTOS     REAL\n",
       "0       2019   10     AZU   SBAC    SBAR   181.9         1   225.26\n",
       "1       2019   10     AZU   SBAC    SBAR   531.9         6   658.70\n",
       "2       2019   10     AZU   SBAC    SBBV   607.9         2   752.81\n",
       "3       2019   10     AZU   SBAC    SBCF   247.9         5   306.99\n",
       "4       2019   10     AZU   SBAC    SBCF   272.9         2   337.95\n",
       "...      ...  ...     ...    ...     ...     ...       ...      ...\n",
       "374032  2019   10     TAM   SWGN    SBPJ   509.0         1   630.34\n",
       "374033  2019   10     TAM   SWGN    SBPJ   554.0         2   686.06\n",
       "374034  2019   10     TAM   SWGN    SBPJ   574.0         2   710.83\n",
       "374035  2019   10     TAM   SWGN    SBPJ  1499.5         1  1856.95\n",
       "374036  2019   10     TAM   SWGN    SBSP  1499.5         1  1856.95\n",
       "\n",
       "[374037 rows x 8 columns]"
      ]
     },
     "execution_count": 180,
     "metadata": {},
     "output_type": "execute_result"
    }
   ],
   "source": [
    "novembro_2022"
   ]
  },
  {
   "cell_type": "code",
   "execution_count": null,
   "id": "b00c93df-a690-4f7c-802c-8ba49e61cc12",
   "metadata": {},
   "outputs": [],
   "source": []
  },
  {
   "cell_type": "code",
   "execution_count": null,
   "id": "93eb3e06-afd0-4829-bf4c-524ac08bbd23",
   "metadata": {},
   "outputs": [],
   "source": []
  },
  {
   "cell_type": "code",
   "execution_count": 101,
   "id": "bfacbb20-2b3c-4ca1-aa41-1c7cf5ee18d5",
   "metadata": {
    "tags": []
   },
   "outputs": [
    {
     "data": {
      "text/html": [
       "<div>\n",
       "<style scoped>\n",
       "    .dataframe tbody tr th:only-of-type {\n",
       "        vertical-align: middle;\n",
       "    }\n",
       "\n",
       "    .dataframe tbody tr th {\n",
       "        vertical-align: top;\n",
       "    }\n",
       "\n",
       "    .dataframe thead th {\n",
       "        text-align: right;\n",
       "    }\n",
       "</style>\n",
       "<table border=\"1\" class=\"dataframe\">\n",
       "  <thead>\n",
       "    <tr style=\"text-align: right;\">\n",
       "      <th></th>\n",
       "      <th>ANO</th>\n",
       "      <th>MES</th>\n",
       "      <th>EMPRESA</th>\n",
       "      <th>ORIGEM</th>\n",
       "      <th>DESTINO</th>\n",
       "      <th>TARIFA</th>\n",
       "      <th>ASSENTOS</th>\n",
       "      <th>REAL</th>\n",
       "    </tr>\n",
       "  </thead>\n",
       "  <tbody>\n",
       "    <tr>\n",
       "      <th>0</th>\n",
       "      <td>2022</td>\n",
       "      <td>10</td>\n",
       "      <td>ABJ</td>\n",
       "      <td>SBSV</td>\n",
       "      <td>SIRI</td>\n",
       "      <td>1050.0</td>\n",
       "      <td>1</td>\n",
       "      <td>1067.100657</td>\n",
       "    </tr>\n",
       "    <tr>\n",
       "      <th>1</th>\n",
       "      <td>2022</td>\n",
       "      <td>10</td>\n",
       "      <td>ABJ</td>\n",
       "      <td>SBSV</td>\n",
       "      <td>SIRI</td>\n",
       "      <td>650.0</td>\n",
       "      <td>2</td>\n",
       "      <td>660.586121</td>\n",
       "    </tr>\n",
       "    <tr>\n",
       "      <th>2</th>\n",
       "      <td>2022</td>\n",
       "      <td>10</td>\n",
       "      <td>ABJ</td>\n",
       "      <td>SBSV</td>\n",
       "      <td>SIRI</td>\n",
       "      <td>690.0</td>\n",
       "      <td>3</td>\n",
       "      <td>701.237575</td>\n",
       "    </tr>\n",
       "    <tr>\n",
       "      <th>3</th>\n",
       "      <td>2022</td>\n",
       "      <td>10</td>\n",
       "      <td>ABJ</td>\n",
       "      <td>SBSV</td>\n",
       "      <td>SNCL</td>\n",
       "      <td>1150.0</td>\n",
       "      <td>26</td>\n",
       "      <td>1168.729291</td>\n",
       "    </tr>\n",
       "    <tr>\n",
       "      <th>4</th>\n",
       "      <td>2022</td>\n",
       "      <td>10</td>\n",
       "      <td>ABJ</td>\n",
       "      <td>SBSV</td>\n",
       "      <td>SNCL</td>\n",
       "      <td>1190.0</td>\n",
       "      <td>8</td>\n",
       "      <td>1209.380745</td>\n",
       "    </tr>\n",
       "    <tr>\n",
       "      <th>5</th>\n",
       "      <td>2022</td>\n",
       "      <td>10</td>\n",
       "      <td>ABJ</td>\n",
       "      <td>SBSV</td>\n",
       "      <td>SNCL</td>\n",
       "      <td>1400.0</td>\n",
       "      <td>8</td>\n",
       "      <td>1422.800876</td>\n",
       "    </tr>\n",
       "    <tr>\n",
       "      <th>6</th>\n",
       "      <td>2022</td>\n",
       "      <td>10</td>\n",
       "      <td>ABJ</td>\n",
       "      <td>SBSV</td>\n",
       "      <td>SNCL</td>\n",
       "      <td>490.0</td>\n",
       "      <td>10</td>\n",
       "      <td>497.980307</td>\n",
       "    </tr>\n",
       "    <tr>\n",
       "      <th>7</th>\n",
       "      <td>2022</td>\n",
       "      <td>10</td>\n",
       "      <td>ABJ</td>\n",
       "      <td>SBSV</td>\n",
       "      <td>SNCL</td>\n",
       "      <td>550.0</td>\n",
       "      <td>33</td>\n",
       "      <td>558.957487</td>\n",
       "    </tr>\n",
       "    <tr>\n",
       "      <th>8</th>\n",
       "      <td>2022</td>\n",
       "      <td>10</td>\n",
       "      <td>ABJ</td>\n",
       "      <td>SBSV</td>\n",
       "      <td>SNCL</td>\n",
       "      <td>750.0</td>\n",
       "      <td>40</td>\n",
       "      <td>762.214755</td>\n",
       "    </tr>\n",
       "    <tr>\n",
       "      <th>9</th>\n",
       "      <td>2022</td>\n",
       "      <td>10</td>\n",
       "      <td>ABJ</td>\n",
       "      <td>SBSV</td>\n",
       "      <td>SNCL</td>\n",
       "      <td>790.0</td>\n",
       "      <td>15</td>\n",
       "      <td>802.866209</td>\n",
       "    </tr>\n",
       "  </tbody>\n",
       "</table>\n",
       "</div>"
      ],
      "text/plain": [
       "    ANO  MES EMPRESA ORIGEM DESTINO  TARIFA  ASSENTOS         REAL\n",
       "0  2022   10     ABJ   SBSV    SIRI  1050.0         1  1067.100657\n",
       "1  2022   10     ABJ   SBSV    SIRI   650.0         2   660.586121\n",
       "2  2022   10     ABJ   SBSV    SIRI   690.0         3   701.237575\n",
       "3  2022   10     ABJ   SBSV    SNCL  1150.0        26  1168.729291\n",
       "4  2022   10     ABJ   SBSV    SNCL  1190.0         8  1209.380745\n",
       "5  2022   10     ABJ   SBSV    SNCL  1400.0         8  1422.800876\n",
       "6  2022   10     ABJ   SBSV    SNCL   490.0        10   497.980307\n",
       "7  2022   10     ABJ   SBSV    SNCL   550.0        33   558.957487\n",
       "8  2022   10     ABJ   SBSV    SNCL   750.0        40   762.214755\n",
       "9  2022   10     ABJ   SBSV    SNCL   790.0        15   802.866209"
      ]
     },
     "execution_count": 101,
     "metadata": {},
     "output_type": "execute_result"
    }
   ],
   "source": [
    "outubro.head(10)"
   ]
  },
  {
   "cell_type": "code",
   "execution_count": 171,
   "id": "16462b89-f4da-4608-90a8-ab3ea1aa83aa",
   "metadata": {
    "tags": []
   },
   "outputs": [],
   "source": [
    "class MonetaryCorrection:\n",
    "    def __init__(self):\n",
    "\n",
    "        ipca_data = pd.read_csv(\"https://api.bcb.gov.br/dados/serie/bcdata.sgs.433/dados?formato=csv\", sep=\";\")\n",
    "        ipca_data[\"valor\"] = ipca_data.valor.str.replace(\",\", \".\").astype(float)\n",
    "        ipca_data[\"taxa\"] = ipca_data[\"valor\"]/100 + 1     \n",
    "        ipca_data[\"data\"] = ipca_data[\"data\"].str[3:]\n",
    "        ipca_data['correction_index'] = ipca_data.taxa.cumprod()\n",
    "        self.ipca_data = ipca_data\n",
    "\n",
    "        self.ipca_data_dict = { data: value for data,value in ipca_data[[\"data\", \"correction_index\"]].values }\n",
    "\n",
    "\n",
    "    def ipca(self, value, date_start, date_end):\n",
    "        \"\"\"\n",
    "        >>> corretor.ipca(100, \"07/2019\", \"02/2023\")\n",
    "        (125.87, 25.86683)\n",
    "        \n",
    "        >>> corretor.ipca(231.24, \"01/2002\", \"02/2023\")\n",
    "        (837.26, 262.07534)\n",
    "        \n",
    "        >>> corretor.ipca(231.24, \"1/2002\", \"2/2023\")\n",
    "        (837.26, 262.07534)\n",
    "               \n",
    "        \"\"\"\n",
    "\n",
    "        date_start_valid = (pd.to_datetime(date_start, format=\"%m/%Y\") - pd.DateOffset(months=1)).strftime('%m/%Y')\n",
    "        correction_index_start = self.ipca_data_dict[date_start_valid]\n",
    "        correction_index_end = self.ipca_data_dict[(\"0\" + date_end)[-7:]]\n",
    "\n",
    "        correction_index_in_time = (correction_index_end / correction_index_start)\n",
    "\n",
    "        return round(value * correction_index_in_time, 2), round((correction_index_in_time - 1) * 100, 5)\n",
    "    \n",
    " \n",
    "corretor = MonetaryCorrection().ipca"
   ]
  },
  {
   "cell_type": "code",
   "execution_count": null,
   "id": "c2cde6f3-a231-4d59-a4cb-37f6b43d0caa",
   "metadata": {},
   "outputs": [],
   "source": []
  },
  {
   "cell_type": "code",
   "execution_count": 172,
   "id": "94fcba4e-99e3-47d8-9c57-16152584669d",
   "metadata": {
    "tags": []
   },
   "outputs": [],
   "source": [
    "outubro_2019 = pd.read_csv(\"anac.nosync/201910.CSV\", sep=\";\", encoding=\"latin1\")\n",
    "outubro_2019.TARIFA = outubro_2019.TARIFA.str.replace(\",\", \".\").astype(float)\n",
    "outubro_2019['REAL'] = outubro_2019.apply(lambda row: corretor(row[\"TARIFA\"], f\"{int(row.MES)}/{int(row.ANO)}\", \"12/2022\")[0], axis=1) "
   ]
  },
  {
   "cell_type": "code",
   "execution_count": 173,
   "id": "45a821cc-c40f-49fb-ae98-c4746510159d",
   "metadata": {
    "tags": []
   },
   "outputs": [
    {
     "data": {
      "text/html": [
       "<div>\n",
       "<style scoped>\n",
       "    .dataframe tbody tr th:only-of-type {\n",
       "        vertical-align: middle;\n",
       "    }\n",
       "\n",
       "    .dataframe tbody tr th {\n",
       "        vertical-align: top;\n",
       "    }\n",
       "\n",
       "    .dataframe thead th {\n",
       "        text-align: right;\n",
       "    }\n",
       "</style>\n",
       "<table border=\"1\" class=\"dataframe\">\n",
       "  <thead>\n",
       "    <tr style=\"text-align: right;\">\n",
       "      <th></th>\n",
       "      <th></th>\n",
       "      <th>price_weighted_mean</th>\n",
       "    </tr>\n",
       "    <tr>\n",
       "      <th>ANO</th>\n",
       "      <th>MES</th>\n",
       "      <th></th>\n",
       "    </tr>\n",
       "  </thead>\n",
       "  <tbody>\n",
       "    <tr>\n",
       "      <th>2019</th>\n",
       "      <th>10</th>\n",
       "      <td>566.608174</td>\n",
       "    </tr>\n",
       "  </tbody>\n",
       "</table>\n",
       "</div>"
      ],
      "text/plain": [
       "          price_weighted_mean\n",
       "ANO  MES                     \n",
       "2019 10            566.608174"
      ]
     },
     "execution_count": 173,
     "metadata": {},
     "output_type": "execute_result"
    }
   ],
   "source": [
    "# Aqui com os dados base julho de 2022\n",
    "wm = lambda x: np.average(x, weights=outubro_2019.loc[x.index, \"ASSENTOS\"])\n",
    "\n",
    "media_outubro_2019 = outubro_2019.groupby(['ANO', 'MES']).agg(price_weighted_mean=(\"REAL\", wm))\n",
    "media_outubro_2019"
   ]
  },
  {
   "cell_type": "code",
   "execution_count": null,
   "id": "36bd8dd4-8189-44d8-b64a-6ed62001a01d",
   "metadata": {},
   "outputs": [],
   "source": []
  },
  {
   "cell_type": "code",
   "execution_count": 44,
   "id": "ceaaf35c-26a9-493d-abab-cf4a0cc88697",
   "metadata": {
    "tags": []
   },
   "outputs": [
    {
     "data": {
      "text/html": [
       "<div>\n",
       "<style scoped>\n",
       "    .dataframe tbody tr th:only-of-type {\n",
       "        vertical-align: middle;\n",
       "    }\n",
       "\n",
       "    .dataframe tbody tr th {\n",
       "        vertical-align: top;\n",
       "    }\n",
       "\n",
       "    .dataframe thead th {\n",
       "        text-align: right;\n",
       "    }\n",
       "</style>\n",
       "<table border=\"1\" class=\"dataframe\">\n",
       "  <thead>\n",
       "    <tr style=\"text-align: right;\">\n",
       "      <th></th>\n",
       "      <th></th>\n",
       "      <th>price_weighted_mean</th>\n",
       "    </tr>\n",
       "    <tr>\n",
       "      <th>ANO</th>\n",
       "      <th>MES</th>\n",
       "      <th></th>\n",
       "    </tr>\n",
       "  </thead>\n",
       "  <tbody>\n",
       "    <tr>\n",
       "      <th>2019</th>\n",
       "      <th>10</th>\n",
       "      <td>560.817476</td>\n",
       "    </tr>\n",
       "  </tbody>\n",
       "</table>\n",
       "</div>"
      ],
      "text/plain": [
       "          price_weighted_mean\n",
       "ANO  MES                     \n",
       "2019 10            560.817476"
      ]
     },
     "execution_count": 44,
     "metadata": {},
     "output_type": "execute_result"
    }
   ],
   "source": [
    "# Aqui com os dados base julho de 2022\n",
    "wm = lambda x: np.average(x, weights=outubro_2019.loc[x.index, \"ASSENTOS\"])\n",
    "\n",
    "media_outubro_2019 = outubro_2019.groupby(['ANO', 'MES']).agg(price_weighted_mean=(\"REAL\", wm))\n",
    "media_outubro_2019"
   ]
  },
  {
   "cell_type": "code",
   "execution_count": 51,
   "id": "28ce459d-064b-4fc8-936c-089d897bc912",
   "metadata": {
    "tags": []
   },
   "outputs": [
    {
     "data": {
      "text/plain": [
       "13.82613636966195"
      ]
     },
     "execution_count": 51,
     "metadata": {},
     "output_type": "execute_result"
    }
   ],
   "source": [
    "(float(media_outubro['price_weighted_mean']) - float(media_outubro_2019['price_weighted_mean'])) / float(media_outubro_2019['price_weighted_mean']) *100"
   ]
  },
  {
   "cell_type": "markdown",
   "id": "36d34651-6ae0-4a02-82d3-7899ade68ea9",
   "metadata": {
    "tags": []
   },
   "source": [
    "# Dezembro 22 - Dezembro 2019"
   ]
  },
  {
   "cell_type": "code",
   "execution_count": 58,
   "id": "0f99187c-6784-4d35-bd7d-adb6be79ce23",
   "metadata": {
    "tags": []
   },
   "outputs": [],
   "source": [
    "dezembro = pd.read_csv(\"anac.nosync/202212.CSV\", sep=\";\", encoding=\"latin1\")\n",
    "# dezembro.columns = ['ANO', 'MES', 'EMPRESA', 'ORIGEM', 'DESTINO', 'TARIFA', 'ASSENTOS']\n",
    "dezembro.TARIFA = dezembro.TARIFA.str.replace(\",\", \".\").astype(float)\n"
   ]
  },
  {
   "cell_type": "code",
   "execution_count": 67,
   "id": "369f5463-72cb-42db-9a6b-b090ce1a5372",
   "metadata": {
    "tags": []
   },
   "outputs": [
    {
     "data": {
      "text/html": [
       "<div>\n",
       "<style scoped>\n",
       "    .dataframe tbody tr th:only-of-type {\n",
       "        vertical-align: middle;\n",
       "    }\n",
       "\n",
       "    .dataframe tbody tr th {\n",
       "        vertical-align: top;\n",
       "    }\n",
       "\n",
       "    .dataframe thead th {\n",
       "        text-align: right;\n",
       "    }\n",
       "</style>\n",
       "<table border=\"1\" class=\"dataframe\">\n",
       "  <thead>\n",
       "    <tr style=\"text-align: right;\">\n",
       "      <th></th>\n",
       "      <th></th>\n",
       "      <th>price_weighted_mean</th>\n",
       "    </tr>\n",
       "    <tr>\n",
       "      <th>ANO</th>\n",
       "      <th>MES</th>\n",
       "      <th></th>\n",
       "    </tr>\n",
       "  </thead>\n",
       "  <tbody>\n",
       "    <tr>\n",
       "      <th>2022</th>\n",
       "      <th>12</th>\n",
       "      <td>650.817921</td>\n",
       "    </tr>\n",
       "  </tbody>\n",
       "</table>\n",
       "</div>"
      ],
      "text/plain": [
       "          price_weighted_mean\n",
       "ANO  MES                     \n",
       "2022 12            650.817921"
      ]
     },
     "execution_count": 67,
     "metadata": {},
     "output_type": "execute_result"
    }
   ],
   "source": [
    "# Aqui com os dados base julho de 2022\n",
    "wm = lambda x: np.average(x, weights=dezembro.loc[x.index, \"ASSENTOS\"])\n",
    "\n",
    "media_dezembro = dezembro.groupby(['ANO', 'MES']).agg(price_weighted_mean=(\"TARIFA\", wm))\n",
    "media_dezembro"
   ]
  },
  {
   "cell_type": "code",
   "execution_count": 63,
   "id": "423285dd-df9a-4072-b6e7-fc1223f40411",
   "metadata": {
    "tags": []
   },
   "outputs": [],
   "source": [
    "dezembro_2019 = pd.read_csv(\"anac.nosync/201912.CSV\", sep=\";\", encoding=\"latin1\")\n",
    "dezembro_2019.columns = ['ANO', 'MES', 'EMPRESA', 'ORIGEM', 'DESTINO', 'TARIFA', 'ASSENTOS']\n",
    "dezembro_2019.TARIFA = dezembro_2019.TARIFA.str.replace(\",\", \".\").astype(float)"
   ]
  },
  {
   "cell_type": "code",
   "execution_count": 65,
   "id": "cf5ed1ee-0805-49a5-874b-233809999b15",
   "metadata": {
    "tags": []
   },
   "outputs": [],
   "source": [
    "dezembro_2019['REAL'] = dezembro_2019.apply(lambda row: corretor(row[\"TARIFA\"], f\"{int(row.MES)}/{int(row.ANO)}\", \"10/2022\")[0], axis=1) "
   ]
  },
  {
   "cell_type": "code",
   "execution_count": 66,
   "id": "6da3616c-e30b-43d9-a3e0-b6c220d3716d",
   "metadata": {
    "tags": []
   },
   "outputs": [
    {
     "data": {
      "text/html": [
       "<div>\n",
       "<style scoped>\n",
       "    .dataframe tbody tr th:only-of-type {\n",
       "        vertical-align: middle;\n",
       "    }\n",
       "\n",
       "    .dataframe tbody tr th {\n",
       "        vertical-align: top;\n",
       "    }\n",
       "\n",
       "    .dataframe thead th {\n",
       "        text-align: right;\n",
       "    }\n",
       "</style>\n",
       "<table border=\"1\" class=\"dataframe\">\n",
       "  <thead>\n",
       "    <tr style=\"text-align: right;\">\n",
       "      <th></th>\n",
       "      <th></th>\n",
       "      <th>price_weighted_mean</th>\n",
       "    </tr>\n",
       "    <tr>\n",
       "      <th>ANO</th>\n",
       "      <th>MES</th>\n",
       "      <th></th>\n",
       "    </tr>\n",
       "  </thead>\n",
       "  <tbody>\n",
       "    <tr>\n",
       "      <th>2019</th>\n",
       "      <th>12</th>\n",
       "      <td>531.823898</td>\n",
       "    </tr>\n",
       "  </tbody>\n",
       "</table>\n",
       "</div>"
      ],
      "text/plain": [
       "          price_weighted_mean\n",
       "ANO  MES                     \n",
       "2019 12            531.823898"
      ]
     },
     "execution_count": 66,
     "metadata": {},
     "output_type": "execute_result"
    }
   ],
   "source": [
    "# Aqui com os dados base julho de 2022\n",
    "wm = lambda x: np.average(x, weights=dezembro_2019.loc[x.index, \"ASSENTOS\"])\n",
    "\n",
    "media_dezembro_2019 = dezembro_2019.groupby(['ANO', 'MES']).agg(price_weighted_mean=(\"REAL\", wm))\n",
    "media_dezembro_2019"
   ]
  },
  {
   "cell_type": "code",
   "execution_count": 68,
   "id": "8394aae8-aaad-4fca-8785-af82cee0ab6d",
   "metadata": {
    "tags": []
   },
   "outputs": [
    {
     "data": {
      "text/plain": [
       "22.374703943441464"
      ]
     },
     "execution_count": 68,
     "metadata": {},
     "output_type": "execute_result"
    }
   ],
   "source": [
    "(float(media_dezembro['price_weighted_mean']) - float(media_dezembro_2019['price_weighted_mean'])) / float(media_dezembro_2019['price_weighted_mean']) *100"
   ]
  },
  {
   "cell_type": "code",
   "execution_count": null,
   "id": "89b240fa-8dcd-4a6b-8c7a-1f351a3df0c9",
   "metadata": {},
   "outputs": [],
   "source": []
  },
  {
   "cell_type": "code",
   "execution_count": null,
   "id": "a953805a-efc7-40c2-a299-3e305b649510",
   "metadata": {},
   "outputs": [],
   "source": []
  },
  {
   "cell_type": "code",
   "execution_count": 11,
   "id": "556f46ff-1a99-4cea-a9e9-0694559f7437",
   "metadata": {
    "tags": []
   },
   "outputs": [],
   "source": [
    "dezembro.columns = ['ANO', 'MES', 'EMPRESA', 'ORIGEM', 'DESTINO', 'TARIFA', 'ASSENTOS']"
   ]
  },
  {
   "cell_type": "code",
   "execution_count": 12,
   "id": "c7a8a932-bd2c-4764-805c-65eb3a1dc932",
   "metadata": {
    "tags": []
   },
   "outputs": [],
   "source": [
    "dezembro.TARIFA = dezembro.TARIFA.str.replace(\",\", \".\").astype(float)"
   ]
  },
  {
   "cell_type": "code",
   "execution_count": 28,
   "id": "807f94d5-497f-4066-8e6f-c9b637213869",
   "metadata": {
    "tags": []
   },
   "outputs": [
    {
     "data": {
      "text/plain": [
       "360948"
      ]
     },
     "execution_count": 28,
     "metadata": {},
     "output_type": "execute_result"
    }
   ],
   "source": [
    "len(dezembro)"
   ]
  },
  {
   "cell_type": "code",
   "execution_count": 29,
   "id": "6df1c896-1708-423a-ab86-5c5f4074ecd1",
   "metadata": {
    "tags": []
   },
   "outputs": [
    {
     "name": "stdout",
     "output_type": "stream",
     "text": [
      "CPU times: user 8min 58s, sys: 5.61 s, total: 9min 4s\n",
      "Wall time: 9min 16s\n"
     ]
    }
   ],
   "source": [
    "%%time\n",
    "dezembro['REAL'] = dezembro.apply(lambda row: corretor(row[\"TARIFA\"], f\"{int(row.MES)}/{int(row.ANO)}\", \"07/2022\")[0], axis=1) "
   ]
  },
  {
   "cell_type": "code",
   "execution_count": null,
   "id": "08483e09-f669-4902-8347-0a1ea2ceb9a3",
   "metadata": {},
   "outputs": [],
   "source": []
  },
  {
   "cell_type": "code",
   "execution_count": null,
   "id": "d86e3be5-8f6e-4687-ba96-cb29b478b65b",
   "metadata": {},
   "outputs": [],
   "source": []
  },
  {
   "cell_type": "code",
   "execution_count": 30,
   "id": "d683c7a4-5543-4aca-8b24-58e5fd7d456e",
   "metadata": {
    "tags": []
   },
   "outputs": [
    {
     "data": {
      "text/html": [
       "<div>\n",
       "<style scoped>\n",
       "    .dataframe tbody tr th:only-of-type {\n",
       "        vertical-align: middle;\n",
       "    }\n",
       "\n",
       "    .dataframe tbody tr th {\n",
       "        vertical-align: top;\n",
       "    }\n",
       "\n",
       "    .dataframe thead th {\n",
       "        text-align: right;\n",
       "    }\n",
       "</style>\n",
       "<table border=\"1\" class=\"dataframe\">\n",
       "  <thead>\n",
       "    <tr style=\"text-align: right;\">\n",
       "      <th></th>\n",
       "      <th></th>\n",
       "      <th>price_weighted_mean</th>\n",
       "    </tr>\n",
       "    <tr>\n",
       "      <th>ANO</th>\n",
       "      <th>MES</th>\n",
       "      <th></th>\n",
       "    </tr>\n",
       "  </thead>\n",
       "  <tbody>\n",
       "    <tr>\n",
       "      <th>2020</th>\n",
       "      <th>12</th>\n",
       "      <td>486.936127</td>\n",
       "    </tr>\n",
       "  </tbody>\n",
       "</table>\n",
       "</div>"
      ],
      "text/plain": [
       "          price_weighted_mean\n",
       "ANO  MES                     \n",
       "2020 12            486.936127"
      ]
     },
     "execution_count": 30,
     "metadata": {},
     "output_type": "execute_result"
    }
   ],
   "source": [
    "# Aqui com os dados base julho de 2022\n",
    "wm = lambda x: np.average(x, weights=dezembro.loc[x.index, \"ASSENTOS\"])\n",
    "\n",
    "dezembro.groupby(['ANO', 'MES']).agg(price_weighted_mean=(\"REAL\", wm))"
   ]
  },
  {
   "cell_type": "code",
   "execution_count": 27,
   "id": "cf2a4b2d-5881-4e7a-b7c6-330d3ae237aa",
   "metadata": {
    "tags": []
   },
   "outputs": [
    {
     "data": {
      "text/html": [
       "<div>\n",
       "<style scoped>\n",
       "    .dataframe tbody tr th:only-of-type {\n",
       "        vertical-align: middle;\n",
       "    }\n",
       "\n",
       "    .dataframe tbody tr th {\n",
       "        vertical-align: top;\n",
       "    }\n",
       "\n",
       "    .dataframe thead th {\n",
       "        text-align: right;\n",
       "    }\n",
       "</style>\n",
       "<table border=\"1\" class=\"dataframe\">\n",
       "  <thead>\n",
       "    <tr style=\"text-align: right;\">\n",
       "      <th></th>\n",
       "      <th></th>\n",
       "      <th>price_weighted_mean</th>\n",
       "    </tr>\n",
       "    <tr>\n",
       "      <th>ANO</th>\n",
       "      <th>MES</th>\n",
       "      <th></th>\n",
       "    </tr>\n",
       "  </thead>\n",
       "  <tbody>\n",
       "    <tr>\n",
       "      <th>2020</th>\n",
       "      <th>12</th>\n",
       "      <td>491.655068</td>\n",
       "    </tr>\n",
       "  </tbody>\n",
       "</table>\n",
       "</div>"
      ],
      "text/plain": [
       "          price_weighted_mean\n",
       "ANO  MES                     \n",
       "2020 12            491.655068"
      ]
     },
     "execution_count": 27,
     "metadata": {},
     "output_type": "execute_result"
    }
   ],
   "source": [
    "# Ver se vai dar o mesmo resultado em dezembro.\n",
    "wm = lambda x: np.average(x, weights=dezembro.loc[x.index, \"ASSENTOS\"])\n",
    "\n",
    "dezembro.groupby(['ANO', 'MES']).agg(price_weighted_mean=(\"REAL\", wm))"
   ]
  },
  {
   "cell_type": "code",
   "execution_count": 23,
   "id": "d13578d7-8859-4da9-a6d3-dcd19c1ee10c",
   "metadata": {
    "tags": []
   },
   "outputs": [
    {
     "data": {
      "text/html": [
       "<div>\n",
       "<style scoped>\n",
       "    .dataframe tbody tr th:only-of-type {\n",
       "        vertical-align: middle;\n",
       "    }\n",
       "\n",
       "    .dataframe tbody tr th {\n",
       "        vertical-align: top;\n",
       "    }\n",
       "\n",
       "    .dataframe thead th {\n",
       "        text-align: right;\n",
       "    }\n",
       "</style>\n",
       "<table border=\"1\" class=\"dataframe\">\n",
       "  <thead>\n",
       "    <tr style=\"text-align: right;\">\n",
       "      <th></th>\n",
       "      <th></th>\n",
       "      <th>price_weighted_mean</th>\n",
       "    </tr>\n",
       "    <tr>\n",
       "      <th>ANO</th>\n",
       "      <th>MES</th>\n",
       "      <th></th>\n",
       "    </tr>\n",
       "  </thead>\n",
       "  <tbody>\n",
       "    <tr>\n",
       "      <th>2020</th>\n",
       "      <th>12</th>\n",
       "      <td>491.654549</td>\n",
       "    </tr>\n",
       "  </tbody>\n",
       "</table>\n",
       "</div>"
      ],
      "text/plain": [
       "          price_weighted_mean\n",
       "ANO  MES                     \n",
       "2020 12            491.654549"
      ]
     },
     "execution_count": 23,
     "metadata": {},
     "output_type": "execute_result"
    }
   ],
   "source": [
    "# Ver se vai dar o mesmo resultado em dezembro.\n",
    "wm = lambda x: np.average(x, weights=dezembro.loc[x.index, \"ASSENTOS\"])\n",
    "\n",
    "dezembro.groupby(['ANO', 'MES']).agg(price_weighted_mean=(\"REAL\", wm))"
   ]
  },
  {
   "cell_type": "code",
   "execution_count": null,
   "id": "5c0b4695-8bce-4306-bcb7-9500188a947c",
   "metadata": {},
   "outputs": [],
   "source": []
  },
  {
   "cell_type": "code",
   "execution_count": null,
   "id": "2d6c9ab3-72c2-454c-8e67-4dd9a95bf372",
   "metadata": {},
   "outputs": [],
   "source": []
  },
  {
   "cell_type": "code",
   "execution_count": null,
   "id": "8938b7d6-9982-49a9-9f3f-328a57c41d31",
   "metadata": {},
   "outputs": [],
   "source": []
  },
  {
   "cell_type": "code",
   "execution_count": null,
   "id": "67ff7706-07a9-4437-9619-498999361382",
   "metadata": {},
   "outputs": [],
   "source": []
  },
  {
   "cell_type": "code",
   "execution_count": 51,
   "id": "9127ef31-b4f4-4770-b282-7643075058e5",
   "metadata": {
    "tags": []
   },
   "outputs": [
    {
     "name": "stdout",
     "output_type": "stream",
     "text": [
      "CPU times: user 19min 31s, sys: 12.1 s, total: 19min 43s\n",
      "Wall time: 20min 34s\n"
     ]
    }
   ],
   "source": [
    "%%time\n",
    "dezembro['REAL'] = dezembro.apply(lambda row: corretor.ipca(row[\"TARIFA\"], f\"{int(row.MES)}/{int(row.ANO)}\", \"12/2022\")[0], axis=1) "
   ]
  },
  {
   "cell_type": "code",
   "execution_count": 53,
   "id": "a6451615-9d24-452c-ae24-d3a3fa5e93e8",
   "metadata": {
    "tags": []
   },
   "outputs": [
    {
     "data": {
      "text/html": [
       "<div>\n",
       "<style scoped>\n",
       "    .dataframe tbody tr th:only-of-type {\n",
       "        vertical-align: middle;\n",
       "    }\n",
       "\n",
       "    .dataframe tbody tr th {\n",
       "        vertical-align: top;\n",
       "    }\n",
       "\n",
       "    .dataframe thead th {\n",
       "        text-align: right;\n",
       "    }\n",
       "</style>\n",
       "<table border=\"1\" class=\"dataframe\">\n",
       "  <thead>\n",
       "    <tr style=\"text-align: right;\">\n",
       "      <th></th>\n",
       "      <th>ANO</th>\n",
       "      <th>MES</th>\n",
       "      <th>EMPRESA</th>\n",
       "      <th>ORIGEM</th>\n",
       "      <th>DESTINO</th>\n",
       "      <th>TARIFA</th>\n",
       "      <th>ASSENTOS</th>\n",
       "      <th>REAL</th>\n",
       "    </tr>\n",
       "  </thead>\n",
       "  <tbody>\n",
       "    <tr>\n",
       "      <th>0</th>\n",
       "      <td>2022</td>\n",
       "      <td>12</td>\n",
       "      <td>ABJ</td>\n",
       "      <td>SBSV</td>\n",
       "      <td>SIRI</td>\n",
       "      <td>550.0</td>\n",
       "      <td>8</td>\n",
       "      <td>553.41</td>\n",
       "    </tr>\n",
       "    <tr>\n",
       "      <th>1</th>\n",
       "      <td>2022</td>\n",
       "      <td>12</td>\n",
       "      <td>ABJ</td>\n",
       "      <td>SBSV</td>\n",
       "      <td>SIRI</td>\n",
       "      <td>650.0</td>\n",
       "      <td>7</td>\n",
       "      <td>654.03</td>\n",
       "    </tr>\n",
       "    <tr>\n",
       "      <th>2</th>\n",
       "      <td>2022</td>\n",
       "      <td>12</td>\n",
       "      <td>ABJ</td>\n",
       "      <td>SBSV</td>\n",
       "      <td>SIRI</td>\n",
       "      <td>850.0</td>\n",
       "      <td>11</td>\n",
       "      <td>855.27</td>\n",
       "    </tr>\n",
       "    <tr>\n",
       "      <th>3</th>\n",
       "      <td>2022</td>\n",
       "      <td>12</td>\n",
       "      <td>ABJ</td>\n",
       "      <td>SBSV</td>\n",
       "      <td>SIRI</td>\n",
       "      <td>1050.0</td>\n",
       "      <td>7</td>\n",
       "      <td>1056.51</td>\n",
       "    </tr>\n",
       "    <tr>\n",
       "      <th>4</th>\n",
       "      <td>2022</td>\n",
       "      <td>12</td>\n",
       "      <td>ABJ</td>\n",
       "      <td>SBSV</td>\n",
       "      <td>SIRI</td>\n",
       "      <td>1250.0</td>\n",
       "      <td>3</td>\n",
       "      <td>1257.75</td>\n",
       "    </tr>\n",
       "    <tr>\n",
       "      <th>...</th>\n",
       "      <td>...</td>\n",
       "      <td>...</td>\n",
       "      <td>...</td>\n",
       "      <td>...</td>\n",
       "      <td>...</td>\n",
       "      <td>...</td>\n",
       "      <td>...</td>\n",
       "      <td>...</td>\n",
       "    </tr>\n",
       "    <tr>\n",
       "      <th>331370</th>\n",
       "      <td>2022</td>\n",
       "      <td>12</td>\n",
       "      <td>TAM</td>\n",
       "      <td>SWSI</td>\n",
       "      <td>SBVT</td>\n",
       "      <td>837.0</td>\n",
       "      <td>1</td>\n",
       "      <td>842.19</td>\n",
       "    </tr>\n",
       "    <tr>\n",
       "      <th>331371</th>\n",
       "      <td>2022</td>\n",
       "      <td>12</td>\n",
       "      <td>TAM</td>\n",
       "      <td>SWSI</td>\n",
       "      <td>SBVT</td>\n",
       "      <td>1395.0</td>\n",
       "      <td>1</td>\n",
       "      <td>1403.65</td>\n",
       "    </tr>\n",
       "    <tr>\n",
       "      <th>331372</th>\n",
       "      <td>2022</td>\n",
       "      <td>12</td>\n",
       "      <td>TAM</td>\n",
       "      <td>SWSI</td>\n",
       "      <td>SBVT</td>\n",
       "      <td>1813.9</td>\n",
       "      <td>1</td>\n",
       "      <td>1825.15</td>\n",
       "    </tr>\n",
       "    <tr>\n",
       "      <th>331373</th>\n",
       "      <td>2022</td>\n",
       "      <td>12</td>\n",
       "      <td>TAM</td>\n",
       "      <td>SWSI</td>\n",
       "      <td>SBVT</td>\n",
       "      <td>1866.0</td>\n",
       "      <td>1</td>\n",
       "      <td>1877.57</td>\n",
       "    </tr>\n",
       "    <tr>\n",
       "      <th>331374</th>\n",
       "      <td>2022</td>\n",
       "      <td>12</td>\n",
       "      <td>TAM</td>\n",
       "      <td>SWSI</td>\n",
       "      <td>SBVT</td>\n",
       "      <td>1935.9</td>\n",
       "      <td>1</td>\n",
       "      <td>1947.90</td>\n",
       "    </tr>\n",
       "  </tbody>\n",
       "</table>\n",
       "<p>331375 rows × 8 columns</p>\n",
       "</div>"
      ],
      "text/plain": [
       "         ANO  MES EMPRESA ORIGEM DESTINO  TARIFA  ASSENTOS     REAL\n",
       "0       2022   12     ABJ   SBSV    SIRI   550.0         8   553.41\n",
       "1       2022   12     ABJ   SBSV    SIRI   650.0         7   654.03\n",
       "2       2022   12     ABJ   SBSV    SIRI   850.0        11   855.27\n",
       "3       2022   12     ABJ   SBSV    SIRI  1050.0         7  1056.51\n",
       "4       2022   12     ABJ   SBSV    SIRI  1250.0         3  1257.75\n",
       "...      ...  ...     ...    ...     ...     ...       ...      ...\n",
       "331370  2022   12     TAM   SWSI    SBVT   837.0         1   842.19\n",
       "331371  2022   12     TAM   SWSI    SBVT  1395.0         1  1403.65\n",
       "331372  2022   12     TAM   SWSI    SBVT  1813.9         1  1825.15\n",
       "331373  2022   12     TAM   SWSI    SBVT  1866.0         1  1877.57\n",
       "331374  2022   12     TAM   SWSI    SBVT  1935.9         1  1947.90\n",
       "\n",
       "[331375 rows x 8 columns]"
      ]
     },
     "execution_count": 53,
     "metadata": {},
     "output_type": "execute_result"
    }
   ],
   "source": [
    "dezembro"
   ]
  },
  {
   "cell_type": "code",
   "execution_count": null,
   "id": "b2d7b699-5410-4145-a00c-3df429cfcce6",
   "metadata": {},
   "outputs": [],
   "source": []
  },
  {
   "cell_type": "code",
   "execution_count": 11,
   "id": "a11f5812-ec3a-432b-bbb5-1c0d50f5039f",
   "metadata": {
    "tags": []
   },
   "outputs": [
    {
     "name": "stdout",
     "output_type": "stream",
     "text": [
      "CPU times: user 22min 41s, sys: 15.4 s, total: 22min 56s\n",
      "Wall time: 23min 44s\n"
     ]
    }
   ],
   "source": [
    "# %%time\n",
    "# dezembro['REAL'] = dezembro.apply(lambda row: corretorOld.ipca(row[\"TARIFA\"], f\"{int(row.MES)}/{int(row.ANO)}\", \"12/2022\")[0], axis=1) "
   ]
  },
  {
   "cell_type": "code",
   "execution_count": null,
   "id": "7060b9d7-2046-44fe-b0a5-176cd3d65884",
   "metadata": {},
   "outputs": [],
   "source": []
  },
  {
   "cell_type": "code",
   "execution_count": 36,
   "id": "3b3f6ffc-3f9d-4b60-b801-edf230bdbc97",
   "metadata": {
    "tags": []
   },
   "outputs": [
    {
     "data": {
      "text/html": [
       "<div>\n",
       "<style scoped>\n",
       "    .dataframe tbody tr th:only-of-type {\n",
       "        vertical-align: middle;\n",
       "    }\n",
       "\n",
       "    .dataframe tbody tr th {\n",
       "        vertical-align: top;\n",
       "    }\n",
       "\n",
       "    .dataframe thead th {\n",
       "        text-align: right;\n",
       "    }\n",
       "</style>\n",
       "<table border=\"1\" class=\"dataframe\">\n",
       "  <thead>\n",
       "    <tr style=\"text-align: right;\">\n",
       "      <th></th>\n",
       "      <th></th>\n",
       "      <th>price_weighted_mean</th>\n",
       "    </tr>\n",
       "    <tr>\n",
       "      <th>ANO</th>\n",
       "      <th>MES</th>\n",
       "      <th></th>\n",
       "    </tr>\n",
       "  </thead>\n",
       "  <tbody>\n",
       "    <tr>\n",
       "      <th>2022</th>\n",
       "      <th>12</th>\n",
       "      <td>654.853019</td>\n",
       "    </tr>\n",
       "  </tbody>\n",
       "</table>\n",
       "</div>"
      ],
      "text/plain": [
       "          price_weighted_mean\n",
       "ANO  MES                     \n",
       "2022 12            654.853019"
      ]
     },
     "execution_count": 36,
     "metadata": {},
     "output_type": "execute_result"
    }
   ],
   "source": [
    "\n",
    "wm = lambda x: np.average(x, weights=dezembro.loc[x.index, \"ASSENTOS\"])\n",
    "\n",
    "dezembro.groupby(['ANO', 'MES']).agg(price_weighted_mean=(\"REAL\", wm))"
   ]
  },
  {
   "cell_type": "code",
   "execution_count": null,
   "id": "75ccb64b-4f2a-4ed6-94cb-cabe1d72f16e",
   "metadata": {},
   "outputs": [],
   "source": [
    "wm = lambda x: np.average(x, weights=dezembro.loc[x.index, \"ASSENTOS\"])\n",
    "\n",
    "dezembro.groupby(['ANO', 'MES']).agg(price_weighted_mean=(\"REAL\", wm))"
   ]
  },
  {
   "cell_type": "code",
   "execution_count": null,
   "id": "49579cf3-bf95-46e6-a4da-d2ea5836ac9a",
   "metadata": {},
   "outputs": [],
   "source": []
  },
  {
   "cell_type": "code",
   "execution_count": 22,
   "id": "3efc7b02-b5ed-41df-80ad-ca62788052fd",
   "metadata": {
    "tags": []
   },
   "outputs": [
    {
     "data": {
      "text/html": [
       "<div>\n",
       "<style scoped>\n",
       "    .dataframe tbody tr th:only-of-type {\n",
       "        vertical-align: middle;\n",
       "    }\n",
       "\n",
       "    .dataframe tbody tr th {\n",
       "        vertical-align: top;\n",
       "    }\n",
       "\n",
       "    .dataframe thead th {\n",
       "        text-align: right;\n",
       "    }\n",
       "</style>\n",
       "<table border=\"1\" class=\"dataframe\">\n",
       "  <thead>\n",
       "    <tr style=\"text-align: right;\">\n",
       "      <th></th>\n",
       "      <th></th>\n",
       "      <th>price_weighted_mean</th>\n",
       "    </tr>\n",
       "    <tr>\n",
       "      <th>ANO</th>\n",
       "      <th>MES</th>\n",
       "      <th></th>\n",
       "    </tr>\n",
       "  </thead>\n",
       "  <tbody>\n",
       "    <tr>\n",
       "      <th>2020</th>\n",
       "      <th>12</th>\n",
       "      <td>491.654549</td>\n",
       "    </tr>\n",
       "  </tbody>\n",
       "</table>\n",
       "</div>"
      ],
      "text/plain": [
       "          price_weighted_mean\n",
       "ANO  MES                     \n",
       "2020 12            491.654549"
      ]
     },
     "execution_count": 22,
     "metadata": {},
     "output_type": "execute_result"
    }
   ],
   "source": []
  },
  {
   "cell_type": "code",
   "execution_count": null,
   "id": "63ee370c-6ea5-482e-9ea5-54e8d9ee68ea",
   "metadata": {},
   "outputs": [],
   "source": []
  },
  {
   "cell_type": "code",
   "execution_count": null,
   "id": "df25657b-261e-4312-a913-0b73904dd96d",
   "metadata": {},
   "outputs": [],
   "source": [
    "def get_average(values, weights):\n",
    "    return float(np.average(values, weights=weights))    # function created to calculate wt. median\n"
   ]
  },
  {
   "cell_type": "code",
   "execution_count": 116,
   "id": "57d5d1eb-2397-4a87-b303-9d63cd3d60c3",
   "metadata": {
    "tags": []
   },
   "outputs": [],
   "source": [
    "df[\"real\"] = df[1:].apply(lambda row: corretor.ipca(row[\"Weighted_average\"], f\"{int(row.MES)}/{int(row.ANO)}\", \"12/2022\")[0], axis=1) "
   ]
  },
  {
   "cell_type": "code",
   "execution_count": 117,
   "id": "be9dc34f-52c4-48a9-9dc5-c723639defbd",
   "metadata": {
    "tags": []
   },
   "outputs": [
    {
     "data": {
      "text/html": [
       "<div>\n",
       "<style scoped>\n",
       "    .dataframe tbody tr th:only-of-type {\n",
       "        vertical-align: middle;\n",
       "    }\n",
       "\n",
       "    .dataframe tbody tr th {\n",
       "        vertical-align: top;\n",
       "    }\n",
       "\n",
       "    .dataframe thead th {\n",
       "        text-align: right;\n",
       "    }\n",
       "</style>\n",
       "<table border=\"1\" class=\"dataframe\">\n",
       "  <thead>\n",
       "    <tr style=\"text-align: right;\">\n",
       "      <th></th>\n",
       "      <th>ANO</th>\n",
       "      <th>MES</th>\n",
       "      <th>Total</th>\n",
       "      <th>Weighted_average</th>\n",
       "      <th>real</th>\n",
       "    </tr>\n",
       "  </thead>\n",
       "  <tbody>\n",
       "    <tr>\n",
       "      <th>244</th>\n",
       "      <td>2022</td>\n",
       "      <td>12</td>\n",
       "      <td>1826543</td>\n",
       "      <td>650.817925</td>\n",
       "      <td>NaN</td>\n",
       "    </tr>\n",
       "    <tr>\n",
       "      <th>115</th>\n",
       "      <td>2021</td>\n",
       "      <td>12</td>\n",
       "      <td>2421438</td>\n",
       "      <td>490.797236</td>\n",
       "      <td>522.98</td>\n",
       "    </tr>\n",
       "    <tr>\n",
       "      <th>110</th>\n",
       "      <td>2020</td>\n",
       "      <td>12</td>\n",
       "      <td>1868805</td>\n",
       "      <td>416.657935</td>\n",
       "      <td>491.66</td>\n",
       "    </tr>\n",
       "    <tr>\n",
       "      <th>185</th>\n",
       "      <td>2019</td>\n",
       "      <td>12</td>\n",
       "      <td>2585896</td>\n",
       "      <td>436.533702</td>\n",
       "      <td>537.32</td>\n",
       "    </tr>\n",
       "    <tr>\n",
       "      <th>197</th>\n",
       "      <td>2018</td>\n",
       "      <td>12</td>\n",
       "      <td>2498232</td>\n",
       "      <td>444.033223</td>\n",
       "      <td>564.44</td>\n",
       "    </tr>\n",
       "    <tr>\n",
       "      <th>125</th>\n",
       "      <td>2017</td>\n",
       "      <td>12</td>\n",
       "      <td>2745175</td>\n",
       "      <td>430.039663</td>\n",
       "      <td>568.77</td>\n",
       "    </tr>\n",
       "    <tr>\n",
       "      <th>147</th>\n",
       "      <td>2016</td>\n",
       "      <td>12</td>\n",
       "      <td>2839457</td>\n",
       "      <td>363.795988</td>\n",
       "      <td>494.65</td>\n",
       "    </tr>\n",
       "    <tr>\n",
       "      <th>21</th>\n",
       "      <td>2015</td>\n",
       "      <td>12</td>\n",
       "      <td>3286404</td>\n",
       "      <td>358.082682</td>\n",
       "      <td>520.90</td>\n",
       "    </tr>\n",
       "    <tr>\n",
       "      <th>52</th>\n",
       "      <td>2014</td>\n",
       "      <td>12</td>\n",
       "      <td>3915556</td>\n",
       "      <td>333.243424</td>\n",
       "      <td>535.55</td>\n",
       "    </tr>\n",
       "    <tr>\n",
       "      <th>78</th>\n",
       "      <td>2013</td>\n",
       "      <td>12</td>\n",
       "      <td>3790080</td>\n",
       "      <td>351.360833</td>\n",
       "      <td>601.69</td>\n",
       "    </tr>\n",
       "    <tr>\n",
       "      <th>32</th>\n",
       "      <td>2012</td>\n",
       "      <td>12</td>\n",
       "      <td>2897055</td>\n",
       "      <td>385.788252</td>\n",
       "      <td>698.79</td>\n",
       "    </tr>\n",
       "    <tr>\n",
       "      <th>116</th>\n",
       "      <td>2011</td>\n",
       "      <td>12</td>\n",
       "      <td>3658163</td>\n",
       "      <td>316.280132</td>\n",
       "      <td>604.59</td>\n",
       "    </tr>\n",
       "    <tr>\n",
       "      <th>5</th>\n",
       "      <td>2010</td>\n",
       "      <td>12</td>\n",
       "      <td>3244644</td>\n",
       "      <td>297.418206</td>\n",
       "      <td>606.29</td>\n",
       "    </tr>\n",
       "    <tr>\n",
       "      <th>109</th>\n",
       "      <td>2009</td>\n",
       "      <td>12</td>\n",
       "      <td>1335129</td>\n",
       "      <td>300.593676</td>\n",
       "      <td>647.30</td>\n",
       "    </tr>\n",
       "    <tr>\n",
       "      <th>72</th>\n",
       "      <td>2008</td>\n",
       "      <td>12</td>\n",
       "      <td>1277635</td>\n",
       "      <td>384.519758</td>\n",
       "      <td>862.95</td>\n",
       "    </tr>\n",
       "    <tr>\n",
       "      <th>216</th>\n",
       "      <td>2007</td>\n",
       "      <td>12</td>\n",
       "      <td>1310026</td>\n",
       "      <td>339.866535</td>\n",
       "      <td>811.47</td>\n",
       "    </tr>\n",
       "    <tr>\n",
       "      <th>34</th>\n",
       "      <td>2006</td>\n",
       "      <td>12</td>\n",
       "      <td>1223111</td>\n",
       "      <td>323.336285</td>\n",
       "      <td>804.33</td>\n",
       "    </tr>\n",
       "    <tr>\n",
       "      <th>189</th>\n",
       "      <td>2005</td>\n",
       "      <td>12</td>\n",
       "      <td>1026765</td>\n",
       "      <td>445.378145</td>\n",
       "      <td>1141.36</td>\n",
       "    </tr>\n",
       "    <tr>\n",
       "      <th>162</th>\n",
       "      <td>2004</td>\n",
       "      <td>12</td>\n",
       "      <td>1182228</td>\n",
       "      <td>445.868422</td>\n",
       "      <td>1213.64</td>\n",
       "    </tr>\n",
       "    <tr>\n",
       "      <th>62</th>\n",
       "      <td>2003</td>\n",
       "      <td>12</td>\n",
       "      <td>1169646</td>\n",
       "      <td>359.337631</td>\n",
       "      <td>1048.90</td>\n",
       "    </tr>\n",
       "    <tr>\n",
       "      <th>33</th>\n",
       "      <td>2002</td>\n",
       "      <td>12</td>\n",
       "      <td>968758</td>\n",
       "      <td>390.291394</td>\n",
       "      <td>1264.78</td>\n",
       "    </tr>\n",
       "  </tbody>\n",
       "</table>\n",
       "</div>"
      ],
      "text/plain": [
       "      ANO  MES    Total  Weighted_average     real\n",
       "244  2022   12  1826543        650.817925      NaN\n",
       "115  2021   12  2421438        490.797236   522.98\n",
       "110  2020   12  1868805        416.657935   491.66\n",
       "185  2019   12  2585896        436.533702   537.32\n",
       "197  2018   12  2498232        444.033223   564.44\n",
       "125  2017   12  2745175        430.039663   568.77\n",
       "147  2016   12  2839457        363.795988   494.65\n",
       "21   2015   12  3286404        358.082682   520.90\n",
       "52   2014   12  3915556        333.243424   535.55\n",
       "78   2013   12  3790080        351.360833   601.69\n",
       "32   2012   12  2897055        385.788252   698.79\n",
       "116  2011   12  3658163        316.280132   604.59\n",
       "5    2010   12  3244644        297.418206   606.29\n",
       "109  2009   12  1335129        300.593676   647.30\n",
       "72   2008   12  1277635        384.519758   862.95\n",
       "216  2007   12  1310026        339.866535   811.47\n",
       "34   2006   12  1223111        323.336285   804.33\n",
       "189  2005   12  1026765        445.378145  1141.36\n",
       "162  2004   12  1182228        445.868422  1213.64\n",
       "62   2003   12  1169646        359.337631  1048.90\n",
       "33   2002   12   968758        390.291394  1264.78"
      ]
     },
     "execution_count": 117,
     "metadata": {},
     "output_type": "execute_result"
    }
   ],
   "source": [
    "df[df[\"MES\"]==12]"
   ]
  },
  {
   "cell_type": "code",
   "execution_count": null,
   "id": "22b8e2af-e886-49d5-a83b-ce8b1043f7ac",
   "metadata": {},
   "outputs": [],
   "source": []
  },
  {
   "cell_type": "markdown",
   "id": "cbdb33d2-c750-4e2f-9f10-d837c7da44a3",
   "metadata": {
    "tags": []
   },
   "source": [
    "# Referências\n",
    "- Docker Pyspark: https://github.com/mrn-aglic/spark-standalone-cluster\n",
    "- Calculo da Variação pelo IPCA: https://estudaradm.com.br/macroeconomia/calcular-inflacao-acumulada-em-12-meses-exemplos-e-exercicios/?unapproved=1687&moderation-hash=42b2b86a1784537b7b5a3c2fa55d719e#comment-1687 (OBS: obrigado especial ao criador desta publicação. Todos os blogs que eu li falando que iriam ensinar a deflacionar um número apenas usavam a calculadora do BC)"
   ]
  },
  {
   "cell_type": "code",
   "execution_count": null,
   "id": "a76d7327-ad81-4f02-b697-e7e3b21b792d",
   "metadata": {},
   "outputs": [],
   "source": []
  },
  {
   "cell_type": "code",
   "execution_count": null,
   "id": "9ff07f2b-bac4-436d-b323-0ad3b554380f",
   "metadata": {},
   "outputs": [],
   "source": []
  },
  {
   "cell_type": "code",
   "execution_count": null,
   "id": "8e56e7d7-a42d-4891-8dee-cdbf41114b2a",
   "metadata": {},
   "outputs": [],
   "source": []
  }
 ],
 "metadata": {
  "kernelspec": {
   "display_name": "Python 3 (ipykernel)",
   "language": "python",
   "name": "python3"
  },
  "language_info": {
   "codemirror_mode": {
    "name": "ipython",
    "version": 3
   },
   "file_extension": ".py",
   "mimetype": "text/x-python",
   "name": "python",
   "nbconvert_exporter": "python",
   "pygments_lexer": "ipython3",
   "version": "3.10.11"
  }
 },
 "nbformat": 4,
 "nbformat_minor": 5
}
