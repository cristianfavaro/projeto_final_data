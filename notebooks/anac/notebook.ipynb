{
 "cells": [
  {
   "cell_type": "markdown",
   "id": "dba3c578-df2a-4448-911b-5c220dd71614",
   "metadata": {
    "tags": []
   },
   "source": [
    "# Projeto Final \n",
    "## Master em Jornalismo de Dados - Insper\n",
    "\n",
    "### Tarifas aéreas no Brasil: uma análise dos dados da Anac na Ponte Aérea (Rio-SP)\n",
    "\n",
    "Trabalho apresentado na conclusão do módulo Jornalismo de Dados e Automação do Master em Jornalismo de Dados do Insper - turma 2022/23. O projeto foi ministrado pelo professor Eduardo Vicente Gonçalves. \n",
    "\n",
    "\n",
    "### O Projeto\n",
    "Um dos temas mais presentes na cobertura de um setorista de companhias aéreas é o preço dos bilhetes. As tarifas dispararam nos últimos anos por causa dos impactos da pandemia e do efeito da invasão da Rússia na Ucrânia sobre o petróleo. \n",
    "\n",
    "A Anac faz um monitoramento intensivo das tarifas, que é disponibilizado em um dashboard interativo bastante eficiente (https://www.gov.br/anac/pt-br/assuntos/dados-e-estatisticas/mercado-do-transporte-aereo), na aba Tarifas Aéreas Domésticas e Tarifas Aéreas Internacionais). Entretanto, cruzamentos mais espefícos exigem uma demanda formal via assessoria de imprensa e com prazos nem sempre favoráveis. Além disso, ao trabalhar os dados brutos se abrem novas possibilidades de visualizações. \n",
    "\n",
    "#### Os Dados\n",
    "A Anac recolhe das companhias aéreas comerciais uma série de dados mensalmente para calcular a oferta e demanda por transporte, assim como a evolução das tarifas. No caso das tarifas, os dados representam uma fatia de cerca de 35% do total de passageiros transportados (a depender do mês). Esse recorde ocorre, conforme explica a Anac, porque os dados abrangem todas as passagens vendidas ao “público adulto em geral”, excluindo aquelas adquiridas com descontos restritos a grupos específicos, programas de milhagem, entre outras condições. \n",
    "\n",
    "As variáveis são diretas:\n",
    "- ANO e MES: mês e ano da venda das passagens, independentemente da data do voo;\n",
    "- EMPRESA: empresa que vendeu a passagem;\n",
    "- ORIGEM e DESTINO;\n",
    "- TARIFA: valores em reais;\n",
    "- ASSENTOS: número de passagens comercializadas naquela data pela respectiva tarifa. \n",
    "\n",
    "Os microdados estão disponíveis no seguinte link: https://sas.anac.gov.br/sas/downloads/view/frmDownload.aspx\n",
    "\n",
    "Para facilitar a replicabilidade/teste do projeto, os dados de janeiro de 2002 a dezembro de 2022 estão disponíveis em um arquivo zip no Google Drive (eles devem ser inseridos na pasta 'anac.nosync'): https://drive.google.com/drive/folders/1JYesuNR4Mc5QU2g4gVR9IpoqdUFrrGeq?usp=sharing\n",
    "\n",
    "### Ferramentas\n",
    "\n",
    "#### Spark\n",
    "A base completa - janeiro de 2002 a dezembro de 2022 - tem mais de 55 milhões de registros distribuídos em 250 arquivos. Desta forma, abrir o arquivo no Pandas não seria viável na memória do computador. \n",
    "\n",
    "Para cruzar os dados, resolvi usar o Pyspark - interface Python para Spark e é um projeto Apache de plataforma cruzada de código aberto. \n",
    "\n",
    "Mas, por uma questão de capacidade de processamento, parte do tratamento dos arquivos foi feita individualmente via Pandas. Após isso, os dados são facilmente agrupados e agregados no Spark. \n",
    "\n",
    "#### Docker\n",
    "O Spark é bastante simples de ser iniciado via Docker, método escolhido para este projeto. \n",
    "Basta clonar o repositório. Na pasta principal, digite `docker-compose up --build -d` - com isso o Docker vai construir os containeres, iniciar o sistema e manter o terminal livre (detached, ou -d). Ele vai iniciar o Spark, assim como um Worker para processar os dados. \n",
    "\n",
    "#### Jupyter\n",
    "O Docker vai criar também um Jupyter, que pode ser acessado pelo seguinte endereço: http://localhost:8888/\n",
    "Aqui é possível navegar pela pasta Anac e encontrar os notebooks necessários para o projeto.  \n"
   ]
  },
  {
   "cell_type": "markdown",
   "id": "1ae013e3-7a13-44ee-bf15-2baf52da648d",
   "metadata": {},
   "source": [
    "# Limpeza dos Dados\n",
    "\n",
    "O primeiro desafio encontrado foi a limpeza dos dados. \n",
    "Minha máquina acabou não suportando todos os processamentos necessários no dado. Entre eles, preciso transformar variáveis, ajustar alguns CSVs com formatação e header errados. O principal desafio está na correção monetária: por padrão a Anac atualiza todos os bilhetes comercializados desde 2002 pelo IPCA acumulado no mês da última divulgação. "
   ]
  },
  {
   "cell_type": "code",
   "execution_count": 1,
   "id": "db230f58-80ca-481c-91c9-35142d281a37",
   "metadata": {
    "tags": []
   },
   "outputs": [],
   "source": [
    "import numpy as np\n",
    "import pandas as pd\n",
    "import os\n",
    "#Função criada para ajustar os valores individualmente. Ela foi testada com base na Calculadora do BC. \n",
    "from monetary_correction import ipca"
   ]
  },
  {
   "cell_type": "markdown",
   "id": "b19666cc-e6d4-4f4a-a460-cb730a4ee3e5",
   "metadata": {
    "tags": []
   },
   "source": [
    "# Ajustando dados e trazendo tudo a valor presente\n",
    "Um dos desafios mais legais foi pensar em uma função para ajustar os valores pelo IPCA.\n",
    "Por se tratar de uma função que seria executada literalmente milhares de vezes, ela teria de ser rápida e bastante eficiente. \n",
    "A primeira versão corrigiu todos os dados de uma tabela de cerca de 330 mil entradas em cerca de 20 minutos. A segunda, conseguiu fazer o mesmo trabalho em cerca de 1,3 minuto - um salto bastante significativo para uma base com 250 CSVs, sendo cada um variando entre 200 mil e 500 mil entradas cada. "
   ]
  },
  {
   "cell_type": "code",
   "execution_count": 2,
   "id": "dd7cb100-f4b0-4ffd-8702-6fb5f7250e7d",
   "metadata": {
    "tags": []
   },
   "outputs": [],
   "source": [
    "import glob"
   ]
  },
  {
   "cell_type": "code",
   "execution_count": 12,
   "id": "24c14334-5a34-4755-930a-8ef63b82d033",
   "metadata": {
    "tags": []
   },
   "outputs": [
    {
     "name": "stdout",
     "output_type": "stream",
     "text": [
      ">>Processando tabela anac.nosync/202212.CSVCPU times: user 2h 32min 40s, sys: 1min 17s, total: 2h 33min 57s\n",
      "Wall time: 2h 43min 3s\n"
     ]
    }
   ],
   "source": [
    "# %%time\n",
    "# import glob\n",
    "# import os\n",
    "\n",
    "# def update_db(date_ipca):\n",
    "#     \"\"\"\n",
    "#     Função que pega os CSVs individualmente, limpa os dados e corrige a tarifa pelo IPCA do parâmetro month_ipca. \n",
    "#     A data precisa ser no formato \"MM/YYYY\"\n",
    "#     \"\"\"\n",
    "\n",
    "#     if not os.path.exists(\"anac.nosync/real/\"):\n",
    "#         os.makedirs(\"anac.nosync/real/\")\n",
    "    \n",
    "#     files = glob.glob(\"anac.nosync/*.CSV\")\n",
    "    \n",
    "#     for file in files:\n",
    "#         print(f\"\\r>>Processando tabela {file}\", end=\"\")\n",
    "#         df = pd.read_csv(file, sep=\";\", encoding='latin1')\n",
    "#         df = df.loc[:, ~df.columns.str.contains('^Unnamed')]\n",
    "#         df.columns = [\"ANO\",\"MES\",\"EMPRESA\",\"ORIGEM\",\"DESTINO\",\"TARIFA\",\"ASSENTOS\"]\n",
    "#         df.TARIFA = df.TARIFA.str.replace(\",\", \".\").astype(float).copy()\n",
    "\n",
    "#         if file == files[-1]:    \n",
    "#             df['REAL'] = df['TARIFA'].copy()\n",
    "#         else:\n",
    "#             df['REAL'] = df.apply(lambda row: ipca(row[\"TARIFA\"], [row['MES'], row['ANO']], date_ipca)[0], axis=1)\n",
    "#             # df['REAL'] = df.apply(lambda row: ipca(row[\"TARIFA\"], f\"{row['MES']}/{row['ANO']}\", date_ipca)[0], axis=1)\n",
    "#         df.to_csv(f\"anac.nosync/real/{file.split('/')[1].split('.')[0]}.csv\", index=False, sep=\";\")\n",
    "\n",
    "# update_db([12,2022])"
   ]
  },
  {
   "cell_type": "markdown",
   "id": "8a804da9-f5b4-4414-8883-fea0e958afdd",
   "metadata": {},
   "source": [
    "# Começando com o Spark\n",
    "Lider com o Spark foi outro desafio.\n",
    "Ele demnanda uma série de configurações completas e ajustar tudo ao meu computador foi trabalhoso. Mas consegui encontrar uma saída (com este Docker container, inspirado em um projeto do github (link nas referências). "
   ]
  },
  {
   "cell_type": "code",
   "execution_count": 2,
   "id": "1ac49467-e902-4487-9046-e47114a22f92",
   "metadata": {
    "tags": []
   },
   "outputs": [
    {
     "name": "stderr",
     "output_type": "stream",
     "text": [
      "Setting default log level to \"WARN\".\n",
      "To adjust logging level use sc.setLogLevel(newLevel). For SparkR, use setLogLevel(newLevel).\n"
     ]
    },
    {
     "name": "stdout",
     "output_type": "stream",
     "text": [
      "23/04/14 12:49:58 WARN NativeCodeLoader: Unable to load native-hadoop library for your platform... using builtin-java classes where applicable\n"
     ]
    }
   ],
   "source": [
    "from pyspark.sql import SparkSession\n",
    "from pyspark.conf import SparkConf\n",
    "import pyspark.sql.functions as f\n",
    "\n",
    "conf = SparkConf()\n",
    "# conf.set(\"spark.eventLog.enabled\", False)\n",
    "# conf.set(\"spark.eventLog.dir\", \"/opt/spark/spark-events\")\n",
    "# conf.set(\"spark.history.fs.logDirectory\", \"/opt/spark/spark-events\")\n",
    "# conf.set(\"spark.executor.memory\", \"1024m\")\n",
    "# conf.set(\"spark.sql.autoBroadcastJoinThreshold\", -1)\n",
    "# conf.set(\"spark.sparkContext.setLogLevel\", \"ERROR\")\n",
    "\n",
    "spark = SparkSession.\\\n",
    "        builder.\\\n",
    "        appName(\"pyspark-anac\").\\\n",
    "        master(\"spark://spark-master:7077\").\\\n",
    "        config(conf=conf).\\\n",
    "        getOrCreate()"
   ]
  },
  {
   "cell_type": "code",
   "execution_count": 3,
   "id": "9bb6d2b5-7a20-442f-b60a-fa493c8d2b40",
   "metadata": {
    "tags": []
   },
   "outputs": [
    {
     "data": {
      "text/html": [
       "\n",
       "            <div>\n",
       "                <p><b>SparkSession - in-memory</b></p>\n",
       "                \n",
       "        <div>\n",
       "            <p><b>SparkContext</b></p>\n",
       "\n",
       "            <p><a href=\"http://8e1a407c72c3:4040\">Spark UI</a></p>\n",
       "\n",
       "            <dl>\n",
       "              <dt>Version</dt>\n",
       "                <dd><code>v3.3.2</code></dd>\n",
       "              <dt>Master</dt>\n",
       "                <dd><code>spark://spark-master:7077</code></dd>\n",
       "              <dt>AppName</dt>\n",
       "                <dd><code>pyspark-anac</code></dd>\n",
       "            </dl>\n",
       "        </div>\n",
       "        \n",
       "            </div>\n",
       "        "
      ],
      "text/plain": [
       "<pyspark.sql.session.SparkSession at 0x7fc27924ece0>"
      ]
     },
     "execution_count": 3,
     "metadata": {},
     "output_type": "execute_result"
    }
   ],
   "source": [
    "spark\n",
    "# sc = spark.sparkContext\n",
    "# sc.addPyFile(\"/opt/notebooks/udfs.py\")"
   ]
  },
  {
   "cell_type": "markdown",
   "id": "ac062851-2051-4fb9-bbaa-661619bb8579",
   "metadata": {},
   "source": [
    "## Construindo o Schema\n",
    "Parte importante para definir os tipos de arquivos. Uma boa definição ajuda o programa a rodar significativamente mais rápido. "
   ]
  },
  {
   "cell_type": "code",
   "execution_count": 231,
   "id": "d1b260d6-3ef9-4bf9-aa73-78ea0addab4c",
   "metadata": {
    "tags": []
   },
   "outputs": [],
   "source": [
    "from pyspark.sql.types import StructType, IntegerType, StringType, FloatType, StructField, DoubleType, ArrayType\n",
    "\n",
    "schema = StructType(\n",
    "    [\n",
    "        StructField('ANO', IntegerType(), True), \n",
    "        StructField('MES', IntegerType(), True), \n",
    "        StructField('EMPRESA', StringType(), True), \n",
    "        StructField('ORIGEM', StringType(), True), \n",
    "        StructField('DESTINO', StringType(), True), \n",
    "        StructField('TARIFA', FloatType(), True), \n",
    "        StructField('ASSENTOS', IntegerType(), True),\n",
    "        StructField('REAL', FloatType(), True),\n",
    "    ]\n",
    ")"
   ]
  },
  {
   "cell_type": "markdown",
   "id": "f64f26a0-8e65-4507-96ac-53ab01921a23",
   "metadata": {},
   "source": [
    "Agora vamos ler todos os arquivos editados de uma só vez. Isso é possível com o \"*\" antes do \".csv\", que significa que o Spark irá ler todos os arquivos CSVs no diretório. Importante: todos precisam ter a mesma quantidade de colunas."
   ]
  },
  {
   "cell_type": "code",
   "execution_count": 5,
   "id": "29eb77d4-d6f5-451d-927a-35e33b25664d",
   "metadata": {
    "tags": []
   },
   "outputs": [
    {
     "name": "stderr",
     "output_type": "stream",
     "text": [
      "                                                                                \r"
     ]
    }
   ],
   "source": [
    "sdf = spark.read.csv('anac.nosync/real/*.csv', header=True, sep=\";\", schema=schema)"
   ]
  },
  {
   "cell_type": "code",
   "execution_count": 5,
   "id": "231dcd40-c790-4a4f-95d3-1647a1ce985c",
   "metadata": {
    "tags": []
   },
   "outputs": [],
   "source": [
    "#Vamos contar a quantidade de linhas\n",
    "#sdf.count()"
   ]
  },
  {
   "cell_type": "code",
   "execution_count": 6,
   "id": "fd8210c5-b5f1-432f-909e-378803f604a2",
   "metadata": {
    "tags": []
   },
   "outputs": [],
   "source": [
    "#Uma breve análise exploratória dos dados\n",
    "#sdf.summary().show()"
   ]
  },
  {
   "cell_type": "code",
   "execution_count": 6,
   "id": "48661561-293f-4d4d-bb79-869dd64aa16f",
   "metadata": {
    "tags": []
   },
   "outputs": [
    {
     "name": "stderr",
     "output_type": "stream",
     "text": [
      "[Stage 1:=======================================================> (28 + 1) / 29]\r"
     ]
    },
    {
     "name": "stdout",
     "output_type": "stream",
     "text": [
      "+----+---+-------+------+-------+------+--------+---------+\n",
      "| ANO|MES|EMPRESA|ORIGEM|DESTINO|TARIFA|ASSENTOS|     REAL|\n",
      "+----+---+-------+------+-------+------+--------+---------+\n",
      "|2021| 10|    AZU|  SBAC|   SBAR| 565.9|       1|616.34424|\n",
      "|2021| 10|    AZU|  SBAC|   SBBR| 409.9|       1|446.43842|\n",
      "|2021| 10|    AZU|  SBAC|   SBBV| 748.9|       4| 815.6568|\n",
      "+----+---+-------+------+-------+------+--------+---------+\n",
      "\n"
     ]
    },
    {
     "name": "stderr",
     "output_type": "stream",
     "text": [
      "                                                                                \r"
     ]
    }
   ],
   "source": [
    "#Vendo apenas as primeiras três linhas da tabela. \n",
    "sdf.limit(3).show()"
   ]
  },
  {
   "cell_type": "markdown",
   "id": "ba75d015-6af6-4a40-8b4f-f1837bd60cc8",
   "metadata": {
    "tags": []
   },
   "source": [
    "# Ajustar todos os valores pela inflação de Dezembro de 2022\n",
    "\n",
    "Nao funciona aqui por questão de processamento. Por isso, exacutamos via pandas e editando e corrigindo os arquivos individualmente. \n",
    "\n",
    "```\n",
    "def valor_real(value, date_start):\n",
    "    return ipca(value, date_start, \"12/2022\")[0]\n",
    "\n",
    "vreal = f.udf(valor_real, DoubleType())    # registering as udf here\n",
    "\n",
    "\n",
    "sdf = sdf.withColumn(\n",
    "    'REAL',\n",
    "    vreal(\n",
    "        f.col(\"TARIFA\"), \n",
    "        f.concat(f.col(\"MES\"), f.lit(\"/\"), f.col(\"ANO\")),\n",
    "    )\n",
    ")\n",
    "\n",
    "sdf = sdf.select(\"ANO\", \"MES\", \"ASSENTOS\", \"REAL\")\n",
    "````\n"
   ]
  },
  {
   "cell_type": "markdown",
   "id": "1cd7c6a9-b608-4c8e-abe1-f1ac0bfe51cb",
   "metadata": {
    "tags": []
   },
   "source": [
    "# Dado final\n",
    "\n",
    "## Agrupamento por ano e mês\n",
    "Primeiro vamos agrupar os dados pelas informações que a gente quer. No caso vamos pegar as tarifas médias por mês. "
   ]
  },
  {
   "cell_type": "code",
   "execution_count": 7,
   "id": "bd804445-6423-4905-94a4-b9c2e3c58398",
   "metadata": {
    "tags": []
   },
   "outputs": [],
   "source": [
    "data_by_date = sdf.groupby(\"ANO\", \"MES\").agg(\n",
    "    f.sum(\"ASSENTOS\").alias(\"TOTAL\"),\n",
    "    f.collect_list(f.col('REAL')),\n",
    "    f.collect_list(f.col('ASSENTOS')),\n",
    ")"
   ]
  },
  {
   "cell_type": "code",
   "execution_count": 8,
   "id": "0a4c4ea0-3805-437c-9f9f-51c1d6fdb9c0",
   "metadata": {
    "tags": []
   },
   "outputs": [
    {
     "data": {
      "text/plain": [
       "['ANO',\n",
       " 'MES',\n",
       " 'TOTAL',\n",
       " 'collect_list(REAL)',\n",
       " 'collect_list(TARIFA)',\n",
       " 'collect_list(ASSENTOS)']"
      ]
     },
     "execution_count": 8,
     "metadata": {},
     "output_type": "execute_result"
    }
   ],
   "source": [
    "data_by_date.columns"
   ]
  },
  {
   "cell_type": "code",
   "execution_count": 9,
   "id": "f2fb3e6c-edc3-4dc5-9d84-c560732e86fc",
   "metadata": {
    "tags": []
   },
   "outputs": [],
   "source": [
    "#precisamos de uma média ponderada para calcular a real representatividade das tarifas considerando o número de assentos. \n",
    "def get_average(values, weights):\n",
    "    return float(np.average(values, weights=weights)) \n",
    "waverage = f.udf(get_average, DoubleType())    # registering as udf here\n",
    "\n",
    "data_by_date = data_by_date.withColumn(\n",
    "    'tarifa_media_real',\n",
    "    waverage(f.col(\"collect_list(REAL)\"), f.col(\"collect_list(ASSENTOS)\"))\n",
    ")"
   ]
  },
  {
   "cell_type": "code",
   "execution_count": 10,
   "id": "552be565-50cb-402d-a4b5-1531256858ae",
   "metadata": {
    "tags": []
   },
   "outputs": [],
   "source": [
    "data_by_date = data_by_date.select(\"ANO\", \"MES\", \"TOTAL\", \"tarifa_media_real\")"
   ]
  },
  {
   "cell_type": "code",
   "execution_count": 11,
   "id": "9348ea3c-bf62-4673-a498-96c90a6e5f55",
   "metadata": {
    "tags": []
   },
   "outputs": [
    {
     "data": {
      "text/plain": [
       "DataFrame[ANO: int, MES: int, TOTAL: bigint, tarifa_media: double, tarifa_media_real: double]"
      ]
     },
     "execution_count": 11,
     "metadata": {},
     "output_type": "execute_result"
    }
   ],
   "source": [
    "data_by_date.cache() #salvando a base no cache para usar depois. "
   ]
  },
  {
   "cell_type": "code",
   "execution_count": 12,
   "id": "ed437120-4510-4728-ae95-f508076ee123",
   "metadata": {
    "tags": []
   },
   "outputs": [
    {
     "name": "stderr",
     "output_type": "stream",
     "text": [
      "[Stage 5:======================================================>(198 + 2) / 200]\r"
     ]
    },
    {
     "name": "stdout",
     "output_type": "stream",
     "text": [
      "+----+---+-------+-----------------+-----------------+\n",
      "| ANO|MES|  TOTAL|     tarifa_media|tarifa_media_real|\n",
      "+----+---+-------+-----------------+-----------------+\n",
      "|2022| 10|2450901| 638.356869621899|648.7533615424431|\n",
      "|2012| 10|4443441|309.6230932886985|567.5237020907284|\n",
      "|2007|  6|1366528|280.3493941729688|681.8395058799156|\n",
      "+----+---+-------+-----------------+-----------------+\n",
      "\n"
     ]
    },
    {
     "name": "stderr",
     "output_type": "stream",
     "text": [
      "                                                                                \r"
     ]
    }
   ],
   "source": [
    "data_by_date.limit(3).show()"
   ]
  },
  {
   "cell_type": "code",
   "execution_count": 25,
   "id": "6d27556f-8ffc-4f1f-acc1-a9bd95e864d6",
   "metadata": {
    "tags": []
   },
   "outputs": [],
   "source": [
    "# #Jogando para CSV para futura consulta sem precisar rodar de novo\n",
    "# data_by_date.select(\"ANO\", \"MES\", \"TOTAL\", \"Weighted_average\")\\\n",
    "#     .repartition(1)\\\n",
    "#     .write.format(\"com.databricks.spark.csv\")\\\n",
    "#     .option(\"header\", \"true\")\\\n",
    "#     .save(\"tarifa_real.csv\")"
   ]
  },
  {
   "cell_type": "markdown",
   "id": "c1ea42c6-4697-4a73-a1ec-985457a5b090",
   "metadata": {
    "tags": []
   },
   "source": [
    "## Análise Tarifas\n",
    "\n",
    "### Mensais\n",
    "- Criar gráficos mostrando a evolução das tarifas"
   ]
  },
  {
   "cell_type": "code",
   "execution_count": 14,
   "id": "7400354a-48f6-4091-bb45-cff1cef1e177",
   "metadata": {
    "tags": []
   },
   "outputs": [],
   "source": [
    "import altair as alt"
   ]
  },
  {
   "cell_type": "code",
   "execution_count": 15,
   "id": "b4a90b06-897d-4d18-a55d-6fc30d976a59",
   "metadata": {
    "tags": []
   },
   "outputs": [
    {
     "name": "stderr",
     "output_type": "stream",
     "text": [
      "                                                                                \r"
     ]
    }
   ],
   "source": [
    "df_final = data_by_date.toPandas()\n",
    "df_final[\"DATA\"] = df_final[\"MES\"].astype(str) + \"/\" + df_final[\"ANO\"].astype(str)\n",
    "df_final.DATA = df_final.DATA.apply(pd.to_datetime,format=\"%m/%Y\")"
   ]
  },
  {
   "cell_type": "code",
   "execution_count": 16,
   "id": "2ed84a5c-207b-42f9-bf87-9ad69df56a08",
   "metadata": {
    "tags": []
   },
   "outputs": [
    {
     "data": {
      "text/html": [
       "<div>\n",
       "<style scoped>\n",
       "    .dataframe tbody tr th:only-of-type {\n",
       "        vertical-align: middle;\n",
       "    }\n",
       "\n",
       "    .dataframe tbody tr th {\n",
       "        vertical-align: top;\n",
       "    }\n",
       "\n",
       "    .dataframe thead th {\n",
       "        text-align: right;\n",
       "    }\n",
       "</style>\n",
       "<table border=\"1\" class=\"dataframe\">\n",
       "  <thead>\n",
       "    <tr style=\"text-align: right;\">\n",
       "      <th></th>\n",
       "      <th>ANO</th>\n",
       "      <th>MES</th>\n",
       "      <th>TOTAL</th>\n",
       "      <th>tarifa_media</th>\n",
       "      <th>tarifa_media_real</th>\n",
       "      <th>DATA</th>\n",
       "    </tr>\n",
       "  </thead>\n",
       "  <tbody>\n",
       "    <tr>\n",
       "      <th>0</th>\n",
       "      <td>2022</td>\n",
       "      <td>10</td>\n",
       "      <td>2450901</td>\n",
       "      <td>638.356870</td>\n",
       "      <td>648.753362</td>\n",
       "      <td>2022-10-01</td>\n",
       "    </tr>\n",
       "    <tr>\n",
       "      <th>1</th>\n",
       "      <td>2012</td>\n",
       "      <td>10</td>\n",
       "      <td>4443441</td>\n",
       "      <td>309.623093</td>\n",
       "      <td>567.523702</td>\n",
       "      <td>2012-10-01</td>\n",
       "    </tr>\n",
       "  </tbody>\n",
       "</table>\n",
       "</div>"
      ],
      "text/plain": [
       "    ANO  MES    TOTAL  tarifa_media  tarifa_media_real       DATA\n",
       "0  2022   10  2450901    638.356870         648.753362 2022-10-01\n",
       "1  2012   10  4443441    309.623093         567.523702 2012-10-01"
      ]
     },
     "execution_count": 16,
     "metadata": {},
     "output_type": "execute_result"
    }
   ],
   "source": [
    "df_final.head(2)"
   ]
  },
  {
   "cell_type": "code",
   "execution_count": 17,
   "id": "c57c0f6b-56e7-4d66-97c5-7e6331499b92",
   "metadata": {
    "tags": []
   },
   "outputs": [
    {
     "data": {
      "text/html": [
       "<div>\n",
       "<style scoped>\n",
       "    .dataframe tbody tr th:only-of-type {\n",
       "        vertical-align: middle;\n",
       "    }\n",
       "\n",
       "    .dataframe tbody tr th {\n",
       "        vertical-align: top;\n",
       "    }\n",
       "\n",
       "    .dataframe thead th {\n",
       "        text-align: right;\n",
       "    }\n",
       "</style>\n",
       "<table border=\"1\" class=\"dataframe\">\n",
       "  <thead>\n",
       "    <tr style=\"text-align: right;\">\n",
       "      <th></th>\n",
       "      <th>ANO</th>\n",
       "      <th>MES</th>\n",
       "      <th>PASSAGEIROS_PG</th>\n",
       "      <th>DATA</th>\n",
       "    </tr>\n",
       "  </thead>\n",
       "  <tbody>\n",
       "    <tr>\n",
       "      <th>0</th>\n",
       "      <td>2000</td>\n",
       "      <td>1</td>\n",
       "      <td>2572833.0</td>\n",
       "      <td>2000-01-01</td>\n",
       "    </tr>\n",
       "    <tr>\n",
       "      <th>1</th>\n",
       "      <td>2000</td>\n",
       "      <td>2</td>\n",
       "      <td>2212693.0</td>\n",
       "      <td>2000-02-01</td>\n",
       "    </tr>\n",
       "  </tbody>\n",
       "</table>\n",
       "</div>"
      ],
      "text/plain": [
       "    ANO  MES  PASSAGEIROS_PG       DATA\n",
       "0  2000    1       2572833.0 2000-01-01\n",
       "1  2000    2       2212693.0 2000-02-01"
      ]
     },
     "execution_count": 17,
     "metadata": {},
     "output_type": "execute_result"
    }
   ],
   "source": [
    "#Pegando os dados de oferta e demanda para dar ideia da queda do setor contra a tarifa. \n",
    "oferta_e_demanda = pd.read_csv(\"https://www.gov.br/anac/pt-br/assuntos/regulados/empresas-aereas/links-de-informacoes/DemandaeOferta.csv\", sep=\";\")\n",
    "oferta_e_demanda_domestica = oferta_e_demanda[oferta_e_demanda[\"natureza\"] == \"DOMÉSTICA\"]\n",
    "oferta_group = oferta_e_demanda_domestica.groupby([\"ano\", \"mes\"]).agg(passageiros_pg=(\"passageiros_pg\", \"sum\")).reset_index()\n",
    "oferta_group.columns = [\"ANO\", \"MES\", \"PASSAGEIROS_PG\"]\n",
    "oferta_group[\"DATA\"] = pd.to_datetime(dict(year=oferta_group.ANO, month=oferta_group.MES, day=1)) #criando uma nova coluna\n",
    "oferta_group.head(2)"
   ]
  },
  {
   "cell_type": "code",
   "execution_count": 18,
   "id": "8a10c529-061b-4e08-929a-e8b3dbc15c19",
   "metadata": {
    "tags": []
   },
   "outputs": [],
   "source": [
    "df_final = pd.merge(df_final, oferta_group[[\"ANO\", \"MES\", \"PASSAGEIROS_PG\"]], on=[\"ANO\", \"MES\"])"
   ]
  },
  {
   "cell_type": "code",
   "execution_count": 19,
   "id": "eb4de116-e851-4428-ab45-791987ad7405",
   "metadata": {
    "tags": []
   },
   "outputs": [
    {
     "data": {
      "text/html": [
       "\n",
       "<div id=\"altair-viz-a12c64bbb6374213ae04b07b126c01bc\"></div>\n",
       "<script type=\"text/javascript\">\n",
       "  var VEGA_DEBUG = (typeof VEGA_DEBUG == \"undefined\") ? {} : VEGA_DEBUG;\n",
       "  (function(spec, embedOpt){\n",
       "    let outputDiv = document.currentScript.previousElementSibling;\n",
       "    if (outputDiv.id !== \"altair-viz-a12c64bbb6374213ae04b07b126c01bc\") {\n",
       "      outputDiv = document.getElementById(\"altair-viz-a12c64bbb6374213ae04b07b126c01bc\");\n",
       "    }\n",
       "    const paths = {\n",
       "      \"vega\": \"https://cdn.jsdelivr.net/npm//vega@5?noext\",\n",
       "      \"vega-lib\": \"https://cdn.jsdelivr.net/npm//vega-lib?noext\",\n",
       "      \"vega-lite\": \"https://cdn.jsdelivr.net/npm//vega-lite@4.17.0?noext\",\n",
       "      \"vega-embed\": \"https://cdn.jsdelivr.net/npm//vega-embed@6?noext\",\n",
       "    };\n",
       "\n",
       "    function maybeLoadScript(lib, version) {\n",
       "      var key = `${lib.replace(\"-\", \"\")}_version`;\n",
       "      return (VEGA_DEBUG[key] == version) ?\n",
       "        Promise.resolve(paths[lib]) :\n",
       "        new Promise(function(resolve, reject) {\n",
       "          var s = document.createElement('script');\n",
       "          document.getElementsByTagName(\"head\")[0].appendChild(s);\n",
       "          s.async = true;\n",
       "          s.onload = () => {\n",
       "            VEGA_DEBUG[key] = version;\n",
       "            return resolve(paths[lib]);\n",
       "          };\n",
       "          s.onerror = () => reject(`Error loading script: ${paths[lib]}`);\n",
       "          s.src = paths[lib];\n",
       "        });\n",
       "    }\n",
       "\n",
       "    function showError(err) {\n",
       "      outputDiv.innerHTML = `<div class=\"error\" style=\"color:red;\">${err}</div>`;\n",
       "      throw err;\n",
       "    }\n",
       "\n",
       "    function displayChart(vegaEmbed) {\n",
       "      vegaEmbed(outputDiv, spec, embedOpt)\n",
       "        .catch(err => showError(`Javascript Error: ${err.message}<br>This usually means there's a typo in your chart specification. See the javascript console for the full traceback.`));\n",
       "    }\n",
       "\n",
       "    if(typeof define === \"function\" && define.amd) {\n",
       "      requirejs.config({paths});\n",
       "      require([\"vega-embed\"], displayChart, err => showError(`Error loading script: ${err.message}`));\n",
       "    } else {\n",
       "      maybeLoadScript(\"vega\", \"5\")\n",
       "        .then(() => maybeLoadScript(\"vega-lite\", \"4.17.0\"))\n",
       "        .then(() => maybeLoadScript(\"vega-embed\", \"6\"))\n",
       "        .catch(showError)\n",
       "        .then(() => displayChart(vegaEmbed));\n",
       "    }\n",
       "  })({\"config\": {\"view\": {\"continuousWidth\": 400, \"continuousHeight\": 300}}, \"layer\": [{\"mark\": \"bar\", \"encoding\": {\"tooltip\": [{\"field\": \"DATA\", \"type\": \"temporal\"}, {\"field\": \"tarifa_media_real\", \"type\": \"quantitative\"}], \"x\": {\"field\": \"DATA\", \"timeUnit\": \"yearmonth\", \"title\": \"Data\", \"type\": \"temporal\"}, \"y\": {\"field\": \"tarifa_media_real\", \"title\": \"Tarifa m\\u00e9dia\", \"type\": \"quantitative\"}}}, {\"mark\": {\"type\": \"line\", \"color\": \"red\", \"opacity\": 0.3}, \"encoding\": {\"x\": {\"axis\": {\"labelAngle\": 325}, \"field\": \"DATA\", \"timeUnit\": \"yearmonth\", \"type\": \"temporal\"}, \"y\": {\"axis\": {\"grid\": true}, \"field\": \"PASSAGEIROS_PG\", \"type\": \"quantitative\"}}}], \"data\": {\"name\": \"data-006d6e71d07192d6214e860ca45ec58e\"}, \"resolve\": {\"scale\": {\"y\": \"independent\"}}, \"width\": 600, \"$schema\": \"https://vega.github.io/schema/vega-lite/v4.17.0.json\", \"datasets\": {\"data-006d6e71d07192d6214e860ca45ec58e\": [{\"ANO\": 2022, \"MES\": 10, \"TOTAL\": 2450901, \"tarifa_media\": 638.356869621899, \"tarifa_media_real\": 648.7533615424431, \"DATA\": \"2022-10-01T00:00:00\", \"PASSAGEIROS_PG\": 7193213.0}, {\"ANO\": 2012, \"MES\": 10, \"TOTAL\": 4443441, \"tarifa_media\": 309.6230932886985, \"tarifa_media_real\": 567.5237020907284, \"DATA\": \"2012-10-01T00:00:00\", \"PASSAGEIROS_PG\": 7543259.0}, {\"ANO\": 2010, \"MES\": 7, \"TOTAL\": 3769932, \"tarifa_media\": 269.26695004277366, \"tarifa_media_real\": 560.401213384419, \"DATA\": \"2010-07-01T00:00:00\", \"PASSAGEIROS_PG\": 6192611.0}, {\"ANO\": 2010, \"MES\": 12, \"TOTAL\": 3244644, \"tarifa_media\": 297.41820582242116, \"tarifa_media_real\": 606.2917966250749, \"DATA\": \"2010-12-01T00:00:00\", \"PASSAGEIROS_PG\": 6536295.0}, {\"ANO\": 2015, \"MES\": 2, \"TOTAL\": 4035571, \"tarifa_media\": 287.68583991579476, \"tarifa_media_real\": 453.1413933860058, \"DATA\": \"2015-02-01T00:00:00\", \"PASSAGEIROS_PG\": 7331020.0}, {\"ANO\": 2019, \"MES\": 10, \"TOTAL\": 3387866, \"tarifa_media\": 457.5389980380573, \"tarifa_media_real\": 566.6081513312449, \"DATA\": \"2019-10-01T00:00:00\", \"PASSAGEIROS_PG\": 8378879.0}, {\"ANO\": 2017, \"MES\": 3, \"TOTAL\": 3558829, \"tarifa_media\": 311.58316691810654, \"tarifa_media_real\": 419.4066119860795, \"DATA\": \"2017-03-01T00:00:00\", \"PASSAGEIROS_PG\": 7437222.0}, {\"ANO\": 2017, \"MES\": 8, \"TOTAL\": 3440806, \"tarifa_media\": 361.86827366098265, \"tarifa_media_real\": 483.65375530497005, \"DATA\": \"2017-08-01T00:00:00\", \"PASSAGEIROS_PG\": 7548690.0}, {\"ANO\": 2014, \"MES\": 4, \"TOTAL\": 4826291, \"tarifa_media\": 314.55906476937975, \"tarifa_media_real\": 522.3921561869469, \"DATA\": \"2014-04-01T00:00:00\", \"PASSAGEIROS_PG\": 7678266.0}, {\"ANO\": 2020, \"MES\": 6, \"TOTAL\": 787037, \"tarifa_media\": 284.8850716701666, \"tarifa_media_real\": 347.2303542227295, \"DATA\": \"2020-06-01T00:00:00\", \"PASSAGEIROS_PG\": 888727.0}, {\"ANO\": 2019, \"MES\": 5, \"TOTAL\": 3090420, \"tarifa_media\": 455.16809335379253, \"tarifa_media_real\": 565.9293800445383, \"DATA\": \"2019-05-01T00:00:00\", \"PASSAGEIROS_PG\": 7095224.0}, {\"ANO\": 2017, \"MES\": 10, \"TOTAL\": 3556089, \"tarifa_media\": 392.16644911845674, \"tarifa_media_real\": 522.3189696808377, \"DATA\": \"2017-10-01T00:00:00\", \"PASSAGEIROS_PG\": 7823157.0}, {\"ANO\": 2018, \"MES\": 10, \"TOTAL\": 3242480, \"tarifa_media\": 417.7222222965383, \"tarifa_media_real\": 532.2680763573895, \"DATA\": \"2018-10-01T00:00:00\", \"PASSAGEIROS_PG\": 7993249.0}, {\"ANO\": 2021, \"MES\": 8, \"TOTAL\": 2457962, \"tarifa_media\": 548.6860594332501, \"tarifa_media_real\": 609.787326020878, \"DATA\": \"2021-08-01T00:00:00\", \"PASSAGEIROS_PG\": 5554490.0}, {\"ANO\": 2015, \"MES\": 12, \"TOTAL\": 3286404, \"tarifa_media\": 358.0826823127285, \"tarifa_media_real\": 520.9024597837054, \"DATA\": \"2015-12-01T00:00:00\", \"PASSAGEIROS_PG\": 8468606.0}, {\"ANO\": 2016, \"MES\": 7, \"TOTAL\": 3245316, \"tarifa_media\": 340.10769742516, \"tarifa_media_real\": 469.3230570366146, \"DATA\": \"2016-07-01T00:00:00\", \"PASSAGEIROS_PG\": 8080928.0}, {\"ANO\": 2016, \"MES\": 11, \"TOTAL\": 3398252, \"tarifa_media\": 393.57643041782995, \"tarifa_media_real\": 536.1055836502978, \"DATA\": \"2016-11-01T00:00:00\", \"PASSAGEIROS_PG\": 7208482.0}, {\"ANO\": 2021, \"MES\": 6, \"TOTAL\": 1886100, \"tarifa_media\": 408.51120720246496, \"tarifa_media_real\": 460.7904512671634, \"DATA\": \"2021-06-01T00:00:00\", \"PASSAGEIROS_PG\": 4223526.0}, {\"ANO\": 2019, \"MES\": 3, \"TOTAL\": 3228948, \"tarifa_media\": 349.9512240258691, \"tarifa_media_real\": 440.8709198427627, \"DATA\": \"2019-03-01T00:00:00\", \"PASSAGEIROS_PG\": 7741167.0}, {\"ANO\": 2021, \"MES\": 5, \"TOTAL\": 1682224, \"tarifa_media\": 411.5140849640566, \"tarifa_media_real\": 468.03029597860143, \"DATA\": \"2021-05-01T00:00:00\", \"PASSAGEIROS_PG\": 3634018.0}, {\"ANO\": 2012, \"MES\": 8, \"TOTAL\": 4658578, \"tarifa_media\": 256.25325448811697, \"tarifa_media_real\": 474.3134781011926, \"DATA\": \"2012-08-01T00:00:00\", \"PASSAGEIROS_PG\": 7586155.0}, {\"ANO\": 2013, \"MES\": 2, \"TOTAL\": 3341095, \"tarifa_media\": 313.28309506181023, \"tarifa_media_real\": 558.2110395737261, \"DATA\": \"2013-02-01T00:00:00\", \"PASSAGEIROS_PG\": 6367976.0}, {\"ANO\": 2012, \"MES\": 4, \"TOTAL\": 4119297, \"tarifa_media\": 258.994936859697, \"tarifa_media_real\": 486.6641894927564, \"DATA\": \"2012-04-01T00:00:00\", \"PASSAGEIROS_PG\": 7278064.0}, {\"ANO\": 2012, \"MES\": 12, \"TOTAL\": 2897055, \"tarifa_media\": 385.788251632872, \"tarifa_media_real\": 698.79029861798, \"DATA\": \"2012-12-01T00:00:00\", \"PASSAGEIROS_PG\": 7580832.0}, {\"ANO\": 2021, \"MES\": 10, \"TOTAL\": 3402952, \"tarifa_media\": 561.2039493257212, \"tarifa_media_real\": 611.229554079907, \"DATA\": \"2021-10-01T00:00:00\", \"PASSAGEIROS_PG\": 6470747.0}, {\"ANO\": 2020, \"MES\": 11, \"TOTAL\": 2714050, \"tarifa_media\": 387.8116955665005, \"tarifa_media_real\": 461.6893835892681, \"DATA\": \"2020-11-01T00:00:00\", \"PASSAGEIROS_PG\": 4792028.0}, {\"ANO\": 2020, \"MES\": 3, \"TOTAL\": 2075689, \"tarifa_media\": 344.25273428880416, \"tarifa_media_real\": 416.9917095311616, \"DATA\": \"2020-03-01T00:00:00\", \"PASSAGEIROS_PG\": 5033879.0}, {\"ANO\": 2018, \"MES\": 1, \"TOTAL\": 3366209, \"tarifa_media\": 369.66850671538003, \"tarifa_media_real\": 486.7843079865068, \"DATA\": \"2018-01-01T00:00:00\", \"PASSAGEIROS_PG\": 8708156.0}, {\"ANO\": 2018, \"MES\": 3, \"TOTAL\": 3142734, \"tarifa_media\": 352.9902244398609, \"tarifa_media_real\": 461.99964348442944, \"DATA\": \"2018-03-01T00:00:00\", \"PASSAGEIROS_PG\": 7483014.0}, {\"ANO\": 2014, \"MES\": 10, \"TOTAL\": 4571031, \"tarifa_media\": 326.97377226116515, \"tarifa_media_real\": 530.3763460388564, \"DATA\": \"2014-10-01T00:00:00\", \"PASSAGEIROS_PG\": 8456229.0}, {\"ANO\": 2020, \"MES\": 9, \"TOTAL\": 1889955, \"tarifa_media\": 380.2899862718012, \"tarifa_media_real\": 459.5507386482329, \"DATA\": \"2020-09-01T00:00:00\", \"PASSAGEIROS_PG\": 3031614.0}, {\"ANO\": 2016, \"MES\": 5, \"TOTAL\": 3495768, \"tarifa_media\": 302.5731921045917, \"tarifa_media_real\": 422.2577297280146, \"DATA\": \"2016-05-01T00:00:00\", \"PASSAGEIROS_PG\": 6940986.0}, {\"ANO\": 2014, \"MES\": 12, \"TOTAL\": 3915556, \"tarifa_media\": 333.24342395623984, \"tarifa_media_real\": 535.5540746153063, \"DATA\": \"2014-12-01T00:00:00\", \"PASSAGEIROS_PG\": 8862834.0}, {\"ANO\": 2018, \"MES\": 8, \"TOTAL\": 3066826, \"tarifa_media\": 389.50673401136726, \"tarifa_media_real\": 498.24895409146654, \"DATA\": \"2018-08-01T00:00:00\", \"PASSAGEIROS_PG\": 7868040.0}, {\"ANO\": 2013, \"MES\": 9, \"TOTAL\": 4166660, \"tarifa_media\": 322.4712151531907, \"tarifa_media_real\": 560.3159754226125, \"DATA\": \"2013-09-01T00:00:00\", \"PASSAGEIROS_PG\": 7459649.0}, {\"ANO\": 2022, \"MES\": 2, \"TOTAL\": 1837818, \"tarifa_media\": 492.6544820705943, \"tarifa_media_real\": 518.3546468185273, \"DATA\": \"2022-02-01T00:00:00\", \"PASSAGEIROS_PG\": 5573305.0}, {\"ANO\": 2013, \"MES\": 10, \"TOTAL\": 4527674, \"tarifa_media\": 351.43685553642683, \"tarifa_media_real\": 608.5159666548042, \"DATA\": \"2013-10-01T00:00:00\", \"PASSAGEIROS_PG\": 7915988.0}, {\"ANO\": 2014, \"MES\": 5, \"TOTAL\": 4839751, \"tarifa_media\": 301.4442948832358, \"tarifa_media_real\": 497.28051627193423, \"DATA\": \"2014-05-01T00:00:00\", \"PASSAGEIROS_PG\": 7701521.0}, {\"ANO\": 2019, \"MES\": 8, \"TOTAL\": 3438698, \"tarifa_media\": 418.03161612576264, \"tarifa_media_real\": 518.0450635232961, \"DATA\": \"2019-08-01T00:00:00\", \"PASSAGEIROS_PG\": 7885930.0}, {\"ANO\": 2022, \"MES\": 7, \"TOTAL\": 1932906, \"tarifa_media\": 597.9104996539972, \"tarifa_media_real\": 599.5997069640848, \"DATA\": \"2022-07-01T00:00:00\", \"PASSAGEIROS_PG\": 7652528.0}, {\"ANO\": 2021, \"MES\": 11, \"TOTAL\": 3792823, \"tarifa_media\": 530.4506098933219, \"tarifa_media_real\": 570.6023394964011, \"DATA\": \"2021-11-01T00:00:00\", \"PASSAGEIROS_PG\": 6853464.0}, {\"ANO\": 2016, \"MES\": 2, \"TOTAL\": 3384919, \"tarifa_media\": 328.8884639234843, \"tarifa_media_real\": 467.9415169713233, \"DATA\": \"2016-02-01T00:00:00\", \"PASSAGEIROS_PG\": 7093879.0}, {\"ANO\": 2019, \"MES\": 6, \"TOTAL\": 3248294, \"tarifa_media\": 418.18594045001066, \"tarifa_media_real\": 519.272881199803, \"DATA\": \"2019-06-01T00:00:00\", \"PASSAGEIROS_PG\": 6953744.0}, {\"ANO\": 2017, \"MES\": 7, \"TOTAL\": 3427314, \"tarifa_media\": 349.8428894429873, \"tarifa_media_real\": 468.70346584109274, \"DATA\": \"2017-07-01T00:00:00\", \"PASSAGEIROS_PG\": 8309884.0}, {\"ANO\": 2014, \"MES\": 1, \"TOTAL\": 4623128, \"tarifa_media\": 326.82958088877, \"tarifa_media_real\": 554.5764945030822, \"DATA\": \"2014-01-01T00:00:00\", \"PASSAGEIROS_PG\": 8687955.0}, {\"ANO\": 2021, \"MES\": 9, \"TOTAL\": 3041819, \"tarifa_media\": 547.5941536149718, \"tarifa_media_real\": 603.3249005843842, \"DATA\": \"2021-09-01T00:00:00\", \"PASSAGEIROS_PG\": 5940891.0}, {\"ANO\": 2013, \"MES\": 12, \"TOTAL\": 3790080, \"tarifa_media\": 351.36083349608543, \"tarifa_media_real\": 601.687087393937, \"DATA\": \"2013-12-01T00:00:00\", \"PASSAGEIROS_PG\": 8345201.0}, {\"ANO\": 2010, \"MES\": 11, \"TOTAL\": 3988839, \"tarifa_media\": 293.91369723741144, \"tarifa_media_real\": 604.1207270693683, \"DATA\": \"2010-11-01T00:00:00\", \"PASSAGEIROS_PG\": 6024547.0}, {\"ANO\": 2011, \"MES\": 3, \"TOTAL\": 4099818, \"tarifa_media\": 237.18352422049756, \"tarifa_media_real\": 472.7384067694748, \"DATA\": \"2011-03-01T00:00:00\", \"PASSAGEIROS_PG\": 6701626.0}, {\"ANO\": 2014, \"MES\": 8, \"TOTAL\": 4451889, \"tarifa_media\": 330.4862047066344, \"tarifa_media_real\": 540.4772222615229, \"DATA\": \"2014-08-01T00:00:00\", \"PASSAGEIROS_PG\": 8026466.0}, {\"ANO\": 2019, \"MES\": 1, \"TOTAL\": 3496805, \"tarifa_media\": 376.36669387799384, \"tarifa_media_real\": 477.7119513485652, \"DATA\": \"2019-01-01T00:00:00\", \"PASSAGEIROS_PG\": 8928030.0}, {\"ANO\": 2013, \"MES\": 3, \"TOTAL\": 3979300, \"tarifa_media\": 314.022232371607, \"tarifa_media_real\": 556.1908973239684, \"DATA\": \"2013-03-01T00:00:00\", \"PASSAGEIROS_PG\": 7082307.0}, {\"ANO\": 2013, \"MES\": 6, \"TOTAL\": 4300844, \"tarifa_media\": 316.6648521405164, \"tarifa_media_real\": 553.1474825167762, \"DATA\": \"2013-06-01T00:00:00\", \"PASSAGEIROS_PG\": 7158535.0}, {\"ANO\": 2010, \"MES\": 6, \"TOTAL\": 1287370, \"tarifa_media\": 249.40329926073267, \"tarifa_media_real\": 519.0607735699922, \"DATA\": \"2010-06-01T00:00:00\", \"PASSAGEIROS_PG\": 5409134.0}, {\"ANO\": 2022, \"MES\": 11, \"TOTAL\": 2456623, \"tarifa_media\": 635.0562378691677, \"tarifa_media_real\": 641.6134555913374, \"DATA\": \"2022-11-01T00:00:00\", \"PASSAGEIROS_PG\": 7373862.0}, {\"ANO\": 2012, \"MES\": 9, \"TOTAL\": 4256977, \"tarifa_media\": 274.3874131725858, \"tarifa_media_real\": 505.8052059318919, \"DATA\": \"2012-09-01T00:00:00\", \"PASSAGEIROS_PG\": 7467544.0}, {\"ANO\": 2012, \"MES\": 7, \"TOTAL\": 4820552, \"tarifa_media\": 267.71077120732997, \"tarifa_media_real\": 497.65157611486245, \"DATA\": \"2012-07-01T00:00:00\", \"PASSAGEIROS_PG\": 8366604.0}, {\"ANO\": 2015, \"MES\": 4, \"TOTAL\": 4258956, \"tarifa_media\": 258.9243138767106, \"tarifa_media_real\": 397.6734252720693, \"DATA\": \"2015-04-01T00:00:00\", \"PASSAGEIROS_PG\": 7903957.0}, {\"ANO\": 2015, \"MES\": 8, \"TOTAL\": 3851621, \"tarifa_media\": 350.8660509618118, \"tarifa_media_real\": 523.7436644074489, \"DATA\": \"2015-08-01T00:00:00\", \"PASSAGEIROS_PG\": 7843384.0}, {\"ANO\": 2010, \"MES\": 5, \"TOTAL\": 1513525, \"tarifa_media\": 270.26800898212775, \"tarifa_media_real\": 564.9033128196257, \"DATA\": \"2010-05-01T00:00:00\", \"PASSAGEIROS_PG\": 5297359.0}, {\"ANO\": 2019, \"MES\": 2, \"TOTAL\": 2701915, \"tarifa_media\": 383.2319531611041, \"tarifa_media_real\": 484.87423960286424, \"DATA\": \"2019-02-01T00:00:00\", \"PASSAGEIROS_PG\": 7408048.0}, {\"ANO\": 2016, \"MES\": 9, \"TOTAL\": 2916480, \"tarifa_media\": 386.3418031405168, \"tarifa_media_real\": 528.0413685555034, \"DATA\": \"2016-09-01T00:00:00\", \"PASSAGEIROS_PG\": 7051881.0}, {\"ANO\": 2022, \"MES\": 3, \"TOTAL\": 2078861, \"tarifa_media\": 648.2879025932546, \"tarifa_media_real\": 675.2865562930045, \"DATA\": \"2022-03-01T00:00:00\", \"PASSAGEIROS_PG\": 6438609.0}, {\"ANO\": 2011, \"MES\": 2, \"TOTAL\": 3403989, \"tarifa_media\": 277.3191796563445, \"tarifa_media_real\": 557.1559971194156, \"DATA\": \"2011-02-01T00:00:00\", \"PASSAGEIROS_PG\": 5749020.0}, {\"ANO\": 2010, \"MES\": 9, \"TOTAL\": 3693463, \"tarifa_media\": 269.2160192891686, \"tarifa_media_real\": 560.0151860891713, \"DATA\": \"2010-09-01T00:00:00\", \"PASSAGEIROS_PG\": 6117785.0}, {\"ANO\": 2020, \"MES\": 12, \"TOTAL\": 1868805, \"tarifa_media\": 416.6579345815353, \"tarifa_media_real\": 491.6550684046699, \"DATA\": \"2020-12-01T00:00:00\", \"PASSAGEIROS_PG\": 5643374.0}, {\"ANO\": 2011, \"MES\": 4, \"TOTAL\": 3652619, \"tarifa_media\": 249.97987797016086, \"tarifa_media_real\": 494.3379767867128, \"DATA\": \"2011-04-01T00:00:00\", \"PASSAGEIROS_PG\": 6804681.0}, {\"ANO\": 2018, \"MES\": 5, \"TOTAL\": 3423203, \"tarifa_media\": 331.38624694217003, \"tarifa_media_real\": 432.38274591307896, \"DATA\": \"2018-05-01T00:00:00\", \"PASSAGEIROS_PG\": 7297939.0}, {\"ANO\": 2021, \"MES\": 12, \"TOTAL\": 2421438, \"tarifa_media\": 490.7972359913134, \"tarifa_media_real\": 522.9791565848797, \"DATA\": \"2021-12-01T00:00:00\", \"PASSAGEIROS_PG\": 7755712.0}, {\"ANO\": 2015, \"MES\": 11, \"TOTAL\": 4235254, \"tarifa_media\": 348.56721906458694, \"tarifa_media_real\": 512.1816361396624, \"DATA\": \"2015-11-01T00:00:00\", \"PASSAGEIROS_PG\": 7609230.0}, {\"ANO\": 2011, \"MES\": 12, \"TOTAL\": 3658163, \"tarifa_media\": 316.2801315652603, \"tarifa_media_real\": 604.5919437749187, \"DATA\": \"2011-12-01T00:00:00\", \"PASSAGEIROS_PG\": 7361542.0}, {\"ANO\": 2016, \"MES\": 10, \"TOTAL\": 3143825, \"tarifa_media\": 399.0537833552605, \"tarifa_media_real\": 544.9797694474036, \"DATA\": \"2016-10-01T00:00:00\", \"PASSAGEIROS_PG\": 7255165.0}, {\"ANO\": 2021, \"MES\": 7, \"TOTAL\": 2141195, \"tarifa_media\": 466.48251672172387, \"tarifa_media_real\": 523.4065858413209, \"DATA\": \"2021-07-01T00:00:00\", \"PASSAGEIROS_PG\": 5870873.0}, {\"ANO\": 2011, \"MES\": 8, \"TOTAL\": 4789194, \"tarifa_media\": 244.74449555850435, \"tarifa_media_real\": 476.5614728131461, \"DATA\": \"2011-08-01T00:00:00\", \"PASSAGEIROS_PG\": 7012925.0}, {\"ANO\": 2015, \"MES\": 9, \"TOTAL\": 3674112, \"tarifa_media\": 367.0267554014, \"tarifa_media_real\": 546.6643588718581, \"DATA\": \"2015-09-01T00:00:00\", \"PASSAGEIROS_PG\": 7690983.0}, {\"ANO\": 2013, \"MES\": 7, \"TOTAL\": 4386910, \"tarifa_media\": 346.6193219678774, \"tarifa_media_real\": 603.9015514261529, \"DATA\": \"2013-07-01T00:00:00\", \"PASSAGEIROS_PG\": 8139110.0}, {\"ANO\": 2017, \"MES\": 12, \"TOTAL\": 2745175, \"tarifa_media\": 430.0396628967864, \"tarifa_media_real\": 568.7734720816198, \"DATA\": \"2017-12-01T00:00:00\", \"PASSAGEIROS_PG\": 8325098.0}, {\"ANO\": 2014, \"MES\": 9, \"TOTAL\": 4660215, \"tarifa_media\": 310.12807810438926, \"tarifa_media_real\": 505.91874073257964, \"DATA\": \"2014-09-01T00:00:00\", \"PASSAGEIROS_PG\": 7797153.0}, {\"ANO\": 2020, \"MES\": 4, \"TOTAL\": 509942, \"tarifa_media\": 288.1660188959438, \"tarifa_media_real\": 348.8099722167422, \"DATA\": \"2020-04-01T00:00:00\", \"PASSAGEIROS_PG\": 399557.0}, {\"ANO\": 2013, \"MES\": 4, \"TOTAL\": 5379835, \"tarifa_media\": 260.93998744595183, \"tarifa_media_real\": 460.01046783589175, \"DATA\": \"2013-04-01T00:00:00\", \"PASSAGEIROS_PG\": 7079810.0}, {\"ANO\": 2017, \"MES\": 9, \"TOTAL\": 3419982, \"tarifa_media\": 373.19697080471735, \"tarifa_media_real\": 497.849172182521, \"DATA\": \"2017-09-01T00:00:00\", \"PASSAGEIROS_PG\": 7521381.0}, {\"ANO\": 2014, \"MES\": 3, \"TOTAL\": 4291257, \"tarifa_media\": 331.1065347788836, \"tarifa_media_real\": 554.9315755675422, \"DATA\": \"2014-03-01T00:00:00\", \"PASSAGEIROS_PG\": 7602157.0}, {\"ANO\": 2015, \"MES\": 10, \"TOTAL\": 3737626, \"tarifa_media\": 373.9033436422943, \"tarifa_media_real\": 553.9154804627327, \"DATA\": \"2015-10-01T00:00:00\", \"PASSAGEIROS_PG\": 7959664.0}, {\"ANO\": 2021, \"MES\": 3, \"TOTAL\": 1222017, \"tarifa_media\": 345.46018554902906, \"tarifa_media_real\": 397.78808285400635, \"DATA\": \"2021-03-01T00:00:00\", \"PASSAGEIROS_PG\": 3220998.0}, {\"ANO\": 2016, \"MES\": 6, \"TOTAL\": 3487816, \"tarifa_media\": 321.8786593949194, \"tarifa_media_real\": 445.72294458604813, \"DATA\": \"2016-06-01T00:00:00\", \"PASSAGEIROS_PG\": 6789477.0}, {\"ANO\": 2013, \"MES\": 11, \"TOTAL\": 5457715, \"tarifa_media\": 317.5510391702171, \"tarifa_media_real\": 546.7260433607817, \"DATA\": \"2013-11-01T00:00:00\", \"PASSAGEIROS_PG\": 7782969.0}, {\"ANO\": 2011, \"MES\": 5, \"TOTAL\": 4167279, \"tarifa_media\": 263.81782688060525, \"tarifa_media_real\": 517.7162597137618, \"DATA\": \"2011-05-01T00:00:00\", \"PASSAGEIROS_PG\": 6579144.0}, {\"ANO\": 2013, \"MES\": 5, \"TOTAL\": 4502043, \"tarifa_media\": 287.34593104089083, \"tarifa_media_real\": 503.7905935071622, \"DATA\": \"2013-05-01T00:00:00\", \"PASSAGEIROS_PG\": 7290920.0}, {\"ANO\": 2021, \"MES\": 2, \"TOTAL\": 1443330, \"tarifa_media\": 410.3469976746148, \"tarifa_media_real\": 476.56702616984967, \"DATA\": \"2021-02-01T00:00:00\", \"PASSAGEIROS_PG\": 4325239.0}, {\"ANO\": 2011, \"MES\": 7, \"TOTAL\": 4986736, \"tarifa_media\": 223.41212643394684, \"tarifa_media_real\": 435.7195580419192, \"DATA\": \"2011-07-01T00:00:00\", \"PASSAGEIROS_PG\": 7642429.0}, {\"ANO\": 2010, \"MES\": 8, \"TOTAL\": 3541842, \"tarifa_media\": 247.36655199206965, \"tarifa_media_real\": 514.7703979875942, \"DATA\": \"2010-08-01T00:00:00\", \"PASSAGEIROS_PG\": 6068433.0}, {\"ANO\": 2016, \"MES\": 12, \"TOTAL\": 2839457, \"tarifa_media\": 363.79598830046314, \"tarifa_media_real\": 494.6501293508303, \"DATA\": \"2016-12-01T00:00:00\", \"PASSAGEIROS_PG\": 7935092.0}, {\"ANO\": 2014, \"MES\": 2, \"TOTAL\": 3772074, \"tarifa_media\": 349.4447759286049, \"tarifa_media_real\": 589.7074010481247, \"DATA\": \"2014-02-01T00:00:00\", \"PASSAGEIROS_PG\": 7239845.0}, {\"ANO\": 2016, \"MES\": 1, \"TOTAL\": 4106748, \"tarifa_media\": 325.79210446561103, \"tarifa_media_real\": 469.422933867838, \"DATA\": \"2016-01-01T00:00:00\", \"PASSAGEIROS_PG\": 8888461.0}, {\"ANO\": 2012, \"MES\": 11, \"TOTAL\": 3867037, \"tarifa_media\": 366.56716401033174, \"tarifa_media_real\": 667.9583903205679, \"DATA\": \"2012-11-01T00:00:00\", \"PASSAGEIROS_PG\": 7290710.0}, {\"ANO\": 2016, \"MES\": 4, \"TOTAL\": 3483048, \"tarifa_media\": 306.3281952124028, \"tarifa_media_real\": 430.10578362174834, \"DATA\": \"2016-04-01T00:00:00\", \"PASSAGEIROS_PG\": 6827430.0}, {\"ANO\": 2020, \"MES\": 1, \"TOTAL\": 3400662, \"tarifa_media\": 369.4807509250114, \"tarifa_media_real\": 449.61136741350725, \"DATA\": \"2020-01-01T00:00:00\", \"PASSAGEIROS_PG\": 9303406.0}, {\"ANO\": 2014, \"MES\": 6, \"TOTAL\": 3651053, \"tarifa_media\": 303.0718189493569, \"tarifa_media_real\": 497.67606910607, \"DATA\": \"2014-06-01T00:00:00\", \"PASSAGEIROS_PG\": 7240996.0}, {\"ANO\": 2011, \"MES\": 6, \"TOTAL\": 4175795, \"tarifa_media\": 271.3811825491909, \"tarifa_media_real\": 530.0672789227833, \"DATA\": \"2011-06-01T00:00:00\", \"PASSAGEIROS_PG\": 6320309.0}, {\"ANO\": 2019, \"MES\": 4, \"TOTAL\": 2639828, \"tarifa_media\": 445.9604039286981, \"tarifa_media_real\": 557.6416198001924, \"DATA\": \"2019-04-01T00:00:00\", \"PASSAGEIROS_PG\": 7335763.0}, {\"ANO\": 2017, \"MES\": 4, \"TOTAL\": 2974308, \"tarifa_media\": 323.5203656408878, \"tarifa_media_real\": 434.3887099879287, \"DATA\": \"2017-04-01T00:00:00\", \"PASSAGEIROS_PG\": 6900233.0}, {\"ANO\": 2010, \"MES\": 10, \"TOTAL\": 4085497, \"tarifa_media\": 270.4568593472534, \"tarifa_media_real\": 560.0760036337216, \"DATA\": \"2010-10-01T00:00:00\", \"PASSAGEIROS_PG\": 6285943.0}, {\"ANO\": 2015, \"MES\": 3, \"TOTAL\": 5382796, \"tarifa_media\": 269.7610808271351, \"tarifa_media_real\": 419.78625031316847, \"DATA\": \"2015-03-01T00:00:00\", \"PASSAGEIROS_PG\": 7839580.0}, {\"ANO\": 2011, \"MES\": 11, \"TOTAL\": 4218568, \"tarifa_media\": 322.30487694788354, \"tarifa_media_real\": 619.3124392329196, \"DATA\": \"2011-11-01T00:00:00\", \"PASSAGEIROS_PG\": 6825352.0}, {\"ANO\": 2010, \"MES\": 2, \"TOTAL\": 1305297, \"tarifa_media\": 253.71114055076706, \"tarifa_media_real\": 540.2742891429133, \"DATA\": \"2010-02-01T00:00:00\", \"PASSAGEIROS_PG\": 5100368.0}, {\"ANO\": 2010, \"MES\": 3, \"TOTAL\": 1548027, \"tarifa_media\": 275.4378073708696, \"tarifa_media_real\": 582.0013083627477, \"DATA\": \"2010-03-01T00:00:00\", \"PASSAGEIROS_PG\": 5576176.0}, {\"ANO\": 2019, \"MES\": 9, \"TOTAL\": 3427642, \"tarifa_media\": 408.71503612780117, \"tarifa_media_real\": 505.94296839625986, \"DATA\": \"2019-09-01T00:00:00\", \"PASSAGEIROS_PG\": 7809152.0}, {\"ANO\": 2020, \"MES\": 8, \"TOTAL\": 1519742, \"tarifa_media\": 324.7739762567189, \"tarifa_media_real\": 393.40589203262215, \"DATA\": \"2020-08-01T00:00:00\", \"PASSAGEIROS_PG\": 2198248.0}, {\"ANO\": 2012, \"MES\": 1, \"TOTAL\": 4156341, \"tarifa_media\": 298.08368385476655, \"tarifa_media_real\": 566.973275440788, \"DATA\": \"2012-01-01T00:00:00\", \"PASSAGEIROS_PG\": 7788360.0}, {\"ANO\": 2022, \"MES\": 1, \"TOTAL\": 2113321, \"tarifa_media\": 478.3422298390665, \"tarifa_media_real\": 506.013568985572, \"DATA\": \"2022-01-01T00:00:00\", \"PASSAGEIROS_PG\": 7494959.0}, {\"ANO\": 2018, \"MES\": 9, \"TOTAL\": 3235904, \"tarifa_media\": 384.7987539984682, \"tarifa_media_real\": 492.67000695116116, \"DATA\": \"2018-09-01T00:00:00\", \"PASSAGEIROS_PG\": 7613316.0}, {\"ANO\": 2022, \"MES\": 5, \"TOTAL\": 2274789, \"tarifa_media\": 682.5961177880541, \"tarifa_media_real\": 692.3497116958913, \"DATA\": \"2022-05-01T00:00:00\", \"PASSAGEIROS_PG\": 6386767.0}, {\"ANO\": 2021, \"MES\": 1, \"TOTAL\": 1858809, \"tarifa_media\": 360.73626728403696, \"tarifa_media_real\": 419.99770638906995, \"DATA\": \"2021-01-01T00:00:00\", \"PASSAGEIROS_PG\": 6092177.0}, {\"ANO\": 2015, \"MES\": 7, \"TOTAL\": 3908848, \"tarifa_media\": 349.82736717029104, \"tarifa_media_real\": 525.4308017383778, \"DATA\": \"2015-07-01T00:00:00\", \"PASSAGEIROS_PG\": 8979138.0}, {\"ANO\": 2019, \"MES\": 12, \"TOTAL\": 2585896, \"tarifa_media\": 436.53370166311555, \"tarifa_media_real\": 537.315203557935, \"DATA\": \"2019-12-01T00:00:00\", \"PASSAGEIROS_PG\": 8874096.0}, {\"ANO\": 2012, \"MES\": 2, \"TOTAL\": 3367085, \"tarifa_media\": 300.70316233281056, \"tarifa_media_real\": 568.7705680016335, \"DATA\": \"2012-02-01T00:00:00\", \"PASSAGEIROS_PG\": 6543865.0}, {\"ANO\": 2018, \"MES\": 7, \"TOTAL\": 3218317, \"tarifa_media\": 362.32617508552676, \"tarifa_media_real\": 465.00963070499216, \"DATA\": \"2018-07-01T00:00:00\", \"PASSAGEIROS_PG\": 8857166.0}, {\"ANO\": 2020, \"MES\": 7, \"TOTAL\": 1341775, \"tarifa_media\": 263.0693502663789, \"tarifa_media_real\": 319.80889818467335, \"DATA\": \"2020-07-01T00:00:00\", \"PASSAGEIROS_PG\": 1617861.0}, {\"ANO\": 2015, \"MES\": 6, \"TOTAL\": 3892446, \"tarifa_media\": 317.3297664409511, \"tarifa_media_real\": 480.38562678112436, \"DATA\": \"2015-06-01T00:00:00\", \"PASSAGEIROS_PG\": 7438774.0}, {\"ANO\": 2014, \"MES\": 11, \"TOTAL\": 5029709, \"tarifa_media\": 340.1733139012096, \"tarifa_media_real\": 549.479194803179, \"DATA\": \"2014-11-01T00:00:00\", \"PASSAGEIROS_PG\": 8218004.0}, {\"ANO\": 2020, \"MES\": 2, \"TOTAL\": 3006099, \"tarifa_media\": 377.6291177973831, \"tarifa_media_real\": 458.56391509538713, \"DATA\": \"2020-02-01T00:00:00\", \"PASSAGEIROS_PG\": 7671502.0}, {\"ANO\": 2020, \"MES\": 10, \"TOTAL\": 2106124, \"tarifa_media\": 425.5515581922084, \"tarifa_media_real\": 510.97556735460086, \"DATA\": \"2020-10-01T00:00:00\", \"PASSAGEIROS_PG\": 4101615.0}, {\"ANO\": 2022, \"MES\": 6, \"TOTAL\": 2319374, \"tarifa_media\": 624.269294881004, \"tarifa_media_real\": 630.2273903702379, \"DATA\": \"2022-06-01T00:00:00\", \"PASSAGEIROS_PG\": 6035778.0}, {\"ANO\": 2018, \"MES\": 12, \"TOTAL\": 2498232, \"tarifa_media\": 444.03322295377666, \"tarifa_media_real\": 564.4446244380883, \"DATA\": \"2018-12-01T00:00:00\", \"PASSAGEIROS_PG\": 8596550.0}, {\"ANO\": 2018, \"MES\": 11, \"TOTAL\": 3589678, \"tarifa_media\": 411.21285421812314, \"tarifa_media_real\": 521.6264205064667, \"DATA\": \"2018-11-01T00:00:00\", \"PASSAGEIROS_PG\": 7869150.0}, {\"ANO\": 2010, \"MES\": 4, \"TOTAL\": 1525852, \"tarifa_media\": 256.1298230443136, \"tarifa_media_real\": 538.4037534274222, \"DATA\": \"2010-04-01T00:00:00\", \"PASSAGEIROS_PG\": 5370847.0}, {\"ANO\": 2012, \"MES\": 3, \"TOTAL\": 4913493, \"tarifa_media\": 260.5666863336511, \"tarifa_media_real\": 490.6457793493662, \"DATA\": \"2012-03-01T00:00:00\", \"PASSAGEIROS_PG\": 6969986.0}, {\"ANO\": 2011, \"MES\": 10, \"TOTAL\": 4074656, \"tarifa_media\": 302.33163200287976, \"tarifa_media_real\": 583.4316390224129, \"DATA\": \"2011-10-01T00:00:00\", \"PASSAGEIROS_PG\": 6974437.0}, {\"ANO\": 2012, \"MES\": 5, \"TOTAL\": 4780002, \"tarifa_media\": 252.96841620361545, \"tarifa_media_real\": 472.31723159566644, \"DATA\": \"2012-05-01T00:00:00\", \"PASSAGEIROS_PG\": 7043117.0}, {\"ANO\": 2013, \"MES\": 1, \"TOTAL\": 3832488, \"tarifa_media\": 325.55642263985925, \"tarifa_media_real\": 585.0684663463369, \"DATA\": \"2013-01-01T00:00:00\", \"PASSAGEIROS_PG\": 7915161.0}, {\"ANO\": 2018, \"MES\": 6, \"TOTAL\": 3549779, \"tarifa_media\": 300.5349197123847, \"tarifa_media_real\": 390.56660163988965, \"DATA\": \"2018-06-01T00:00:00\", \"PASSAGEIROS_PG\": 7161574.0}, {\"ANO\": 2013, \"MES\": 8, \"TOTAL\": 4362957, \"tarifa_media\": 333.3872111284632, \"tarifa_media_real\": 580.6735507083993, \"DATA\": \"2013-08-01T00:00:00\", \"PASSAGEIROS_PG\": 7423727.0}, {\"ANO\": 2016, \"MES\": 8, \"TOTAL\": 3311879, \"tarifa_media\": 342.41563093608113, \"tarifa_media_real\": 470.063501143196, \"DATA\": \"2016-08-01T00:00:00\", \"PASSAGEIROS_PG\": 7346204.0}, {\"ANO\": 2017, \"MES\": 2, \"TOTAL\": 2957363, \"tarifa_media\": 321.66564407418247, \"tarifa_media_real\": 434.40696037661087, \"DATA\": \"2017-02-01T00:00:00\", \"PASSAGEIROS_PG\": 6610719.0}, {\"ANO\": 2017, \"MES\": 11, \"TOTAL\": 3574510, \"tarifa_media\": 387.9183621498635, \"tarifa_media_real\": 514.5001231306171, \"DATA\": \"2017-11-01T00:00:00\", \"PASSAGEIROS_PG\": 7561196.0}, {\"ANO\": 2015, \"MES\": 1, \"TOTAL\": 4706746, \"tarifa_media\": 313.476895897789, \"tarifa_media_real\": 499.8882439412888, \"DATA\": \"2015-01-01T00:00:00\", \"PASSAGEIROS_PG\": 9322736.0}, {\"ANO\": 2017, \"MES\": 5, \"TOTAL\": 3384135, \"tarifa_media\": 313.91125722056614, \"tarifa_media_real\": 420.8973659293931, \"DATA\": \"2017-05-01T00:00:00\", \"PASSAGEIROS_PG\": 7095444.0}, {\"ANO\": 2022, \"MES\": 9, \"TOTAL\": 2124662, \"tarifa_media\": 698.1783752392445, \"tarifa_media_real\": 707.4914475522985, \"DATA\": \"2022-09-01T00:00:00\", \"PASSAGEIROS_PG\": 6954582.0}, {\"ANO\": 2011, \"MES\": 1, \"TOTAL\": 3914722, \"tarifa_media\": 259.9415261905528, \"tarifa_media_real\": 526.5775411993718, \"DATA\": \"2011-01-01T00:00:00\", \"PASSAGEIROS_PG\": 7049860.0}, {\"ANO\": 2015, \"MES\": 5, \"TOTAL\": 4244397, \"tarifa_media\": 291.67558923710305, \"tarifa_media_real\": 444.8168419638703, \"DATA\": \"2015-05-01T00:00:00\", \"PASSAGEIROS_PG\": 7705983.0}, {\"ANO\": 2019, \"MES\": 7, \"TOTAL\": 3247320, \"tarifa_media\": 420.7065111699951, \"tarifa_media_real\": 522.3505070749094, \"DATA\": \"2019-07-01T00:00:00\", \"PASSAGEIROS_PG\": 8550743.0}, {\"ANO\": 2018, \"MES\": 2, \"TOTAL\": 2709722, \"tarifa_media\": 354.02666290666764, \"tarifa_media_real\": 464.83889162880337, \"DATA\": \"2018-02-01T00:00:00\", \"PASSAGEIROS_PG\": 6870803.0}, {\"ANO\": 2019, \"MES\": 11, \"TOTAL\": 3986521, \"tarifa_media\": 393.19410719321064, \"tarifa_media_real\": 486.4381468737248, \"DATA\": \"2019-11-01T00:00:00\", \"PASSAGEIROS_PG\": 8088018.0}, {\"ANO\": 2020, \"MES\": 5, \"TOTAL\": 461570, \"tarifa_media\": 319.0464696001701, \"tarifa_media_real\": 387.39005840068535, \"DATA\": \"2020-05-01T00:00:00\", \"PASSAGEIROS_PG\": 539972.0}, {\"ANO\": 2012, \"MES\": 6, \"TOTAL\": 4591935, \"tarifa_media\": 262.8318385821327, \"tarifa_media_real\": 488.9729208534083, \"DATA\": \"2012-06-01T00:00:00\", \"PASSAGEIROS_PG\": 7014185.0}, {\"ANO\": 2010, \"MES\": 1, \"TOTAL\": 1077470, \"tarifa_media\": 302.6010249162511, \"tarifa_media_real\": 649.2174906428503, \"DATA\": \"2010-01-01T00:00:00\", \"PASSAGEIROS_PG\": 5988664.0}, {\"ANO\": 2017, \"MES\": 6, \"TOTAL\": 3379755, \"tarifa_media\": 325.6616271959507, \"tarifa_media_real\": 435.3030147467562, \"DATA\": \"2017-06-01T00:00:00\", \"PASSAGEIROS_PG\": 6916058.0}, {\"ANO\": 2022, \"MES\": 4, \"TOTAL\": 2022845, \"tarifa_media\": 659.2024952186636, \"tarifa_media_real\": 675.7092107138276, \"DATA\": \"2022-04-01T00:00:00\", \"PASSAGEIROS_PG\": 6144624.0}, {\"ANO\": 2021, \"MES\": 4, \"TOTAL\": 1360092, \"tarifa_media\": 326.76952728448936, \"tarifa_media_real\": 372.79926145863584, \"DATA\": \"2021-04-01T00:00:00\", \"PASSAGEIROS_PG\": 2641558.0}, {\"ANO\": 2017, \"MES\": 1, \"TOTAL\": 3301463, \"tarifa_media\": 342.00331884797123, \"tarifa_media_real\": 463.6279492532825, \"DATA\": \"2017-01-01T00:00:00\", \"PASSAGEIROS_PG\": 8527709.0}, {\"ANO\": 2011, \"MES\": 9, \"TOTAL\": 4221642, \"tarifa_media\": 285.95954318919456, \"tarifa_media_real\": 554.7619492057279, \"DATA\": \"2011-09-01T00:00:00\", \"PASSAGEIROS_PG\": 6882386.0}, {\"ANO\": 2022, \"MES\": 12, \"TOTAL\": 1826543, \"tarifa_media\": 650.8179248121654, \"tarifa_media_real\": 650.8179248121654, \"DATA\": \"2022-12-01T00:00:00\", \"PASSAGEIROS_PG\": 7688300.0}, {\"ANO\": 2014, \"MES\": 7, \"TOTAL\": 4933521, \"tarifa_media\": 315.85650418314736, \"tarifa_media_real\": 516.6034625773752, \"DATA\": \"2014-07-01T00:00:00\", \"PASSAGEIROS_PG\": 8315205.0}, {\"ANO\": 2018, \"MES\": 4, \"TOTAL\": 3434089, \"tarifa_media\": 324.59793758080383, \"tarifa_media_real\": 424.45732161281035, \"DATA\": \"2018-04-01T00:00:00\", \"PASSAGEIROS_PG\": 7290017.0}, {\"ANO\": 2022, \"MES\": 8, \"TOTAL\": 2080709, \"tarifa_media\": 687.8207088074744, \"tarifa_media_real\": 694.4864357232823, \"DATA\": \"2022-08-01T00:00:00\", \"PASSAGEIROS_PG\": 7292418.0}, {\"ANO\": 2016, \"MES\": 3, \"TOTAL\": 3828383, \"tarifa_media\": 319.5330843992161, \"tarifa_media_real\": 450.575532079379, \"DATA\": \"2016-03-01T00:00:00\", \"PASSAGEIROS_PG\": 7177404.0}]}}, {\"mode\": \"vega-lite\"});\n",
       "</script>"
      ],
      "text/plain": [
       "alt.LayerChart(...)"
      ]
     },
     "execution_count": 19,
     "metadata": {},
     "output_type": "execute_result"
    }
   ],
   "source": [
    "base = alt.Chart(df_final[df_final[\"DATA\"].dt.year >= 2010]).encode(x=alt.X(\"yearmonth(DATA):T\", axis=alt.Axis(labelAngle=325)))\n",
    "\n",
    "bar = base.mark_bar().encode(\n",
    "    alt.X('yearmonth(DATA):T', title=\"Data\"),\n",
    "    alt.Y(\"tarifa_media_real\", title=\"Tarifa média\"),\n",
    "    tooltip = [\"DATA\", \"tarifa_media_real\"],\n",
    ")\n",
    "line =  base.mark_line(\n",
    "    color=\"red\",\n",
    "    opacity=0.3,\n",
    ").encode(y=alt.Y('PASSAGEIROS_PG:Q', axis=alt.Axis(grid=True)))\n",
    "\n",
    "(bar + line).resolve_scale(y='independent').properties(width=600)"
   ]
  },
  {
   "cell_type": "markdown",
   "id": "ea698951-b298-4f1e-b171-974532a4a5eb",
   "metadata": {
    "tags": []
   },
   "source": [
    "### Tarifas Anuais"
   ]
  },
  {
   "cell_type": "code",
   "execution_count": 42,
   "id": "2162eabf-902c-4471-8579-fc57a03ec3bd",
   "metadata": {
    "tags": []
   },
   "outputs": [],
   "source": [
    "df_by_year = df_final.groupby(\"ANO\").agg(\n",
    "    tarifa_media_ano=(\"tarifa_media_real\", \"mean\")\n",
    ").reset_index()\n",
    "#Fazendo a mesma coisa com os dados de oferta para criar o mesmo gráfico\n",
    "oferta_group_by_year = oferta_group.groupby(\"ANO\").agg(passageiros=(\"PASSAGEIROS_PG\", \"sum\")).reset_index()\n",
    "df_final_by_year = pd.merge(df_by_year, oferta_group_by_year, on=[\"ANO\"])\n",
    "\n",
    "df_final_by_year.head(2)"
   ]
  },
  {
   "cell_type": "markdown",
   "id": "ccdefbd9-9206-4276-97b3-d3c9b80e956c",
   "metadata": {},
   "source": [
    "#### 2022 contra 2021"
   ]
  },
  {
   "cell_type": "code",
   "execution_count": 58,
   "id": "9f1b3921-881d-447e-9d2e-7d4f28e0c576",
   "metadata": {
    "tags": []
   },
   "outputs": [
    {
     "name": "stdout",
     "output_type": "stream",
     "text": [
      "A tarifa média em 2022 foi 26.558229950324563% mais cara do que 2021 e 25.932402758541095% acima de 2019\n"
     ]
    }
   ],
   "source": [
    "atual = float(df_final_by_year[df_final_by_year[\"ANO\"] == 2022][\"tarifa_media_ano\"])\n",
    "anterior = float(df_final_by_year[df_final_by_year[\"ANO\"] == 2021][\"tarifa_media_ano\"])\n",
    "anterior_2019 = float(df_final_by_year[df_final_by_year[\"ANO\"] == 2019][\"tarifa_media_ano\"])\n",
    "\n",
    "print(f\"A tarifa média em 2022 foi {round(((atual - anterior)/anterior) *100, 2)}% mais cara do que 2021 e {round(((atual - anterior)/anterior_2019) *100, 2)}% acima de 2019\")"
   ]
  },
  {
   "cell_type": "code",
   "execution_count": 52,
   "id": "987f4843-ce60-405e-89b7-a7874ec45cae",
   "metadata": {
    "tags": []
   },
   "outputs": [
    {
     "data": {
      "text/html": [
       "\n",
       "<div id=\"altair-viz-a5ac367a9a37471bb91e8ca7830da34d\"></div>\n",
       "<script type=\"text/javascript\">\n",
       "  var VEGA_DEBUG = (typeof VEGA_DEBUG == \"undefined\") ? {} : VEGA_DEBUG;\n",
       "  (function(spec, embedOpt){\n",
       "    let outputDiv = document.currentScript.previousElementSibling;\n",
       "    if (outputDiv.id !== \"altair-viz-a5ac367a9a37471bb91e8ca7830da34d\") {\n",
       "      outputDiv = document.getElementById(\"altair-viz-a5ac367a9a37471bb91e8ca7830da34d\");\n",
       "    }\n",
       "    const paths = {\n",
       "      \"vega\": \"https://cdn.jsdelivr.net/npm//vega@5?noext\",\n",
       "      \"vega-lib\": \"https://cdn.jsdelivr.net/npm//vega-lib?noext\",\n",
       "      \"vega-lite\": \"https://cdn.jsdelivr.net/npm//vega-lite@4.17.0?noext\",\n",
       "      \"vega-embed\": \"https://cdn.jsdelivr.net/npm//vega-embed@6?noext\",\n",
       "    };\n",
       "\n",
       "    function maybeLoadScript(lib, version) {\n",
       "      var key = `${lib.replace(\"-\", \"\")}_version`;\n",
       "      return (VEGA_DEBUG[key] == version) ?\n",
       "        Promise.resolve(paths[lib]) :\n",
       "        new Promise(function(resolve, reject) {\n",
       "          var s = document.createElement('script');\n",
       "          document.getElementsByTagName(\"head\")[0].appendChild(s);\n",
       "          s.async = true;\n",
       "          s.onload = () => {\n",
       "            VEGA_DEBUG[key] = version;\n",
       "            return resolve(paths[lib]);\n",
       "          };\n",
       "          s.onerror = () => reject(`Error loading script: ${paths[lib]}`);\n",
       "          s.src = paths[lib];\n",
       "        });\n",
       "    }\n",
       "\n",
       "    function showError(err) {\n",
       "      outputDiv.innerHTML = `<div class=\"error\" style=\"color:red;\">${err}</div>`;\n",
       "      throw err;\n",
       "    }\n",
       "\n",
       "    function displayChart(vegaEmbed) {\n",
       "      vegaEmbed(outputDiv, spec, embedOpt)\n",
       "        .catch(err => showError(`Javascript Error: ${err.message}<br>This usually means there's a typo in your chart specification. See the javascript console for the full traceback.`));\n",
       "    }\n",
       "\n",
       "    if(typeof define === \"function\" && define.amd) {\n",
       "      requirejs.config({paths});\n",
       "      require([\"vega-embed\"], displayChart, err => showError(`Error loading script: ${err.message}`));\n",
       "    } else {\n",
       "      maybeLoadScript(\"vega\", \"5\")\n",
       "        .then(() => maybeLoadScript(\"vega-lite\", \"4.17.0\"))\n",
       "        .then(() => maybeLoadScript(\"vega-embed\", \"6\"))\n",
       "        .catch(showError)\n",
       "        .then(() => displayChart(vegaEmbed));\n",
       "    }\n",
       "  })({\"config\": {\"view\": {\"continuousWidth\": 400, \"continuousHeight\": 300}}, \"layer\": [{\"mark\": \"bar\", \"encoding\": {\"tooltip\": [{\"field\": \"ANO\", \"type\": \"quantitative\"}, {\"field\": \"tarifa_media_ano\", \"type\": \"quantitative\"}], \"x\": {\"field\": \"ANO\", \"title\": \"Ano\", \"type\": \"nominal\"}, \"y\": {\"field\": \"tarifa_media_ano\", \"title\": \"Tarifa m\\u00e9dia\", \"type\": \"quantitative\"}}, \"title\": \"Tarifa M\\u00e9dia Anual\"}, {\"mark\": {\"type\": \"line\", \"color\": \"red\", \"opacity\": 0.3}, \"encoding\": {\"x\": {\"axis\": {\"labelAngle\": 325}, \"field\": \"ANO\", \"type\": \"nominal\"}, \"y\": {\"axis\": {\"grid\": true}, \"field\": \"passageiros\", \"type\": \"quantitative\"}}, \"title\": \"Tarifa M\\u00e9dia Anual\"}], \"data\": {\"name\": \"data-ad4a2e92027dc0602943615d01a8ec27\"}, \"resolve\": {\"scale\": {\"y\": \"independent\"}}, \"width\": 600, \"$schema\": \"https://vega.github.io/schema/vega-lite/v4.17.0.json\", \"datasets\": {\"data-ad4a2e92027dc0602943615d01a8ec27\": [{\"ANO\": 2010, \"tarifa_media_ano\": 566.6280210629084, \"passageiros\": 69968162.0}, {\"ANO\": 2011, \"tarifa_media_ano\": 531.0810385502137, \"passageiros\": 81903711.0}, {\"ANO\": 2012, \"tarifa_media_ano\": 540.5322179925702, \"passageiros\": 88472681.0}, {\"ANO\": 2013, \"tarifa_media_ano\": 559.8532601725457, \"passageiros\": 89961353.0}, {\"ANO\": 2014, \"tarifa_media_ano\": 532.9144378093766, \"passageiros\": 95826631.0}, {\"ANO\": 2015, \"tarifa_media_ano\": 489.87751525510936, \"passageiros\": 96093055.0}, {\"ANO\": 2016, \"tarifa_media_ano\": 477.43248750318315, \"passageiros\": 88595389.0}, {\"ANO\": 2017, \"tarifa_media_ano\": 471.98579754180906, \"passageiros\": 90576791.0}, {\"ANO\": 2018, \"tarifa_media_ano\": 477.9414354429236, \"passageiros\": 93608974.0}, {\"ANO\": 2019, \"tarifa_media_ano\": 515.2500860496747, \"passageiros\": 95048794.0}, {\"ANO\": 2020, \"tarifa_media_ano\": 420.47357709119, \"passageiros\": 45221783.0}, {\"ANO\": 2021, \"tarifa_media_ano\": 503.10855722709147, \"passageiros\": 62583693.0}, {\"ANO\": 2022, \"tarifa_media_ano\": 636.7252847552227, \"passageiros\": 82228945.0}]}}, {\"mode\": \"vega-lite\"});\n",
       "</script>"
      ],
      "text/plain": [
       "alt.LayerChart(...)"
      ]
     },
     "execution_count": 52,
     "metadata": {},
     "output_type": "execute_result"
    }
   ],
   "source": [
    "base = alt.Chart(df_final_by_year[df_final_by_year[\"ANO\"] >= 2010], title=\"Tarifa Média Anual\").encode(x=alt.X(\"ANO:N\", axis=alt.Axis(labelAngle=325)))\n",
    "\n",
    "bar = base.mark_bar().encode(\n",
    "    alt.X('ANO:N', title=\"Ano\"),\n",
    "    alt.Y(\"tarifa_media_ano\", title=\"Tarifa média\"),\n",
    "    tooltip = [\"ANO\", \"tarifa_media_ano\"],\n",
    ")\n",
    "line =  base.mark_line(\n",
    "    color=\"red\",\n",
    "    opacity=0.3,\n",
    ").encode(y=alt.Y('passageiros:Q', axis=alt.Axis(grid=True)))\n",
    "\n",
    "(bar + line).resolve_scale(y='independent').properties(width=600)"
   ]
  },
  {
   "cell_type": "markdown",
   "id": "f9dae830-f6cb-498b-8c34-d7bef677ab2f",
   "metadata": {
    "tags": []
   },
   "source": [
    "## Tarifa por companhia aérea\n",
    "- Criar gráfico por companhia aérea\n",
    "\n",
    "Um gráfico interativo com a variação da tarifas por companhia aérea. Ver o que tá pegando com elas. \n"
   ]
  },
  {
   "cell_type": "code",
   "execution_count": 76,
   "id": "a5b56693-4982-4cfc-af86-74869e7b84b6",
   "metadata": {
    "tags": []
   },
   "outputs": [],
   "source": [
    "data = sdf.groupby(\"ANO\", \"MES\", \"EMPRESA\").agg(\n",
    "    f.sum(\"ASSENTOS\").alias(\"TOTAL\"),\n",
    "    f.collect_list(f.col('REAL')),\n",
    "    f.collect_list(f.col('ASSENTOS')),\n",
    ")\n",
    "\n",
    "#precisamos de uma média ponderada para calcular a real representatividade das tarifas considerando o número de assentos. \n",
    "def get_average(values, weights):\n",
    "    return float(np.average(values, weights=weights)) \n",
    "\n",
    "waverage = f.udf(get_average, DoubleType())    # registering as udf here\n",
    "\n",
    "data = data.withColumn(\n",
    "    'tarifa_real',\n",
    "    waverage(\n",
    "        f.col(\"collect_list(REAL)\"), f.col(\"collect_list(ASSENTOS)\")\n",
    "    )\n",
    ")"
   ]
  },
  {
   "cell_type": "code",
   "execution_count": 79,
   "id": "393d5074-d947-41a4-b37a-8b6de66b5724",
   "metadata": {
    "tags": []
   },
   "outputs": [],
   "source": [
    "data = data.select(\"ANO\", \"MES\", \"EMPRESA\", \"tarifa_real\")"
   ]
  },
  {
   "cell_type": "code",
   "execution_count": 80,
   "id": "4ea94328-7316-4f67-b5ba-a68a00da01c6",
   "metadata": {
    "tags": []
   },
   "outputs": [
    {
     "data": {
      "text/plain": [
       "DataFrame[ANO: int, MES: int, EMPRESA: string, tarifa_real: double]"
      ]
     },
     "execution_count": 80,
     "metadata": {},
     "output_type": "execute_result"
    }
   ],
   "source": [
    "data.cache()"
   ]
  },
  {
   "cell_type": "code",
   "execution_count": 81,
   "id": "d99c7929-82e2-41a4-9516-d96029c7e3ce",
   "metadata": {
    "tags": []
   },
   "outputs": [
    {
     "name": "stderr",
     "output_type": "stream",
     "text": [
      "                                                                                \r"
     ]
    },
    {
     "name": "stdout",
     "output_type": "stream",
     "text": [
      "+----+---+-------+------------------+\n",
      "| ANO|MES|EMPRESA|       tarifa_real|\n",
      "+----+---+-------+------------------+\n",
      "|2020| 11|    GLO|417.92073660891043|\n",
      "|2019|  5|    PTB| 590.2504869667179|\n",
      "|2017|  4|    TAM|373.71520858248743|\n",
      "+----+---+-------+------------------+\n",
      "\n"
     ]
    }
   ],
   "source": [
    "data.limit(3).show()"
   ]
  },
  {
   "cell_type": "code",
   "execution_count": 109,
   "id": "ef8f151a-5c2a-4234-aba9-7bd3537a3f6c",
   "metadata": {
    "tags": []
   },
   "outputs": [
    {
     "name": "stderr",
     "output_type": "stream",
     "text": [
      "                                                                                \r"
     ]
    }
   ],
   "source": [
    "data_by_cia = data.toPandas()"
   ]
  },
  {
   "cell_type": "code",
   "execution_count": 199,
   "id": "2ce54f77-db4f-4398-b2f1-0e66b6419695",
   "metadata": {
    "tags": []
   },
   "outputs": [],
   "source": [
    "cias = [\"AZU\", \"GLO\", \"TAM\"] "
   ]
  },
  {
   "cell_type": "code",
   "execution_count": 200,
   "id": "fb81ba4e-de7c-4ff6-8383-4f521050dd5e",
   "metadata": {
    "tags": []
   },
   "outputs": [],
   "source": [
    "data_by_cia = data_by_cia[data_by_cia[\"EMPRESA\"].isin(cias)].copy()"
   ]
  },
  {
   "cell_type": "code",
   "execution_count": 201,
   "id": "00216433-3791-43ac-8ab0-52700f513238",
   "metadata": {
    "tags": []
   },
   "outputs": [],
   "source": [
    "data_by_cia[\"DATA\"] = data_by_cia[\"MES\"].astype(str) + \"/\" + data_by_cia[\"ANO\"].astype(str)\n",
    "data_by_cia.DATA = data_by_cia.DATA.apply(pd.to_datetime,format=\"%m/%Y\")\n",
    "data_by_cia = data_by_cia[data_by_cia[\"DATA\"].dt.year >= 2013]"
   ]
  },
  {
   "cell_type": "code",
   "execution_count": 208,
   "id": "45c9c5a9-be94-46c9-b0d4-602c4cc2fad1",
   "metadata": {
    "tags": []
   },
   "outputs": [
    {
     "data": {
      "text/html": [
       "\n",
       "<div id=\"altair-viz-21b9ac28c6064705967ed6987c88c47e\"></div>\n",
       "<script type=\"text/javascript\">\n",
       "  var VEGA_DEBUG = (typeof VEGA_DEBUG == \"undefined\") ? {} : VEGA_DEBUG;\n",
       "  (function(spec, embedOpt){\n",
       "    let outputDiv = document.currentScript.previousElementSibling;\n",
       "    if (outputDiv.id !== \"altair-viz-21b9ac28c6064705967ed6987c88c47e\") {\n",
       "      outputDiv = document.getElementById(\"altair-viz-21b9ac28c6064705967ed6987c88c47e\");\n",
       "    }\n",
       "    const paths = {\n",
       "      \"vega\": \"https://cdn.jsdelivr.net/npm//vega@5?noext\",\n",
       "      \"vega-lib\": \"https://cdn.jsdelivr.net/npm//vega-lib?noext\",\n",
       "      \"vega-lite\": \"https://cdn.jsdelivr.net/npm//vega-lite@4.17.0?noext\",\n",
       "      \"vega-embed\": \"https://cdn.jsdelivr.net/npm//vega-embed@6?noext\",\n",
       "    };\n",
       "\n",
       "    function maybeLoadScript(lib, version) {\n",
       "      var key = `${lib.replace(\"-\", \"\")}_version`;\n",
       "      return (VEGA_DEBUG[key] == version) ?\n",
       "        Promise.resolve(paths[lib]) :\n",
       "        new Promise(function(resolve, reject) {\n",
       "          var s = document.createElement('script');\n",
       "          document.getElementsByTagName(\"head\")[0].appendChild(s);\n",
       "          s.async = true;\n",
       "          s.onload = () => {\n",
       "            VEGA_DEBUG[key] = version;\n",
       "            return resolve(paths[lib]);\n",
       "          };\n",
       "          s.onerror = () => reject(`Error loading script: ${paths[lib]}`);\n",
       "          s.src = paths[lib];\n",
       "        });\n",
       "    }\n",
       "\n",
       "    function showError(err) {\n",
       "      outputDiv.innerHTML = `<div class=\"error\" style=\"color:red;\">${err}</div>`;\n",
       "      throw err;\n",
       "    }\n",
       "\n",
       "    function displayChart(vegaEmbed) {\n",
       "      vegaEmbed(outputDiv, spec, embedOpt)\n",
       "        .catch(err => showError(`Javascript Error: ${err.message}<br>This usually means there's a typo in your chart specification. See the javascript console for the full traceback.`));\n",
       "    }\n",
       "\n",
       "    if(typeof define === \"function\" && define.amd) {\n",
       "      requirejs.config({paths});\n",
       "      require([\"vega-embed\"], displayChart, err => showError(`Error loading script: ${err.message}`));\n",
       "    } else {\n",
       "      maybeLoadScript(\"vega\", \"5\")\n",
       "        .then(() => maybeLoadScript(\"vega-lite\", \"4.17.0\"))\n",
       "        .then(() => maybeLoadScript(\"vega-embed\", \"6\"))\n",
       "        .catch(showError)\n",
       "        .then(() => displayChart(vegaEmbed));\n",
       "    }\n",
       "  })({\"config\": {\"view\": {\"continuousWidth\": 400, \"continuousHeight\": 300}}, \"layer\": [{\"mark\": \"line\", \"encoding\": {\"color\": {\"field\": \"EMPRESA\", \"type\": \"nominal\"}, \"x\": {\"field\": \"DATA\", \"timeUnit\": \"yearmonth\", \"type\": \"temporal\"}, \"y\": {\"field\": \"tarifa_real\", \"type\": \"quantitative\"}}}, {\"mark\": \"point\", \"encoding\": {\"color\": {\"field\": \"EMPRESA\", \"type\": \"nominal\"}, \"x\": {\"field\": \"DATA\", \"timeUnit\": \"yearmonth\", \"type\": \"temporal\"}, \"y\": {\"field\": \"tarifa_real\", \"type\": \"quantitative\"}}, \"transform\": [{\"filter\": {\"selection\": \"selector010\"}}]}, {\"mark\": \"rule\", \"encoding\": {\"opacity\": {\"condition\": {\"value\": 0.3, \"selection\": \"selector010\"}, \"value\": 0}, \"tooltip\": [{\"field\": \"AZU\", \"type\": \"quantitative\"}, {\"field\": \"GLO\", \"type\": \"quantitative\"}, {\"field\": \"TAM\", \"type\": \"quantitative\"}], \"x\": {\"field\": \"DATA\", \"timeUnit\": \"yearmonth\", \"type\": \"temporal\"}}, \"selection\": {\"selector010\": {\"type\": \"single\", \"fields\": [\"DATA\"], \"nearest\": true, \"on\": \"mouseover\", \"empty\": \"none\", \"clear\": \"mouseout\"}}, \"transform\": [{\"pivot\": \"EMPRESA\", \"value\": \"tarifa_real\", \"groupby\": [\"DATA\"]}]}], \"data\": {\"name\": \"data-041a54d500e884a6035435fba0aef5a6\"}, \"$schema\": \"https://vega.github.io/schema/vega-lite/v4.17.0.json\", \"datasets\": {\"data-041a54d500e884a6035435fba0aef5a6\": [{\"ANO\": 2020, \"MES\": 11, \"EMPRESA\": \"GLO\", \"tarifa_real\": 417.92073660891043, \"DATA\": \"2020-11-01T00:00:00\"}, {\"ANO\": 2017, \"MES\": 4, \"EMPRESA\": \"TAM\", \"tarifa_real\": 373.71520858248743, \"DATA\": \"2017-04-01T00:00:00\"}, {\"ANO\": 2013, \"MES\": 1, \"EMPRESA\": \"GLO\", \"tarifa_real\": 527.5852589257851, \"DATA\": \"2013-01-01T00:00:00\"}, {\"ANO\": 2020, \"MES\": 6, \"EMPRESA\": \"GLO\", \"tarifa_real\": 318.0073010692755, \"DATA\": \"2020-06-01T00:00:00\"}, {\"ANO\": 2020, \"MES\": 8, \"EMPRESA\": \"AZU\", \"tarifa_real\": 499.4824296688163, \"DATA\": \"2020-08-01T00:00:00\"}, {\"ANO\": 2020, \"MES\": 9, \"EMPRESA\": \"GLO\", \"tarifa_real\": 430.23501748258786, \"DATA\": \"2020-09-01T00:00:00\"}, {\"ANO\": 2014, \"MES\": 1, \"EMPRESA\": \"AZU\", \"tarifa_real\": 592.6378501432565, \"DATA\": \"2014-01-01T00:00:00\"}, {\"ANO\": 2018, \"MES\": 9, \"EMPRESA\": \"TAM\", \"tarifa_real\": 421.4955847099128, \"DATA\": \"2018-09-01T00:00:00\"}, {\"ANO\": 2022, \"MES\": 12, \"EMPRESA\": \"AZU\", \"tarifa_real\": 792.0189019330427, \"DATA\": \"2022-12-01T00:00:00\"}, {\"ANO\": 2018, \"MES\": 10, \"EMPRESA\": \"AZU\", \"tarifa_real\": 620.5267364506993, \"DATA\": \"2018-10-01T00:00:00\"}, {\"ANO\": 2015, \"MES\": 8, \"EMPRESA\": \"TAM\", \"tarifa_real\": 536.7556674685961, \"DATA\": \"2015-08-01T00:00:00\"}, {\"ANO\": 2016, \"MES\": 9, \"EMPRESA\": \"TAM\", \"tarifa_real\": 505.69072505893377, \"DATA\": \"2016-09-01T00:00:00\"}, {\"ANO\": 2019, \"MES\": 10, \"EMPRESA\": \"GLO\", \"tarifa_real\": 541.6390902923985, \"DATA\": \"2019-10-01T00:00:00\"}, {\"ANO\": 2017, \"MES\": 2, \"EMPRESA\": \"AZU\", \"tarifa_real\": 493.66239750829845, \"DATA\": \"2017-02-01T00:00:00\"}, {\"ANO\": 2013, \"MES\": 4, \"EMPRESA\": \"TAM\", \"tarifa_real\": 410.411798966533, \"DATA\": \"2013-04-01T00:00:00\"}, {\"ANO\": 2017, \"MES\": 11, \"EMPRESA\": \"TAM\", \"tarifa_real\": 453.1812874792401, \"DATA\": \"2017-11-01T00:00:00\"}, {\"ANO\": 2014, \"MES\": 2, \"EMPRESA\": \"GLO\", \"tarifa_real\": 556.6640085050104, \"DATA\": \"2014-02-01T00:00:00\"}, {\"ANO\": 2016, \"MES\": 10, \"EMPRESA\": \"TAM\", \"tarifa_real\": 525.3925750723166, \"DATA\": \"2016-10-01T00:00:00\"}, {\"ANO\": 2016, \"MES\": 2, \"EMPRESA\": \"AZU\", \"tarifa_real\": 542.5037389731082, \"DATA\": \"2016-02-01T00:00:00\"}, {\"ANO\": 2021, \"MES\": 7, \"EMPRESA\": \"GLO\", \"tarifa_real\": 531.094530145632, \"DATA\": \"2021-07-01T00:00:00\"}, {\"ANO\": 2017, \"MES\": 12, \"EMPRESA\": \"AZU\", \"tarifa_real\": 643.2665472466015, \"DATA\": \"2017-12-01T00:00:00\"}, {\"ANO\": 2017, \"MES\": 3, \"EMPRESA\": \"AZU\", \"tarifa_real\": 490.5940586628176, \"DATA\": \"2017-03-01T00:00:00\"}, {\"ANO\": 2017, \"MES\": 3, \"EMPRESA\": \"GLO\", \"tarifa_real\": 411.70826211672943, \"DATA\": \"2017-03-01T00:00:00\"}, {\"ANO\": 2022, \"MES\": 10, \"EMPRESA\": \"AZU\", \"tarifa_real\": 749.8390763880069, \"DATA\": \"2022-10-01T00:00:00\"}, {\"ANO\": 2015, \"MES\": 2, \"EMPRESA\": \"TAM\", \"tarifa_real\": 452.0389974410414, \"DATA\": \"2015-02-01T00:00:00\"}, {\"ANO\": 2015, \"MES\": 6, \"EMPRESA\": \"AZU\", \"tarifa_real\": 539.9588516872691, \"DATA\": \"2015-06-01T00:00:00\"}, {\"ANO\": 2016, \"MES\": 2, \"EMPRESA\": \"TAM\", \"tarifa_real\": 423.37227162870124, \"DATA\": \"2016-02-01T00:00:00\"}, {\"ANO\": 2015, \"MES\": 12, \"EMPRESA\": \"AZU\", \"tarifa_real\": 593.9339537849546, \"DATA\": \"2015-12-01T00:00:00\"}, {\"ANO\": 2021, \"MES\": 11, \"EMPRESA\": \"TAM\", \"tarifa_real\": 544.7112131104866, \"DATA\": \"2021-11-01T00:00:00\"}, {\"ANO\": 2017, \"MES\": 10, \"EMPRESA\": \"TAM\", \"tarifa_real\": 469.5231894333212, \"DATA\": \"2017-10-01T00:00:00\"}, {\"ANO\": 2021, \"MES\": 1, \"EMPRESA\": \"AZU\", \"tarifa_real\": 511.5027198823477, \"DATA\": \"2021-01-01T00:00:00\"}, {\"ANO\": 2021, \"MES\": 11, \"EMPRESA\": \"GLO\", \"tarifa_real\": 534.8777010284788, \"DATA\": \"2021-11-01T00:00:00\"}, {\"ANO\": 2021, \"MES\": 6, \"EMPRESA\": \"GLO\", \"tarifa_real\": 433.45244951258394, \"DATA\": \"2021-06-01T00:00:00\"}, {\"ANO\": 2022, \"MES\": 6, \"EMPRESA\": \"TAM\", \"tarifa_real\": 602.3231147882391, \"DATA\": \"2022-06-01T00:00:00\"}, {\"ANO\": 2017, \"MES\": 12, \"EMPRESA\": \"TAM\", \"tarifa_real\": 517.4142958788279, \"DATA\": \"2017-12-01T00:00:00\"}, {\"ANO\": 2015, \"MES\": 7, \"EMPRESA\": \"AZU\", \"tarifa_real\": 620.3055472756264, \"DATA\": \"2015-07-01T00:00:00\"}, {\"ANO\": 2014, \"MES\": 11, \"EMPRESA\": \"AZU\", \"tarifa_real\": 605.9561449072676, \"DATA\": \"2014-11-01T00:00:00\"}, {\"ANO\": 2022, \"MES\": 11, \"EMPRESA\": \"TAM\", \"tarifa_real\": 630.0997276385216, \"DATA\": \"2022-11-01T00:00:00\"}, {\"ANO\": 2020, \"MES\": 5, \"EMPRESA\": \"AZU\", \"tarifa_real\": 477.70395372153916, \"DATA\": \"2020-05-01T00:00:00\"}, {\"ANO\": 2018, \"MES\": 6, \"EMPRESA\": \"AZU\", \"tarifa_real\": 493.70191439097744, \"DATA\": \"2018-06-01T00:00:00\"}, {\"ANO\": 2018, \"MES\": 10, \"EMPRESA\": \"TAM\", \"tarifa_real\": 478.6476854080833, \"DATA\": \"2018-10-01T00:00:00\"}, {\"ANO\": 2018, \"MES\": 11, \"EMPRESA\": \"AZU\", \"tarifa_real\": 651.3282325891736, \"DATA\": \"2018-11-01T00:00:00\"}, {\"ANO\": 2021, \"MES\": 6, \"EMPRESA\": \"TAM\", \"tarifa_real\": 401.6575756633223, \"DATA\": \"2021-06-01T00:00:00\"}, {\"ANO\": 2019, \"MES\": 1, \"EMPRESA\": \"AZU\", \"tarifa_real\": 568.5518192514061, \"DATA\": \"2019-01-01T00:00:00\"}, {\"ANO\": 2021, \"MES\": 11, \"EMPRESA\": \"AZU\", \"tarifa_real\": 668.2351129073614, \"DATA\": \"2021-11-01T00:00:00\"}, {\"ANO\": 2013, \"MES\": 5, \"EMPRESA\": \"TAM\", \"tarifa_real\": 467.3343009730027, \"DATA\": \"2013-05-01T00:00:00\"}, {\"ANO\": 2013, \"MES\": 4, \"EMPRESA\": \"GLO\", \"tarifa_real\": 436.0410960692566, \"DATA\": \"2013-04-01T00:00:00\"}, {\"ANO\": 2016, \"MES\": 11, \"EMPRESA\": \"AZU\", \"tarifa_real\": 569.5976791239814, \"DATA\": \"2016-11-01T00:00:00\"}, {\"ANO\": 2013, \"MES\": 8, \"EMPRESA\": \"TAM\", \"tarifa_real\": 613.5454079705835, \"DATA\": \"2013-08-01T00:00:00\"}, {\"ANO\": 2015, \"MES\": 9, \"EMPRESA\": \"TAM\", \"tarifa_real\": 564.6341941385358, \"DATA\": \"2015-09-01T00:00:00\"}, {\"ANO\": 2019, \"MES\": 3, \"EMPRESA\": \"AZU\", \"tarifa_real\": 543.9541468579458, \"DATA\": \"2019-03-01T00:00:00\"}, {\"ANO\": 2017, \"MES\": 9, \"EMPRESA\": \"GLO\", \"tarifa_real\": 483.91664597802736, \"DATA\": \"2017-09-01T00:00:00\"}, {\"ANO\": 2018, \"MES\": 1, \"EMPRESA\": \"GLO\", \"tarifa_real\": 476.1655891825281, \"DATA\": \"2018-01-01T00:00:00\"}, {\"ANO\": 2020, \"MES\": 2, \"EMPRESA\": \"TAM\", \"tarifa_real\": 439.556812522509, \"DATA\": \"2020-02-01T00:00:00\"}, {\"ANO\": 2021, \"MES\": 12, \"EMPRESA\": \"TAM\", \"tarifa_real\": 466.21640704887886, \"DATA\": \"2021-12-01T00:00:00\"}, {\"ANO\": 2021, \"MES\": 4, \"EMPRESA\": \"AZU\", \"tarifa_real\": 469.83772890770825, \"DATA\": \"2021-04-01T00:00:00\"}, {\"ANO\": 2015, \"MES\": 5, \"EMPRESA\": \"AZU\", \"tarifa_real\": 523.2507277749058, \"DATA\": \"2015-05-01T00:00:00\"}, {\"ANO\": 2018, \"MES\": 4, \"EMPRESA\": \"GLO\", \"tarifa_real\": 385.66903764586567, \"DATA\": \"2018-04-01T00:00:00\"}, {\"ANO\": 2016, \"MES\": 5, \"EMPRESA\": \"AZU\", \"tarifa_real\": 532.2176429223201, \"DATA\": \"2016-05-01T00:00:00\"}, {\"ANO\": 2021, \"MES\": 10, \"EMPRESA\": \"TAM\", \"tarifa_real\": 561.0889789079688, \"DATA\": \"2021-10-01T00:00:00\"}, {\"ANO\": 2015, \"MES\": 8, \"EMPRESA\": \"GLO\", \"tarifa_real\": 462.10271931905265, \"DATA\": \"2015-08-01T00:00:00\"}, {\"ANO\": 2018, \"MES\": 6, \"EMPRESA\": \"TAM\", \"tarifa_real\": 344.22936805907193, \"DATA\": \"2018-06-01T00:00:00\"}, {\"ANO\": 2015, \"MES\": 7, \"EMPRESA\": \"TAM\", \"tarifa_real\": 543.5897922267483, \"DATA\": \"2015-07-01T00:00:00\"}, {\"ANO\": 2022, \"MES\": 7, \"EMPRESA\": \"TAM\", \"tarifa_real\": 514.7077779898809, \"DATA\": \"2022-07-01T00:00:00\"}, {\"ANO\": 2022, \"MES\": 11, \"EMPRESA\": \"AZU\", \"tarifa_real\": 737.1971578157106, \"DATA\": \"2022-11-01T00:00:00\"}, {\"ANO\": 2019, \"MES\": 8, \"EMPRESA\": \"TAM\", \"tarifa_real\": 489.5051187353478, \"DATA\": \"2019-08-01T00:00:00\"}, {\"ANO\": 2019, \"MES\": 4, \"EMPRESA\": \"TAM\", \"tarifa_real\": 513.8609849637322, \"DATA\": \"2019-04-01T00:00:00\"}, {\"ANO\": 2019, \"MES\": 9, \"EMPRESA\": \"AZU\", \"tarifa_real\": 582.5562351641959, \"DATA\": \"2019-09-01T00:00:00\"}, {\"ANO\": 2017, \"MES\": 1, \"EMPRESA\": \"GLO\", \"tarifa_real\": 438.74311409305227, \"DATA\": \"2017-01-01T00:00:00\"}, {\"ANO\": 2021, \"MES\": 12, \"EMPRESA\": \"AZU\", \"tarifa_real\": 614.0462214759134, \"DATA\": \"2021-12-01T00:00:00\"}, {\"ANO\": 2016, \"MES\": 12, \"EMPRESA\": \"GLO\", \"tarifa_real\": 453.7736763282044, \"DATA\": \"2016-12-01T00:00:00\"}, {\"ANO\": 2017, \"MES\": 5, \"EMPRESA\": \"GLO\", \"tarifa_real\": 414.10125522510305, \"DATA\": \"2017-05-01T00:00:00\"}, {\"ANO\": 2019, \"MES\": 2, \"EMPRESA\": \"AZU\", \"tarifa_real\": 560.2409212944639, \"DATA\": \"2019-02-01T00:00:00\"}, {\"ANO\": 2017, \"MES\": 1, \"EMPRESA\": \"TAM\", \"tarifa_real\": 422.8255567093382, \"DATA\": \"2017-01-01T00:00:00\"}, {\"ANO\": 2022, \"MES\": 9, \"EMPRESA\": \"AZU\", \"tarifa_real\": 782.6553900316828, \"DATA\": \"2022-09-01T00:00:00\"}, {\"ANO\": 2019, \"MES\": 11, \"EMPRESA\": \"TAM\", \"tarifa_real\": 488.2873666983697, \"DATA\": \"2019-11-01T00:00:00\"}, {\"ANO\": 2016, \"MES\": 8, \"EMPRESA\": \"TAM\", \"tarifa_real\": 450.81952034237446, \"DATA\": \"2016-08-01T00:00:00\"}, {\"ANO\": 2015, \"MES\": 12, \"EMPRESA\": \"GLO\", \"tarifa_real\": 467.63070784899884, \"DATA\": \"2015-12-01T00:00:00\"}, {\"ANO\": 2019, \"MES\": 12, \"EMPRESA\": \"TAM\", \"tarifa_real\": 543.7225932997042, \"DATA\": \"2019-12-01T00:00:00\"}, {\"ANO\": 2017, \"MES\": 10, \"EMPRESA\": \"AZU\", \"tarifa_real\": 613.1699671224949, \"DATA\": \"2017-10-01T00:00:00\"}, {\"ANO\": 2015, \"MES\": 4, \"EMPRESA\": \"GLO\", \"tarifa_real\": 322.7672113042339, \"DATA\": \"2015-04-01T00:00:00\"}, {\"ANO\": 2014, \"MES\": 2, \"EMPRESA\": \"AZU\", \"tarifa_real\": 607.7536228775682, \"DATA\": \"2014-02-01T00:00:00\"}, {\"ANO\": 2016, \"MES\": 4, \"EMPRESA\": \"TAM\", \"tarifa_real\": 400.8653502490783, \"DATA\": \"2016-04-01T00:00:00\"}, {\"ANO\": 2018, \"MES\": 7, \"EMPRESA\": \"AZU\", \"tarifa_real\": 601.5082543700402, \"DATA\": \"2018-07-01T00:00:00\"}, {\"ANO\": 2017, \"MES\": 9, \"EMPRESA\": \"AZU\", \"tarifa_real\": 573.6201414231459, \"DATA\": \"2017-09-01T00:00:00\"}, {\"ANO\": 2014, \"MES\": 6, \"EMPRESA\": \"TAM\", \"tarifa_real\": 467.7840506172435, \"DATA\": \"2014-06-01T00:00:00\"}, {\"ANO\": 2022, \"MES\": 1, \"EMPRESA\": \"TAM\", \"tarifa_real\": 488.98445331396397, \"DATA\": \"2022-01-01T00:00:00\"}, {\"ANO\": 2022, \"MES\": 6, \"EMPRESA\": \"AZU\", \"tarifa_real\": 682.2035268015954, \"DATA\": \"2022-06-01T00:00:00\"}, {\"ANO\": 2021, \"MES\": 8, \"EMPRESA\": \"GLO\", \"tarifa_real\": 613.3423527785585, \"DATA\": \"2021-08-01T00:00:00\"}, {\"ANO\": 2018, \"MES\": 12, \"EMPRESA\": \"AZU\", \"tarifa_real\": 657.7043708535649, \"DATA\": \"2018-12-01T00:00:00\"}, {\"ANO\": 2015, \"MES\": 3, \"EMPRESA\": \"AZU\", \"tarifa_real\": 489.1239523986156, \"DATA\": \"2015-03-01T00:00:00\"}, {\"ANO\": 2014, \"MES\": 7, \"EMPRESA\": \"TAM\", \"tarifa_real\": 502.762624551709, \"DATA\": \"2014-07-01T00:00:00\"}, {\"ANO\": 2019, \"MES\": 8, \"EMPRESA\": \"AZU\", \"tarifa_real\": 611.4793747870788, \"DATA\": \"2019-08-01T00:00:00\"}, {\"ANO\": 2017, \"MES\": 7, \"EMPRESA\": \"TAM\", \"tarifa_real\": 419.06245821302207, \"DATA\": \"2017-07-01T00:00:00\"}, {\"ANO\": 2020, \"MES\": 3, \"EMPRESA\": \"TAM\", \"tarifa_real\": 389.77841723649794, \"DATA\": \"2020-03-01T00:00:00\"}, {\"ANO\": 2018, \"MES\": 5, \"EMPRESA\": \"TAM\", \"tarifa_real\": 376.85870195801164, \"DATA\": \"2018-05-01T00:00:00\"}, {\"ANO\": 2013, \"MES\": 11, \"EMPRESA\": \"TAM\", \"tarifa_real\": 562.6151297608259, \"DATA\": \"2013-11-01T00:00:00\"}, {\"ANO\": 2020, \"MES\": 10, \"EMPRESA\": \"AZU\", \"tarifa_real\": 559.245341026745, \"DATA\": \"2020-10-01T00:00:00\"}, {\"ANO\": 2015, \"MES\": 5, \"EMPRESA\": \"GLO\", \"tarifa_real\": 363.2551309917346, \"DATA\": \"2015-05-01T00:00:00\"}, {\"ANO\": 2022, \"MES\": 4, \"EMPRESA\": \"TAM\", \"tarifa_real\": 574.3043220983951, \"DATA\": \"2022-04-01T00:00:00\"}, {\"ANO\": 2021, \"MES\": 4, \"EMPRESA\": \"GLO\", \"tarifa_real\": 304.11487733283553, \"DATA\": \"2021-04-01T00:00:00\"}, {\"ANO\": 2022, \"MES\": 8, \"EMPRESA\": \"TAM\", \"tarifa_real\": 627.7348561331085, \"DATA\": \"2022-08-01T00:00:00\"}, {\"ANO\": 2022, \"MES\": 8, \"EMPRESA\": \"AZU\", \"tarifa_real\": 797.2136706954868, \"DATA\": \"2022-08-01T00:00:00\"}, {\"ANO\": 2021, \"MES\": 1, \"EMPRESA\": \"GLO\", \"tarifa_real\": 381.8829577789236, \"DATA\": \"2021-01-01T00:00:00\"}, {\"ANO\": 2015, \"MES\": 8, \"EMPRESA\": \"AZU\", \"tarifa_real\": 582.1765127540256, \"DATA\": \"2015-08-01T00:00:00\"}, {\"ANO\": 2014, \"MES\": 11, \"EMPRESA\": \"TAM\", \"tarifa_real\": 556.6023222145291, \"DATA\": \"2014-11-01T00:00:00\"}, {\"ANO\": 2015, \"MES\": 10, \"EMPRESA\": \"TAM\", \"tarifa_real\": 565.7456925078625, \"DATA\": \"2015-10-01T00:00:00\"}, {\"ANO\": 2021, \"MES\": 2, \"EMPRESA\": \"GLO\", \"tarifa_real\": 451.86936674593613, \"DATA\": \"2021-02-01T00:00:00\"}, {\"ANO\": 2018, \"MES\": 4, \"EMPRESA\": \"AZU\", \"tarifa_real\": 539.0031728701746, \"DATA\": \"2018-04-01T00:00:00\"}, {\"ANO\": 2015, \"MES\": 4, \"EMPRESA\": \"AZU\", \"tarifa_real\": 462.144285550807, \"DATA\": \"2015-04-01T00:00:00\"}, {\"ANO\": 2014, \"MES\": 4, \"EMPRESA\": \"TAM\", \"tarifa_real\": 498.8380911989717, \"DATA\": \"2014-04-01T00:00:00\"}, {\"ANO\": 2014, \"MES\": 7, \"EMPRESA\": \"AZU\", \"tarifa_real\": 652.4888073370416, \"DATA\": \"2014-07-01T00:00:00\"}, {\"ANO\": 2017, \"MES\": 11, \"EMPRESA\": \"AZU\", \"tarifa_real\": 614.3533655275678, \"DATA\": \"2017-11-01T00:00:00\"}, {\"ANO\": 2018, \"MES\": 8, \"EMPRESA\": \"TAM\", \"tarifa_real\": 403.26540161865165, \"DATA\": \"2018-08-01T00:00:00\"}, {\"ANO\": 2021, \"MES\": 10, \"EMPRESA\": \"GLO\", \"tarifa_real\": 621.8019285077916, \"DATA\": \"2021-10-01T00:00:00\"}, {\"ANO\": 2016, \"MES\": 8, \"EMPRESA\": \"GLO\", \"tarifa_real\": 420.0793166396255, \"DATA\": \"2016-08-01T00:00:00\"}, {\"ANO\": 2018, \"MES\": 12, \"EMPRESA\": \"TAM\", \"tarifa_real\": 518.809227296007, \"DATA\": \"2018-12-01T00:00:00\"}, {\"ANO\": 2014, \"MES\": 7, \"EMPRESA\": \"GLO\", \"tarifa_real\": 429.3774777895693, \"DATA\": \"2014-07-01T00:00:00\"}, {\"ANO\": 2019, \"MES\": 2, \"EMPRESA\": \"TAM\", \"tarifa_real\": 438.3044888437402, \"DATA\": \"2019-02-01T00:00:00\"}, {\"ANO\": 2018, \"MES\": 11, \"EMPRESA\": \"GLO\", \"tarifa_real\": 467.8926109186303, \"DATA\": \"2018-11-01T00:00:00\"}, {\"ANO\": 2017, \"MES\": 9, \"EMPRESA\": \"TAM\", \"tarifa_real\": 453.6022872056347, \"DATA\": \"2017-09-01T00:00:00\"}, {\"ANO\": 2014, \"MES\": 5, \"EMPRESA\": \"GLO\", \"tarifa_real\": 439.2611755274087, \"DATA\": \"2014-05-01T00:00:00\"}, {\"ANO\": 2014, \"MES\": 12, \"EMPRESA\": \"TAM\", \"tarifa_real\": 547.9288968032447, \"DATA\": \"2014-12-01T00:00:00\"}, {\"ANO\": 2022, \"MES\": 4, \"EMPRESA\": \"AZU\", \"tarifa_real\": 771.5255903082968, \"DATA\": \"2022-04-01T00:00:00\"}, {\"ANO\": 2016, \"MES\": 7, \"EMPRESA\": \"TAM\", \"tarifa_real\": 472.6143808525707, \"DATA\": \"2016-07-01T00:00:00\"}, {\"ANO\": 2022, \"MES\": 1, \"EMPRESA\": \"GLO\", \"tarifa_real\": 505.930608288078, \"DATA\": \"2022-01-01T00:00:00\"}, {\"ANO\": 2019, \"MES\": 5, \"EMPRESA\": \"AZU\", \"tarifa_real\": 619.1802737344042, \"DATA\": \"2019-05-01T00:00:00\"}, {\"ANO\": 2019, \"MES\": 11, \"EMPRESA\": \"GLO\", \"tarifa_real\": 447.3858633772504, \"DATA\": \"2019-11-01T00:00:00\"}, {\"ANO\": 2013, \"MES\": 2, \"EMPRESA\": \"GLO\", \"tarifa_real\": 537.1613285986299, \"DATA\": \"2013-02-01T00:00:00\"}, {\"ANO\": 2018, \"MES\": 5, \"EMPRESA\": \"GLO\", \"tarifa_real\": 404.8396527406093, \"DATA\": \"2018-05-01T00:00:00\"}, {\"ANO\": 2017, \"MES\": 3, \"EMPRESA\": \"TAM\", \"tarifa_real\": 358.5977631924521, \"DATA\": \"2017-03-01T00:00:00\"}, {\"ANO\": 2019, \"MES\": 10, \"EMPRESA\": \"TAM\", \"tarifa_real\": 536.9357182654326, \"DATA\": \"2019-10-01T00:00:00\"}, {\"ANO\": 2022, \"MES\": 2, \"EMPRESA\": \"GLO\", \"tarifa_real\": 532.3405992499164, \"DATA\": \"2022-02-01T00:00:00\"}, {\"ANO\": 2016, \"MES\": 12, \"EMPRESA\": \"TAM\", \"tarifa_real\": 500.1513602667865, \"DATA\": \"2016-12-01T00:00:00\"}, {\"ANO\": 2016, \"MES\": 11, \"EMPRESA\": \"TAM\", \"tarifa_real\": 506.51900724978054, \"DATA\": \"2016-11-01T00:00:00\"}, {\"ANO\": 2021, \"MES\": 3, \"EMPRESA\": \"TAM\", \"tarifa_real\": 370.31583724329124, \"DATA\": \"2021-03-01T00:00:00\"}, {\"ANO\": 2015, \"MES\": 10, \"EMPRESA\": \"AZU\", \"tarifa_real\": 618.7115981587853, \"DATA\": \"2015-10-01T00:00:00\"}, {\"ANO\": 2013, \"MES\": 10, \"EMPRESA\": \"AZU\", \"tarifa_real\": 645.2554290508557, \"DATA\": \"2013-10-01T00:00:00\"}, {\"ANO\": 2016, \"MES\": 6, \"EMPRESA\": \"GLO\", \"tarifa_real\": 386.5031664182977, \"DATA\": \"2016-06-01T00:00:00\"}, {\"ANO\": 2022, \"MES\": 2, \"EMPRESA\": \"AZU\", \"tarifa_real\": 559.1688222156747, \"DATA\": \"2022-02-01T00:00:00\"}, {\"ANO\": 2019, \"MES\": 4, \"EMPRESA\": \"GLO\", \"tarifa_real\": 534.7268646090386, \"DATA\": \"2019-04-01T00:00:00\"}, {\"ANO\": 2019, \"MES\": 5, \"EMPRESA\": \"TAM\", \"tarifa_real\": 544.5118682724459, \"DATA\": \"2019-05-01T00:00:00\"}, {\"ANO\": 2017, \"MES\": 10, \"EMPRESA\": \"GLO\", \"tarifa_real\": 489.0251967335461, \"DATA\": \"2017-10-01T00:00:00\"}, {\"ANO\": 2015, \"MES\": 6, \"EMPRESA\": \"TAM\", \"tarifa_real\": 497.25706213935337, \"DATA\": \"2015-06-01T00:00:00\"}, {\"ANO\": 2019, \"MES\": 7, \"EMPRESA\": \"AZU\", \"tarifa_real\": 585.3199283842781, \"DATA\": \"2019-07-01T00:00:00\"}, {\"ANO\": 2014, \"MES\": 3, \"EMPRESA\": \"TAM\", \"tarifa_real\": 579.4001047748901, \"DATA\": \"2014-03-01T00:00:00\"}, {\"ANO\": 2014, \"MES\": 9, \"EMPRESA\": \"TAM\", \"tarifa_real\": 507.26597240649266, \"DATA\": \"2014-09-01T00:00:00\"}, {\"ANO\": 2020, \"MES\": 7, \"EMPRESA\": \"GLO\", \"tarifa_real\": 307.8722525703868, \"DATA\": \"2020-07-01T00:00:00\"}, {\"ANO\": 2018, \"MES\": 3, \"EMPRESA\": \"TAM\", \"tarifa_real\": 394.79008554085163, \"DATA\": \"2018-03-01T00:00:00\"}, {\"ANO\": 2022, \"MES\": 3, \"EMPRESA\": \"AZU\", \"tarifa_real\": 739.771583704075, \"DATA\": \"2022-03-01T00:00:00\"}, {\"ANO\": 2016, \"MES\": 4, \"EMPRESA\": \"AZU\", \"tarifa_real\": 548.0772083541899, \"DATA\": \"2016-04-01T00:00:00\"}, {\"ANO\": 2021, \"MES\": 7, \"EMPRESA\": \"AZU\", \"tarifa_real\": 605.8432472050281, \"DATA\": \"2021-07-01T00:00:00\"}, {\"ANO\": 2022, \"MES\": 9, \"EMPRESA\": \"GLO\", \"tarifa_real\": 648.2880564586599, \"DATA\": \"2022-09-01T00:00:00\"}, {\"ANO\": 2016, \"MES\": 9, \"EMPRESA\": \"GLO\", \"tarifa_real\": 487.2343262047051, \"DATA\": \"2016-09-01T00:00:00\"}, {\"ANO\": 2019, \"MES\": 11, \"EMPRESA\": \"AZU\", \"tarifa_real\": 555.217581396584, \"DATA\": \"2019-11-01T00:00:00\"}, {\"ANO\": 2016, \"MES\": 3, \"EMPRESA\": \"GLO\", \"tarifa_real\": 404.10127509926633, \"DATA\": \"2016-03-01T00:00:00\"}, {\"ANO\": 2019, \"MES\": 12, \"EMPRESA\": \"AZU\", \"tarifa_real\": 593.1904947696029, \"DATA\": \"2019-12-01T00:00:00\"}, {\"ANO\": 2022, \"MES\": 12, \"EMPRESA\": \"GLO\", \"tarifa_real\": 542.9596626991604, \"DATA\": \"2022-12-01T00:00:00\"}, {\"ANO\": 2018, \"MES\": 7, \"EMPRESA\": \"GLO\", \"tarifa_real\": 423.6767668265733, \"DATA\": \"2018-07-01T00:00:00\"}, {\"ANO\": 2017, \"MES\": 6, \"EMPRESA\": \"TAM\", \"tarifa_real\": 375.5467884967864, \"DATA\": \"2017-06-01T00:00:00\"}, {\"ANO\": 2013, \"MES\": 1, \"EMPRESA\": \"TAM\", \"tarifa_real\": 588.0166626923569, \"DATA\": \"2013-01-01T00:00:00\"}, {\"ANO\": 2020, \"MES\": 11, \"EMPRESA\": \"AZU\", \"tarifa_real\": 506.9797148377717, \"DATA\": \"2020-11-01T00:00:00\"}, {\"ANO\": 2021, \"MES\": 3, \"EMPRESA\": \"AZU\", \"tarifa_real\": 453.19374583874793, \"DATA\": \"2021-03-01T00:00:00\"}, {\"ANO\": 2019, \"MES\": 3, \"EMPRESA\": \"GLO\", \"tarifa_real\": 420.89937799421085, \"DATA\": \"2019-03-01T00:00:00\"}, {\"ANO\": 2013, \"MES\": 9, \"EMPRESA\": \"GLO\", \"tarifa_real\": 510.733583580154, \"DATA\": \"2013-09-01T00:00:00\"}, {\"ANO\": 2019, \"MES\": 6, \"EMPRESA\": \"TAM\", \"tarifa_real\": 499.3112365950105, \"DATA\": \"2019-06-01T00:00:00\"}, {\"ANO\": 2014, \"MES\": 4, \"EMPRESA\": \"AZU\", \"tarifa_real\": 624.6898635209474, \"DATA\": \"2014-04-01T00:00:00\"}, {\"ANO\": 2013, \"MES\": 8, \"EMPRESA\": \"AZU\", \"tarifa_real\": 631.5168199207639, \"DATA\": \"2013-08-01T00:00:00\"}, {\"ANO\": 2020, \"MES\": 1, \"EMPRESA\": \"AZU\", \"tarifa_real\": 547.0935413978162, \"DATA\": \"2020-01-01T00:00:00\"}, {\"ANO\": 2019, \"MES\": 6, \"EMPRESA\": \"AZU\", \"tarifa_real\": 555.1946870174119, \"DATA\": \"2019-06-01T00:00:00\"}, {\"ANO\": 2022, \"MES\": 11, \"EMPRESA\": \"GLO\", \"tarifa_real\": 560.6215092876383, \"DATA\": \"2022-11-01T00:00:00\"}, {\"ANO\": 2014, \"MES\": 4, \"EMPRESA\": \"GLO\", \"tarifa_real\": 466.0809790885055, \"DATA\": \"2014-04-01T00:00:00\"}, {\"ANO\": 2013, \"MES\": 7, \"EMPRESA\": \"GLO\", \"tarifa_real\": 547.7822107126457, \"DATA\": \"2013-07-01T00:00:00\"}, {\"ANO\": 2020, \"MES\": 7, \"EMPRESA\": \"TAM\", \"tarifa_real\": 283.4609834053537, \"DATA\": \"2020-07-01T00:00:00\"}, {\"ANO\": 2021, \"MES\": 10, \"EMPRESA\": \"AZU\", \"tarifa_real\": 653.4889515126692, \"DATA\": \"2021-10-01T00:00:00\"}, {\"ANO\": 2019, \"MES\": 3, \"EMPRESA\": \"TAM\", \"tarifa_real\": 382.6704620685353, \"DATA\": \"2019-03-01T00:00:00\"}, {\"ANO\": 2013, \"MES\": 3, \"EMPRESA\": \"TAM\", \"tarifa_real\": 635.7837528421021, \"DATA\": \"2013-03-01T00:00:00\"}, {\"ANO\": 2018, \"MES\": 4, \"EMPRESA\": \"TAM\", \"tarifa_real\": 362.2461310451094, \"DATA\": \"2018-04-01T00:00:00\"}, {\"ANO\": 2021, \"MES\": 1, \"EMPRESA\": \"TAM\", \"tarifa_real\": 386.2335541099752, \"DATA\": \"2021-01-01T00:00:00\"}, {\"ANO\": 2015, \"MES\": 9, \"EMPRESA\": \"AZU\", \"tarifa_real\": 608.6215782353167, \"DATA\": \"2015-09-01T00:00:00\"}, {\"ANO\": 2016, \"MES\": 10, \"EMPRESA\": \"GLO\", \"tarifa_real\": 530.9906159024213, \"DATA\": \"2016-10-01T00:00:00\"}, {\"ANO\": 2018, \"MES\": 7, \"EMPRESA\": \"TAM\", \"tarifa_real\": 387.94489869426314, \"DATA\": \"2018-07-01T00:00:00\"}, {\"ANO\": 2021, \"MES\": 4, \"EMPRESA\": \"TAM\", \"tarifa_real\": 332.42837736616895, \"DATA\": \"2021-04-01T00:00:00\"}, {\"ANO\": 2017, \"MES\": 2, \"EMPRESA\": \"TAM\", \"tarifa_real\": 364.6137423808181, \"DATA\": \"2017-02-01T00:00:00\"}, {\"ANO\": 2015, \"MES\": 11, \"EMPRESA\": \"GLO\", \"tarifa_real\": 475.497868002223, \"DATA\": \"2015-11-01T00:00:00\"}, {\"ANO\": 2021, \"MES\": 3, \"EMPRESA\": \"GLO\", \"tarifa_real\": 351.6929097704036, \"DATA\": \"2021-03-01T00:00:00\"}, {\"ANO\": 2019, \"MES\": 5, \"EMPRESA\": \"GLO\", \"tarifa_real\": 543.6965910085569, \"DATA\": \"2019-05-01T00:00:00\"}, {\"ANO\": 2022, \"MES\": 6, \"EMPRESA\": \"GLO\", \"tarifa_real\": 599.6723002002065, \"DATA\": \"2022-06-01T00:00:00\"}, {\"ANO\": 2018, \"MES\": 10, \"EMPRESA\": \"GLO\", \"tarifa_real\": 505.63461846553025, \"DATA\": \"2018-10-01T00:00:00\"}, {\"ANO\": 2022, \"MES\": 12, \"EMPRESA\": \"TAM\", \"tarifa_real\": 653.7313326493884, \"DATA\": \"2022-12-01T00:00:00\"}, {\"ANO\": 2020, \"MES\": 11, \"EMPRESA\": \"TAM\", \"tarifa_real\": 468.8739891264616, \"DATA\": \"2020-11-01T00:00:00\"}, {\"ANO\": 2014, \"MES\": 8, \"EMPRESA\": \"TAM\", \"tarifa_real\": 583.9055830107333, \"DATA\": \"2014-08-01T00:00:00\"}, {\"ANO\": 2014, \"MES\": 9, \"EMPRESA\": \"AZU\", \"tarifa_real\": 566.5404891184946, \"DATA\": \"2014-09-01T00:00:00\"}, {\"ANO\": 2018, \"MES\": 1, \"EMPRESA\": \"TAM\", \"tarifa_real\": 400.4682046158734, \"DATA\": \"2018-01-01T00:00:00\"}, {\"ANO\": 2015, \"MES\": 11, \"EMPRESA\": \"AZU\", \"tarifa_real\": 576.7218670649102, \"DATA\": \"2015-11-01T00:00:00\"}, {\"ANO\": 2016, \"MES\": 6, \"EMPRESA\": \"AZU\", \"tarifa_real\": 577.6295486270988, \"DATA\": \"2016-06-01T00:00:00\"}, {\"ANO\": 2013, \"MES\": 9, \"EMPRESA\": \"AZU\", \"tarifa_real\": 618.6138577850348, \"DATA\": \"2013-09-01T00:00:00\"}, {\"ANO\": 2017, \"MES\": 8, \"EMPRESA\": \"AZU\", \"tarifa_real\": 553.0701665463375, \"DATA\": \"2017-08-01T00:00:00\"}, {\"ANO\": 2017, \"MES\": 7, \"EMPRESA\": \"AZU\", \"tarifa_real\": 550.9060842949021, \"DATA\": \"2017-07-01T00:00:00\"}, {\"ANO\": 2013, \"MES\": 7, \"EMPRESA\": \"TAM\", \"tarifa_real\": 612.6658327930694, \"DATA\": \"2013-07-01T00:00:00\"}, {\"ANO\": 2021, \"MES\": 12, \"EMPRESA\": \"GLO\", \"tarifa_real\": 524.8642200947239, \"DATA\": \"2021-12-01T00:00:00\"}, {\"ANO\": 2019, \"MES\": 8, \"EMPRESA\": \"GLO\", \"tarifa_real\": 493.334172631573, \"DATA\": \"2019-08-01T00:00:00\"}, {\"ANO\": 2022, \"MES\": 10, \"EMPRESA\": \"TAM\", \"tarifa_real\": 577.4217949874688, \"DATA\": \"2022-10-01T00:00:00\"}, {\"ANO\": 2018, \"MES\": 12, \"EMPRESA\": \"GLO\", \"tarifa_real\": 519.0950485218099, \"DATA\": \"2018-12-01T00:00:00\"}, {\"ANO\": 2020, \"MES\": 1, \"EMPRESA\": \"GLO\", \"tarifa_real\": 382.4890012973897, \"DATA\": \"2020-01-01T00:00:00\"}, {\"ANO\": 2022, \"MES\": 7, \"EMPRESA\": \"AZU\", \"tarifa_real\": 702.0962166664351, \"DATA\": \"2022-07-01T00:00:00\"}, {\"ANO\": 2022, \"MES\": 5, \"EMPRESA\": \"TAM\", \"tarifa_real\": 629.4850441072407, \"DATA\": \"2022-05-01T00:00:00\"}, {\"ANO\": 2014, \"MES\": 1, \"EMPRESA\": \"TAM\", \"tarifa_real\": 561.6695343402588, \"DATA\": \"2014-01-01T00:00:00\"}, {\"ANO\": 2018, \"MES\": 3, \"EMPRESA\": \"AZU\", \"tarifa_real\": 554.3442764222267, \"DATA\": \"2018-03-01T00:00:00\"}, {\"ANO\": 2013, \"MES\": 12, \"EMPRESA\": \"AZU\", \"tarifa_real\": 591.5173987528423, \"DATA\": \"2013-12-01T00:00:00\"}, {\"ANO\": 2014, \"MES\": 6, \"EMPRESA\": \"GLO\", \"tarifa_real\": 433.3113191840715, \"DATA\": \"2014-06-01T00:00:00\"}, {\"ANO\": 2013, \"MES\": 5, \"EMPRESA\": \"AZU\", \"tarifa_real\": 560.1293805488316, \"DATA\": \"2013-05-01T00:00:00\"}, {\"ANO\": 2017, \"MES\": 2, \"EMPRESA\": \"GLO\", \"tarifa_real\": 441.9985702472916, \"DATA\": \"2017-02-01T00:00:00\"}, {\"ANO\": 2021, \"MES\": 9, \"EMPRESA\": \"GLO\", \"tarifa_real\": 602.5200274775063, \"DATA\": \"2021-09-01T00:00:00\"}, {\"ANO\": 2022, \"MES\": 3, \"EMPRESA\": \"GLO\", \"tarifa_real\": 763.5745921165034, \"DATA\": \"2022-03-01T00:00:00\"}, {\"ANO\": 2015, \"MES\": 12, \"EMPRESA\": \"TAM\", \"tarifa_real\": 518.7722059673819, \"DATA\": \"2015-12-01T00:00:00\"}, {\"ANO\": 2021, \"MES\": 2, \"EMPRESA\": \"TAM\", \"tarifa_real\": 435.7857112005101, \"DATA\": \"2021-02-01T00:00:00\"}, {\"ANO\": 2013, \"MES\": 2, \"EMPRESA\": \"TAM\", \"tarifa_real\": 569.8992673077234, \"DATA\": \"2013-02-01T00:00:00\"}, {\"ANO\": 2020, \"MES\": 4, \"EMPRESA\": \"TAM\", \"tarifa_real\": 305.8052262234063, \"DATA\": \"2020-04-01T00:00:00\"}, {\"ANO\": 2022, \"MES\": 4, \"EMPRESA\": \"GLO\", \"tarifa_real\": 700.2047494692166, \"DATA\": \"2022-04-01T00:00:00\"}, {\"ANO\": 2016, \"MES\": 3, \"EMPRESA\": \"AZU\", \"tarifa_real\": 548.980007690963, \"DATA\": \"2016-03-01T00:00:00\"}, {\"ANO\": 2013, \"MES\": 12, \"EMPRESA\": \"GLO\", \"tarifa_real\": 590.2572564933232, \"DATA\": \"2013-12-01T00:00:00\"}, {\"ANO\": 2015, \"MES\": 2, \"EMPRESA\": \"AZU\", \"tarifa_real\": 505.3640787609858, \"DATA\": \"2015-02-01T00:00:00\"}, {\"ANO\": 2014, \"MES\": 5, \"EMPRESA\": \"AZU\", \"tarifa_real\": 557.100923282671, \"DATA\": \"2014-05-01T00:00:00\"}, {\"ANO\": 2015, \"MES\": 3, \"EMPRESA\": \"GLO\", \"tarifa_real\": 347.74449242999134, \"DATA\": \"2015-03-01T00:00:00\"}, {\"ANO\": 2021, \"MES\": 9, \"EMPRESA\": \"TAM\", \"tarifa_real\": 550.8852934015712, \"DATA\": \"2021-09-01T00:00:00\"}, {\"ANO\": 2016, \"MES\": 5, \"EMPRESA\": \"TAM\", \"tarifa_real\": 399.8777125263536, \"DATA\": \"2016-05-01T00:00:00\"}, {\"ANO\": 2015, \"MES\": 11, \"EMPRESA\": \"TAM\", \"tarifa_real\": 500.35026822443314, \"DATA\": \"2015-11-01T00:00:00\"}, {\"ANO\": 2016, \"MES\": 1, \"EMPRESA\": \"GLO\", \"tarifa_real\": 438.72023070110185, \"DATA\": \"2016-01-01T00:00:00\"}, {\"ANO\": 2020, \"MES\": 8, \"EMPRESA\": \"GLO\", \"tarifa_real\": 378.16902008197127, \"DATA\": \"2020-08-01T00:00:00\"}, {\"ANO\": 2020, \"MES\": 3, \"EMPRESA\": \"GLO\", \"tarifa_real\": 416.00251722341613, \"DATA\": \"2020-03-01T00:00:00\"}, {\"ANO\": 2020, \"MES\": 9, \"EMPRESA\": \"TAM\", \"tarifa_real\": 445.9282117105507, \"DATA\": \"2020-09-01T00:00:00\"}, {\"ANO\": 2016, \"MES\": 6, \"EMPRESA\": \"TAM\", \"tarifa_real\": 431.4707666415049, \"DATA\": \"2016-06-01T00:00:00\"}, {\"ANO\": 2018, \"MES\": 1, \"EMPRESA\": \"AZU\", \"tarifa_real\": 591.2918246763206, \"DATA\": \"2018-01-01T00:00:00\"}, {\"ANO\": 2013, \"MES\": 6, \"EMPRESA\": \"TAM\", \"tarifa_real\": 555.9370953000118, \"DATA\": \"2013-06-01T00:00:00\"}, {\"ANO\": 2016, \"MES\": 11, \"EMPRESA\": \"GLO\", \"tarifa_real\": 536.9602971204378, \"DATA\": \"2016-11-01T00:00:00\"}, {\"ANO\": 2020, \"MES\": 8, \"EMPRESA\": \"TAM\", \"tarifa_real\": 328.4706194949693, \"DATA\": \"2020-08-01T00:00:00\"}, {\"ANO\": 2018, \"MES\": 5, \"EMPRESA\": \"AZU\", \"tarifa_real\": 537.3972031746343, \"DATA\": \"2018-05-01T00:00:00\"}, {\"ANO\": 2014, \"MES\": 11, \"EMPRESA\": \"GLO\", \"tarifa_real\": 498.4227607970039, \"DATA\": \"2014-11-01T00:00:00\"}, {\"ANO\": 2017, \"MES\": 4, \"EMPRESA\": \"GLO\", \"tarifa_real\": 422.00229117205686, \"DATA\": \"2017-04-01T00:00:00\"}, {\"ANO\": 2020, \"MES\": 12, \"EMPRESA\": \"AZU\", \"tarifa_real\": 541.2091085772913, \"DATA\": \"2020-12-01T00:00:00\"}, {\"ANO\": 2020, \"MES\": 4, \"EMPRESA\": \"AZU\", \"tarifa_real\": 464.65511821488155, \"DATA\": \"2020-04-01T00:00:00\"}, {\"ANO\": 2016, \"MES\": 7, \"EMPRESA\": \"GLO\", \"tarifa_real\": 400.17996039612, \"DATA\": \"2016-07-01T00:00:00\"}, {\"ANO\": 2020, \"MES\": 6, \"EMPRESA\": \"TAM\", \"tarifa_real\": 316.41583118587533, \"DATA\": \"2020-06-01T00:00:00\"}, {\"ANO\": 2015, \"MES\": 10, \"EMPRESA\": \"GLO\", \"tarifa_real\": 481.0349367087129, \"DATA\": \"2015-10-01T00:00:00\"}, {\"ANO\": 2014, \"MES\": 1, \"EMPRESA\": \"GLO\", \"tarifa_real\": 518.1568498839741, \"DATA\": \"2014-01-01T00:00:00\"}, {\"ANO\": 2013, \"MES\": 10, \"EMPRESA\": \"GLO\", \"tarifa_real\": 565.6029126728282, \"DATA\": \"2013-10-01T00:00:00\"}, {\"ANO\": 2014, \"MES\": 10, \"EMPRESA\": \"AZU\", \"tarifa_real\": 585.7386070566483, \"DATA\": \"2014-10-01T00:00:00\"}, {\"ANO\": 2022, \"MES\": 9, \"EMPRESA\": \"TAM\", \"tarifa_real\": 671.7405582581121, \"DATA\": \"2022-09-01T00:00:00\"}, {\"ANO\": 2013, \"MES\": 1, \"EMPRESA\": \"AZU\", \"tarifa_real\": 643.3809585405884, \"DATA\": \"2013-01-01T00:00:00\"}, {\"ANO\": 2014, \"MES\": 9, \"EMPRESA\": \"GLO\", \"tarifa_real\": 466.1090750932565, \"DATA\": \"2014-09-01T00:00:00\"}, {\"ANO\": 2020, \"MES\": 2, \"EMPRESA\": \"AZU\", \"tarifa_real\": 537.9317558636453, \"DATA\": \"2020-02-01T00:00:00\"}, {\"ANO\": 2013, \"MES\": 11, \"EMPRESA\": \"GLO\", \"tarifa_real\": 486.6804452136434, \"DATA\": \"2013-11-01T00:00:00\"}, {\"ANO\": 2020, \"MES\": 2, \"EMPRESA\": \"GLO\", \"tarifa_real\": 423.3324326553698, \"DATA\": \"2020-02-01T00:00:00\"}, {\"ANO\": 2015, \"MES\": 4, \"EMPRESA\": \"TAM\", \"tarifa_real\": 401.23342841201975, \"DATA\": \"2015-04-01T00:00:00\"}, {\"ANO\": 2014, \"MES\": 2, \"EMPRESA\": \"TAM\", \"tarifa_real\": 608.6118288638231, \"DATA\": \"2014-02-01T00:00:00\"}, {\"ANO\": 2017, \"MES\": 12, \"EMPRESA\": \"GLO\", \"tarifa_real\": 544.1612810950505, \"DATA\": \"2017-12-01T00:00:00\"}, {\"ANO\": 2020, \"MES\": 4, \"EMPRESA\": \"GLO\", \"tarifa_real\": 341.36249513705303, \"DATA\": \"2020-04-01T00:00:00\"}, {\"ANO\": 2019, \"MES\": 9, \"EMPRESA\": \"GLO\", \"tarifa_real\": 485.4976845028575, \"DATA\": \"2019-09-01T00:00:00\"}, {\"ANO\": 2020, \"MES\": 12, \"EMPRESA\": \"TAM\", \"tarifa_real\": 510.5312974546559, \"DATA\": \"2020-12-01T00:00:00\"}, {\"ANO\": 2021, \"MES\": 5, \"EMPRESA\": \"AZU\", \"tarifa_real\": 568.5658046598527, \"DATA\": \"2021-05-01T00:00:00\"}, {\"ANO\": 2018, \"MES\": 6, \"EMPRESA\": \"GLO\", \"tarifa_real\": 360.6176218039012, \"DATA\": \"2018-06-01T00:00:00\"}, {\"ANO\": 2018, \"MES\": 2, \"EMPRESA\": \"TAM\", \"tarifa_real\": 404.5585774324317, \"DATA\": \"2018-02-01T00:00:00\"}, {\"ANO\": 2015, \"MES\": 9, \"EMPRESA\": \"GLO\", \"tarifa_real\": 476.20601929023604, \"DATA\": \"2015-09-01T00:00:00\"}, {\"ANO\": 2018, \"MES\": 8, \"EMPRESA\": \"GLO\", \"tarifa_real\": 480.74396865623163, \"DATA\": \"2018-08-01T00:00:00\"}, {\"ANO\": 2018, \"MES\": 3, \"EMPRESA\": \"GLO\", \"tarifa_real\": 438.04059093789283, \"DATA\": \"2018-03-01T00:00:00\"}, {\"ANO\": 2013, \"MES\": 6, \"EMPRESA\": \"GLO\", \"tarifa_real\": 498.9072489687395, \"DATA\": \"2013-06-01T00:00:00\"}, {\"ANO\": 2015, \"MES\": 7, \"EMPRESA\": \"GLO\", \"tarifa_real\": 427.7485568004174, \"DATA\": \"2015-07-01T00:00:00\"}, {\"ANO\": 2019, \"MES\": 9, \"EMPRESA\": \"TAM\", \"tarifa_real\": 471.7516543767572, \"DATA\": \"2019-09-01T00:00:00\"}, {\"ANO\": 2021, \"MES\": 8, \"EMPRESA\": \"AZU\", \"tarifa_real\": 701.1391963837901, \"DATA\": \"2021-08-01T00:00:00\"}, {\"ANO\": 2021, \"MES\": 5, \"EMPRESA\": \"TAM\", \"tarifa_real\": 408.6962665061421, \"DATA\": \"2021-05-01T00:00:00\"}, {\"ANO\": 2019, \"MES\": 7, \"EMPRESA\": \"TAM\", \"tarifa_real\": 496.3474591581298, \"DATA\": \"2019-07-01T00:00:00\"}, {\"ANO\": 2022, \"MES\": 3, \"EMPRESA\": \"TAM\", \"tarifa_real\": 573.261009110134, \"DATA\": \"2022-03-01T00:00:00\"}, {\"ANO\": 2016, \"MES\": 5, \"EMPRESA\": \"GLO\", \"tarifa_real\": 367.26114626866166, \"DATA\": \"2016-05-01T00:00:00\"}, {\"ANO\": 2013, \"MES\": 11, \"EMPRESA\": \"AZU\", \"tarifa_real\": 586.16345320093, \"DATA\": \"2013-11-01T00:00:00\"}, {\"ANO\": 2017, \"MES\": 5, \"EMPRESA\": \"AZU\", \"tarifa_real\": 484.96006669113586, \"DATA\": \"2017-05-01T00:00:00\"}, {\"ANO\": 2015, \"MES\": 5, \"EMPRESA\": \"TAM\", \"tarifa_real\": 452.6587549068647, \"DATA\": \"2015-05-01T00:00:00\"}, {\"ANO\": 2018, \"MES\": 8, \"EMPRESA\": \"AZU\", \"tarifa_real\": 616.4865392249022, \"DATA\": \"2018-08-01T00:00:00\"}, {\"ANO\": 2020, \"MES\": 10, \"EMPRESA\": \"TAM\", \"tarifa_real\": 473.2893706384193, \"DATA\": \"2020-10-01T00:00:00\"}, {\"ANO\": 2016, \"MES\": 2, \"EMPRESA\": \"GLO\", \"tarifa_real\": 452.9194624806573, \"DATA\": \"2016-02-01T00:00:00\"}, {\"ANO\": 2017, \"MES\": 6, \"EMPRESA\": \"GLO\", \"tarifa_real\": 424.8500683935171, \"DATA\": \"2017-06-01T00:00:00\"}, {\"ANO\": 2014, \"MES\": 12, \"EMPRESA\": \"AZU\", \"tarifa_real\": 567.3861754646002, \"DATA\": \"2014-12-01T00:00:00\"}, {\"ANO\": 2020, \"MES\": 3, \"EMPRESA\": \"AZU\", \"tarifa_real\": 463.7023660513519, \"DATA\": \"2020-03-01T00:00:00\"}, {\"ANO\": 2018, \"MES\": 2, \"EMPRESA\": \"AZU\", \"tarifa_real\": 553.1228054251011, \"DATA\": \"2018-02-01T00:00:00\"}, {\"ANO\": 2014, \"MES\": 10, \"EMPRESA\": \"TAM\", \"tarifa_real\": 558.1566586681657, \"DATA\": \"2014-10-01T00:00:00\"}, {\"ANO\": 2021, \"MES\": 9, \"EMPRESA\": \"AZU\", \"tarifa_real\": 660.6463468049087, \"DATA\": \"2021-09-01T00:00:00\"}, {\"ANO\": 2017, \"MES\": 7, \"EMPRESA\": \"GLO\", \"tarifa_real\": 449.3436833807031, \"DATA\": \"2017-07-01T00:00:00\"}, {\"ANO\": 2022, \"MES\": 7, \"EMPRESA\": \"GLO\", \"tarifa_real\": 583.445299502796, \"DATA\": \"2022-07-01T00:00:00\"}, {\"ANO\": 2014, \"MES\": 3, \"EMPRESA\": \"AZU\", \"tarifa_real\": 601.488309314526, \"DATA\": \"2014-03-01T00:00:00\"}, {\"ANO\": 2018, \"MES\": 9, \"EMPRESA\": \"GLO\", \"tarifa_real\": 451.3100291797955, \"DATA\": \"2018-09-01T00:00:00\"}, {\"ANO\": 2016, \"MES\": 7, \"EMPRESA\": \"AZU\", \"tarifa_real\": 565.6690058583256, \"DATA\": \"2016-07-01T00:00:00\"}, {\"ANO\": 2019, \"MES\": 7, \"EMPRESA\": \"GLO\", \"tarifa_real\": 505.20874550483416, \"DATA\": \"2019-07-01T00:00:00\"}, {\"ANO\": 2018, \"MES\": 11, \"EMPRESA\": \"TAM\", \"tarifa_real\": 469.06853520698263, \"DATA\": \"2018-11-01T00:00:00\"}, {\"ANO\": 2017, \"MES\": 6, \"EMPRESA\": \"AZU\", \"tarifa_real\": 521.0110407950416, \"DATA\": \"2017-06-01T00:00:00\"}, {\"ANO\": 2016, \"MES\": 8, \"EMPRESA\": \"AZU\", \"tarifa_real\": 563.282032374749, \"DATA\": \"2016-08-01T00:00:00\"}, {\"ANO\": 2017, \"MES\": 1, \"EMPRESA\": \"AZU\", \"tarifa_real\": 517.4775782606745, \"DATA\": \"2017-01-01T00:00:00\"}, {\"ANO\": 2020, \"MES\": 9, \"EMPRESA\": \"AZU\", \"tarifa_real\": 531.6573316888303, \"DATA\": \"2020-09-01T00:00:00\"}, {\"ANO\": 2017, \"MES\": 5, \"EMPRESA\": \"TAM\", \"tarifa_real\": 371.8577390517119, \"DATA\": \"2017-05-01T00:00:00\"}, {\"ANO\": 2016, \"MES\": 4, \"EMPRESA\": \"GLO\", \"tarifa_real\": 378.8843770351044, \"DATA\": \"2016-04-01T00:00:00\"}, {\"ANO\": 2015, \"MES\": 1, \"EMPRESA\": \"TAM\", \"tarifa_real\": 478.88920647712314, \"DATA\": \"2015-01-01T00:00:00\"}, {\"ANO\": 2016, \"MES\": 1, \"EMPRESA\": \"AZU\", \"tarifa_real\": 562.8255625059819, \"DATA\": \"2016-01-01T00:00:00\"}, {\"ANO\": 2013, \"MES\": 4, \"EMPRESA\": \"AZU\", \"tarifa_real\": 557.8220003904358, \"DATA\": \"2013-04-01T00:00:00\"}, {\"ANO\": 2018, \"MES\": 2, \"EMPRESA\": \"GLO\", \"tarifa_real\": 447.407954996254, \"DATA\": \"2018-02-01T00:00:00\"}, {\"ANO\": 2017, \"MES\": 4, \"EMPRESA\": \"AZU\", \"tarifa_real\": 499.09620820545604, \"DATA\": \"2017-04-01T00:00:00\"}, {\"ANO\": 2016, \"MES\": 3, \"EMPRESA\": \"TAM\", \"tarifa_real\": 428.90638893247285, \"DATA\": \"2016-03-01T00:00:00\"}, {\"ANO\": 2020, \"MES\": 7, \"EMPRESA\": \"AZU\", \"tarifa_real\": 380.6555859507971, \"DATA\": \"2020-07-01T00:00:00\"}, {\"ANO\": 2013, \"MES\": 10, \"EMPRESA\": \"TAM\", \"tarifa_real\": 635.0039321437127, \"DATA\": \"2013-10-01T00:00:00\"}, {\"ANO\": 2022, \"MES\": 8, \"EMPRESA\": \"GLO\", \"tarifa_real\": 648.4572207273344, \"DATA\": \"2022-08-01T00:00:00\"}, {\"ANO\": 2014, \"MES\": 12, \"EMPRESA\": \"GLO\", \"tarifa_real\": 483.0820484053828, \"DATA\": \"2014-12-01T00:00:00\"}, {\"ANO\": 2018, \"MES\": 9, \"EMPRESA\": \"AZU\", \"tarifa_real\": 588.7885537615113, \"DATA\": \"2018-09-01T00:00:00\"}, {\"ANO\": 2014, \"MES\": 10, \"EMPRESA\": \"GLO\", \"tarifa_real\": 480.7013135698522, \"DATA\": \"2014-10-01T00:00:00\"}, {\"ANO\": 2021, \"MES\": 7, \"EMPRESA\": \"TAM\", \"tarifa_real\": 468.7854992352284, \"DATA\": \"2021-07-01T00:00:00\"}, {\"ANO\": 2021, \"MES\": 5, \"EMPRESA\": \"GLO\", \"tarifa_real\": 405.75418124768413, \"DATA\": \"2021-05-01T00:00:00\"}, {\"ANO\": 2021, \"MES\": 6, \"EMPRESA\": \"AZU\", \"tarifa_real\": 550.6945776726631, \"DATA\": \"2021-06-01T00:00:00\"}, {\"ANO\": 2013, \"MES\": 3, \"EMPRESA\": \"GLO\", \"tarifa_real\": 505.64741870112397, \"DATA\": \"2013-03-01T00:00:00\"}, {\"ANO\": 2019, \"MES\": 6, \"EMPRESA\": \"GLO\", \"tarifa_real\": 509.70349264787086, \"DATA\": \"2019-06-01T00:00:00\"}, {\"ANO\": 2013, \"MES\": 12, \"EMPRESA\": \"TAM\", \"tarifa_real\": 629.3435709308785, \"DATA\": \"2013-12-01T00:00:00\"}, {\"ANO\": 2017, \"MES\": 11, \"EMPRESA\": \"GLO\", \"tarifa_real\": 494.027371316849, \"DATA\": \"2017-11-01T00:00:00\"}, {\"ANO\": 2017, \"MES\": 8, \"EMPRESA\": \"TAM\", \"tarifa_real\": 447.11754150557476, \"DATA\": \"2017-08-01T00:00:00\"}, {\"ANO\": 2016, \"MES\": 12, \"EMPRESA\": \"AZU\", \"tarifa_real\": 520.8897311994681, \"DATA\": \"2016-12-01T00:00:00\"}, {\"ANO\": 2021, \"MES\": 8, \"EMPRESA\": \"TAM\", \"tarifa_real\": 547.3377580609795, \"DATA\": \"2021-08-01T00:00:00\"}, {\"ANO\": 2015, \"MES\": 1, \"EMPRESA\": \"GLO\", \"tarifa_real\": 425.7978819890215, \"DATA\": \"2015-01-01T00:00:00\"}, {\"ANO\": 2016, \"MES\": 10, \"EMPRESA\": \"AZU\", \"tarifa_real\": 580.5704761617446, \"DATA\": \"2016-10-01T00:00:00\"}, {\"ANO\": 2013, \"MES\": 8, \"EMPRESA\": \"GLO\", \"tarifa_real\": 517.2854794213722, \"DATA\": \"2013-08-01T00:00:00\"}, {\"ANO\": 2013, \"MES\": 5, \"EMPRESA\": \"GLO\", \"tarifa_real\": 497.44391173289887, \"DATA\": \"2013-05-01T00:00:00\"}, {\"ANO\": 2020, \"MES\": 1, \"EMPRESA\": \"TAM\", \"tarifa_real\": 451.038985823881, \"DATA\": \"2020-01-01T00:00:00\"}, {\"ANO\": 2015, \"MES\": 6, \"EMPRESA\": \"GLO\", \"tarifa_real\": 408.9219663293171, \"DATA\": \"2015-06-01T00:00:00\"}, {\"ANO\": 2014, \"MES\": 8, \"EMPRESA\": \"AZU\", \"tarifa_real\": 591.1648538559457, \"DATA\": \"2014-08-01T00:00:00\"}, {\"ANO\": 2014, \"MES\": 5, \"EMPRESA\": \"TAM\", \"tarifa_real\": 514.4857402690336, \"DATA\": \"2014-05-01T00:00:00\"}, {\"ANO\": 2019, \"MES\": 10, \"EMPRESA\": \"AZU\", \"tarifa_real\": 653.1273218889534, \"DATA\": \"2019-10-01T00:00:00\"}, {\"ANO\": 2019, \"MES\": 4, \"EMPRESA\": \"AZU\", \"tarifa_real\": 643.632143437845, \"DATA\": \"2019-04-01T00:00:00\"}, {\"ANO\": 2022, \"MES\": 10, \"EMPRESA\": \"GLO\", \"tarifa_real\": 623.4383637759236, \"DATA\": \"2022-10-01T00:00:00\"}, {\"ANO\": 2022, \"MES\": 5, \"EMPRESA\": \"AZU\", \"tarifa_real\": 788.8619646659852, \"DATA\": \"2022-05-01T00:00:00\"}, {\"ANO\": 2021, \"MES\": 2, \"EMPRESA\": \"AZU\", \"tarifa_real\": 523.8076286586686, \"DATA\": \"2021-02-01T00:00:00\"}, {\"ANO\": 2014, \"MES\": 3, \"EMPRESA\": \"GLO\", \"tarifa_real\": 498.40181760150074, \"DATA\": \"2014-03-01T00:00:00\"}, {\"ANO\": 2015, \"MES\": 2, \"EMPRESA\": \"GLO\", \"tarifa_real\": 394.74311314812115, \"DATA\": \"2015-02-01T00:00:00\"}, {\"ANO\": 2022, \"MES\": 1, \"EMPRESA\": \"AZU\", \"tarifa_real\": 526.3587073228689, \"DATA\": \"2022-01-01T00:00:00\"}, {\"ANO\": 2015, \"MES\": 1, \"EMPRESA\": \"AZU\", \"tarifa_real\": 616.0190493311438, \"DATA\": \"2015-01-01T00:00:00\"}, {\"ANO\": 2019, \"MES\": 2, \"EMPRESA\": \"GLO\", \"tarifa_real\": 454.14580424344234, \"DATA\": \"2019-02-01T00:00:00\"}, {\"ANO\": 2014, \"MES\": 8, \"EMPRESA\": \"GLO\", \"tarifa_real\": 467.60141694806504, \"DATA\": \"2014-08-01T00:00:00\"}, {\"ANO\": 2017, \"MES\": 8, \"EMPRESA\": \"GLO\", \"tarifa_real\": 476.1217687422623, \"DATA\": \"2017-08-01T00:00:00\"}, {\"ANO\": 2013, \"MES\": 6, \"EMPRESA\": \"AZU\", \"tarifa_real\": 601.2431056618445, \"DATA\": \"2013-06-01T00:00:00\"}, {\"ANO\": 2019, \"MES\": 12, \"EMPRESA\": \"GLO\", \"tarifa_real\": 491.8787641650083, \"DATA\": \"2019-12-01T00:00:00\"}, {\"ANO\": 2020, \"MES\": 12, \"EMPRESA\": \"GLO\", \"tarifa_real\": 440.26430844824796, \"DATA\": \"2020-12-01T00:00:00\"}, {\"ANO\": 2020, \"MES\": 5, \"EMPRESA\": \"TAM\", \"tarifa_real\": 330.4625243835987, \"DATA\": \"2020-05-01T00:00:00\"}, {\"ANO\": 2022, \"MES\": 2, \"EMPRESA\": \"TAM\", \"tarifa_real\": 460.3959314236017, \"DATA\": \"2022-02-01T00:00:00\"}, {\"ANO\": 2013, \"MES\": 2, \"EMPRESA\": \"AZU\", \"tarifa_real\": 571.0340779655764, \"DATA\": \"2013-02-01T00:00:00\"}, {\"ANO\": 2015, \"MES\": 3, \"EMPRESA\": \"TAM\", \"tarifa_real\": 418.29154171909335, \"DATA\": \"2015-03-01T00:00:00\"}, {\"ANO\": 2022, \"MES\": 5, \"EMPRESA\": \"GLO\", \"tarifa_real\": 651.0573629881957, \"DATA\": \"2022-05-01T00:00:00\"}, {\"ANO\": 2014, \"MES\": 6, \"EMPRESA\": \"AZU\", \"tarifa_real\": 578.9201579163229, \"DATA\": \"2014-06-01T00:00:00\"}, {\"ANO\": 2019, \"MES\": 1, \"EMPRESA\": \"GLO\", \"tarifa_real\": 441.4924315226973, \"DATA\": \"2019-01-01T00:00:00\"}, {\"ANO\": 2016, \"MES\": 9, \"EMPRESA\": \"AZU\", \"tarifa_real\": 583.3865366533964, \"DATA\": \"2016-09-01T00:00:00\"}, {\"ANO\": 2013, \"MES\": 3, \"EMPRESA\": \"AZU\", \"tarifa_real\": 561.113103885676, \"DATA\": \"2013-03-01T00:00:00\"}, {\"ANO\": 2020, \"MES\": 10, \"EMPRESA\": \"GLO\", \"tarifa_real\": 505.62735737189934, \"DATA\": \"2020-10-01T00:00:00\"}, {\"ANO\": 2016, \"MES\": 1, \"EMPRESA\": \"TAM\", \"tarifa_real\": 425.01337726889955, \"DATA\": \"2016-01-01T00:00:00\"}, {\"ANO\": 2013, \"MES\": 9, \"EMPRESA\": \"TAM\", \"tarifa_real\": 581.8883696327806, \"DATA\": \"2013-09-01T00:00:00\"}, {\"ANO\": 2020, \"MES\": 5, \"EMPRESA\": \"GLO\", \"tarifa_real\": 362.31993248651406, \"DATA\": \"2020-05-01T00:00:00\"}, {\"ANO\": 2013, \"MES\": 7, \"EMPRESA\": \"AZU\", \"tarifa_real\": 653.765072629115, \"DATA\": \"2013-07-01T00:00:00\"}, {\"ANO\": 2020, \"MES\": 6, \"EMPRESA\": \"AZU\", \"tarifa_real\": 421.49166078181156, \"DATA\": \"2020-06-01T00:00:00\"}, {\"ANO\": 2019, \"MES\": 1, \"EMPRESA\": \"TAM\", \"tarifa_real\": 432.3877247087121, \"DATA\": \"2019-01-01T00:00:00\"}]}}, {\"mode\": \"vega-lite\"});\n",
       "</script>"
      ],
      "text/plain": [
       "alt.LayerChart(...)"
      ]
     },
     "execution_count": 208,
     "metadata": {},
     "output_type": "execute_result"
    }
   ],
   "source": [
    "base = alt.Chart(data_by_cia).encode(x='yearmonth(DATA):T')\n",
    "\n",
    "columns = sorted(data_by_cia.EMPRESA.unique())\n",
    "selection = alt.selection_single(\n",
    "    fields=['DATA'], nearest=True, on='mouseover', empty='none', clear='mouseout'\n",
    ")\n",
    "lines = base.mark_line().encode(y='tarifa_real:Q', color='EMPRESA:N')\n",
    "points = lines.mark_point().transform_filter(selection)\n",
    "\n",
    "rule = base.transform_pivot(\n",
    "    'EMPRESA', value='tarifa_real', groupby=['DATA']\n",
    ").mark_rule().encode(\n",
    "    opacity=alt.condition(selection, alt.value(0.3), alt.value(0)),\n",
    "    tooltip=[alt.Tooltip(c, type='quantitative') for c in columns]\n",
    ").add_selection(selection)\n",
    "\n",
    "lines + points + rule"
   ]
  },
  {
   "cell_type": "markdown",
   "id": "31dc9dc0-1525-4c8c-8408-305103eb5b3f",
   "metadata": {
    "tags": []
   },
   "source": [
    "## Tarifa por faixa de preço\n",
    "Vamos separar as tarifas por um intervalo de 100 reais. O mesmo gráfico pode ser usado nos dados locais."
   ]
  },
  {
   "cell_type": "code",
   "execution_count": 266,
   "id": "6fee359c-dc89-47a6-bf01-a2aaecd3c9ae",
   "metadata": {
    "tags": []
   },
   "outputs": [],
   "source": [
    "tiket_range = sdf.groupby(\"ANO\", \"MES\", \"REAL\").agg(\n",
    "    f.sum(\"ASSENTOS\").alias(\"TOTAL\"),\n",
    "    f.collect_list(f.col('ASSENTOS')),\n",
    ")"
   ]
  },
  {
   "cell_type": "code",
   "execution_count": 265,
   "id": "82621e38-b862-48f2-9c70-da721cd64278",
   "metadata": {
    "tags": []
   },
   "outputs": [
    {
     "data": {
      "text/plain": [
       "DataFrame[ANO: int, MES: int, REAL: float, TOTAL: bigint]"
      ]
     },
     "execution_count": 265,
     "metadata": {},
     "output_type": "execute_result"
    }
   ],
   "source": [
    "tiket_range.cache()"
   ]
  },
  {
   "cell_type": "code",
   "execution_count": null,
   "id": "fcb6d143-14e0-4591-b0e2-2970da9997dc",
   "metadata": {},
   "outputs": [],
   "source": [
    "#precisamos de uma média ponderada para calcular a real representatividade das tarifas considerando o número de assentos. \n",
    "def percentage(values, weights):\n",
    "    return  \n",
    "\n",
    "waverage = f.udf(get_average, DoubleType())    # registering as udf here\n",
    "\n",
    "data = data.withColumn(\n",
    "    'tarifa_real',\n",
    "    waverage(\n",
    "        f.col(\"collect_list(REAL)\"), f.col(\"collect_list(ASSENTOS)\")\n",
    "    )\n",
    ")"
   ]
  },
  {
   "cell_type": "markdown",
   "id": "0d687301-87ca-46bb-b5de-67b2520f6fb7",
   "metadata": {},
   "source": [
    "## Tarifa por Rota - Foco Ponte Aérea Rio SP "
   ]
  },
  {
   "cell_type": "markdown",
   "id": "d61ca2c3-96fd-4c26-bb44-6118ff27fb97",
   "metadata": {},
   "source": [
    "Congonhas: SBSP\n",
    "\n",
    "Santos Dumont: SBRJ"
   ]
  },
  {
   "cell_type": "code",
   "execution_count": 214,
   "id": "769c122f-44f5-4e36-a005-09b2d07f71bb",
   "metadata": {
    "tags": []
   },
   "outputs": [
    {
     "name": "stderr",
     "output_type": "stream",
     "text": [
      "[Stage 44:====================================================>   (27 + 2) / 29]\r"
     ]
    },
    {
     "name": "stdout",
     "output_type": "stream",
     "text": [
      "+----+---+-------+------+-------+-------+--------+---------+\n",
      "| ANO|MES|EMPRESA|ORIGEM|DESTINO| TARIFA|ASSENTOS|     REAL|\n",
      "+----+---+-------+------+-------+-------+--------+---------+\n",
      "|2021| 10|    AZU|  SBRJ|   SBSP|1008.27|       3| 1098.147|\n",
      "|2021| 10|    AZU|  SBRJ|   SBSP|1027.89|       3|1119.5159|\n",
      "|2021| 10|    AZU|  SBRJ|   SBSP| 1027.9|      19|1119.5269|\n",
      "+----+---+-------+------+-------+-------+--------+---------+\n",
      "\n"
     ]
    },
    {
     "name": "stderr",
     "output_type": "stream",
     "text": [
      "                                                                                \r"
     ]
    }
   ],
   "source": [
    "ponte_aerea = sdf\\\n",
    "    .filter(\n",
    "        (\n",
    "            (\n",
    "                f.col('ORIGEM') == \"SBSP\") & (f.col('DESTINO') == \"SBRJ\"\n",
    "            ) | (\n",
    "                f.col('ORIGEM') == \"SBRJ\") & (f.col('DESTINO') == \"SBSP\"\n",
    "            )\n",
    "        )\n",
    "    )\n",
    "\n",
    "ponte_aerea.cache()\n",
    "ponte_aerea.limit(3).show()"
   ]
  },
  {
   "cell_type": "code",
   "execution_count": 218,
   "id": "a5b204a9-5054-4e42-b9b4-7413ed15df65",
   "metadata": {
    "tags": []
   },
   "outputs": [
    {
     "name": "stdout",
     "output_type": "stream",
     "text": [
      "+----+---+-------+------+-------+-------+--------+---------+\n",
      "| ANO|MES|EMPRESA|ORIGEM|DESTINO| TARIFA|ASSENTOS|     REAL|\n",
      "+----+---+-------+------+-------+-------+--------+---------+\n",
      "|2021| 10|    AZU|  SBRJ|   SBSP|1008.27|       3| 1098.147|\n",
      "|2021| 10|    AZU|  SBRJ|   SBSP|1027.89|       3|1119.5159|\n",
      "+----+---+-------+------+-------+-------+--------+---------+\n",
      "\n"
     ]
    }
   ],
   "source": [
    "ponte_aerea.limit(2).show()"
   ]
  },
  {
   "cell_type": "markdown",
   "id": "81d052bb-bd4a-41ad-87d5-6f0adcc23cac",
   "metadata": {
    "tags": []
   },
   "source": [
    "### Gráfico apenas com valores das tarifas no passar do tempo"
   ]
  },
  {
   "cell_type": "code",
   "execution_count": 219,
   "id": "c1db3efa-83d5-4951-ace3-b0bf79010992",
   "metadata": {
    "tags": []
   },
   "outputs": [],
   "source": [
    "ponte_aerea_group = ponte_aerea.groupby(\"ANO\", \"MES\").agg(\n",
    "    f.sum(\"ASSENTOS\").alias(\"TOTAL\"),\n",
    "    f.collect_list(f.col('REAL')),\n",
    "    f.collect_list(f.col('ASSENTOS')),\n",
    ")"
   ]
  },
  {
   "cell_type": "code",
   "execution_count": 220,
   "id": "162c8dad-756a-4b07-b2d3-30200ade2837",
   "metadata": {
    "tags": []
   },
   "outputs": [],
   "source": [
    "#precisamos de uma média ponderada para calcular a real representatividade das tarifas considerando o número de assentos. \n",
    "def get_average(values, weights):\n",
    "    return float(np.average(values, weights=weights)) \n",
    "waverage = f.udf(get_average, DoubleType())    # registering as udf here\n",
    "\n",
    "ponte_aerea_group = ponte_aerea_group.withColumn(\n",
    "    'tarifa_media_real',\n",
    "    waverage(f.col(\"collect_list(REAL)\"), f.col(\"collect_list(ASSENTOS)\"))\n",
    ")"
   ]
  },
  {
   "cell_type": "code",
   "execution_count": 221,
   "id": "6b8e5055-53fb-4b56-bbdf-a1298092ff9a",
   "metadata": {
    "tags": []
   },
   "outputs": [
    {
     "name": "stderr",
     "output_type": "stream",
     "text": [
      "[Stage 61:>                                                         (0 + 2) / 2]\r"
     ]
    },
    {
     "name": "stdout",
     "output_type": "stream",
     "text": [
      "+----+---+------+--------------------+----------------------+------------------+\n",
      "| ANO|MES| TOTAL|  collect_list(REAL)|collect_list(ASSENTOS)| tarifa_media_real|\n",
      "+----+---+------+--------------------+----------------------+------------------+\n",
      "|2021| 10|118393|[1098.147, 1119.5...|  [3, 3, 19, 15, 4,...| 465.9539508494635|\n",
      "|2021| 11|144218|[88.09931, 95.704...|  [31, 1, 1, 664, 3...|454.52439056113144|\n",
      "|2015| 11|167082|[162.23549, 152.6...|  [2, 3, 2, 30, 2, ...|401.08876547571003|\n",
      "+----+---+------+--------------------+----------------------+------------------+\n",
      "\n"
     ]
    },
    {
     "name": "stderr",
     "output_type": "stream",
     "text": [
      "                                                                                \r"
     ]
    }
   ],
   "source": [
    "ponte_aerea_group.limit(3).show()"
   ]
  },
  {
   "cell_type": "markdown",
   "id": "0b7f58d9-2660-4805-80ed-b5aaa023950f",
   "metadata": {},
   "source": [
    "### Gráfico com divisão das tarifas no trecho por valores."
   ]
  },
  {
   "cell_type": "markdown",
   "id": "52e39431-bb76-4382-99ae-61e425fd6a6c",
   "metadata": {},
   "source": [
    "# Referências\n",
    "- Docker Pyspark: https://github.com/mrn-aglic/spark-standalone-cluster\n",
    "- Calculo da Variação pelo IPCA: https://estudaradm.com.br/macroeconomia/calcular-inflacao-acumulada-em-12-meses-exemplos-e-exercicios/?unapproved=1687&moderation-hash=42b2b86a1784537b7b5a3c2fa55d719e#comment-1687 (OBS: obrigado especial ao criador desta publicação. Todos os blogs que eu li falando que iriam ensinar a deflacionar um número apenas usavam a calculadora do BC)"
   ]
  },
  {
   "cell_type": "code",
   "execution_count": null,
   "id": "89241abd-5546-428d-9e43-8ccdf5291830",
   "metadata": {},
   "outputs": [],
   "source": []
  },
  {
   "cell_type": "code",
   "execution_count": null,
   "id": "34eda698-ac2d-4b2e-aca5-18bd4b368d20",
   "metadata": {},
   "outputs": [],
   "source": []
  },
  {
   "cell_type": "markdown",
   "id": "36d34651-6ae0-4a02-82d3-7899ade68ea9",
   "metadata": {
    "jp-MarkdownHeadingCollapsed": true,
    "tags": []
   },
   "source": [
    "# Dezembro 22 - Dezembro 2019"
   ]
  },
  {
   "cell_type": "code",
   "execution_count": 58,
   "id": "0f99187c-6784-4d35-bd7d-adb6be79ce23",
   "metadata": {
    "tags": []
   },
   "outputs": [],
   "source": [
    "dezembro = pd.read_csv(\"anac.nosync/202212.CSV\", sep=\";\", encoding=\"latin1\")\n",
    "# dezembro.columns = ['ANO', 'MES', 'EMPRESA', 'ORIGEM', 'DESTINO', 'TARIFA', 'ASSENTOS']\n",
    "dezembro.TARIFA = dezembro.TARIFA.str.replace(\",\", \".\").astype(float)\n"
   ]
  },
  {
   "cell_type": "code",
   "execution_count": 67,
   "id": "369f5463-72cb-42db-9a6b-b090ce1a5372",
   "metadata": {
    "tags": []
   },
   "outputs": [
    {
     "data": {
      "text/html": [
       "<div>\n",
       "<style scoped>\n",
       "    .dataframe tbody tr th:only-of-type {\n",
       "        vertical-align: middle;\n",
       "    }\n",
       "\n",
       "    .dataframe tbody tr th {\n",
       "        vertical-align: top;\n",
       "    }\n",
       "\n",
       "    .dataframe thead th {\n",
       "        text-align: right;\n",
       "    }\n",
       "</style>\n",
       "<table border=\"1\" class=\"dataframe\">\n",
       "  <thead>\n",
       "    <tr style=\"text-align: right;\">\n",
       "      <th></th>\n",
       "      <th></th>\n",
       "      <th>price_weighted_mean</th>\n",
       "    </tr>\n",
       "    <tr>\n",
       "      <th>ANO</th>\n",
       "      <th>MES</th>\n",
       "      <th></th>\n",
       "    </tr>\n",
       "  </thead>\n",
       "  <tbody>\n",
       "    <tr>\n",
       "      <th>2022</th>\n",
       "      <th>12</th>\n",
       "      <td>650.817921</td>\n",
       "    </tr>\n",
       "  </tbody>\n",
       "</table>\n",
       "</div>"
      ],
      "text/plain": [
       "          price_weighted_mean\n",
       "ANO  MES                     \n",
       "2022 12            650.817921"
      ]
     },
     "execution_count": 67,
     "metadata": {},
     "output_type": "execute_result"
    }
   ],
   "source": [
    "# Aqui com os dados base julho de 2022\n",
    "wm = lambda x: np.average(x, weights=dezembro.loc[x.index, \"ASSENTOS\"])\n",
    "\n",
    "media_dezembro = dezembro.groupby(['ANO', 'MES']).agg(price_weighted_mean=(\"TARIFA\", wm))\n",
    "media_dezembro"
   ]
  }
 ],
 "metadata": {
  "kernelspec": {
   "display_name": "Python 3 (ipykernel)",
   "language": "python",
   "name": "python3"
  },
  "language_info": {
   "codemirror_mode": {
    "name": "ipython",
    "version": 3
   },
   "file_extension": ".py",
   "mimetype": "text/x-python",
   "name": "python",
   "nbconvert_exporter": "python",
   "pygments_lexer": "ipython3",
   "version": "3.10.11"
  }
 },
 "nbformat": 4,
 "nbformat_minor": 5
}
