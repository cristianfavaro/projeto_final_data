{
 "cells": [
  {
   "cell_type": "code",
   "execution_count": 70,
   "id": "db230f58-80ca-481c-91c9-35142d281a37",
   "metadata": {
    "tags": []
   },
   "outputs": [],
   "source": [
    "import numpy as np\n",
    "import pandas as pd\n",
    "import glob\n",
    "from udfs import ipca"
   ]
  },
  {
   "cell_type": "markdown",
   "id": "b19666cc-e6d4-4f4a-a460-cb730a4ee3e5",
   "metadata": {
    "tags": []
   },
   "source": [
    "# Ajustando dados e trazendo tudo a valor presente"
   ]
  },
  {
   "cell_type": "code",
   "execution_count": 71,
   "id": "c396e1fb-d5ea-4ee8-86e3-8de7e64097ce",
   "metadata": {
    "tags": []
   },
   "outputs": [],
   "source": [
    "files = glob.glob(\"anac.nosync/*.CSV\")"
   ]
  },
  {
   "cell_type": "code",
   "execution_count": 72,
   "id": "8623c877-c686-4eb0-9915-c7ba9ca46eca",
   "metadata": {
    "tags": []
   },
   "outputs": [],
   "source": [
    "# %%time\n",
    "# for file in files:\n",
    "#     df = pd.read_csv(file, sep=\";\", encoding='latin1')\n",
    "#     df = df.loc[:, ~df.columns.str.contains('^Unnamed')]\n",
    "#     df.columns = [\"ANO\",\"MES\",\"EMPRESA\",\"ORIGEM\",\"DESTINO\",\"TARIFA\",\"ASSENTOS\"]\n",
    "#     df.TARIFA = df.TARIFA.str.replace(\",\", \".\").astype(float).copy()\n",
    "#     df['REAL'] = df.apply(lambda row: ipca(row[\"TARIFA\"], f\"{row['MES']}/{row['ANO']}\", \"12/2022\")[0], axis=1)\n",
    "#     df.to_csv(f\"anac.nosync/real/{file.split(\"/\")[1]}.csv\", index=False, sep=\";\")"
   ]
  },
  {
   "cell_type": "markdown",
   "id": "8a804da9-f5b4-4414-8883-fea0e958afdd",
   "metadata": {},
   "source": [
    "# Começando com o Spark"
   ]
  },
  {
   "cell_type": "code",
   "execution_count": 73,
   "id": "1ac49467-e902-4487-9046-e47114a22f92",
   "metadata": {
    "tags": []
   },
   "outputs": [
    {
     "name": "stderr",
     "output_type": "stream",
     "text": [
      "Setting default log level to \"WARN\".\n",
      "To adjust logging level use sc.setLogLevel(newLevel). For SparkR, use setLogLevel(newLevel).\n"
     ]
    },
    {
     "name": "stdout",
     "output_type": "stream",
     "text": [
      "23/04/11 20:49:32 WARN NativeCodeLoader: Unable to load native-hadoop library for your platform... using builtin-java classes where applicable\n"
     ]
    }
   ],
   "source": [
    "from pyspark.sql import SparkSession\n",
    "from pyspark.conf import SparkConf\n",
    "import pyspark.sql.functions as f\n",
    "from pyspark.sql.types import *\n",
    "\n",
    "\n",
    "conf = SparkConf()\n",
    "# conf.set(\"spark.eventLog.enabled\", False)\n",
    "# conf.set(\"spark.eventLog.dir\", \"/opt/spark/spark-events\")\n",
    "# conf.set(\"spark.history.fs.logDirectory\", \"/opt/spark/spark-events\")\n",
    "# conf.set(\"spark.executor.memory\", \"1024m\")\n",
    "# conf.set(\"spark.sql.autoBroadcastJoinThreshold\", -1)\n",
    "# conf.set(\"spark.sparkContext.setLogLevel\", \"ERROR\")\n",
    "\n",
    "spark = SparkSession.\\\n",
    "        builder.\\\n",
    "        appName(\"pyspark-anac\").\\\n",
    "        master(\"spark://spark-master:7077\").\\\n",
    "        config(conf=conf).\\\n",
    "        getOrCreate()"
   ]
  },
  {
   "cell_type": "code",
   "execution_count": 74,
   "id": "9bb6d2b5-7a20-442f-b60a-fa493c8d2b40",
   "metadata": {
    "tags": []
   },
   "outputs": [
    {
     "data": {
      "text/html": [
       "\n",
       "            <div>\n",
       "                <p><b>SparkSession - in-memory</b></p>\n",
       "                \n",
       "        <div>\n",
       "            <p><b>SparkContext</b></p>\n",
       "\n",
       "            <p><a href=\"http://fc689d46dee8:4040\">Spark UI</a></p>\n",
       "\n",
       "            <dl>\n",
       "              <dt>Version</dt>\n",
       "                <dd><code>v3.3.2</code></dd>\n",
       "              <dt>Master</dt>\n",
       "                <dd><code>spark://spark-master:7077</code></dd>\n",
       "              <dt>AppName</dt>\n",
       "                <dd><code>pyspark-anac</code></dd>\n",
       "            </dl>\n",
       "        </div>\n",
       "        \n",
       "            </div>\n",
       "        "
      ],
      "text/plain": [
       "<pyspark.sql.session.SparkSession at 0x7f4bebeebf70>"
      ]
     },
     "execution_count": 74,
     "metadata": {},
     "output_type": "execute_result"
    }
   ],
   "source": [
    "spark\n",
    "# sc = spark.sparkContext\n",
    "# sc.addPyFile(\"/opt/notebooks/udfs.py\")"
   ]
  },
  {
   "cell_type": "code",
   "execution_count": 75,
   "id": "d1b260d6-3ef9-4bf9-aa73-78ea0addab4c",
   "metadata": {
    "tags": []
   },
   "outputs": [],
   "source": [
    "schema = StructType(\n",
    "    [\n",
    "        StructField('ANO', IntegerType(), True), \n",
    "        StructField('MES', IntegerType(), True), \n",
    "        StructField('EMPRESA', StringType(), True), \n",
    "        StructField('ORIGEM', StringType(), True), \n",
    "        StructField('DESTINO', StringType(), True), \n",
    "        StructField('TARIFA', FloatType(), True), \n",
    "        StructField('ASSENTOS', IntegerType(), True),\n",
    "        StructField('REAL', FloatType(), True),\n",
    "    ]\n",
    ")"
   ]
  },
  {
   "cell_type": "code",
   "execution_count": 76,
   "id": "29eb77d4-d6f5-451d-927a-35e33b25664d",
   "metadata": {
    "tags": []
   },
   "outputs": [
    {
     "name": "stderr",
     "output_type": "stream",
     "text": [
      "                                                                                \r"
     ]
    }
   ],
   "source": [
    "sdf = spark.read.csv('anac.nosync/real/*.csv', header=True, sep=\";\", schema=schema)"
   ]
  },
  {
   "cell_type": "code",
   "execution_count": 77,
   "id": "622132ea-3eb4-494e-abf6-d0852bb254c6",
   "metadata": {
    "tags": []
   },
   "outputs": [
    {
     "data": {
      "text/plain": [
       "StructType([StructField('ANO', IntegerType(), True), StructField('MES', IntegerType(), True), StructField('EMPRESA', StringType(), True), StructField('ORIGEM', StringType(), True), StructField('DESTINO', StringType(), True), StructField('TARIFA', FloatType(), True), StructField('ASSENTOS', IntegerType(), True), StructField('REAL', FloatType(), True)])"
      ]
     },
     "execution_count": 77,
     "metadata": {},
     "output_type": "execute_result"
    }
   ],
   "source": [
    "sdf.schema"
   ]
  },
  {
   "cell_type": "code",
   "execution_count": 78,
   "id": "231dcd40-c790-4a4f-95d3-1647a1ce985c",
   "metadata": {
    "tags": []
   },
   "outputs": [
    {
     "name": "stderr",
     "output_type": "stream",
     "text": [
      "                                                                                \r"
     ]
    },
    {
     "data": {
      "text/plain": [
       "55291652"
      ]
     },
     "execution_count": 78,
     "metadata": {},
     "output_type": "execute_result"
    }
   ],
   "source": [
    "sdf.count()"
   ]
  },
  {
   "cell_type": "code",
   "execution_count": 79,
   "id": "48661561-293f-4d4d-bb79-869dd64aa16f",
   "metadata": {
    "tags": []
   },
   "outputs": [
    {
     "name": "stderr",
     "output_type": "stream",
     "text": [
      "[Stage 4:===============================================>         (20 + 2) / 24]\r"
     ]
    },
    {
     "name": "stdout",
     "output_type": "stream",
     "text": [
      "+----+---+-------+------+-------+------+--------+------+\n",
      "| ANO|MES|EMPRESA|ORIGEM|DESTINO|TARIFA|ASSENTOS|  REAL|\n",
      "+----+---+-------+------+-------+------+--------+------+\n",
      "|2021| 10|    AZU|  SBAC|   SBAR| 565.9|       1|616.34|\n",
      "|2021| 10|    AZU|  SBAC|   SBBR| 409.9|       1|446.44|\n",
      "|2021| 10|    AZU|  SBAC|   SBBV| 748.9|       4|815.66|\n",
      "+----+---+-------+------+-------+------+--------+------+\n",
      "\n"
     ]
    },
    {
     "name": "stderr",
     "output_type": "stream",
     "text": [
      "                                                                                \r"
     ]
    }
   ],
   "source": [
    "sdf.limit(3).show()"
   ]
  },
  {
   "cell_type": "markdown",
   "id": "ba75d015-6af6-4a40-8b4f-f1837bd60cc8",
   "metadata": {
    "tags": []
   },
   "source": [
    "# Ajustar todos os valanac.nosync/ pela inflação de Dezembro de 2022\n",
    "\n",
    "Nao funciona aqui por questão de processamento.\n",
    "\n",
    "\n",
    "def valor_real(value, date_start):\n",
    "    return ipca(value, date_start, \"12/2022\")[0]\n",
    "\n",
    "vreal = f.udf(valor_real, DoubleType())    # registering as udf here\n",
    "\n",
    "\n",
    "sdf = sdf.withColumn(\n",
    "    'REAL',\n",
    "    vreal(\n",
    "        f.col(\"TARIFA\"), \n",
    "        f.concat(f.col(\"MES\"), f.lit(\"/\"), f.col(\"ANO\")),\n",
    "    )\n",
    ")\n",
    "\n",
    "sdf = sdf.select(\"ANO\", \"MES\", \"ASSENTOS\", \"REAL\")\n"
   ]
  },
  {
   "cell_type": "markdown",
   "id": "1cd7c6a9-b608-4c8e-abe1-f1ac0bfe51cb",
   "metadata": {},
   "source": [
    "# Dado final"
   ]
  },
  {
   "cell_type": "code",
   "execution_count": 80,
   "id": "bd804445-6423-4905-94a4-b9c2e3c58398",
   "metadata": {
    "tags": []
   },
   "outputs": [],
   "source": [
    "data = sdf.groupby(\"ANO\", \"MES\").agg(\n",
    "    f.sum(\"ASSENTOS\").alias(\"TOTAL\"),\n",
    "    f.collect_list(f.col('REAL')),\n",
    "    f.collect_list(f.col('ASSENTOS')),\n",
    ")"
   ]
  },
  {
   "cell_type": "code",
   "execution_count": 81,
   "id": "f2fb3e6c-edc3-4dc5-9d84-c560732e86fc",
   "metadata": {
    "tags": []
   },
   "outputs": [],
   "source": [
    "def get_average(values, weights):\n",
    "    return float(np.average(values, weights=weights))    # function created to calculate wt. median\n",
    "\n",
    "waverage = f.udf(get_average, DoubleType())    # registering as udf here\n",
    "\n",
    "data = data.withColumn(\n",
    "    'Weighted_average',\n",
    "    waverage(\n",
    "        f.col(\"collect_list(REAL)\"), f.col(\"collect_list(ASSENTOS)\")\n",
    "    )\n",
    ")"
   ]
  },
  {
   "cell_type": "code",
   "execution_count": 82,
   "id": "9348ea3c-bf62-4673-a498-96c90a6e5f55",
   "metadata": {
    "tags": []
   },
   "outputs": [
    {
     "data": {
      "text/plain": [
       "DataFrame[ANO: int, MES: int, TOTAL: bigint, collect_list(REAL): array<float>, collect_list(ASSENTOS): array<int>, Weighted_average: double]"
      ]
     },
     "execution_count": 82,
     "metadata": {},
     "output_type": "execute_result"
    }
   ],
   "source": [
    "data.cache()"
   ]
  },
  {
   "cell_type": "code",
   "execution_count": 83,
   "id": "ed437120-4510-4728-ae95-f508076ee123",
   "metadata": {
    "tags": []
   },
   "outputs": [
    {
     "name": "stderr",
     "output_type": "stream",
     "text": [
      "                                                                                \r"
     ]
    },
    {
     "name": "stdout",
     "output_type": "stream",
     "text": [
      "+----+---+-------+--------------------+----------------------+-----------------+\n",
      "| ANO|MES|  TOTAL|  collect_list(REAL)|collect_list(ASSENTOS)| Weighted_average|\n",
      "+----+---+-------+--------------------+----------------------+-----------------+\n",
      "|2022| 10|2450901|[1067.1, 660.59, ...|  [1, 2, 3, 26, 8, ...|648.7533683010134|\n",
      "|2012| 10|4443441|[553.07, 1109.43,...|  [2, 1, 1, 2, 1, 7...|567.5236231638822|\n",
      "|2007|  6|1366528|[459.67, 1140.66,...|  [103, 10, 56, 7, ...|681.8399205044295|\n",
      "+----+---+-------+--------------------+----------------------+-----------------+\n",
      "\n"
     ]
    }
   ],
   "source": [
    "data.limit(3).show()"
   ]
  },
  {
   "cell_type": "code",
   "execution_count": 84,
   "id": "0c93e0df-cb54-43fd-90a0-d10618e3e686",
   "metadata": {
    "tags": []
   },
   "outputs": [
    {
     "ename": "AnalysisException",
     "evalue": "path file:/opt/notebooks/anac/tarifa_real.csv already exists.",
     "output_type": "error",
     "traceback": [
      "\u001b[0;31m---------------------------------------------------------------------------\u001b[0m",
      "\u001b[0;31mAnalysisException\u001b[0m                         Traceback (most recent call last)",
      "Cell \u001b[0;32mIn[84], line 5\u001b[0m\n\u001b[1;32m      1\u001b[0m \u001b[43mdata\u001b[49m\u001b[38;5;241;43m.\u001b[39;49m\u001b[43mselect\u001b[49m\u001b[43m(\u001b[49m\u001b[38;5;124;43m\"\u001b[39;49m\u001b[38;5;124;43mANO\u001b[39;49m\u001b[38;5;124;43m\"\u001b[39;49m\u001b[43m,\u001b[49m\u001b[43m \u001b[49m\u001b[38;5;124;43m\"\u001b[39;49m\u001b[38;5;124;43mMES\u001b[39;49m\u001b[38;5;124;43m\"\u001b[39;49m\u001b[43m,\u001b[49m\u001b[43m \u001b[49m\u001b[38;5;124;43m\"\u001b[39;49m\u001b[38;5;124;43mTOTAL\u001b[39;49m\u001b[38;5;124;43m\"\u001b[39;49m\u001b[43m,\u001b[49m\u001b[43m \u001b[49m\u001b[38;5;124;43m\"\u001b[39;49m\u001b[38;5;124;43mWeighted_average\u001b[39;49m\u001b[38;5;124;43m\"\u001b[39;49m\u001b[43m)\u001b[49m\u001b[43m\\\u001b[49m\n\u001b[1;32m      2\u001b[0m \u001b[43m    \u001b[49m\u001b[38;5;241;43m.\u001b[39;49m\u001b[43mrepartition\u001b[49m\u001b[43m(\u001b[49m\u001b[38;5;241;43m1\u001b[39;49m\u001b[43m)\u001b[49m\u001b[43m\\\u001b[49m\n\u001b[1;32m      3\u001b[0m \u001b[43m    \u001b[49m\u001b[38;5;241;43m.\u001b[39;49m\u001b[43mwrite\u001b[49m\u001b[38;5;241;43m.\u001b[39;49m\u001b[43mformat\u001b[49m\u001b[43m(\u001b[49m\u001b[38;5;124;43m\"\u001b[39;49m\u001b[38;5;124;43mcom.databricks.spark.csv\u001b[39;49m\u001b[38;5;124;43m\"\u001b[39;49m\u001b[43m)\u001b[49m\u001b[43m\\\u001b[49m\n\u001b[1;32m      4\u001b[0m \u001b[43m    \u001b[49m\u001b[38;5;241;43m.\u001b[39;49m\u001b[43moption\u001b[49m\u001b[43m(\u001b[49m\u001b[38;5;124;43m\"\u001b[39;49m\u001b[38;5;124;43mheader\u001b[39;49m\u001b[38;5;124;43m\"\u001b[39;49m\u001b[43m,\u001b[49m\u001b[43m \u001b[49m\u001b[38;5;124;43m\"\u001b[39;49m\u001b[38;5;124;43mtrue\u001b[39;49m\u001b[38;5;124;43m\"\u001b[39;49m\u001b[43m)\u001b[49m\u001b[43m\\\u001b[49m\n\u001b[0;32m----> 5\u001b[0m \u001b[43m    \u001b[49m\u001b[38;5;241;43m.\u001b[39;49m\u001b[43msave\u001b[49m\u001b[43m(\u001b[49m\u001b[38;5;124;43m\"\u001b[39;49m\u001b[38;5;124;43mtarifa_real.csv\u001b[39;49m\u001b[38;5;124;43m\"\u001b[39;49m\u001b[43m)\u001b[49m\n",
      "File \u001b[0;32m/usr/local/lib/python3.10/site-packages/pyspark/sql/readwriter.py:968\u001b[0m, in \u001b[0;36mDataFrameWriter.save\u001b[0;34m(self, path, format, mode, partitionBy, **options)\u001b[0m\n\u001b[1;32m    966\u001b[0m     \u001b[38;5;28mself\u001b[39m\u001b[38;5;241m.\u001b[39m_jwrite\u001b[38;5;241m.\u001b[39msave()\n\u001b[1;32m    967\u001b[0m \u001b[38;5;28;01melse\u001b[39;00m:\n\u001b[0;32m--> 968\u001b[0m     \u001b[38;5;28;43mself\u001b[39;49m\u001b[38;5;241;43m.\u001b[39;49m\u001b[43m_jwrite\u001b[49m\u001b[38;5;241;43m.\u001b[39;49m\u001b[43msave\u001b[49m\u001b[43m(\u001b[49m\u001b[43mpath\u001b[49m\u001b[43m)\u001b[49m\n",
      "File \u001b[0;32m/usr/local/lib/python3.10/site-packages/py4j/java_gateway.py:1321\u001b[0m, in \u001b[0;36mJavaMember.__call__\u001b[0;34m(self, *args)\u001b[0m\n\u001b[1;32m   1315\u001b[0m command \u001b[38;5;241m=\u001b[39m proto\u001b[38;5;241m.\u001b[39mCALL_COMMAND_NAME \u001b[38;5;241m+\u001b[39m\\\n\u001b[1;32m   1316\u001b[0m     \u001b[38;5;28mself\u001b[39m\u001b[38;5;241m.\u001b[39mcommand_header \u001b[38;5;241m+\u001b[39m\\\n\u001b[1;32m   1317\u001b[0m     args_command \u001b[38;5;241m+\u001b[39m\\\n\u001b[1;32m   1318\u001b[0m     proto\u001b[38;5;241m.\u001b[39mEND_COMMAND_PART\n\u001b[1;32m   1320\u001b[0m answer \u001b[38;5;241m=\u001b[39m \u001b[38;5;28mself\u001b[39m\u001b[38;5;241m.\u001b[39mgateway_client\u001b[38;5;241m.\u001b[39msend_command(command)\n\u001b[0;32m-> 1321\u001b[0m return_value \u001b[38;5;241m=\u001b[39m \u001b[43mget_return_value\u001b[49m\u001b[43m(\u001b[49m\n\u001b[1;32m   1322\u001b[0m \u001b[43m    \u001b[49m\u001b[43manswer\u001b[49m\u001b[43m,\u001b[49m\u001b[43m \u001b[49m\u001b[38;5;28;43mself\u001b[39;49m\u001b[38;5;241;43m.\u001b[39;49m\u001b[43mgateway_client\u001b[49m\u001b[43m,\u001b[49m\u001b[43m \u001b[49m\u001b[38;5;28;43mself\u001b[39;49m\u001b[38;5;241;43m.\u001b[39;49m\u001b[43mtarget_id\u001b[49m\u001b[43m,\u001b[49m\u001b[43m \u001b[49m\u001b[38;5;28;43mself\u001b[39;49m\u001b[38;5;241;43m.\u001b[39;49m\u001b[43mname\u001b[49m\u001b[43m)\u001b[49m\n\u001b[1;32m   1324\u001b[0m \u001b[38;5;28;01mfor\u001b[39;00m temp_arg \u001b[38;5;129;01min\u001b[39;00m temp_args:\n\u001b[1;32m   1325\u001b[0m     temp_arg\u001b[38;5;241m.\u001b[39m_detach()\n",
      "File \u001b[0;32m/usr/local/lib/python3.10/site-packages/pyspark/sql/utils.py:196\u001b[0m, in \u001b[0;36mcapture_sql_exception.<locals>.deco\u001b[0;34m(*a, **kw)\u001b[0m\n\u001b[1;32m    192\u001b[0m converted \u001b[38;5;241m=\u001b[39m convert_exception(e\u001b[38;5;241m.\u001b[39mjava_exception)\n\u001b[1;32m    193\u001b[0m \u001b[38;5;28;01mif\u001b[39;00m \u001b[38;5;129;01mnot\u001b[39;00m \u001b[38;5;28misinstance\u001b[39m(converted, UnknownException):\n\u001b[1;32m    194\u001b[0m     \u001b[38;5;66;03m# Hide where the exception came from that shows a non-Pythonic\u001b[39;00m\n\u001b[1;32m    195\u001b[0m     \u001b[38;5;66;03m# JVM exception message.\u001b[39;00m\n\u001b[0;32m--> 196\u001b[0m     \u001b[38;5;28;01mraise\u001b[39;00m converted \u001b[38;5;28;01mfrom\u001b[39;00m \u001b[38;5;28mNone\u001b[39m\n\u001b[1;32m    197\u001b[0m \u001b[38;5;28;01melse\u001b[39;00m:\n\u001b[1;32m    198\u001b[0m     \u001b[38;5;28;01mraise\u001b[39;00m\n",
      "\u001b[0;31mAnalysisException\u001b[0m: path file:/opt/notebooks/anac/tarifa_real.csv already exists."
     ]
    }
   ],
   "source": [
    "data.select(\"ANO\", \"MES\", \"TOTAL\", \"Weighted_average\")\\\n",
    "    .repartition(1)\\\n",
    "    .write.format(\"com.databricks.spark.csv\")\\\n",
    "    .option(\"header\", \"true\")\\\n",
    "    .save(\"tarifa_real.csv\")"
   ]
  },
  {
   "cell_type": "code",
   "execution_count": null,
   "id": "015a75a5-c8fc-49bd-8f93-57dd12eaf6f0",
   "metadata": {
    "tags": []
   },
   "outputs": [],
   "source": [
    "df_final = data.select(\"ANO\", \"MES\", \"TOTAL\", \"Weighted_average\").toPandas()"
   ]
  },
  {
   "cell_type": "code",
   "execution_count": null,
   "id": "d7170be5-e21d-4fe8-a243-4015e69264a5",
   "metadata": {
    "tags": []
   },
   "outputs": [],
   "source": [
    "df.sort_values([\"ANO\", \"MES\"], ascending=False)"
   ]
  },
  {
   "cell_type": "code",
   "execution_count": null,
   "id": "40e8ed66-d9f4-44ce-813d-b551603932dc",
   "metadata": {},
   "outputs": [],
   "source": []
  },
  {
   "cell_type": "code",
   "execution_count": null,
   "id": "0e50dee6-95dc-483a-95bf-ee51d0b8a66c",
   "metadata": {},
   "outputs": [],
   "source": []
  },
  {
   "cell_type": "markdown",
   "id": "9c9413a6-5355-42af-a328-700ace95e276",
   "metadata": {
    "tags": []
   },
   "source": [
    "# Fechando aqui"
   ]
  },
  {
   "cell_type": "code",
   "execution_count": 1,
   "id": "1ccfd1fc-72f4-4b61-ba98-b7a4eab0b230",
   "metadata": {
    "tags": []
   },
   "outputs": [],
   "source": [
    "import pandas as pd\n",
    "import numpy as np"
   ]
  },
  {
   "cell_type": "code",
   "execution_count": 2,
   "id": "f03acaa4-3685-40d4-8f31-ad6cc02cb391",
   "metadata": {
    "tags": []
   },
   "outputs": [],
   "source": [
    "from monetary_correction import ipca"
   ]
  },
  {
   "cell_type": "code",
   "execution_count": 4,
   "id": "4a838c81-76fd-49ec-bc3f-17b1f3bcf518",
   "metadata": {
    "tags": []
   },
   "outputs": [],
   "source": [
    "corretor = ipca"
   ]
  },
  {
   "cell_type": "code",
   "execution_count": null,
   "id": "e8c08bc1-f434-42ba-95a4-7ecb3eee2752",
   "metadata": {},
   "outputs": [],
   "source": []
  },
  {
   "cell_type": "markdown",
   "id": "b385bd8e-73a0-4c3f-bf42-3ef05a37c2b1",
   "metadata": {
    "tags": []
   },
   "source": [
    "# Outubro"
   ]
  },
  {
   "cell_type": "code",
   "execution_count": 20,
   "id": "9b0235e1-aaa1-43f0-b999-f4cfa9d911c7",
   "metadata": {
    "tags": []
   },
   "outputs": [],
   "source": [
    "outubro = pd.read_csv(\"anac.nosync/202210.CSV\", sep=\";\", encoding=\"latin1\")\n",
    "outubro.columns = ['ANO', 'MES', 'EMPRESA', 'ORIGEM', 'DESTINO', 'TARIFA', 'ASSENTOS']\n",
    "outubro.TARIFA = outubro.TARIFA.str.replace(\",\", \".\").astype(float)"
   ]
  },
  {
   "cell_type": "code",
   "execution_count": 48,
   "id": "297371dc-5739-4de6-9c61-282a013c65ac",
   "metadata": {
    "tags": []
   },
   "outputs": [
    {
     "data": {
      "text/html": [
       "<div>\n",
       "<style scoped>\n",
       "    .dataframe tbody tr th:only-of-type {\n",
       "        vertical-align: middle;\n",
       "    }\n",
       "\n",
       "    .dataframe tbody tr th {\n",
       "        vertical-align: top;\n",
       "    }\n",
       "\n",
       "    .dataframe thead th {\n",
       "        text-align: right;\n",
       "    }\n",
       "</style>\n",
       "<table border=\"1\" class=\"dataframe\">\n",
       "  <thead>\n",
       "    <tr style=\"text-align: right;\">\n",
       "      <th></th>\n",
       "      <th></th>\n",
       "      <th>price_weighted_mean</th>\n",
       "    </tr>\n",
       "    <tr>\n",
       "      <th>ANO</th>\n",
       "      <th>MES</th>\n",
       "      <th></th>\n",
       "    </tr>\n",
       "  </thead>\n",
       "  <tbody>\n",
       "    <tr>\n",
       "      <th>2022</th>\n",
       "      <th>10</th>\n",
       "      <td>638.356865</td>\n",
       "    </tr>\n",
       "  </tbody>\n",
       "</table>\n",
       "</div>"
      ],
      "text/plain": [
       "          price_weighted_mean\n",
       "ANO  MES                     \n",
       "2022 10            638.356865"
      ]
     },
     "execution_count": 48,
     "metadata": {},
     "output_type": "execute_result"
    }
   ],
   "source": [
    "# Aqui com os dados base julho de 2022\n",
    "wm = lambda x: np.average(x, weights=outubro.loc[x.index, \"ASSENTOS\"])\n",
    "\n",
    "media_outubro = outubro.groupby(['ANO', 'MES']).agg(price_weighted_mean=(\"TARIFA\", wm))\n",
    "media_outubro"
   ]
  },
  {
   "cell_type": "code",
   "execution_count": 41,
   "id": "94fcba4e-99e3-47d8-9c57-16152584669d",
   "metadata": {
    "tags": []
   },
   "outputs": [],
   "source": [
    "outubro_2019 = pd.read_csv(\"anac.nosync/201910.CSV\", sep=\";\", encoding=\"latin1\")\n",
    "outubro_2019.TARIFA = outubro_2019.TARIFA.str.replace(\",\", \".\").astype(float)\n",
    "outubro_2019['REAL'] = outubro_2019.apply(lambda row: corretor(row[\"TARIFA\"], f\"{int(row.MES)}/{int(row.ANO)}\", \"10/2022\")[0], axis=1) "
   ]
  },
  {
   "cell_type": "code",
   "execution_count": 44,
   "id": "ceaaf35c-26a9-493d-abab-cf4a0cc88697",
   "metadata": {
    "tags": []
   },
   "outputs": [
    {
     "data": {
      "text/html": [
       "<div>\n",
       "<style scoped>\n",
       "    .dataframe tbody tr th:only-of-type {\n",
       "        vertical-align: middle;\n",
       "    }\n",
       "\n",
       "    .dataframe tbody tr th {\n",
       "        vertical-align: top;\n",
       "    }\n",
       "\n",
       "    .dataframe thead th {\n",
       "        text-align: right;\n",
       "    }\n",
       "</style>\n",
       "<table border=\"1\" class=\"dataframe\">\n",
       "  <thead>\n",
       "    <tr style=\"text-align: right;\">\n",
       "      <th></th>\n",
       "      <th></th>\n",
       "      <th>price_weighted_mean</th>\n",
       "    </tr>\n",
       "    <tr>\n",
       "      <th>ANO</th>\n",
       "      <th>MES</th>\n",
       "      <th></th>\n",
       "    </tr>\n",
       "  </thead>\n",
       "  <tbody>\n",
       "    <tr>\n",
       "      <th>2019</th>\n",
       "      <th>10</th>\n",
       "      <td>560.817476</td>\n",
       "    </tr>\n",
       "  </tbody>\n",
       "</table>\n",
       "</div>"
      ],
      "text/plain": [
       "          price_weighted_mean\n",
       "ANO  MES                     \n",
       "2019 10            560.817476"
      ]
     },
     "execution_count": 44,
     "metadata": {},
     "output_type": "execute_result"
    }
   ],
   "source": [
    "# Aqui com os dados base julho de 2022\n",
    "wm = lambda x: np.average(x, weights=outubro_2019.loc[x.index, \"ASSENTOS\"])\n",
    "\n",
    "media_outubro_2019 = outubro_2019.groupby(['ANO', 'MES']).agg(price_weighted_mean=(\"REAL\", wm))\n",
    "media_outubro_2019"
   ]
  },
  {
   "cell_type": "code",
   "execution_count": 51,
   "id": "28ce459d-064b-4fc8-936c-089d897bc912",
   "metadata": {
    "tags": []
   },
   "outputs": [
    {
     "data": {
      "text/plain": [
       "13.82613636966195"
      ]
     },
     "execution_count": 51,
     "metadata": {},
     "output_type": "execute_result"
    }
   ],
   "source": [
    "(float(media_outubro['price_weighted_mean']) - float(media_outubro_2019['price_weighted_mean'])) / float(media_outubro_2019['price_weighted_mean']) *100"
   ]
  },
  {
   "cell_type": "markdown",
   "id": "36d34651-6ae0-4a02-82d3-7899ade68ea9",
   "metadata": {},
   "source": [
    "# Dezembro 22"
   ]
  },
  {
   "cell_type": "code",
   "execution_count": 58,
   "id": "0f99187c-6784-4d35-bd7d-adb6be79ce23",
   "metadata": {
    "tags": []
   },
   "outputs": [],
   "source": [
    "dezembro = pd.read_csv(\"anac.nosync/202212.CSV\", sep=\";\", encoding=\"latin1\")\n",
    "# dezembro.columns = ['ANO', 'MES', 'EMPRESA', 'ORIGEM', 'DESTINO', 'TARIFA', 'ASSENTOS']\n",
    "dezembro.TARIFA = dezembro.TARIFA.str.replace(\",\", \".\").astype(float)\n"
   ]
  },
  {
   "cell_type": "code",
   "execution_count": 67,
   "id": "369f5463-72cb-42db-9a6b-b090ce1a5372",
   "metadata": {
    "tags": []
   },
   "outputs": [
    {
     "data": {
      "text/html": [
       "<div>\n",
       "<style scoped>\n",
       "    .dataframe tbody tr th:only-of-type {\n",
       "        vertical-align: middle;\n",
       "    }\n",
       "\n",
       "    .dataframe tbody tr th {\n",
       "        vertical-align: top;\n",
       "    }\n",
       "\n",
       "    .dataframe thead th {\n",
       "        text-align: right;\n",
       "    }\n",
       "</style>\n",
       "<table border=\"1\" class=\"dataframe\">\n",
       "  <thead>\n",
       "    <tr style=\"text-align: right;\">\n",
       "      <th></th>\n",
       "      <th></th>\n",
       "      <th>price_weighted_mean</th>\n",
       "    </tr>\n",
       "    <tr>\n",
       "      <th>ANO</th>\n",
       "      <th>MES</th>\n",
       "      <th></th>\n",
       "    </tr>\n",
       "  </thead>\n",
       "  <tbody>\n",
       "    <tr>\n",
       "      <th>2022</th>\n",
       "      <th>12</th>\n",
       "      <td>650.817921</td>\n",
       "    </tr>\n",
       "  </tbody>\n",
       "</table>\n",
       "</div>"
      ],
      "text/plain": [
       "          price_weighted_mean\n",
       "ANO  MES                     \n",
       "2022 12            650.817921"
      ]
     },
     "execution_count": 67,
     "metadata": {},
     "output_type": "execute_result"
    }
   ],
   "source": [
    "# Aqui com os dados base julho de 2022\n",
    "wm = lambda x: np.average(x, weights=dezembro.loc[x.index, \"ASSENTOS\"])\n",
    "\n",
    "media_dezembro = dezembro.groupby(['ANO', 'MES']).agg(price_weighted_mean=(\"TARIFA\", wm))\n",
    "media_dezembro"
   ]
  },
  {
   "cell_type": "code",
   "execution_count": 63,
   "id": "423285dd-df9a-4072-b6e7-fc1223f40411",
   "metadata": {
    "tags": []
   },
   "outputs": [],
   "source": [
    "dezembro_2019 = pd.read_csv(\"anac.nosync/201912.CSV\", sep=\";\", encoding=\"latin1\")\n",
    "dezembro_2019.columns = ['ANO', 'MES', 'EMPRESA', 'ORIGEM', 'DESTINO', 'TARIFA', 'ASSENTOS']\n",
    "dezembro_2019.TARIFA = dezembro_2019.TARIFA.str.replace(\",\", \".\").astype(float)"
   ]
  },
  {
   "cell_type": "code",
   "execution_count": 65,
   "id": "cf5ed1ee-0805-49a5-874b-233809999b15",
   "metadata": {
    "tags": []
   },
   "outputs": [],
   "source": [
    "dezembro_2019['REAL'] = dezembro_2019.apply(lambda row: corretor(row[\"TARIFA\"], f\"{int(row.MES)}/{int(row.ANO)}\", \"10/2022\")[0], axis=1) "
   ]
  },
  {
   "cell_type": "code",
   "execution_count": 66,
   "id": "6da3616c-e30b-43d9-a3e0-b6c220d3716d",
   "metadata": {
    "tags": []
   },
   "outputs": [
    {
     "data": {
      "text/html": [
       "<div>\n",
       "<style scoped>\n",
       "    .dataframe tbody tr th:only-of-type {\n",
       "        vertical-align: middle;\n",
       "    }\n",
       "\n",
       "    .dataframe tbody tr th {\n",
       "        vertical-align: top;\n",
       "    }\n",
       "\n",
       "    .dataframe thead th {\n",
       "        text-align: right;\n",
       "    }\n",
       "</style>\n",
       "<table border=\"1\" class=\"dataframe\">\n",
       "  <thead>\n",
       "    <tr style=\"text-align: right;\">\n",
       "      <th></th>\n",
       "      <th></th>\n",
       "      <th>price_weighted_mean</th>\n",
       "    </tr>\n",
       "    <tr>\n",
       "      <th>ANO</th>\n",
       "      <th>MES</th>\n",
       "      <th></th>\n",
       "    </tr>\n",
       "  </thead>\n",
       "  <tbody>\n",
       "    <tr>\n",
       "      <th>2019</th>\n",
       "      <th>12</th>\n",
       "      <td>531.823898</td>\n",
       "    </tr>\n",
       "  </tbody>\n",
       "</table>\n",
       "</div>"
      ],
      "text/plain": [
       "          price_weighted_mean\n",
       "ANO  MES                     \n",
       "2019 12            531.823898"
      ]
     },
     "execution_count": 66,
     "metadata": {},
     "output_type": "execute_result"
    }
   ],
   "source": [
    "# Aqui com os dados base julho de 2022\n",
    "wm = lambda x: np.average(x, weights=dezembro_2019.loc[x.index, \"ASSENTOS\"])\n",
    "\n",
    "media_dezembro_2019 = dezembro_2019.groupby(['ANO', 'MES']).agg(price_weighted_mean=(\"REAL\", wm))\n",
    "media_dezembro_2019"
   ]
  },
  {
   "cell_type": "code",
   "execution_count": 68,
   "id": "8394aae8-aaad-4fca-8785-af82cee0ab6d",
   "metadata": {
    "tags": []
   },
   "outputs": [
    {
     "data": {
      "text/plain": [
       "22.374703943441464"
      ]
     },
     "execution_count": 68,
     "metadata": {},
     "output_type": "execute_result"
    }
   ],
   "source": [
    "(float(media_dezembro['price_weighted_mean']) - float(media_dezembro_2019['price_weighted_mean'])) / float(media_dezembro_2019['price_weighted_mean']) *100"
   ]
  },
  {
   "cell_type": "code",
   "execution_count": null,
   "id": "89b240fa-8dcd-4a6b-8c7a-1f351a3df0c9",
   "metadata": {},
   "outputs": [],
   "source": []
  },
  {
   "cell_type": "code",
   "execution_count": null,
   "id": "a953805a-efc7-40c2-a299-3e305b649510",
   "metadata": {},
   "outputs": [],
   "source": []
  },
  {
   "cell_type": "code",
   "execution_count": 11,
   "id": "556f46ff-1a99-4cea-a9e9-0694559f7437",
   "metadata": {
    "tags": []
   },
   "outputs": [],
   "source": [
    "dezembro.columns = ['ANO', 'MES', 'EMPRESA', 'ORIGEM', 'DESTINO', 'TARIFA', 'ASSENTOS']"
   ]
  },
  {
   "cell_type": "code",
   "execution_count": 12,
   "id": "c7a8a932-bd2c-4764-805c-65eb3a1dc932",
   "metadata": {
    "tags": []
   },
   "outputs": [],
   "source": [
    "dezembro.TARIFA = dezembro.TARIFA.str.replace(\",\", \".\").astype(float)"
   ]
  },
  {
   "cell_type": "code",
   "execution_count": 28,
   "id": "807f94d5-497f-4066-8e6f-c9b637213869",
   "metadata": {
    "tags": []
   },
   "outputs": [
    {
     "data": {
      "text/plain": [
       "360948"
      ]
     },
     "execution_count": 28,
     "metadata": {},
     "output_type": "execute_result"
    }
   ],
   "source": [
    "len(dezembro)"
   ]
  },
  {
   "cell_type": "code",
   "execution_count": 29,
   "id": "6df1c896-1708-423a-ab86-5c5f4074ecd1",
   "metadata": {
    "tags": []
   },
   "outputs": [
    {
     "name": "stdout",
     "output_type": "stream",
     "text": [
      "CPU times: user 8min 58s, sys: 5.61 s, total: 9min 4s\n",
      "Wall time: 9min 16s\n"
     ]
    }
   ],
   "source": [
    "%%time\n",
    "dezembro['REAL'] = dezembro.apply(lambda row: corretor(row[\"TARIFA\"], f\"{int(row.MES)}/{int(row.ANO)}\", \"07/2022\")[0], axis=1) "
   ]
  },
  {
   "cell_type": "code",
   "execution_count": null,
   "id": "08483e09-f669-4902-8347-0a1ea2ceb9a3",
   "metadata": {},
   "outputs": [],
   "source": []
  },
  {
   "cell_type": "code",
   "execution_count": null,
   "id": "d86e3be5-8f6e-4687-ba96-cb29b478b65b",
   "metadata": {},
   "outputs": [],
   "source": []
  },
  {
   "cell_type": "code",
   "execution_count": 30,
   "id": "d683c7a4-5543-4aca-8b24-58e5fd7d456e",
   "metadata": {
    "tags": []
   },
   "outputs": [
    {
     "data": {
      "text/html": [
       "<div>\n",
       "<style scoped>\n",
       "    .dataframe tbody tr th:only-of-type {\n",
       "        vertical-align: middle;\n",
       "    }\n",
       "\n",
       "    .dataframe tbody tr th {\n",
       "        vertical-align: top;\n",
       "    }\n",
       "\n",
       "    .dataframe thead th {\n",
       "        text-align: right;\n",
       "    }\n",
       "</style>\n",
       "<table border=\"1\" class=\"dataframe\">\n",
       "  <thead>\n",
       "    <tr style=\"text-align: right;\">\n",
       "      <th></th>\n",
       "      <th></th>\n",
       "      <th>price_weighted_mean</th>\n",
       "    </tr>\n",
       "    <tr>\n",
       "      <th>ANO</th>\n",
       "      <th>MES</th>\n",
       "      <th></th>\n",
       "    </tr>\n",
       "  </thead>\n",
       "  <tbody>\n",
       "    <tr>\n",
       "      <th>2020</th>\n",
       "      <th>12</th>\n",
       "      <td>486.936127</td>\n",
       "    </tr>\n",
       "  </tbody>\n",
       "</table>\n",
       "</div>"
      ],
      "text/plain": [
       "          price_weighted_mean\n",
       "ANO  MES                     \n",
       "2020 12            486.936127"
      ]
     },
     "execution_count": 30,
     "metadata": {},
     "output_type": "execute_result"
    }
   ],
   "source": [
    "# Aqui com os dados base julho de 2022\n",
    "wm = lambda x: np.average(x, weights=dezembro.loc[x.index, \"ASSENTOS\"])\n",
    "\n",
    "dezembro.groupby(['ANO', 'MES']).agg(price_weighted_mean=(\"REAL\", wm))"
   ]
  },
  {
   "cell_type": "code",
   "execution_count": 27,
   "id": "cf2a4b2d-5881-4e7a-b7c6-330d3ae237aa",
   "metadata": {
    "tags": []
   },
   "outputs": [
    {
     "data": {
      "text/html": [
       "<div>\n",
       "<style scoped>\n",
       "    .dataframe tbody tr th:only-of-type {\n",
       "        vertical-align: middle;\n",
       "    }\n",
       "\n",
       "    .dataframe tbody tr th {\n",
       "        vertical-align: top;\n",
       "    }\n",
       "\n",
       "    .dataframe thead th {\n",
       "        text-align: right;\n",
       "    }\n",
       "</style>\n",
       "<table border=\"1\" class=\"dataframe\">\n",
       "  <thead>\n",
       "    <tr style=\"text-align: right;\">\n",
       "      <th></th>\n",
       "      <th></th>\n",
       "      <th>price_weighted_mean</th>\n",
       "    </tr>\n",
       "    <tr>\n",
       "      <th>ANO</th>\n",
       "      <th>MES</th>\n",
       "      <th></th>\n",
       "    </tr>\n",
       "  </thead>\n",
       "  <tbody>\n",
       "    <tr>\n",
       "      <th>2020</th>\n",
       "      <th>12</th>\n",
       "      <td>491.655068</td>\n",
       "    </tr>\n",
       "  </tbody>\n",
       "</table>\n",
       "</div>"
      ],
      "text/plain": [
       "          price_weighted_mean\n",
       "ANO  MES                     \n",
       "2020 12            491.655068"
      ]
     },
     "execution_count": 27,
     "metadata": {},
     "output_type": "execute_result"
    }
   ],
   "source": [
    "# Ver se vai dar o mesmo resultado em dezembro.\n",
    "wm = lambda x: np.average(x, weights=dezembro.loc[x.index, \"ASSENTOS\"])\n",
    "\n",
    "dezembro.groupby(['ANO', 'MES']).agg(price_weighted_mean=(\"REAL\", wm))"
   ]
  },
  {
   "cell_type": "code",
   "execution_count": 23,
   "id": "d13578d7-8859-4da9-a6d3-dcd19c1ee10c",
   "metadata": {
    "tags": []
   },
   "outputs": [
    {
     "data": {
      "text/html": [
       "<div>\n",
       "<style scoped>\n",
       "    .dataframe tbody tr th:only-of-type {\n",
       "        vertical-align: middle;\n",
       "    }\n",
       "\n",
       "    .dataframe tbody tr th {\n",
       "        vertical-align: top;\n",
       "    }\n",
       "\n",
       "    .dataframe thead th {\n",
       "        text-align: right;\n",
       "    }\n",
       "</style>\n",
       "<table border=\"1\" class=\"dataframe\">\n",
       "  <thead>\n",
       "    <tr style=\"text-align: right;\">\n",
       "      <th></th>\n",
       "      <th></th>\n",
       "      <th>price_weighted_mean</th>\n",
       "    </tr>\n",
       "    <tr>\n",
       "      <th>ANO</th>\n",
       "      <th>MES</th>\n",
       "      <th></th>\n",
       "    </tr>\n",
       "  </thead>\n",
       "  <tbody>\n",
       "    <tr>\n",
       "      <th>2020</th>\n",
       "      <th>12</th>\n",
       "      <td>491.654549</td>\n",
       "    </tr>\n",
       "  </tbody>\n",
       "</table>\n",
       "</div>"
      ],
      "text/plain": [
       "          price_weighted_mean\n",
       "ANO  MES                     \n",
       "2020 12            491.654549"
      ]
     },
     "execution_count": 23,
     "metadata": {},
     "output_type": "execute_result"
    }
   ],
   "source": [
    "# Ver se vai dar o mesmo resultado em dezembro.\n",
    "wm = lambda x: np.average(x, weights=dezembro.loc[x.index, \"ASSENTOS\"])\n",
    "\n",
    "dezembro.groupby(['ANO', 'MES']).agg(price_weighted_mean=(\"REAL\", wm))"
   ]
  },
  {
   "cell_type": "code",
   "execution_count": null,
   "id": "5c0b4695-8bce-4306-bcb7-9500188a947c",
   "metadata": {},
   "outputs": [],
   "source": []
  },
  {
   "cell_type": "code",
   "execution_count": null,
   "id": "2d6c9ab3-72c2-454c-8e67-4dd9a95bf372",
   "metadata": {},
   "outputs": [],
   "source": []
  },
  {
   "cell_type": "code",
   "execution_count": null,
   "id": "8938b7d6-9982-49a9-9f3f-328a57c41d31",
   "metadata": {},
   "outputs": [],
   "source": []
  },
  {
   "cell_type": "code",
   "execution_count": null,
   "id": "67ff7706-07a9-4437-9619-498999361382",
   "metadata": {},
   "outputs": [],
   "source": []
  },
  {
   "cell_type": "code",
   "execution_count": 51,
   "id": "9127ef31-b4f4-4770-b282-7643075058e5",
   "metadata": {
    "tags": []
   },
   "outputs": [
    {
     "name": "stdout",
     "output_type": "stream",
     "text": [
      "CPU times: user 19min 31s, sys: 12.1 s, total: 19min 43s\n",
      "Wall time: 20min 34s\n"
     ]
    }
   ],
   "source": [
    "%%time\n",
    "dezembro['REAL'] = dezembro.apply(lambda row: corretor.ipca(row[\"TARIFA\"], f\"{int(row.MES)}/{int(row.ANO)}\", \"12/2022\")[0], axis=1) "
   ]
  },
  {
   "cell_type": "code",
   "execution_count": 53,
   "id": "a6451615-9d24-452c-ae24-d3a3fa5e93e8",
   "metadata": {
    "tags": []
   },
   "outputs": [
    {
     "data": {
      "text/html": [
       "<div>\n",
       "<style scoped>\n",
       "    .dataframe tbody tr th:only-of-type {\n",
       "        vertical-align: middle;\n",
       "    }\n",
       "\n",
       "    .dataframe tbody tr th {\n",
       "        vertical-align: top;\n",
       "    }\n",
       "\n",
       "    .dataframe thead th {\n",
       "        text-align: right;\n",
       "    }\n",
       "</style>\n",
       "<table border=\"1\" class=\"dataframe\">\n",
       "  <thead>\n",
       "    <tr style=\"text-align: right;\">\n",
       "      <th></th>\n",
       "      <th>ANO</th>\n",
       "      <th>MES</th>\n",
       "      <th>EMPRESA</th>\n",
       "      <th>ORIGEM</th>\n",
       "      <th>DESTINO</th>\n",
       "      <th>TARIFA</th>\n",
       "      <th>ASSENTOS</th>\n",
       "      <th>REAL</th>\n",
       "    </tr>\n",
       "  </thead>\n",
       "  <tbody>\n",
       "    <tr>\n",
       "      <th>0</th>\n",
       "      <td>2022</td>\n",
       "      <td>12</td>\n",
       "      <td>ABJ</td>\n",
       "      <td>SBSV</td>\n",
       "      <td>SIRI</td>\n",
       "      <td>550.0</td>\n",
       "      <td>8</td>\n",
       "      <td>553.41</td>\n",
       "    </tr>\n",
       "    <tr>\n",
       "      <th>1</th>\n",
       "      <td>2022</td>\n",
       "      <td>12</td>\n",
       "      <td>ABJ</td>\n",
       "      <td>SBSV</td>\n",
       "      <td>SIRI</td>\n",
       "      <td>650.0</td>\n",
       "      <td>7</td>\n",
       "      <td>654.03</td>\n",
       "    </tr>\n",
       "    <tr>\n",
       "      <th>2</th>\n",
       "      <td>2022</td>\n",
       "      <td>12</td>\n",
       "      <td>ABJ</td>\n",
       "      <td>SBSV</td>\n",
       "      <td>SIRI</td>\n",
       "      <td>850.0</td>\n",
       "      <td>11</td>\n",
       "      <td>855.27</td>\n",
       "    </tr>\n",
       "    <tr>\n",
       "      <th>3</th>\n",
       "      <td>2022</td>\n",
       "      <td>12</td>\n",
       "      <td>ABJ</td>\n",
       "      <td>SBSV</td>\n",
       "      <td>SIRI</td>\n",
       "      <td>1050.0</td>\n",
       "      <td>7</td>\n",
       "      <td>1056.51</td>\n",
       "    </tr>\n",
       "    <tr>\n",
       "      <th>4</th>\n",
       "      <td>2022</td>\n",
       "      <td>12</td>\n",
       "      <td>ABJ</td>\n",
       "      <td>SBSV</td>\n",
       "      <td>SIRI</td>\n",
       "      <td>1250.0</td>\n",
       "      <td>3</td>\n",
       "      <td>1257.75</td>\n",
       "    </tr>\n",
       "    <tr>\n",
       "      <th>...</th>\n",
       "      <td>...</td>\n",
       "      <td>...</td>\n",
       "      <td>...</td>\n",
       "      <td>...</td>\n",
       "      <td>...</td>\n",
       "      <td>...</td>\n",
       "      <td>...</td>\n",
       "      <td>...</td>\n",
       "    </tr>\n",
       "    <tr>\n",
       "      <th>331370</th>\n",
       "      <td>2022</td>\n",
       "      <td>12</td>\n",
       "      <td>TAM</td>\n",
       "      <td>SWSI</td>\n",
       "      <td>SBVT</td>\n",
       "      <td>837.0</td>\n",
       "      <td>1</td>\n",
       "      <td>842.19</td>\n",
       "    </tr>\n",
       "    <tr>\n",
       "      <th>331371</th>\n",
       "      <td>2022</td>\n",
       "      <td>12</td>\n",
       "      <td>TAM</td>\n",
       "      <td>SWSI</td>\n",
       "      <td>SBVT</td>\n",
       "      <td>1395.0</td>\n",
       "      <td>1</td>\n",
       "      <td>1403.65</td>\n",
       "    </tr>\n",
       "    <tr>\n",
       "      <th>331372</th>\n",
       "      <td>2022</td>\n",
       "      <td>12</td>\n",
       "      <td>TAM</td>\n",
       "      <td>SWSI</td>\n",
       "      <td>SBVT</td>\n",
       "      <td>1813.9</td>\n",
       "      <td>1</td>\n",
       "      <td>1825.15</td>\n",
       "    </tr>\n",
       "    <tr>\n",
       "      <th>331373</th>\n",
       "      <td>2022</td>\n",
       "      <td>12</td>\n",
       "      <td>TAM</td>\n",
       "      <td>SWSI</td>\n",
       "      <td>SBVT</td>\n",
       "      <td>1866.0</td>\n",
       "      <td>1</td>\n",
       "      <td>1877.57</td>\n",
       "    </tr>\n",
       "    <tr>\n",
       "      <th>331374</th>\n",
       "      <td>2022</td>\n",
       "      <td>12</td>\n",
       "      <td>TAM</td>\n",
       "      <td>SWSI</td>\n",
       "      <td>SBVT</td>\n",
       "      <td>1935.9</td>\n",
       "      <td>1</td>\n",
       "      <td>1947.90</td>\n",
       "    </tr>\n",
       "  </tbody>\n",
       "</table>\n",
       "<p>331375 rows × 8 columns</p>\n",
       "</div>"
      ],
      "text/plain": [
       "         ANO  MES EMPRESA ORIGEM DESTINO  TARIFA  ASSENTOS     REAL\n",
       "0       2022   12     ABJ   SBSV    SIRI   550.0         8   553.41\n",
       "1       2022   12     ABJ   SBSV    SIRI   650.0         7   654.03\n",
       "2       2022   12     ABJ   SBSV    SIRI   850.0        11   855.27\n",
       "3       2022   12     ABJ   SBSV    SIRI  1050.0         7  1056.51\n",
       "4       2022   12     ABJ   SBSV    SIRI  1250.0         3  1257.75\n",
       "...      ...  ...     ...    ...     ...     ...       ...      ...\n",
       "331370  2022   12     TAM   SWSI    SBVT   837.0         1   842.19\n",
       "331371  2022   12     TAM   SWSI    SBVT  1395.0         1  1403.65\n",
       "331372  2022   12     TAM   SWSI    SBVT  1813.9         1  1825.15\n",
       "331373  2022   12     TAM   SWSI    SBVT  1866.0         1  1877.57\n",
       "331374  2022   12     TAM   SWSI    SBVT  1935.9         1  1947.90\n",
       "\n",
       "[331375 rows x 8 columns]"
      ]
     },
     "execution_count": 53,
     "metadata": {},
     "output_type": "execute_result"
    }
   ],
   "source": [
    "dezembro"
   ]
  },
  {
   "cell_type": "code",
   "execution_count": null,
   "id": "b2d7b699-5410-4145-a00c-3df429cfcce6",
   "metadata": {},
   "outputs": [],
   "source": []
  },
  {
   "cell_type": "code",
   "execution_count": 11,
   "id": "a11f5812-ec3a-432b-bbb5-1c0d50f5039f",
   "metadata": {
    "tags": []
   },
   "outputs": [
    {
     "name": "stdout",
     "output_type": "stream",
     "text": [
      "CPU times: user 22min 41s, sys: 15.4 s, total: 22min 56s\n",
      "Wall time: 23min 44s\n"
     ]
    }
   ],
   "source": [
    "# %%time\n",
    "# dezembro['REAL'] = dezembro.apply(lambda row: corretorOld.ipca(row[\"TARIFA\"], f\"{int(row.MES)}/{int(row.ANO)}\", \"12/2022\")[0], axis=1) "
   ]
  },
  {
   "cell_type": "code",
   "execution_count": null,
   "id": "7060b9d7-2046-44fe-b0a5-176cd3d65884",
   "metadata": {},
   "outputs": [],
   "source": []
  },
  {
   "cell_type": "code",
   "execution_count": 36,
   "id": "3b3f6ffc-3f9d-4b60-b801-edf230bdbc97",
   "metadata": {
    "tags": []
   },
   "outputs": [
    {
     "data": {
      "text/html": [
       "<div>\n",
       "<style scoped>\n",
       "    .dataframe tbody tr th:only-of-type {\n",
       "        vertical-align: middle;\n",
       "    }\n",
       "\n",
       "    .dataframe tbody tr th {\n",
       "        vertical-align: top;\n",
       "    }\n",
       "\n",
       "    .dataframe thead th {\n",
       "        text-align: right;\n",
       "    }\n",
       "</style>\n",
       "<table border=\"1\" class=\"dataframe\">\n",
       "  <thead>\n",
       "    <tr style=\"text-align: right;\">\n",
       "      <th></th>\n",
       "      <th></th>\n",
       "      <th>price_weighted_mean</th>\n",
       "    </tr>\n",
       "    <tr>\n",
       "      <th>ANO</th>\n",
       "      <th>MES</th>\n",
       "      <th></th>\n",
       "    </tr>\n",
       "  </thead>\n",
       "  <tbody>\n",
       "    <tr>\n",
       "      <th>2022</th>\n",
       "      <th>12</th>\n",
       "      <td>654.853019</td>\n",
       "    </tr>\n",
       "  </tbody>\n",
       "</table>\n",
       "</div>"
      ],
      "text/plain": [
       "          price_weighted_mean\n",
       "ANO  MES                     \n",
       "2022 12            654.853019"
      ]
     },
     "execution_count": 36,
     "metadata": {},
     "output_type": "execute_result"
    }
   ],
   "source": [
    "\n",
    "wm = lambda x: np.average(x, weights=dezembro.loc[x.index, \"ASSENTOS\"])\n",
    "\n",
    "dezembro.groupby(['ANO', 'MES']).agg(price_weighted_mean=(\"REAL\", wm))"
   ]
  },
  {
   "cell_type": "code",
   "execution_count": null,
   "id": "75ccb64b-4f2a-4ed6-94cb-cabe1d72f16e",
   "metadata": {},
   "outputs": [],
   "source": [
    "wm = lambda x: np.average(x, weights=dezembro.loc[x.index, \"ASSENTOS\"])\n",
    "\n",
    "dezembro.groupby(['ANO', 'MES']).agg(price_weighted_mean=(\"REAL\", wm))"
   ]
  },
  {
   "cell_type": "code",
   "execution_count": null,
   "id": "49579cf3-bf95-46e6-a4da-d2ea5836ac9a",
   "metadata": {},
   "outputs": [],
   "source": []
  },
  {
   "cell_type": "code",
   "execution_count": 22,
   "id": "3efc7b02-b5ed-41df-80ad-ca62788052fd",
   "metadata": {
    "tags": []
   },
   "outputs": [
    {
     "data": {
      "text/html": [
       "<div>\n",
       "<style scoped>\n",
       "    .dataframe tbody tr th:only-of-type {\n",
       "        vertical-align: middle;\n",
       "    }\n",
       "\n",
       "    .dataframe tbody tr th {\n",
       "        vertical-align: top;\n",
       "    }\n",
       "\n",
       "    .dataframe thead th {\n",
       "        text-align: right;\n",
       "    }\n",
       "</style>\n",
       "<table border=\"1\" class=\"dataframe\">\n",
       "  <thead>\n",
       "    <tr style=\"text-align: right;\">\n",
       "      <th></th>\n",
       "      <th></th>\n",
       "      <th>price_weighted_mean</th>\n",
       "    </tr>\n",
       "    <tr>\n",
       "      <th>ANO</th>\n",
       "      <th>MES</th>\n",
       "      <th></th>\n",
       "    </tr>\n",
       "  </thead>\n",
       "  <tbody>\n",
       "    <tr>\n",
       "      <th>2020</th>\n",
       "      <th>12</th>\n",
       "      <td>491.654549</td>\n",
       "    </tr>\n",
       "  </tbody>\n",
       "</table>\n",
       "</div>"
      ],
      "text/plain": [
       "          price_weighted_mean\n",
       "ANO  MES                     \n",
       "2020 12            491.654549"
      ]
     },
     "execution_count": 22,
     "metadata": {},
     "output_type": "execute_result"
    }
   ],
   "source": []
  },
  {
   "cell_type": "code",
   "execution_count": null,
   "id": "63ee370c-6ea5-482e-9ea5-54e8d9ee68ea",
   "metadata": {},
   "outputs": [],
   "source": []
  },
  {
   "cell_type": "code",
   "execution_count": null,
   "id": "df25657b-261e-4312-a913-0b73904dd96d",
   "metadata": {},
   "outputs": [],
   "source": [
    "def get_average(values, weights):\n",
    "    return float(np.average(values, weights=weights))    # function created to calculate wt. median\n"
   ]
  },
  {
   "cell_type": "code",
   "execution_count": 116,
   "id": "57d5d1eb-2397-4a87-b303-9d63cd3d60c3",
   "metadata": {
    "tags": []
   },
   "outputs": [],
   "source": [
    "df[\"real\"] = df[1:].apply(lambda row: corretor.ipca(row[\"Weighted_average\"], f\"{int(row.MES)}/{int(row.ANO)}\", \"12/2022\")[0], axis=1) "
   ]
  },
  {
   "cell_type": "code",
   "execution_count": 117,
   "id": "be9dc34f-52c4-48a9-9dc5-c723639defbd",
   "metadata": {
    "tags": []
   },
   "outputs": [
    {
     "data": {
      "text/html": [
       "<div>\n",
       "<style scoped>\n",
       "    .dataframe tbody tr th:only-of-type {\n",
       "        vertical-align: middle;\n",
       "    }\n",
       "\n",
       "    .dataframe tbody tr th {\n",
       "        vertical-align: top;\n",
       "    }\n",
       "\n",
       "    .dataframe thead th {\n",
       "        text-align: right;\n",
       "    }\n",
       "</style>\n",
       "<table border=\"1\" class=\"dataframe\">\n",
       "  <thead>\n",
       "    <tr style=\"text-align: right;\">\n",
       "      <th></th>\n",
       "      <th>ANO</th>\n",
       "      <th>MES</th>\n",
       "      <th>Total</th>\n",
       "      <th>Weighted_average</th>\n",
       "      <th>real</th>\n",
       "    </tr>\n",
       "  </thead>\n",
       "  <tbody>\n",
       "    <tr>\n",
       "      <th>244</th>\n",
       "      <td>2022</td>\n",
       "      <td>12</td>\n",
       "      <td>1826543</td>\n",
       "      <td>650.817925</td>\n",
       "      <td>NaN</td>\n",
       "    </tr>\n",
       "    <tr>\n",
       "      <th>115</th>\n",
       "      <td>2021</td>\n",
       "      <td>12</td>\n",
       "      <td>2421438</td>\n",
       "      <td>490.797236</td>\n",
       "      <td>522.98</td>\n",
       "    </tr>\n",
       "    <tr>\n",
       "      <th>110</th>\n",
       "      <td>2020</td>\n",
       "      <td>12</td>\n",
       "      <td>1868805</td>\n",
       "      <td>416.657935</td>\n",
       "      <td>491.66</td>\n",
       "    </tr>\n",
       "    <tr>\n",
       "      <th>185</th>\n",
       "      <td>2019</td>\n",
       "      <td>12</td>\n",
       "      <td>2585896</td>\n",
       "      <td>436.533702</td>\n",
       "      <td>537.32</td>\n",
       "    </tr>\n",
       "    <tr>\n",
       "      <th>197</th>\n",
       "      <td>2018</td>\n",
       "      <td>12</td>\n",
       "      <td>2498232</td>\n",
       "      <td>444.033223</td>\n",
       "      <td>564.44</td>\n",
       "    </tr>\n",
       "    <tr>\n",
       "      <th>125</th>\n",
       "      <td>2017</td>\n",
       "      <td>12</td>\n",
       "      <td>2745175</td>\n",
       "      <td>430.039663</td>\n",
       "      <td>568.77</td>\n",
       "    </tr>\n",
       "    <tr>\n",
       "      <th>147</th>\n",
       "      <td>2016</td>\n",
       "      <td>12</td>\n",
       "      <td>2839457</td>\n",
       "      <td>363.795988</td>\n",
       "      <td>494.65</td>\n",
       "    </tr>\n",
       "    <tr>\n",
       "      <th>21</th>\n",
       "      <td>2015</td>\n",
       "      <td>12</td>\n",
       "      <td>3286404</td>\n",
       "      <td>358.082682</td>\n",
       "      <td>520.90</td>\n",
       "    </tr>\n",
       "    <tr>\n",
       "      <th>52</th>\n",
       "      <td>2014</td>\n",
       "      <td>12</td>\n",
       "      <td>3915556</td>\n",
       "      <td>333.243424</td>\n",
       "      <td>535.55</td>\n",
       "    </tr>\n",
       "    <tr>\n",
       "      <th>78</th>\n",
       "      <td>2013</td>\n",
       "      <td>12</td>\n",
       "      <td>3790080</td>\n",
       "      <td>351.360833</td>\n",
       "      <td>601.69</td>\n",
       "    </tr>\n",
       "    <tr>\n",
       "      <th>32</th>\n",
       "      <td>2012</td>\n",
       "      <td>12</td>\n",
       "      <td>2897055</td>\n",
       "      <td>385.788252</td>\n",
       "      <td>698.79</td>\n",
       "    </tr>\n",
       "    <tr>\n",
       "      <th>116</th>\n",
       "      <td>2011</td>\n",
       "      <td>12</td>\n",
       "      <td>3658163</td>\n",
       "      <td>316.280132</td>\n",
       "      <td>604.59</td>\n",
       "    </tr>\n",
       "    <tr>\n",
       "      <th>5</th>\n",
       "      <td>2010</td>\n",
       "      <td>12</td>\n",
       "      <td>3244644</td>\n",
       "      <td>297.418206</td>\n",
       "      <td>606.29</td>\n",
       "    </tr>\n",
       "    <tr>\n",
       "      <th>109</th>\n",
       "      <td>2009</td>\n",
       "      <td>12</td>\n",
       "      <td>1335129</td>\n",
       "      <td>300.593676</td>\n",
       "      <td>647.30</td>\n",
       "    </tr>\n",
       "    <tr>\n",
       "      <th>72</th>\n",
       "      <td>2008</td>\n",
       "      <td>12</td>\n",
       "      <td>1277635</td>\n",
       "      <td>384.519758</td>\n",
       "      <td>862.95</td>\n",
       "    </tr>\n",
       "    <tr>\n",
       "      <th>216</th>\n",
       "      <td>2007</td>\n",
       "      <td>12</td>\n",
       "      <td>1310026</td>\n",
       "      <td>339.866535</td>\n",
       "      <td>811.47</td>\n",
       "    </tr>\n",
       "    <tr>\n",
       "      <th>34</th>\n",
       "      <td>2006</td>\n",
       "      <td>12</td>\n",
       "      <td>1223111</td>\n",
       "      <td>323.336285</td>\n",
       "      <td>804.33</td>\n",
       "    </tr>\n",
       "    <tr>\n",
       "      <th>189</th>\n",
       "      <td>2005</td>\n",
       "      <td>12</td>\n",
       "      <td>1026765</td>\n",
       "      <td>445.378145</td>\n",
       "      <td>1141.36</td>\n",
       "    </tr>\n",
       "    <tr>\n",
       "      <th>162</th>\n",
       "      <td>2004</td>\n",
       "      <td>12</td>\n",
       "      <td>1182228</td>\n",
       "      <td>445.868422</td>\n",
       "      <td>1213.64</td>\n",
       "    </tr>\n",
       "    <tr>\n",
       "      <th>62</th>\n",
       "      <td>2003</td>\n",
       "      <td>12</td>\n",
       "      <td>1169646</td>\n",
       "      <td>359.337631</td>\n",
       "      <td>1048.90</td>\n",
       "    </tr>\n",
       "    <tr>\n",
       "      <th>33</th>\n",
       "      <td>2002</td>\n",
       "      <td>12</td>\n",
       "      <td>968758</td>\n",
       "      <td>390.291394</td>\n",
       "      <td>1264.78</td>\n",
       "    </tr>\n",
       "  </tbody>\n",
       "</table>\n",
       "</div>"
      ],
      "text/plain": [
       "      ANO  MES    Total  Weighted_average     real\n",
       "244  2022   12  1826543        650.817925      NaN\n",
       "115  2021   12  2421438        490.797236   522.98\n",
       "110  2020   12  1868805        416.657935   491.66\n",
       "185  2019   12  2585896        436.533702   537.32\n",
       "197  2018   12  2498232        444.033223   564.44\n",
       "125  2017   12  2745175        430.039663   568.77\n",
       "147  2016   12  2839457        363.795988   494.65\n",
       "21   2015   12  3286404        358.082682   520.90\n",
       "52   2014   12  3915556        333.243424   535.55\n",
       "78   2013   12  3790080        351.360833   601.69\n",
       "32   2012   12  2897055        385.788252   698.79\n",
       "116  2011   12  3658163        316.280132   604.59\n",
       "5    2010   12  3244644        297.418206   606.29\n",
       "109  2009   12  1335129        300.593676   647.30\n",
       "72   2008   12  1277635        384.519758   862.95\n",
       "216  2007   12  1310026        339.866535   811.47\n",
       "34   2006   12  1223111        323.336285   804.33\n",
       "189  2005   12  1026765        445.378145  1141.36\n",
       "162  2004   12  1182228        445.868422  1213.64\n",
       "62   2003   12  1169646        359.337631  1048.90\n",
       "33   2002   12   968758        390.291394  1264.78"
      ]
     },
     "execution_count": 117,
     "metadata": {},
     "output_type": "execute_result"
    }
   ],
   "source": [
    "df[df[\"MES\"]==12]"
   ]
  },
  {
   "cell_type": "code",
   "execution_count": null,
   "id": "22b8e2af-e886-49d5-a83b-ce8b1043f7ac",
   "metadata": {},
   "outputs": [],
   "source": []
  }
 ],
 "metadata": {
  "kernelspec": {
   "display_name": "Python 3 (ipykernel)",
   "language": "python",
   "name": "python3"
  },
  "language_info": {
   "codemirror_mode": {
    "name": "ipython",
    "version": 3
   },
   "file_extension": ".py",
   "mimetype": "text/x-python",
   "name": "python",
   "nbconvert_exporter": "python",
   "pygments_lexer": "ipython3",
   "version": "3.10.11"
  }
 },
 "nbformat": 4,
 "nbformat_minor": 5
}
